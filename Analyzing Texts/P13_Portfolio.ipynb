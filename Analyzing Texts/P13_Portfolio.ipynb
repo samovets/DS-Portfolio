{
 "cells": [
  {
   "cell_type": "markdown",
   "metadata": {},
   "source": [
    "# Анализ текстов"
   ]
  },
  {
   "cell_type": "markdown",
   "metadata": {},
   "source": [
    "Наш заказчик интернет-магазин запускает новый сервис, который позволяет пользователям редактировать и дополнять описания товаров, как в вики-сообществах. Магазину нужен инструмент, который будет выделять токсичные комментарии и отправлять их на модерацию. \n",
    "\n",
    "Следует обучить модель классифицировать комментарии на позитивные и негативные. Заказчик предоставил набор данных с разметкой о токсичности правок.\n",
    "\n",
    "Заказчик требует, чтобы метрика качества *F1* была не меньше 0.75.\n",
    "\n",
    "Следует проверить несколько разных моделей и рекомендовать в производство ту, которая покажет наилучший результат.<br/>\n",
    "Совместно с заказчиком определили список моделей для исследования:\n",
    "- Логистическая регрессия\n",
    "- Случайный лес\n",
    "- CatBoost\n",
    "\n",
    "## План работы\n",
    "\n",
    "1. Загрузить и подготовить данные:<br/>\n",
    "1.1. Загрузить данные<br/>\n",
    "1.2. Исследовать характеристики<br/>\n",
    "1.3. Исследовать на дисбаланс классов<br/>\n",
    "1.4. Нормализовать и лемматизировать тексты<br/>\n",
    "1.5. Подготовить массив признаков по технологии TF-IDF<br/>\n",
    "\n",
    "\n",
    "2. Обучить разные модели: <br/>\n",
    "2.1. Разбить на обучающую и тестовую выборки<br/>\n",
    "2.2. Логистическая регрессия - обучить и протестировать<br/>\n",
    "2.3. Случайный лес - обучить и протестировать<br/>\n",
    "2.4. CatBoost - обучить и протестировать<br/>\n",
    "\n",
    "\n",
    "3. Сделать выводы:<br/>\n",
    "3.1. Сделать выводы по работе<br/>\n",
    "3.2. Выбрать модель<br/>\n",
    "3.3. Наметить план дальнейших действий<br/>\n",
    "\n",
    "## Описание данных\n",
    "\n",
    "Данные находятся в файле `toxic_comments.csv`:\n",
    "- *text* - текст комментария\n",
    "- *toxic* — целевой признак"
   ]
  },
  {
   "cell_type": "markdown",
   "metadata": {},
   "source": [
    "# 1. Загрузка и подготовка данных"
   ]
  },
  {
   "cell_type": "markdown",
   "metadata": {},
   "source": [
    "Загрузим необходимые библиотеки."
   ]
  },
  {
   "cell_type": "code",
   "execution_count": 10,
   "metadata": {},
   "outputs": [
    {
     "name": "stdout",
     "output_type": "stream",
     "text": [
      "Importing libraries - OK\n"
     ]
    }
   ],
   "source": [
    "# importing libraries\n",
    "import numpy as np\n",
    "import pandas as pd\n",
    "\n",
    "import re\n",
    "\n",
    "import torch\n",
    "import transformers\n",
    "from tqdm import notebook\n",
    "\n",
    "from sklearn.model_selection import cross_val_score\n",
    "from sklearn.metrics import f1_score\n",
    "from sklearn.model_selection import train_test_split\n",
    "from sklearn.linear_model import LogisticRegression\n",
    "from sklearn.ensemble import RandomForestClassifier\n",
    "from catboost import CatBoostClassifier\n",
    "\n",
    "import nltk\n",
    "from nltk.stem import WordNetLemmatizer\n",
    "from nltk.corpus import stopwords as nltk_stopwords\n",
    "from pymystem3 import Mystem\n",
    "from sklearn.feature_extraction.text import TfidfVectorizer\n",
    "\n",
    "print('Importing libraries - OK')"
   ]
  },
  {
   "cell_type": "markdown",
   "metadata": {},
   "source": [
    "## 1.1. Загрузка данных"
   ]
  },
  {
   "cell_type": "markdown",
   "metadata": {},
   "source": [
    "Загрузим файл и посмотрим на содержимое, чтобы удостовериться, что всё прошло гладко."
   ]
  },
  {
   "cell_type": "code",
   "execution_count": 2,
   "metadata": {
    "scrolled": true
   },
   "outputs": [
    {
     "data": {
      "text/html": [
       "<div>\n",
       "<style scoped>\n",
       "    .dataframe tbody tr th:only-of-type {\n",
       "        vertical-align: middle;\n",
       "    }\n",
       "\n",
       "    .dataframe tbody tr th {\n",
       "        vertical-align: top;\n",
       "    }\n",
       "\n",
       "    .dataframe thead th {\n",
       "        text-align: right;\n",
       "    }\n",
       "</style>\n",
       "<table border=\"1\" class=\"dataframe\">\n",
       "  <thead>\n",
       "    <tr style=\"text-align: right;\">\n",
       "      <th></th>\n",
       "      <th>text</th>\n",
       "      <th>toxic</th>\n",
       "    </tr>\n",
       "  </thead>\n",
       "  <tbody>\n",
       "    <tr>\n",
       "      <td>0</td>\n",
       "      <td>Explanation\\nWhy the edits made under my usern...</td>\n",
       "      <td>0</td>\n",
       "    </tr>\n",
       "    <tr>\n",
       "      <td>1</td>\n",
       "      <td>D'aww! He matches this background colour I'm s...</td>\n",
       "      <td>0</td>\n",
       "    </tr>\n",
       "    <tr>\n",
       "      <td>2</td>\n",
       "      <td>Hey man, I'm really not trying to edit war. It...</td>\n",
       "      <td>0</td>\n",
       "    </tr>\n",
       "    <tr>\n",
       "      <td>3</td>\n",
       "      <td>\"\\nMore\\nI can't make any real suggestions on ...</td>\n",
       "      <td>0</td>\n",
       "    </tr>\n",
       "    <tr>\n",
       "      <td>4</td>\n",
       "      <td>You, sir, are my hero. Any chance you remember...</td>\n",
       "      <td>0</td>\n",
       "    </tr>\n",
       "    <tr>\n",
       "      <td>5</td>\n",
       "      <td>\"\\n\\nCongratulations from me as well, use the ...</td>\n",
       "      <td>0</td>\n",
       "    </tr>\n",
       "    <tr>\n",
       "      <td>6</td>\n",
       "      <td>COCKSUCKER BEFORE YOU PISS AROUND ON MY WORK</td>\n",
       "      <td>1</td>\n",
       "    </tr>\n",
       "    <tr>\n",
       "      <td>7</td>\n",
       "      <td>Your vandalism to the Matt Shirvington article...</td>\n",
       "      <td>0</td>\n",
       "    </tr>\n",
       "    <tr>\n",
       "      <td>8</td>\n",
       "      <td>Sorry if the word 'nonsense' was offensive to ...</td>\n",
       "      <td>0</td>\n",
       "    </tr>\n",
       "    <tr>\n",
       "      <td>9</td>\n",
       "      <td>alignment on this subject and which are contra...</td>\n",
       "      <td>0</td>\n",
       "    </tr>\n",
       "  </tbody>\n",
       "</table>\n",
       "</div>"
      ],
      "text/plain": [
       "                                                text  toxic\n",
       "0  Explanation\\nWhy the edits made under my usern...      0\n",
       "1  D'aww! He matches this background colour I'm s...      0\n",
       "2  Hey man, I'm really not trying to edit war. It...      0\n",
       "3  \"\\nMore\\nI can't make any real suggestions on ...      0\n",
       "4  You, sir, are my hero. Any chance you remember...      0\n",
       "5  \"\\n\\nCongratulations from me as well, use the ...      0\n",
       "6       COCKSUCKER BEFORE YOU PISS AROUND ON MY WORK      1\n",
       "7  Your vandalism to the Matt Shirvington article...      0\n",
       "8  Sorry if the word 'nonsense' was offensive to ...      0\n",
       "9  alignment on this subject and which are contra...      0"
      ]
     },
     "execution_count": 2,
     "metadata": {},
     "output_type": "execute_result"
    }
   ],
   "source": [
    "#loading the file\n",
    "data = pd.read_csv('/datasets/toxic_comments.csv')\n",
    "data.head(10)"
   ]
  },
  {
   "cell_type": "markdown",
   "metadata": {},
   "source": [
    "Данные загружены, отлично. "
   ]
  },
  {
   "cell_type": "markdown",
   "metadata": {},
   "source": [
    "## 1.2. Исследование данных"
   ]
  },
  {
   "cell_type": "markdown",
   "metadata": {},
   "source": [
    "Посмотрим на типы, количество строк и сколько памяти занимает."
   ]
  },
  {
   "cell_type": "code",
   "execution_count": 3,
   "metadata": {
    "scrolled": true
   },
   "outputs": [
    {
     "name": "stdout",
     "output_type": "stream",
     "text": [
      "<class 'pandas.core.frame.DataFrame'>\n",
      "RangeIndex: 159571 entries, 0 to 159570\n",
      "Data columns (total 2 columns):\n",
      "text     159571 non-null object\n",
      "toxic    159571 non-null int64\n",
      "dtypes: int64(1), object(1)\n",
      "memory usage: 2.4+ MB\n"
     ]
    }
   ],
   "source": [
    "data.info()"
   ]
  },
  {
   "cell_type": "markdown",
   "metadata": {},
   "source": [
    "Пропусков нет, уже хорошо. Тип признака `toxic` можно изменить на более короткий, чтобы уменьшить количество занимаемой таблицей памяти. Модели предстоят серьёзные, память пригодится."
   ]
  },
  {
   "cell_type": "code",
   "execution_count": 4,
   "metadata": {},
   "outputs": [
    {
     "name": "stdout",
     "output_type": "stream",
     "text": [
      "<class 'pandas.core.frame.DataFrame'>\n",
      "RangeIndex: 159571 entries, 0 to 159570\n",
      "Data columns (total 2 columns):\n",
      "text     159571 non-null object\n",
      "toxic    159571 non-null uint8\n",
      "dtypes: object(1), uint8(1)\n",
      "memory usage: 1.4+ MB\n"
     ]
    }
   ],
   "source": [
    "data['toxic'] = data['toxic'].astype('uint8')\n",
    "data.info()"
   ]
  },
  {
   "cell_type": "markdown",
   "metadata": {},
   "source": [
    "Объём занимаемой памяти уменьшился в 1,5 раза, это здорово."
   ]
  },
  {
   "cell_type": "markdown",
   "metadata": {},
   "source": [
    "## 1.3. Исследование на дисбаланс классов"
   ]
  },
  {
   "cell_type": "markdown",
   "metadata": {},
   "source": [
    "Проверим на баланс классов. Вдруг они не сбалансированы. Это важно для обучения."
   ]
  },
  {
   "cell_type": "code",
   "execution_count": 5,
   "metadata": {},
   "outputs": [
    {
     "name": "stdout",
     "output_type": "stream",
     "text": [
      "toxic: 16225 rows, 10.17%\n",
      "non_toxic: 143346 rows, 89.83%\n"
     ]
    }
   ],
   "source": [
    "toxic_len = data[data['toxic'] == 1].shape[0]\n",
    "toxic_non_len = data[data['toxic'] != 1].shape[0]\n",
    "\n",
    "print('toxic: {:d} rows, {:.2%}'.format(toxic_len, toxic_len / data.shape[0]))\n",
    "print('non_toxic: {:d} rows, {:.2%}'.format(toxic_non_len, toxic_non_len / data.shape[0]))"
   ]
  },
  {
   "cell_type": "markdown",
   "metadata": {},
   "source": [
    "Классы распределены как 1:9. Потребуется делать балансировку классов. Учтём это в параметрах моделей."
   ]
  },
  {
   "cell_type": "markdown",
   "metadata": {},
   "source": [
    "## 1.4. Нормализация и лемматизация текстов"
   ]
  },
  {
   "cell_type": "markdown",
   "metadata": {},
   "source": [
    "Нормализуем тексты."
   ]
  },
  {
   "cell_type": "code",
   "execution_count": 8,
   "metadata": {},
   "outputs": [
    {
     "name": "stdout",
     "output_type": "stream",
     "text": [
      "Compiling text_normalizer - OK\n"
     ]
    }
   ],
   "source": [
    "def text_normalizer(text):\n",
    "    \"\"\"\n",
    "    normalizes given text according to the template\n",
    "    parameters:\n",
    "    - text - text to normalize\n",
    "    \n",
    "    returns: normalized text\n",
    "    \"\"\"        \n",
    "    return \" \".join(re.sub(r\"[^a-zA-Z']\", \" \", text).split()).lower()\n",
    "\n",
    "print('Compiling text_normalizer - OK')"
   ]
  },
  {
   "cell_type": "code",
   "execution_count": 9,
   "metadata": {
    "scrolled": true
   },
   "outputs": [
    {
     "data": {
      "text/html": [
       "<div>\n",
       "<style scoped>\n",
       "    .dataframe tbody tr th:only-of-type {\n",
       "        vertical-align: middle;\n",
       "    }\n",
       "\n",
       "    .dataframe tbody tr th {\n",
       "        vertical-align: top;\n",
       "    }\n",
       "\n",
       "    .dataframe thead th {\n",
       "        text-align: right;\n",
       "    }\n",
       "</style>\n",
       "<table border=\"1\" class=\"dataframe\">\n",
       "  <thead>\n",
       "    <tr style=\"text-align: right;\">\n",
       "      <th></th>\n",
       "      <th>text</th>\n",
       "    </tr>\n",
       "  </thead>\n",
       "  <tbody>\n",
       "    <tr>\n",
       "      <td>0</td>\n",
       "      <td>explanation why the edits made under my userna...</td>\n",
       "    </tr>\n",
       "    <tr>\n",
       "      <td>1</td>\n",
       "      <td>d'aww he matches this background colour i'm se...</td>\n",
       "    </tr>\n",
       "    <tr>\n",
       "      <td>2</td>\n",
       "      <td>hey man i'm really not trying to edit war it's...</td>\n",
       "    </tr>\n",
       "    <tr>\n",
       "      <td>3</td>\n",
       "      <td>more i can't make any real suggestions on impr...</td>\n",
       "    </tr>\n",
       "    <tr>\n",
       "      <td>4</td>\n",
       "      <td>you sir are my hero any chance you remember wh...</td>\n",
       "    </tr>\n",
       "    <tr>\n",
       "      <td>5</td>\n",
       "      <td>congratulations from me as well use the tools ...</td>\n",
       "    </tr>\n",
       "    <tr>\n",
       "      <td>6</td>\n",
       "      <td>cocksucker before you piss around on my work</td>\n",
       "    </tr>\n",
       "    <tr>\n",
       "      <td>7</td>\n",
       "      <td>your vandalism to the matt shirvington article...</td>\n",
       "    </tr>\n",
       "    <tr>\n",
       "      <td>8</td>\n",
       "      <td>sorry if the word 'nonsense' was offensive to ...</td>\n",
       "    </tr>\n",
       "    <tr>\n",
       "      <td>9</td>\n",
       "      <td>alignment on this subject and which are contra...</td>\n",
       "    </tr>\n",
       "  </tbody>\n",
       "</table>\n",
       "</div>"
      ],
      "text/plain": [
       "                                                text\n",
       "0  explanation why the edits made under my userna...\n",
       "1  d'aww he matches this background colour i'm se...\n",
       "2  hey man i'm really not trying to edit war it's...\n",
       "3  more i can't make any real suggestions on impr...\n",
       "4  you sir are my hero any chance you remember wh...\n",
       "5  congratulations from me as well use the tools ...\n",
       "6       cocksucker before you piss around on my work\n",
       "7  your vandalism to the matt shirvington article...\n",
       "8  sorry if the word 'nonsense' was offensive to ...\n",
       "9  alignment on this subject and which are contra..."
      ]
     },
     "execution_count": 9,
     "metadata": {},
     "output_type": "execute_result"
    }
   ],
   "source": [
    "# normalizing texts\n",
    "normalized_texts = []\n",
    "\n",
    "for row in range(X.shape[0]):\n",
    "    normalized_texts.append(text_normalizer(X.iloc[row]['text']))\n",
    "    \n",
    "X['text'] = normalized_texts\n",
    "\n",
    "X.head(10)"
   ]
  },
  {
   "cell_type": "markdown",
   "metadata": {},
   "source": [
    "Прошло удачно."
   ]
  },
  {
   "cell_type": "markdown",
   "metadata": {},
   "source": [
    "Займёмся лемматизацией."
   ]
  },
  {
   "cell_type": "code",
   "execution_count": 12,
   "metadata": {},
   "outputs": [],
   "source": [
    "def lemmatize(text, m):\n",
    "    \"\"\"\n",
    "    Lemmatizes a given text\n",
    "    parameters:\n",
    "    - text - text to lemmatize\n",
    "    - m - Mystem object\n",
    "    returns: lemmatized text\n",
    "    \"\"\"\n",
    "    return \"\".join(m.lemmatize(text))"
   ]
  },
  {
   "cell_type": "code",
   "execution_count": 13,
   "metadata": {
    "scrolled": true
   },
   "outputs": [
    {
     "name": "stdout",
     "output_type": "stream",
     "text": [
      "CPU times: user 28.6 s, sys: 239 ms, total: 28.9 s\n",
      "Wall time: 29 s\n"
     ]
    },
    {
     "data": {
      "text/html": [
       "<div>\n",
       "<style scoped>\n",
       "    .dataframe tbody tr th:only-of-type {\n",
       "        vertical-align: middle;\n",
       "    }\n",
       "\n",
       "    .dataframe tbody tr th {\n",
       "        vertical-align: top;\n",
       "    }\n",
       "\n",
       "    .dataframe thead th {\n",
       "        text-align: right;\n",
       "    }\n",
       "</style>\n",
       "<table border=\"1\" class=\"dataframe\">\n",
       "  <thead>\n",
       "    <tr style=\"text-align: right;\">\n",
       "      <th></th>\n",
       "      <th>text</th>\n",
       "    </tr>\n",
       "  </thead>\n",
       "  <tbody>\n",
       "    <tr>\n",
       "      <td>0</td>\n",
       "      <td>explanation why the edits made under my userna...</td>\n",
       "    </tr>\n",
       "    <tr>\n",
       "      <td>1</td>\n",
       "      <td>d'aww he matches this background colour i'm se...</td>\n",
       "    </tr>\n",
       "    <tr>\n",
       "      <td>2</td>\n",
       "      <td>hey man i'm really not trying to edit war it's...</td>\n",
       "    </tr>\n",
       "    <tr>\n",
       "      <td>3</td>\n",
       "      <td>more i can't make any real suggestions on impr...</td>\n",
       "    </tr>\n",
       "    <tr>\n",
       "      <td>4</td>\n",
       "      <td>you sir are my hero any chance you remember wh...</td>\n",
       "    </tr>\n",
       "    <tr>\n",
       "      <td>5</td>\n",
       "      <td>congratulations from me as well use the tools ...</td>\n",
       "    </tr>\n",
       "    <tr>\n",
       "      <td>6</td>\n",
       "      <td>cocksucker before you piss around on my work</td>\n",
       "    </tr>\n",
       "    <tr>\n",
       "      <td>7</td>\n",
       "      <td>your vandalism to the matt shirvington article...</td>\n",
       "    </tr>\n",
       "    <tr>\n",
       "      <td>8</td>\n",
       "      <td>sorry if the word 'nonsense' was offensive to ...</td>\n",
       "    </tr>\n",
       "    <tr>\n",
       "      <td>9</td>\n",
       "      <td>alignment on this subject and which are contra...</td>\n",
       "    </tr>\n",
       "  </tbody>\n",
       "</table>\n",
       "</div>"
      ],
      "text/plain": [
       "                                                text\n",
       "0  explanation why the edits made under my userna...\n",
       "1  d'aww he matches this background colour i'm se...\n",
       "2  hey man i'm really not trying to edit war it's...\n",
       "3  more i can't make any real suggestions on impr...\n",
       "4  you sir are my hero any chance you remember wh...\n",
       "5  congratulations from me as well use the tools ...\n",
       "6       cocksucker before you piss around on my work\n",
       "7  your vandalism to the matt shirvington article...\n",
       "8  sorry if the word 'nonsense' was offensive to ...\n",
       "9  alignment on this subject and which are contra..."
      ]
     },
     "execution_count": 13,
     "metadata": {},
     "output_type": "execute_result"
    }
   ],
   "source": [
    "%%time\n",
    "# lemmatizing texts\n",
    "lemmatized_texts = []\n",
    "m = WordNetLemmatizer()\n",
    "\n",
    "for row in range(X.shape[0]):\n",
    "    lemmatized_texts.append(lemmatize(X.iloc[row]['text'], m))\n",
    "    \n",
    "X['text'] = lemmatized_texts\n",
    "\n",
    "X.head(10)"
   ]
  },
  {
   "cell_type": "markdown",
   "metadata": {},
   "source": [
    "Лемматизация тоже получилась. Тексты готовы для превращения в признаки."
   ]
  },
  {
   "cell_type": "markdown",
   "metadata": {},
   "source": [
    "## 1.5. Подготовка массива признаков"
   ]
  },
  {
   "cell_type": "markdown",
   "metadata": {},
   "source": [
    "Теперь надо обработать текст, чтобы превратить наборы слов в признаки. Призовём на помощь технологию TF-IDF. <br/>Так же исключим не значащие слова. И разделим выборки."
   ]
  },
  {
   "cell_type": "code",
   "execution_count": 16,
   "metadata": {},
   "outputs": [
    {
     "name": "stdout",
     "output_type": "stream",
     "text": [
      "X_train.shape (119678, 1)\n",
      "y_train.shape (119678,)\n",
      "X_test.shape (39893, 1)\n",
      "y_test.shape (39893,)\n"
     ]
    }
   ],
   "source": [
    "# splitting to subsamples\n",
    "X_train, X_test, y_train, y_test = train_test_split(X, y, test_size=0.25, random_state=12)\n",
    "\n",
    "print(\"X_train.shape\", X_train.shape)\n",
    "print(\"y_train.shape\", y_train.shape)\n",
    "print(\"X_test.shape\", X_test.shape)\n",
    "print(\"y_test.shape\", y_test.shape)"
   ]
  },
  {
   "cell_type": "code",
   "execution_count": 17,
   "metadata": {},
   "outputs": [
    {
     "name": "stderr",
     "output_type": "stream",
     "text": [
      "[nltk_data] Downloading package stopwords to /home/jovyan/nltk_data...\n",
      "[nltk_data]   Package stopwords is already up-to-date!\n"
     ]
    }
   ],
   "source": [
    "nltk.download('stopwords')\n",
    "stopwords = set(nltk_stopwords.words('english'))"
   ]
  },
  {
   "cell_type": "code",
   "execution_count": 18,
   "metadata": {},
   "outputs": [
    {
     "name": "stdout",
     "output_type": "stream",
     "text": [
      "X_tf_idf_train.shape - (119678, 142734)\n",
      "X_tf_idf_test.shape - (39893, 142734)\n",
      "CPU times: user 13.4 s, sys: 1.92 s, total: 15.3 s\n",
      "Wall time: 15.6 s\n"
     ]
    }
   ],
   "source": [
    "%%time\n",
    "count_tf_idf = TfidfVectorizer(stop_words=stopwords)\n",
    "\n",
    "X_tf_idf_train = count_tf_idf.fit_transform(X_train['text'].values.astype('U'))\n",
    "X_tf_idf_test = count_tf_idf.transform(X_test['text'].values.astype('U'))\n",
    "print('X_tf_idf_train.shape -', X_tf_idf_train.shape)\n",
    "print('X_tf_idf_test.shape -', X_tf_idf_test.shape)"
   ]
  },
  {
   "cell_type": "markdown",
   "metadata": {},
   "source": [
    "Всё готово для того, чтобы приступить к обучению моделей:\n",
    "- В нашем распоряжении имеется массив векторов значимости слов в корпусе текстов по технологии TF-IDF\n",
    "- Имеется массив целей, соответствующих веторам\n",
    "- Классы в выборке сбалансированы"
   ]
  },
  {
   "cell_type": "markdown",
   "metadata": {},
   "source": [
    "# 2. Обучение"
   ]
  },
  {
   "cell_type": "markdown",
   "metadata": {},
   "source": [
    "Обучим 3 разнотипные модели:\n",
    "1. Логистическая регрессия\n",
    "2. Случайный лес\n",
    "3. CatBoost\n",
    "\n",
    "Так как наша цель состоит в том, чтобы принципиально определить наилучшую модель, а массив данных получился большим, для сокращения времени подбор гиперпараматеров проводить не будем. На основании опыта для каждой модели установим такие гиперпараметры, которые дают неплохие результаты и в то же время не нагружают сильно вычислительный ресурс.<br/>\n",
    "\n",
    "Окончательную доводку будем проводить с выбранной моделью."
   ]
  },
  {
   "cell_type": "markdown",
   "metadata": {},
   "source": [
    "## 2.1. Разбиение на выборки"
   ]
  },
  {
   "cell_type": "markdown",
   "metadata": {},
   "source": [
    "На выборки уже разбили ранее."
   ]
  },
  {
   "cell_type": "markdown",
   "metadata": {},
   "source": [
    "## 2.2. Логистическая регрессия\n",
    "Обучим логистическую регрессию. Учтём в параметрах дисбаланс классов."
   ]
  },
  {
   "cell_type": "code",
   "execution_count": 20,
   "metadata": {},
   "outputs": [
    {
     "name": "stderr",
     "output_type": "stream",
     "text": [
      "[Parallel(n_jobs=1)]: Using backend SequentialBackend with 1 concurrent workers.\n"
     ]
    },
    {
     "name": "stdout",
     "output_type": "stream",
     "text": [
      "CPU times: user 23.3 s, sys: 10.3 s, total: 33.7 s\n",
      "Wall time: 33.7 s\n"
     ]
    },
    {
     "name": "stderr",
     "output_type": "stream",
     "text": [
      "[Parallel(n_jobs=1)]: Done   1 out of   1 | elapsed:   33.7s finished\n"
     ]
    },
    {
     "data": {
      "text/plain": [
       "LogisticRegression(C=1.0, class_weight='balanced', dual=False,\n",
       "                   fit_intercept=True, intercept_scaling=1, l1_ratio=None,\n",
       "                   max_iter=1000, multi_class='warn', n_jobs=None, penalty='l2',\n",
       "                   random_state=12, solver='lbfgs', tol=0.0001, verbose=1,\n",
       "                   warm_start=False)"
      ]
     },
     "execution_count": 20,
     "metadata": {},
     "output_type": "execute_result"
    }
   ],
   "source": [
    "%%time\n",
    "model_lr = LogisticRegression(solver='lbfgs', \n",
    "                              max_iter=1000, \n",
    "                              class_weight='balanced',\n",
    "                              random_state=12, \n",
    "                              verbose=1)\n",
    "model_lr.fit(X_tf_idf_train, y_train)"
   ]
  },
  {
   "cell_type": "markdown",
   "metadata": {},
   "source": [
    "И протестируем."
   ]
  },
  {
   "cell_type": "code",
   "execution_count": 21,
   "metadata": {
    "scrolled": true
   },
   "outputs": [
    {
     "name": "stdout",
     "output_type": "stream",
     "text": [
      "LinearRegression F1 score - 0.7645727831052688\n"
     ]
    }
   ],
   "source": [
    "predict = model_lr.predict(X_tf_idf_test)\n",
    "f1_lr = f1_score(y_test, predict)\n",
    "print('LinearRegression F1 score -', f1_lr)"
   ]
  },
  {
   "cell_type": "markdown",
   "metadata": {},
   "source": [
    "Результат получился неожиданно высоким. Заказчик будет доволен. Вот что баланс классов животворящий делает.<br/>\n",
    "(Сознаюсь, проводил исследования и на несбалансированной выборке. Результат был существенно хуже)."
   ]
  },
  {
   "cell_type": "markdown",
   "metadata": {},
   "source": [
    "## 2.3. Случайный лес\n",
    "Обучим и протестируем случайный лес и прмиеним параметр балансировки классов."
   ]
  },
  {
   "cell_type": "code",
   "execution_count": 26,
   "metadata": {
    "scrolled": true
   },
   "outputs": [
    {
     "name": "stderr",
     "output_type": "stream",
     "text": [
      "[Parallel(n_jobs=1)]: Using backend SequentialBackend with 1 concurrent workers.\n"
     ]
    },
    {
     "name": "stdout",
     "output_type": "stream",
     "text": [
      "CPU times: user 24.1 s, sys: 0 ns, total: 24.1 s\n",
      "Wall time: 24.6 s\n"
     ]
    },
    {
     "name": "stderr",
     "output_type": "stream",
     "text": [
      "[Parallel(n_jobs=1)]: Done 1000 out of 1000 | elapsed:   23.8s finished\n"
     ]
    },
    {
     "data": {
      "text/plain": [
       "RandomForestClassifier(bootstrap=True, class_weight='balanced',\n",
       "                       criterion='gini', max_depth=4, max_features='auto',\n",
       "                       max_leaf_nodes=None, min_impurity_decrease=0.0,\n",
       "                       min_impurity_split=None, min_samples_leaf=1,\n",
       "                       min_samples_split=2, min_weight_fraction_leaf=0.0,\n",
       "                       n_estimators=1000, n_jobs=None, oob_score=False,\n",
       "                       random_state=12, verbose=1, warm_start=False)"
      ]
     },
     "execution_count": 26,
     "metadata": {},
     "output_type": "execute_result"
    }
   ],
   "source": [
    "%%time\n",
    "model_rf = RandomForestClassifier(\n",
    "    n_estimators=1000, criterion='gini', max_depth=4, min_samples_split=2, min_samples_leaf=1, \n",
    "    min_weight_fraction_leaf=0.0, max_features='auto', max_leaf_nodes=None, \n",
    "    min_impurity_decrease=0.0, min_impurity_split=None, bootstrap=True, oob_score=False, \n",
    "    n_jobs=None, random_state=12, verbose=1, warm_start=False, class_weight='balanced')\n",
    "model_rf.fit(X_tf_idf_train, y_train)"
   ]
  },
  {
   "cell_type": "markdown",
   "metadata": {},
   "source": [
    "Протестируем случайный лес."
   ]
  },
  {
   "cell_type": "code",
   "execution_count": 27,
   "metadata": {
    "scrolled": true
   },
   "outputs": [
    {
     "name": "stderr",
     "output_type": "stream",
     "text": [
      "[Parallel(n_jobs=1)]: Using backend SequentialBackend with 1 concurrent workers.\n"
     ]
    },
    {
     "name": "stdout",
     "output_type": "stream",
     "text": [
      "RandomForestRegressor F1 score - 0.35199065511535094\n"
     ]
    },
    {
     "name": "stderr",
     "output_type": "stream",
     "text": [
      "[Parallel(n_jobs=1)]: Done 1000 out of 1000 | elapsed:    8.9s finished\n"
     ]
    }
   ],
   "source": [
    "predict = model_rf.predict(X_tf_idf_test)\n",
    "f1_rf = f1_score(y_test, predict)\n",
    "print('RandomForestRegressor F1 score -', f1_rf)"
   ]
  },
  {
   "cell_type": "markdown",
   "metadata": {},
   "source": [
    "Случайный лес показал тоже высокий результат, но хуже, чем логистическая регрессия."
   ]
  },
  {
   "cell_type": "markdown",
   "metadata": {},
   "source": [
    "## 2.4. CatBoost\n",
    "Обучим и протестируем модель CatBoost и снова не забудем про дисбаланс классов."
   ]
  },
  {
   "cell_type": "code",
   "execution_count": 29,
   "metadata": {
    "scrolled": true
   },
   "outputs": [
    {
     "name": "stdout",
     "output_type": "stream",
     "text": [
      "Learning rate set to 0.064894\n",
      "0:\tlearn: 0.6670617\ttotal: 2.71s\tremaining: 45m 6s\n",
      "100:\tlearn: 0.4348166\ttotal: 4m 23s\tremaining: 39m 8s\n",
      "200:\tlearn: 0.3824419\ttotal: 8m 52s\tremaining: 35m 17s\n",
      "300:\tlearn: 0.3481243\ttotal: 13m 20s\tremaining: 30m 58s\n",
      "400:\tlearn: 0.3248843\ttotal: 17m 43s\tremaining: 26m 28s\n",
      "500:\tlearn: 0.3075953\ttotal: 22m 5s\tremaining: 22m\n",
      "600:\tlearn: 0.2928943\ttotal: 26m 26s\tremaining: 17m 33s\n",
      "700:\tlearn: 0.2807115\ttotal: 30m 44s\tremaining: 13m 6s\n",
      "800:\tlearn: 0.2702994\ttotal: 35m 11s\tremaining: 8m 44s\n",
      "900:\tlearn: 0.2615201\ttotal: 39m 31s\tremaining: 4m 20s\n",
      "999:\tlearn: 0.2532964\ttotal: 43m 49s\tremaining: 0us\n",
      "CPU times: user 44min 25s, sys: 51.9 s, total: 45min 16s\n",
      "Wall time: 45min 21s\n"
     ]
    },
    {
     "data": {
      "text/plain": [
       "<catboost.core.CatBoostClassifier at 0x7fc9eb464c90>"
      ]
     },
     "execution_count": 29,
     "metadata": {},
     "output_type": "execute_result"
    }
   ],
   "source": [
    "%%time\n",
    "model_cat = CatBoostClassifier(\n",
    "            n_estimators=1000, \n",
    "            class_weights=[1, 9],\n",
    "            max_depth=4, \n",
    "            verbose=100)\n",
    "model_cat.fit(X_tf_idf_train, y_train)"
   ]
  },
  {
   "cell_type": "markdown",
   "metadata": {},
   "source": [
    "Протестируем CatBoost."
   ]
  },
  {
   "cell_type": "code",
   "execution_count": 30,
   "metadata": {},
   "outputs": [
    {
     "name": "stdout",
     "output_type": "stream",
     "text": [
      "CatBoostRegressor F1 score - 0.7519929140832594\n"
     ]
    }
   ],
   "source": [
    "predict = model_cat.predict(X_tf_idf_test)\n",
    "f1_cat = f1_score(y_test, predict)\n",
    "print('CatBoostRegressor F1 score -', f1_cat)"
   ]
  },
  {
   "cell_type": "markdown",
   "metadata": {},
   "source": [
    "CatBoost занял второе место."
   ]
  },
  {
   "cell_type": "markdown",
   "metadata": {},
   "source": [
    "# 3. Выводы"
   ]
  },
  {
   "cell_type": "markdown",
   "metadata": {},
   "source": [
    "## 3.1. Выбор лучшей модели"
   ]
  },
  {
   "cell_type": "markdown",
   "metadata": {},
   "source": [
    "Сведём результаты в одну таблицу."
   ]
  },
  {
   "cell_type": "code",
   "execution_count": 31,
   "metadata": {},
   "outputs": [
    {
     "data": {
      "text/html": [
       "<div>\n",
       "<style scoped>\n",
       "    .dataframe tbody tr th:only-of-type {\n",
       "        vertical-align: middle;\n",
       "    }\n",
       "\n",
       "    .dataframe tbody tr th {\n",
       "        vertical-align: top;\n",
       "    }\n",
       "\n",
       "    .dataframe thead th {\n",
       "        text-align: right;\n",
       "    }\n",
       "</style>\n",
       "<table border=\"1\" class=\"dataframe\">\n",
       "  <thead>\n",
       "    <tr style=\"text-align: right;\">\n",
       "      <th></th>\n",
       "      <th>f1_score</th>\n",
       "    </tr>\n",
       "  </thead>\n",
       "  <tbody>\n",
       "    <tr>\n",
       "      <td>LinearRegression</td>\n",
       "      <td>0.764573</td>\n",
       "    </tr>\n",
       "    <tr>\n",
       "      <td>CatBoostClassifier</td>\n",
       "      <td>0.751993</td>\n",
       "    </tr>\n",
       "    <tr>\n",
       "      <td>RandomForestClassifier</td>\n",
       "      <td>0.351991</td>\n",
       "    </tr>\n",
       "  </tbody>\n",
       "</table>\n",
       "</div>"
      ],
      "text/plain": [
       "                        f1_score\n",
       "LinearRegression        0.764573\n",
       "CatBoostClassifier      0.751993\n",
       "RandomForestClassifier  0.351991"
      ]
     },
     "execution_count": 31,
     "metadata": {},
     "output_type": "execute_result"
    }
   ],
   "source": [
    "pd.DataFrame(\n",
    "    [f1_lr, f1_rf, f1_cat], \n",
    "    columns=['f1_score'],\n",
    "    index=['LinearRegression', 'RandomForestClassifier', 'CatBoostClassifier']).sort_values(by='f1_score', ascending=False)"
   ]
  },
  {
   "cell_type": "markdown",
   "metadata": {},
   "source": [
    "Места распределились следующим образом:\n",
    "1. Логистическая регрессия\n",
    "2. CatBoost\n",
    "3. Случайный лес\n",
    "\n",
    "**Логистическая регрессия** показала наилучший результат. Выберем её для дальнейшего тюнинга и передачи в производство."
   ]
  },
  {
   "cell_type": "markdown",
   "metadata": {},
   "source": [
    "## 3.2. Общий вывод"
   ]
  },
  {
   "cell_type": "markdown",
   "metadata": {},
   "source": [
    "Мы провели исследовательскую работу по обучению и выбору модели для определения токсичных комментариев для интернет-магазина. Был проделан следующий объём работ:\n",
    "1. Данные загружены и исследованы.\n",
    "2. Обнаружен дисбаланс классов в соотношении 1:9, то есть токсичные комментарии составляют одну десятую часть набора текстов.\n",
    "3. Так как дисбаланс, да ещё такой большой, существенно влияет на качество моделей, было принято решение его устранить.\n",
    "4. Устранили дисбаланс уменьшением выборки, чтобы уменьшить объём набора данных для обучения и тестирования и сократить время обучения.\n",
    "5. Провели нормализацию и лемматизацию текстов.\n",
    "6. Создали набор векторов признаков по технологии TF-IDF - относительная встречаемость слов в корпусе текстов.\n",
    "7. Провели обучение и проверили на тестовой выборке 3 модели: линейная регрессия, случайный лес, CatBoost.\n",
    "8. Все 3 модели показали существенно лучший результат f1, чем заданное заказчиком 0,75.\n",
    "9. Для производства выбрана логистическая регрессия."
   ]
  },
  {
   "cell_type": "markdown",
   "metadata": {},
   "source": [
    "# 3.3. Дальнейшие действия"
   ]
  },
  {
   "cell_type": "markdown",
   "metadata": {},
   "source": [
    "Есть ли пути для улучшения результата? Да, есть.<br/>\n",
    "\n",
    "Можно сделать следующее:\n",
    "1. Подобрать гиперпараметры для улучшения результата\n",
    "2. Провести векторизацию методом BERT. Это потребует серьёзных вычислительных мощностей"
   ]
  }
 ],
 "metadata": {
  "kernelspec": {
   "display_name": "Python 3",
   "language": "python",
   "name": "python3"
  },
  "language_info": {
   "codemirror_mode": {
    "name": "ipython",
    "version": 3
   },
   "file_extension": ".py",
   "mimetype": "text/x-python",
   "name": "python",
   "nbconvert_exporter": "python",
   "pygments_lexer": "ipython3",
   "version": "3.7.6"
  }
 },
 "nbformat": 4,
 "nbformat_minor": 2
}
