{
 "cells": [
  {
   "cell_type": "markdown",
   "metadata": {},
   "source": [
    "# Улучшение процесса обогащения золота\n",
    "## Постановка задачи\n",
    "\n",
    "Заказчиком является инжиниринговая компания, которая разрабатывает решения для эффективной работы промышленных предприятий.\n",
    "\n",
    "Требуется подготовить прототип модели машинного обучения, которая должна предсказать коэффициент восстановления золота из золотосодержащей руды. Модель поможет оптимизировать производство, чтобы не запускать предприятие с убыточными характеристиками.\n",
    "\n",
    "## Данные\n",
    "В нашем распоряжении имеются данные с параметрами добычи и очистки. \n",
    "\n",
    "Данные находятся в трёх файлах:\n",
    "- **gold_recovery_train.csv** — обучающая выборка;\n",
    "- **gold_recovery_test.csv** — тестовая выборка;\n",
    "- **gold_recovery_full.csv** — исходные данные.\n",
    "\n",
    "Данные индексируются датой и временем получения информации (признак date). Соседние по времени параметры часто похожи.\n",
    "Некоторые параметры недоступны, потому что замеряются и/или рассчитываются значительно позже. Из-за этого в тестовой выборке отсутствуют некоторые признаки, которые могут быть в обучающей. Также в тестовом наборе нет целевых признаков.<br/>\n",
    "Исходный датасет содержит обучающую и тестовую выборки со всеми признаками.<br/>\n",
    "\n",
    "Данные в нашем распоряжении являются сырыми: их просто выгрузили из хранилища. Прежде чем приступить к построению модели, требуется проверить их на корректность согласно согласованной с заказчиком инструкции.\n",
    "\n",
    "## Наименование признаков\n",
    "Наименование признаков строится по следующему правилу:\n",
    "\n",
    "`[этап].[тип_параметра].[название_параметра]`\n",
    "    \n",
    "\n",
    "Пример: `rougher.input.feed_ag`\n",
    "\n",
    "Возможные значения для блока `[этап]`:\n",
    "- **rougher** — флотация\n",
    "- **primary_cleaner** — первичная очистка\n",
    "- **secondary_cleaner** — вторичная очистка\n",
    "- **final** — финальные характеристики\n",
    "\n",
    "Возможные значения для блока `[тип_параметра]`:\n",
    "- **input** — параметры сырья\n",
    "- **output** — параметры продукта\n",
    "- **state** — параметры, характеризующие текущее состояние этапа\n",
    "- **calculation** — расчётные характеристики\n",
    "\n",
    "## План работы\n",
    "\n",
    "0. Загрузить библиотеки.<br/>\n",
    "0.1. Потребуются библиотеки pandas, matplotlib, sklearn\n",
    "\n",
    "\n",
    "1. Подготовка данных<br/>\n",
    "1.1. Открыть и изучить файлы.<br/> \n",
    "1.2. Провести предобработку данных. Убрать или заменить пропуски, привести данные к нужным типам.<br/>\n",
    "1.3. Проверить, что эффективность обогащения рассчитана правильно. Вычислить её на обучающей выборке для признака rougher.output.recovery. Найти MAE между расчитанным и имеющимся значением признака. Описать выводы.<br/>\n",
    "1.4. Проанализировать признаки, недоступные в тестовой выборке. Что это за параметры? К какому типу относятся?<br/>\n",
    "\n",
    "\n",
    "2. Проанализировать данные<br/>\n",
    "2.1. Изучить, как меняется концентрация металлов (Au, Ag, Pb) на различных этапах очистки. Описать выводы.<br/>\n",
    "2.2. Сравнить распределения размеров гранул сырья на обучающей и тестовой выборках. **Если распределения сильно отличаются друг от друга, оценка модели будет неправильной**.<br/>\n",
    "2.3. Исследовать суммарную концентрацию всех веществ на разных стадиях: в сырье, в черновом и финальном концентратах. Проверить, есть ли аномальные значения в суммарном распределении. Определить, если они есть, следует ли их удалять из обеих выборок? Описать выводы и удалить аномалии в соответствии с принятыми правилами, если найдутся.\n",
    "\n",
    "\n",
    "3. Построить модель<br/>\n",
    "3.1. Написать функцию для вычисления итоговой **sMAPE**.<br/>\n",
    "3.2. Обучить разные модели и оценить их качество кросс-валидацией.<br/> \n",
    "3.3. Выбрать лучшую модель и проверить её на тестовой выборке.<br/> \n",
    "3.4. Описать выводы.\n",
    "\n",
    "## Формулы\n",
    "Требуется использовать следующие формулы для вычисления метрик качества.<br/>"
   ]
  },
  {
   "cell_type": "markdown",
   "metadata": {},
   "source": [
    "Эффективность обогащения рассчитывается по формуле:"
   ]
  },
  {
   "cell_type": "markdown",
   "metadata": {},
   "source": [
    "$$\n",
    "Recovery = {{C \\times (F - T)} \\over {F \\times (C - T)}} \\times 100\\%\n",
    "$$"
   ]
  },
  {
   "cell_type": "markdown",
   "metadata": {},
   "source": [
    "где:\n",
    "- $C$ — доля золота в концентрате после флотации/очистки;\n",
    "- $F$ — доля золота в сырье/концентрате до флотации/очистки;\n",
    "- $T$ — доля золота в отвальных хвостах после флотации/очистки."
   ]
  },
  {
   "cell_type": "markdown",
   "metadata": {},
   "source": [
    "Для решения задачи введём новую метрику качества — **sMAPE** (Symmetric Mean Absolute Percentage Error - симметричное среднее абсолютное процентное отклонение).\n",
    "Она похожа на MAE, но выражается не в абсолютных величинах, а в относительных и одинаково учитывает масштаб и целевого признака, и предсказания.\n",
    "\n",
    "Метрика sMAPE вычисляется так:"
   ]
  },
  {
   "cell_type": "markdown",
   "metadata": {},
   "source": [
    "$$\n",
    "sMAPE = {1 \\over N} \\sum\\limits_{i=1}^N {{|y_i - y'_i|} \\over {(|y_i| + |y'_i|) / 2}} \\times 100\\%\n",
    "$$"
   ]
  },
  {
   "cell_type": "markdown",
   "metadata": {},
   "source": [
    "При работе над проектом требуется спрогнозировать сразу две величины эффективности обогащения:\n",
    "- эффективность обогащения чернового концентрата `rougher.output.recovery`;\n",
    "- эффективность обогащения финального концентрата `final.output.recovery`.\n",
    "\n",
    "Итоговая метрика sMAPE складывается из двух величин:"
   ]
  },
  {
   "cell_type": "markdown",
   "metadata": {},
   "source": [
    "$$\n",
    "Final\\_sMAPE = 25\\% \\times sMAPE(rougher) + 75\\% \\times sMAPE(final)\n",
    "$$"
   ]
  },
  {
   "cell_type": "markdown",
   "metadata": {},
   "source": [
    "# 0. Загрузка библиотек"
   ]
  },
  {
   "cell_type": "code",
   "execution_count": 1,
   "metadata": {},
   "outputs": [
    {
     "name": "stdout",
     "output_type": "stream",
     "text": [
      "Importing libraries - OK\n"
     ]
    }
   ],
   "source": [
    "# import libraries\n",
    "import pandas as pd\n",
    "import numpy as np\n",
    "from numpy.random import RandomState\n",
    "from scipy.stats import gaussian_kde\n",
    "\n",
    "# import sklearn\n",
    "from sklearn.model_selection import train_test_split\n",
    "from sklearn.model_selection import cross_val_score\n",
    "from sklearn.metrics import mean_squared_error\n",
    "from sklearn.metrics import mean_absolute_error\n",
    "from sklearn.preprocessing import StandardScaler\n",
    "from sklearn.linear_model import LinearRegression\n",
    "from sklearn.tree import DecisionTreeRegressor\n",
    "from sklearn.ensemble import RandomForestRegressor\n",
    "\n",
    "# import graphics\n",
    "import matplotlib.pyplot as plt\n",
    "\n",
    "import copy\n",
    "\n",
    "print('Importing libraries - OK')"
   ]
  },
  {
   "cell_type": "markdown",
   "metadata": {},
   "source": [
    "Необходимые библиотеки загружены."
   ]
  },
  {
   "cell_type": "markdown",
   "metadata": {},
   "source": [
    "# 1. Подготовка данных\n",
    "\n",
    "План работы:\n",
    "\n",
    "1.1. Открыть и изучить файлы.<br/> \n",
    "1.2. Провести предобработку данных. Убрать или заменить пропуски, привести данные к нужным типам.<br/>\n",
    "1.3. Проверить, что эффективность обогащения рассчитана правильно. Вычислить её на обучающей выборке для признака rougher.output.recovery. Найти MAE между расчитанным и имеющимся значением признака. Описать выводы.<br/>\n",
    "1.4. Проанализировать признаки, недоступные в тестовой выборке. Что это за параметры? К какому типу относятся?<br/>"
   ]
  },
  {
   "cell_type": "markdown",
   "metadata": {},
   "source": [
    "## 1.1. Открыть и изучить файлы.\n",
    "Чтобы открыть файлы, воспользуемся заклинанием read_csv."
   ]
  },
  {
   "cell_type": "code",
   "execution_count": 2,
   "metadata": {},
   "outputs": [
    {
     "name": "stdout",
     "output_type": "stream",
     "text": [
      "data_gold_recovery_train.shape = (16860, 87)\n",
      "data_gold_recovery_test.shape = (5856, 53)\n",
      "data_gold_recovery_full.shape = (22716, 87)\n"
     ]
    }
   ],
   "source": [
    "# opening files\n",
    "data_gold_recovery_train = pd.read_csv('/datasets/gold_recovery_train.csv')\n",
    "data_gold_recovery_test = pd.read_csv('/datasets/gold_recovery_test.csv')\n",
    "data_gold_recovery_full = pd.read_csv('/datasets/gold_recovery_full.csv')\n",
    "\n",
    "print('data_gold_recovery_train.shape =', data_gold_recovery_train.shape)\n",
    "print('data_gold_recovery_test.shape =', data_gold_recovery_test.shape)\n",
    "print('data_gold_recovery_full.shape =', data_gold_recovery_full.shape)"
   ]
  },
  {
   "cell_type": "markdown",
   "metadata": {},
   "source": [
    "Файлы загружены. Посмотрим на структуру данных. Если смотреть по размерностям, то количество строк полной выборки складывется из количества строк обучающей и тестовой выборок. Количество столбцов в обучающей и полной выорках совпадают. В тестовой выборке некоторые столбцы отсутствуют."
   ]
  },
  {
   "cell_type": "code",
   "execution_count": 3,
   "metadata": {
    "scrolled": true
   },
   "outputs": [
    {
     "name": "stdout",
     "output_type": "stream",
     "text": [
      "<class 'pandas.core.frame.DataFrame'>\n",
      "RangeIndex: 16860 entries, 0 to 16859\n",
      "Data columns (total 87 columns):\n",
      "date                                                  16860 non-null object\n",
      "final.output.concentrate_ag                           16788 non-null float64\n",
      "final.output.concentrate_pb                           16788 non-null float64\n",
      "final.output.concentrate_sol                          16490 non-null float64\n",
      "final.output.concentrate_au                           16789 non-null float64\n",
      "final.output.recovery                                 15339 non-null float64\n",
      "final.output.tail_ag                                  16794 non-null float64\n",
      "final.output.tail_pb                                  16677 non-null float64\n",
      "final.output.tail_sol                                 16715 non-null float64\n",
      "final.output.tail_au                                  16794 non-null float64\n",
      "primary_cleaner.input.sulfate                         15553 non-null float64\n",
      "primary_cleaner.input.depressant                      15598 non-null float64\n",
      "primary_cleaner.input.feed_size                       16860 non-null float64\n",
      "primary_cleaner.input.xanthate                        15875 non-null float64\n",
      "primary_cleaner.output.concentrate_ag                 16778 non-null float64\n",
      "primary_cleaner.output.concentrate_pb                 16502 non-null float64\n",
      "primary_cleaner.output.concentrate_sol                16224 non-null float64\n",
      "primary_cleaner.output.concentrate_au                 16778 non-null float64\n",
      "primary_cleaner.output.tail_ag                        16777 non-null float64\n",
      "primary_cleaner.output.tail_pb                        16761 non-null float64\n",
      "primary_cleaner.output.tail_sol                       16579 non-null float64\n",
      "primary_cleaner.output.tail_au                        16777 non-null float64\n",
      "primary_cleaner.state.floatbank8_a_air                16820 non-null float64\n",
      "primary_cleaner.state.floatbank8_a_level              16827 non-null float64\n",
      "primary_cleaner.state.floatbank8_b_air                16820 non-null float64\n",
      "primary_cleaner.state.floatbank8_b_level              16833 non-null float64\n",
      "primary_cleaner.state.floatbank8_c_air                16822 non-null float64\n",
      "primary_cleaner.state.floatbank8_c_level              16833 non-null float64\n",
      "primary_cleaner.state.floatbank8_d_air                16821 non-null float64\n",
      "primary_cleaner.state.floatbank8_d_level              16833 non-null float64\n",
      "rougher.calculation.sulfate_to_au_concentrate         16833 non-null float64\n",
      "rougher.calculation.floatbank10_sulfate_to_au_feed    16833 non-null float64\n",
      "rougher.calculation.floatbank11_sulfate_to_au_feed    16833 non-null float64\n",
      "rougher.calculation.au_pb_ratio                       15618 non-null float64\n",
      "rougher.input.feed_ag                                 16778 non-null float64\n",
      "rougher.input.feed_pb                                 16632 non-null float64\n",
      "rougher.input.feed_rate                               16347 non-null float64\n",
      "rougher.input.feed_size                               16443 non-null float64\n",
      "rougher.input.feed_sol                                16568 non-null float64\n",
      "rougher.input.feed_au                                 16777 non-null float64\n",
      "rougher.input.floatbank10_sulfate                     15816 non-null float64\n",
      "rougher.input.floatbank10_xanthate                    16514 non-null float64\n",
      "rougher.input.floatbank11_sulfate                     16237 non-null float64\n",
      "rougher.input.floatbank11_xanthate                    14956 non-null float64\n",
      "rougher.output.concentrate_ag                         16778 non-null float64\n",
      "rougher.output.concentrate_pb                         16778 non-null float64\n",
      "rougher.output.concentrate_sol                        16698 non-null float64\n",
      "rougher.output.concentrate_au                         16778 non-null float64\n",
      "rougher.output.recovery                               14287 non-null float64\n",
      "rougher.output.tail_ag                                14610 non-null float64\n",
      "rougher.output.tail_pb                                16778 non-null float64\n",
      "rougher.output.tail_sol                               14611 non-null float64\n",
      "rougher.output.tail_au                                14611 non-null float64\n",
      "rougher.state.floatbank10_a_air                       16807 non-null float64\n",
      "rougher.state.floatbank10_a_level                     16807 non-null float64\n",
      "rougher.state.floatbank10_b_air                       16807 non-null float64\n",
      "rougher.state.floatbank10_b_level                     16807 non-null float64\n",
      "rougher.state.floatbank10_c_air                       16807 non-null float64\n",
      "rougher.state.floatbank10_c_level                     16814 non-null float64\n",
      "rougher.state.floatbank10_d_air                       16802 non-null float64\n",
      "rougher.state.floatbank10_d_level                     16809 non-null float64\n",
      "rougher.state.floatbank10_e_air                       16257 non-null float64\n",
      "rougher.state.floatbank10_e_level                     16809 non-null float64\n",
      "rougher.state.floatbank10_f_air                       16802 non-null float64\n",
      "rougher.state.floatbank10_f_level                     16802 non-null float64\n",
      "secondary_cleaner.output.tail_ag                      16776 non-null float64\n",
      "secondary_cleaner.output.tail_pb                      16764 non-null float64\n",
      "secondary_cleaner.output.tail_sol                     14874 non-null float64\n",
      "secondary_cleaner.output.tail_au                      16778 non-null float64\n",
      "secondary_cleaner.state.floatbank2_a_air              16497 non-null float64\n",
      "secondary_cleaner.state.floatbank2_a_level            16751 non-null float64\n",
      "secondary_cleaner.state.floatbank2_b_air              16705 non-null float64\n",
      "secondary_cleaner.state.floatbank2_b_level            16748 non-null float64\n",
      "secondary_cleaner.state.floatbank3_a_air              16763 non-null float64\n",
      "secondary_cleaner.state.floatbank3_a_level            16747 non-null float64\n",
      "secondary_cleaner.state.floatbank3_b_air              16752 non-null float64\n",
      "secondary_cleaner.state.floatbank3_b_level            16750 non-null float64\n",
      "secondary_cleaner.state.floatbank4_a_air              16731 non-null float64\n",
      "secondary_cleaner.state.floatbank4_a_level            16747 non-null float64\n",
      "secondary_cleaner.state.floatbank4_b_air              16768 non-null float64\n",
      "secondary_cleaner.state.floatbank4_b_level            16767 non-null float64\n",
      "secondary_cleaner.state.floatbank5_a_air              16775 non-null float64\n",
      "secondary_cleaner.state.floatbank5_a_level            16775 non-null float64\n",
      "secondary_cleaner.state.floatbank5_b_air              16775 non-null float64\n",
      "secondary_cleaner.state.floatbank5_b_level            16776 non-null float64\n",
      "secondary_cleaner.state.floatbank6_a_air              16757 non-null float64\n",
      "secondary_cleaner.state.floatbank6_a_level            16775 non-null float64\n",
      "dtypes: float64(86), object(1)\n",
      "memory usage: 11.2+ MB\n",
      "None\n",
      "\n",
      "<class 'pandas.core.frame.DataFrame'>\n",
      "RangeIndex: 5856 entries, 0 to 5855\n",
      "Data columns (total 53 columns):\n",
      "date                                          5856 non-null object\n",
      "primary_cleaner.input.sulfate                 5554 non-null float64\n",
      "primary_cleaner.input.depressant              5572 non-null float64\n",
      "primary_cleaner.input.feed_size               5856 non-null float64\n",
      "primary_cleaner.input.xanthate                5690 non-null float64\n",
      "primary_cleaner.state.floatbank8_a_air        5840 non-null float64\n",
      "primary_cleaner.state.floatbank8_a_level      5840 non-null float64\n",
      "primary_cleaner.state.floatbank8_b_air        5840 non-null float64\n",
      "primary_cleaner.state.floatbank8_b_level      5840 non-null float64\n",
      "primary_cleaner.state.floatbank8_c_air        5840 non-null float64\n",
      "primary_cleaner.state.floatbank8_c_level      5840 non-null float64\n",
      "primary_cleaner.state.floatbank8_d_air        5840 non-null float64\n",
      "primary_cleaner.state.floatbank8_d_level      5840 non-null float64\n",
      "rougher.input.feed_ag                         5840 non-null float64\n",
      "rougher.input.feed_pb                         5840 non-null float64\n",
      "rougher.input.feed_rate                       5816 non-null float64\n",
      "rougher.input.feed_size                       5834 non-null float64\n",
      "rougher.input.feed_sol                        5789 non-null float64\n",
      "rougher.input.feed_au                         5840 non-null float64\n",
      "rougher.input.floatbank10_sulfate             5599 non-null float64\n",
      "rougher.input.floatbank10_xanthate            5733 non-null float64\n",
      "rougher.input.floatbank11_sulfate             5801 non-null float64\n",
      "rougher.input.floatbank11_xanthate            5503 non-null float64\n",
      "rougher.state.floatbank10_a_air               5839 non-null float64\n",
      "rougher.state.floatbank10_a_level             5840 non-null float64\n",
      "rougher.state.floatbank10_b_air               5839 non-null float64\n",
      "rougher.state.floatbank10_b_level             5840 non-null float64\n",
      "rougher.state.floatbank10_c_air               5839 non-null float64\n",
      "rougher.state.floatbank10_c_level             5840 non-null float64\n",
      "rougher.state.floatbank10_d_air               5839 non-null float64\n",
      "rougher.state.floatbank10_d_level             5840 non-null float64\n",
      "rougher.state.floatbank10_e_air               5839 non-null float64\n",
      "rougher.state.floatbank10_e_level             5840 non-null float64\n",
      "rougher.state.floatbank10_f_air               5839 non-null float64\n",
      "rougher.state.floatbank10_f_level             5840 non-null float64\n",
      "secondary_cleaner.state.floatbank2_a_air      5836 non-null float64\n",
      "secondary_cleaner.state.floatbank2_a_level    5840 non-null float64\n",
      "secondary_cleaner.state.floatbank2_b_air      5833 non-null float64\n",
      "secondary_cleaner.state.floatbank2_b_level    5840 non-null float64\n",
      "secondary_cleaner.state.floatbank3_a_air      5822 non-null float64\n",
      "secondary_cleaner.state.floatbank3_a_level    5840 non-null float64\n",
      "secondary_cleaner.state.floatbank3_b_air      5840 non-null float64\n",
      "secondary_cleaner.state.floatbank3_b_level    5840 non-null float64\n",
      "secondary_cleaner.state.floatbank4_a_air      5840 non-null float64\n",
      "secondary_cleaner.state.floatbank4_a_level    5840 non-null float64\n",
      "secondary_cleaner.state.floatbank4_b_air      5840 non-null float64\n",
      "secondary_cleaner.state.floatbank4_b_level    5840 non-null float64\n",
      "secondary_cleaner.state.floatbank5_a_air      5840 non-null float64\n",
      "secondary_cleaner.state.floatbank5_a_level    5840 non-null float64\n",
      "secondary_cleaner.state.floatbank5_b_air      5840 non-null float64\n",
      "secondary_cleaner.state.floatbank5_b_level    5840 non-null float64\n",
      "secondary_cleaner.state.floatbank6_a_air      5840 non-null float64\n",
      "secondary_cleaner.state.floatbank6_a_level    5840 non-null float64\n",
      "dtypes: float64(52), object(1)\n",
      "memory usage: 2.4+ MB\n",
      "None\n",
      "\n",
      "<class 'pandas.core.frame.DataFrame'>\n",
      "RangeIndex: 22716 entries, 0 to 22715\n",
      "Data columns (total 87 columns):\n",
      "date                                                  22716 non-null object\n",
      "final.output.concentrate_ag                           22627 non-null float64\n",
      "final.output.concentrate_pb                           22629 non-null float64\n",
      "final.output.concentrate_sol                          22331 non-null float64\n",
      "final.output.concentrate_au                           22630 non-null float64\n",
      "final.output.recovery                                 20753 non-null float64\n",
      "final.output.tail_ag                                  22633 non-null float64\n",
      "final.output.tail_pb                                  22516 non-null float64\n",
      "final.output.tail_sol                                 22445 non-null float64\n",
      "final.output.tail_au                                  22635 non-null float64\n",
      "primary_cleaner.input.sulfate                         21107 non-null float64\n",
      "primary_cleaner.input.depressant                      21170 non-null float64\n",
      "primary_cleaner.input.feed_size                       22716 non-null float64\n",
      "primary_cleaner.input.xanthate                        21565 non-null float64\n",
      "primary_cleaner.output.concentrate_ag                 22618 non-null float64\n",
      "primary_cleaner.output.concentrate_pb                 22268 non-null float64\n",
      "primary_cleaner.output.concentrate_sol                21918 non-null float64\n",
      "primary_cleaner.output.concentrate_au                 22618 non-null float64\n",
      "primary_cleaner.output.tail_ag                        22614 non-null float64\n",
      "primary_cleaner.output.tail_pb                        22594 non-null float64\n",
      "primary_cleaner.output.tail_sol                       22365 non-null float64\n",
      "primary_cleaner.output.tail_au                        22617 non-null float64\n",
      "primary_cleaner.state.floatbank8_a_air                22660 non-null float64\n",
      "primary_cleaner.state.floatbank8_a_level              22667 non-null float64\n",
      "primary_cleaner.state.floatbank8_b_air                22660 non-null float64\n",
      "primary_cleaner.state.floatbank8_b_level              22673 non-null float64\n",
      "primary_cleaner.state.floatbank8_c_air                22662 non-null float64\n",
      "primary_cleaner.state.floatbank8_c_level              22673 non-null float64\n",
      "primary_cleaner.state.floatbank8_d_air                22661 non-null float64\n",
      "primary_cleaner.state.floatbank8_d_level              22673 non-null float64\n",
      "rougher.calculation.sulfate_to_au_concentrate         22672 non-null float64\n",
      "rougher.calculation.floatbank10_sulfate_to_au_feed    22672 non-null float64\n",
      "rougher.calculation.floatbank11_sulfate_to_au_feed    22672 non-null float64\n",
      "rougher.calculation.au_pb_ratio                       21089 non-null float64\n",
      "rougher.input.feed_ag                                 22618 non-null float64\n",
      "rougher.input.feed_pb                                 22472 non-null float64\n",
      "rougher.input.feed_rate                               22163 non-null float64\n",
      "rougher.input.feed_size                               22277 non-null float64\n",
      "rougher.input.feed_sol                                22357 non-null float64\n",
      "rougher.input.feed_au                                 22617 non-null float64\n",
      "rougher.input.floatbank10_sulfate                     21415 non-null float64\n",
      "rougher.input.floatbank10_xanthate                    22247 non-null float64\n",
      "rougher.input.floatbank11_sulfate                     22038 non-null float64\n",
      "rougher.input.floatbank11_xanthate                    20459 non-null float64\n",
      "rougher.output.concentrate_ag                         22618 non-null float64\n",
      "rougher.output.concentrate_pb                         22618 non-null float64\n",
      "rougher.output.concentrate_sol                        22526 non-null float64\n",
      "rougher.output.concentrate_au                         22618 non-null float64\n",
      "rougher.output.recovery                               19597 non-null float64\n",
      "rougher.output.tail_ag                                19979 non-null float64\n",
      "rougher.output.tail_pb                                22618 non-null float64\n",
      "rougher.output.tail_sol                               19980 non-null float64\n",
      "rougher.output.tail_au                                19980 non-null float64\n",
      "rougher.state.floatbank10_a_air                       22646 non-null float64\n",
      "rougher.state.floatbank10_a_level                     22647 non-null float64\n",
      "rougher.state.floatbank10_b_air                       22646 non-null float64\n",
      "rougher.state.floatbank10_b_level                     22647 non-null float64\n",
      "rougher.state.floatbank10_c_air                       22646 non-null float64\n",
      "rougher.state.floatbank10_c_level                     22654 non-null float64\n",
      "rougher.state.floatbank10_d_air                       22641 non-null float64\n",
      "rougher.state.floatbank10_d_level                     22649 non-null float64\n",
      "rougher.state.floatbank10_e_air                       22096 non-null float64\n",
      "rougher.state.floatbank10_e_level                     22649 non-null float64\n",
      "rougher.state.floatbank10_f_air                       22641 non-null float64\n",
      "rougher.state.floatbank10_f_level                     22642 non-null float64\n",
      "secondary_cleaner.output.tail_ag                      22616 non-null float64\n",
      "secondary_cleaner.output.tail_pb                      22600 non-null float64\n",
      "secondary_cleaner.output.tail_sol                     20501 non-null float64\n",
      "secondary_cleaner.output.tail_au                      22618 non-null float64\n",
      "secondary_cleaner.state.floatbank2_a_air              22333 non-null float64\n",
      "secondary_cleaner.state.floatbank2_a_level            22591 non-null float64\n",
      "secondary_cleaner.state.floatbank2_b_air              22538 non-null float64\n",
      "secondary_cleaner.state.floatbank2_b_level            22588 non-null float64\n",
      "secondary_cleaner.state.floatbank3_a_air              22585 non-null float64\n",
      "secondary_cleaner.state.floatbank3_a_level            22587 non-null float64\n",
      "secondary_cleaner.state.floatbank3_b_air              22592 non-null float64\n",
      "secondary_cleaner.state.floatbank3_b_level            22590 non-null float64\n",
      "secondary_cleaner.state.floatbank4_a_air              22571 non-null float64\n",
      "secondary_cleaner.state.floatbank4_a_level            22587 non-null float64\n",
      "secondary_cleaner.state.floatbank4_b_air              22608 non-null float64\n",
      "secondary_cleaner.state.floatbank4_b_level            22607 non-null float64\n",
      "secondary_cleaner.state.floatbank5_a_air              22615 non-null float64\n",
      "secondary_cleaner.state.floatbank5_a_level            22615 non-null float64\n",
      "secondary_cleaner.state.floatbank5_b_air              22615 non-null float64\n",
      "secondary_cleaner.state.floatbank5_b_level            22616 non-null float64\n",
      "secondary_cleaner.state.floatbank6_a_air              22597 non-null float64\n",
      "secondary_cleaner.state.floatbank6_a_level            22615 non-null float64\n",
      "dtypes: float64(86), object(1)\n",
      "memory usage: 15.1+ MB\n",
      "None\n"
     ]
    }
   ],
   "source": [
    "print(data_gold_recovery_train.info())\n",
    "print()\n",
    "print(data_gold_recovery_test.info())\n",
    "print()\n",
    "print(data_gold_recovery_full.info())"
   ]
  },
  {
   "cell_type": "markdown",
   "metadata": {},
   "source": [
    "Становится более понятно, какие столбцы отсутстуют в тестовой выборке. Это все столбцы типов `output` и `calculation`.\n",
    "\n",
    "Столбец `date` имеет строковый тип во всех выборках. Требуется перевести в дату. \n",
    "\n",
    "В столбцах некоторые значения пропущены. \n",
    "\n",
    "Теперь пойдём по плану."
   ]
  },
  {
   "cell_type": "markdown",
   "metadata": {},
   "source": [
    "## 1.2. Предобработка данных\n",
    "Что следует сделать:\n",
    "- Исследовать на пропуски, убрать или заменить\n",
    "- Привести данные к нужным типам"
   ]
  },
  {
   "cell_type": "markdown",
   "metadata": {},
   "source": [
    "### 1.2.1. Пропуски\n",
    "Из общей информации понятно, что пропуски есть почти во всенх столбцах, но их немного. Не ясно пока, размещены ли они в одних строках или распределены по наборам данных хаотично. От этого зависит, какую стратегию выбрать: удалять или заменять на разумные значения."
   ]
  },
  {
   "cell_type": "markdown",
   "metadata": {},
   "source": [
    "Используя 20-летний опыт работы с технологическими производственными данными сделаем следующее предположение. Технологические параметры **всегда** поступают непрерывным потоком и с привязкой во времени. Отсутствие данных в архиве может говорить о том, что в какой-то период времени у системы АСУТП не было связи с сервером данных и она не смогла их туда поместить. Так как у самой АСУТП объёмы памяти ограничены, а новые данные поступают неотвратимо, как с конвейера, прошлые данные теряются. Исходя из природы технологических данных :\n",
    "- Во-первых, признаки меняются во времени непрерывно и постепенно и не дают выбросов; если выброс, то это авария или неисправность датчика.\n",
    "- Во-вторых, пропуски могут идти периодами во времени, захватывая несколько соседних тайм фреймов.\n",
    "- В-третьих, пропущена будет вся порция данных для тайм фрейма разом.\n",
    "\n",
    "Исходя из вышеизложенного, разумным значением для заполнения пропусков будет ближайшее предыдущее значение. \n",
    "\n",
    "Сделаем функцию fillna и обработаем пропуски."
   ]
  },
  {
   "cell_type": "code",
   "execution_count": 4,
   "metadata": {
    "scrolled": true
   },
   "outputs": [
    {
     "name": "stdout",
     "output_type": "stream",
     "text": [
      "<class 'pandas.core.frame.DataFrame'>\n",
      "RangeIndex: 16860 entries, 0 to 16859\n",
      "Data columns (total 87 columns):\n",
      "date                                                  16860 non-null object\n",
      "final.output.concentrate_ag                           16860 non-null float64\n",
      "final.output.concentrate_pb                           16860 non-null float64\n",
      "final.output.concentrate_sol                          16860 non-null float64\n",
      "final.output.concentrate_au                           16860 non-null float64\n",
      "final.output.recovery                                 16860 non-null float64\n",
      "final.output.tail_ag                                  16860 non-null float64\n",
      "final.output.tail_pb                                  16860 non-null float64\n",
      "final.output.tail_sol                                 16860 non-null float64\n",
      "final.output.tail_au                                  16860 non-null float64\n",
      "primary_cleaner.input.sulfate                         16860 non-null float64\n",
      "primary_cleaner.input.depressant                      16860 non-null float64\n",
      "primary_cleaner.input.feed_size                       16860 non-null float64\n",
      "primary_cleaner.input.xanthate                        16860 non-null float64\n",
      "primary_cleaner.output.concentrate_ag                 16860 non-null float64\n",
      "primary_cleaner.output.concentrate_pb                 16860 non-null float64\n",
      "primary_cleaner.output.concentrate_sol                16860 non-null float64\n",
      "primary_cleaner.output.concentrate_au                 16860 non-null float64\n",
      "primary_cleaner.output.tail_ag                        16860 non-null float64\n",
      "primary_cleaner.output.tail_pb                        16860 non-null float64\n",
      "primary_cleaner.output.tail_sol                       16860 non-null float64\n",
      "primary_cleaner.output.tail_au                        16860 non-null float64\n",
      "primary_cleaner.state.floatbank8_a_air                16860 non-null float64\n",
      "primary_cleaner.state.floatbank8_a_level              16860 non-null float64\n",
      "primary_cleaner.state.floatbank8_b_air                16860 non-null float64\n",
      "primary_cleaner.state.floatbank8_b_level              16860 non-null float64\n",
      "primary_cleaner.state.floatbank8_c_air                16860 non-null float64\n",
      "primary_cleaner.state.floatbank8_c_level              16860 non-null float64\n",
      "primary_cleaner.state.floatbank8_d_air                16860 non-null float64\n",
      "primary_cleaner.state.floatbank8_d_level              16860 non-null float64\n",
      "rougher.calculation.sulfate_to_au_concentrate         16860 non-null float64\n",
      "rougher.calculation.floatbank10_sulfate_to_au_feed    16860 non-null float64\n",
      "rougher.calculation.floatbank11_sulfate_to_au_feed    16860 non-null float64\n",
      "rougher.calculation.au_pb_ratio                       16860 non-null float64\n",
      "rougher.input.feed_ag                                 16860 non-null float64\n",
      "rougher.input.feed_pb                                 16860 non-null float64\n",
      "rougher.input.feed_rate                               16860 non-null float64\n",
      "rougher.input.feed_size                               16860 non-null float64\n",
      "rougher.input.feed_sol                                16860 non-null float64\n",
      "rougher.input.feed_au                                 16860 non-null float64\n",
      "rougher.input.floatbank10_sulfate                     16860 non-null float64\n",
      "rougher.input.floatbank10_xanthate                    16860 non-null float64\n",
      "rougher.input.floatbank11_sulfate                     16860 non-null float64\n",
      "rougher.input.floatbank11_xanthate                    16860 non-null float64\n",
      "rougher.output.concentrate_ag                         16860 non-null float64\n",
      "rougher.output.concentrate_pb                         16860 non-null float64\n",
      "rougher.output.concentrate_sol                        16860 non-null float64\n",
      "rougher.output.concentrate_au                         16860 non-null float64\n",
      "rougher.output.recovery                               16860 non-null float64\n",
      "rougher.output.tail_ag                                16860 non-null float64\n",
      "rougher.output.tail_pb                                16860 non-null float64\n",
      "rougher.output.tail_sol                               16860 non-null float64\n",
      "rougher.output.tail_au                                16860 non-null float64\n",
      "rougher.state.floatbank10_a_air                       16860 non-null float64\n",
      "rougher.state.floatbank10_a_level                     16860 non-null float64\n",
      "rougher.state.floatbank10_b_air                       16860 non-null float64\n",
      "rougher.state.floatbank10_b_level                     16860 non-null float64\n",
      "rougher.state.floatbank10_c_air                       16860 non-null float64\n",
      "rougher.state.floatbank10_c_level                     16860 non-null float64\n",
      "rougher.state.floatbank10_d_air                       16860 non-null float64\n",
      "rougher.state.floatbank10_d_level                     16860 non-null float64\n",
      "rougher.state.floatbank10_e_air                       16860 non-null float64\n",
      "rougher.state.floatbank10_e_level                     16860 non-null float64\n",
      "rougher.state.floatbank10_f_air                       16860 non-null float64\n",
      "rougher.state.floatbank10_f_level                     16860 non-null float64\n",
      "secondary_cleaner.output.tail_ag                      16860 non-null float64\n",
      "secondary_cleaner.output.tail_pb                      16860 non-null float64\n",
      "secondary_cleaner.output.tail_sol                     16860 non-null float64\n",
      "secondary_cleaner.output.tail_au                      16860 non-null float64\n",
      "secondary_cleaner.state.floatbank2_a_air              16860 non-null float64\n",
      "secondary_cleaner.state.floatbank2_a_level            16860 non-null float64\n",
      "secondary_cleaner.state.floatbank2_b_air              16860 non-null float64\n",
      "secondary_cleaner.state.floatbank2_b_level            16860 non-null float64\n",
      "secondary_cleaner.state.floatbank3_a_air              16860 non-null float64\n",
      "secondary_cleaner.state.floatbank3_a_level            16860 non-null float64\n",
      "secondary_cleaner.state.floatbank3_b_air              16860 non-null float64\n",
      "secondary_cleaner.state.floatbank3_b_level            16860 non-null float64\n",
      "secondary_cleaner.state.floatbank4_a_air              16860 non-null float64\n",
      "secondary_cleaner.state.floatbank4_a_level            16860 non-null float64\n",
      "secondary_cleaner.state.floatbank4_b_air              16860 non-null float64\n",
      "secondary_cleaner.state.floatbank4_b_level            16860 non-null float64\n",
      "secondary_cleaner.state.floatbank5_a_air              16860 non-null float64\n",
      "secondary_cleaner.state.floatbank5_a_level            16860 non-null float64\n",
      "secondary_cleaner.state.floatbank5_b_air              16860 non-null float64\n",
      "secondary_cleaner.state.floatbank5_b_level            16860 non-null float64\n",
      "secondary_cleaner.state.floatbank6_a_air              16860 non-null float64\n",
      "secondary_cleaner.state.floatbank6_a_level            16860 non-null float64\n",
      "dtypes: float64(86), object(1)\n",
      "memory usage: 11.2+ MB\n"
     ]
    }
   ],
   "source": [
    "def fillna(dataset, columns=None):\n",
    "    \"\"\"\n",
    "    Fills Nan with the nearest previous not Nan value\n",
    "        parameters:\n",
    "        - columns - list of column names to fill Nan; None means all dataset columns\n",
    "        returns: filled dataset\n",
    "    \"\"\"\n",
    "    if columns == None:\n",
    "        dataset.fillna(method='ffill', axis=0, inplace=True)\n",
    "    else:\n",
    "        for col in columns:\n",
    "            dataset[col].fillna(method='ffill', axis=0, inplace=True)\n",
    "            \n",
    "    return dataset\n",
    "\n",
    "# filling na data_gold_recovery_train\n",
    "fillna(data_gold_recovery_train).info()"
   ]
  },
  {
   "cell_type": "code",
   "execution_count": 5,
   "metadata": {
    "scrolled": true
   },
   "outputs": [
    {
     "name": "stdout",
     "output_type": "stream",
     "text": [
      "<class 'pandas.core.frame.DataFrame'>\n",
      "RangeIndex: 5856 entries, 0 to 5855\n",
      "Data columns (total 53 columns):\n",
      "date                                          5856 non-null object\n",
      "primary_cleaner.input.sulfate                 5856 non-null float64\n",
      "primary_cleaner.input.depressant              5856 non-null float64\n",
      "primary_cleaner.input.feed_size               5856 non-null float64\n",
      "primary_cleaner.input.xanthate                5856 non-null float64\n",
      "primary_cleaner.state.floatbank8_a_air        5856 non-null float64\n",
      "primary_cleaner.state.floatbank8_a_level      5856 non-null float64\n",
      "primary_cleaner.state.floatbank8_b_air        5856 non-null float64\n",
      "primary_cleaner.state.floatbank8_b_level      5856 non-null float64\n",
      "primary_cleaner.state.floatbank8_c_air        5856 non-null float64\n",
      "primary_cleaner.state.floatbank8_c_level      5856 non-null float64\n",
      "primary_cleaner.state.floatbank8_d_air        5856 non-null float64\n",
      "primary_cleaner.state.floatbank8_d_level      5856 non-null float64\n",
      "rougher.input.feed_ag                         5856 non-null float64\n",
      "rougher.input.feed_pb                         5856 non-null float64\n",
      "rougher.input.feed_rate                       5856 non-null float64\n",
      "rougher.input.feed_size                       5856 non-null float64\n",
      "rougher.input.feed_sol                        5856 non-null float64\n",
      "rougher.input.feed_au                         5856 non-null float64\n",
      "rougher.input.floatbank10_sulfate             5856 non-null float64\n",
      "rougher.input.floatbank10_xanthate            5856 non-null float64\n",
      "rougher.input.floatbank11_sulfate             5856 non-null float64\n",
      "rougher.input.floatbank11_xanthate            5856 non-null float64\n",
      "rougher.state.floatbank10_a_air               5856 non-null float64\n",
      "rougher.state.floatbank10_a_level             5856 non-null float64\n",
      "rougher.state.floatbank10_b_air               5856 non-null float64\n",
      "rougher.state.floatbank10_b_level             5856 non-null float64\n",
      "rougher.state.floatbank10_c_air               5856 non-null float64\n",
      "rougher.state.floatbank10_c_level             5856 non-null float64\n",
      "rougher.state.floatbank10_d_air               5856 non-null float64\n",
      "rougher.state.floatbank10_d_level             5856 non-null float64\n",
      "rougher.state.floatbank10_e_air               5856 non-null float64\n",
      "rougher.state.floatbank10_e_level             5856 non-null float64\n",
      "rougher.state.floatbank10_f_air               5856 non-null float64\n",
      "rougher.state.floatbank10_f_level             5856 non-null float64\n",
      "secondary_cleaner.state.floatbank2_a_air      5856 non-null float64\n",
      "secondary_cleaner.state.floatbank2_a_level    5856 non-null float64\n",
      "secondary_cleaner.state.floatbank2_b_air      5856 non-null float64\n",
      "secondary_cleaner.state.floatbank2_b_level    5856 non-null float64\n",
      "secondary_cleaner.state.floatbank3_a_air      5856 non-null float64\n",
      "secondary_cleaner.state.floatbank3_a_level    5856 non-null float64\n",
      "secondary_cleaner.state.floatbank3_b_air      5856 non-null float64\n",
      "secondary_cleaner.state.floatbank3_b_level    5856 non-null float64\n",
      "secondary_cleaner.state.floatbank4_a_air      5856 non-null float64\n",
      "secondary_cleaner.state.floatbank4_a_level    5856 non-null float64\n",
      "secondary_cleaner.state.floatbank4_b_air      5856 non-null float64\n",
      "secondary_cleaner.state.floatbank4_b_level    5856 non-null float64\n",
      "secondary_cleaner.state.floatbank5_a_air      5856 non-null float64\n",
      "secondary_cleaner.state.floatbank5_a_level    5856 non-null float64\n",
      "secondary_cleaner.state.floatbank5_b_air      5856 non-null float64\n",
      "secondary_cleaner.state.floatbank5_b_level    5856 non-null float64\n",
      "secondary_cleaner.state.floatbank6_a_air      5856 non-null float64\n",
      "secondary_cleaner.state.floatbank6_a_level    5856 non-null float64\n",
      "dtypes: float64(52), object(1)\n",
      "memory usage: 2.4+ MB\n"
     ]
    }
   ],
   "source": [
    "# filling na data_gold_recovery_test\n",
    "fillna(data_gold_recovery_test).info()"
   ]
  },
  {
   "cell_type": "code",
   "execution_count": 6,
   "metadata": {
    "scrolled": true
   },
   "outputs": [
    {
     "name": "stdout",
     "output_type": "stream",
     "text": [
      "<class 'pandas.core.frame.DataFrame'>\n",
      "RangeIndex: 22716 entries, 0 to 22715\n",
      "Data columns (total 87 columns):\n",
      "date                                                  22716 non-null object\n",
      "final.output.concentrate_ag                           22716 non-null float64\n",
      "final.output.concentrate_pb                           22716 non-null float64\n",
      "final.output.concentrate_sol                          22716 non-null float64\n",
      "final.output.concentrate_au                           22716 non-null float64\n",
      "final.output.recovery                                 22716 non-null float64\n",
      "final.output.tail_ag                                  22716 non-null float64\n",
      "final.output.tail_pb                                  22716 non-null float64\n",
      "final.output.tail_sol                                 22716 non-null float64\n",
      "final.output.tail_au                                  22716 non-null float64\n",
      "primary_cleaner.input.sulfate                         22716 non-null float64\n",
      "primary_cleaner.input.depressant                      22716 non-null float64\n",
      "primary_cleaner.input.feed_size                       22716 non-null float64\n",
      "primary_cleaner.input.xanthate                        22716 non-null float64\n",
      "primary_cleaner.output.concentrate_ag                 22716 non-null float64\n",
      "primary_cleaner.output.concentrate_pb                 22716 non-null float64\n",
      "primary_cleaner.output.concentrate_sol                22716 non-null float64\n",
      "primary_cleaner.output.concentrate_au                 22716 non-null float64\n",
      "primary_cleaner.output.tail_ag                        22716 non-null float64\n",
      "primary_cleaner.output.tail_pb                        22716 non-null float64\n",
      "primary_cleaner.output.tail_sol                       22716 non-null float64\n",
      "primary_cleaner.output.tail_au                        22716 non-null float64\n",
      "primary_cleaner.state.floatbank8_a_air                22716 non-null float64\n",
      "primary_cleaner.state.floatbank8_a_level              22716 non-null float64\n",
      "primary_cleaner.state.floatbank8_b_air                22716 non-null float64\n",
      "primary_cleaner.state.floatbank8_b_level              22716 non-null float64\n",
      "primary_cleaner.state.floatbank8_c_air                22716 non-null float64\n",
      "primary_cleaner.state.floatbank8_c_level              22716 non-null float64\n",
      "primary_cleaner.state.floatbank8_d_air                22716 non-null float64\n",
      "primary_cleaner.state.floatbank8_d_level              22716 non-null float64\n",
      "rougher.calculation.sulfate_to_au_concentrate         22716 non-null float64\n",
      "rougher.calculation.floatbank10_sulfate_to_au_feed    22716 non-null float64\n",
      "rougher.calculation.floatbank11_sulfate_to_au_feed    22716 non-null float64\n",
      "rougher.calculation.au_pb_ratio                       22716 non-null float64\n",
      "rougher.input.feed_ag                                 22716 non-null float64\n",
      "rougher.input.feed_pb                                 22716 non-null float64\n",
      "rougher.input.feed_rate                               22716 non-null float64\n",
      "rougher.input.feed_size                               22716 non-null float64\n",
      "rougher.input.feed_sol                                22716 non-null float64\n",
      "rougher.input.feed_au                                 22716 non-null float64\n",
      "rougher.input.floatbank10_sulfate                     22716 non-null float64\n",
      "rougher.input.floatbank10_xanthate                    22716 non-null float64\n",
      "rougher.input.floatbank11_sulfate                     22716 non-null float64\n",
      "rougher.input.floatbank11_xanthate                    22716 non-null float64\n",
      "rougher.output.concentrate_ag                         22716 non-null float64\n",
      "rougher.output.concentrate_pb                         22716 non-null float64\n",
      "rougher.output.concentrate_sol                        22716 non-null float64\n",
      "rougher.output.concentrate_au                         22716 non-null float64\n",
      "rougher.output.recovery                               22716 non-null float64\n",
      "rougher.output.tail_ag                                22716 non-null float64\n",
      "rougher.output.tail_pb                                22716 non-null float64\n",
      "rougher.output.tail_sol                               22716 non-null float64\n",
      "rougher.output.tail_au                                22716 non-null float64\n",
      "rougher.state.floatbank10_a_air                       22716 non-null float64\n",
      "rougher.state.floatbank10_a_level                     22716 non-null float64\n",
      "rougher.state.floatbank10_b_air                       22716 non-null float64\n",
      "rougher.state.floatbank10_b_level                     22716 non-null float64\n",
      "rougher.state.floatbank10_c_air                       22716 non-null float64\n",
      "rougher.state.floatbank10_c_level                     22716 non-null float64\n",
      "rougher.state.floatbank10_d_air                       22716 non-null float64\n",
      "rougher.state.floatbank10_d_level                     22716 non-null float64\n",
      "rougher.state.floatbank10_e_air                       22716 non-null float64\n",
      "rougher.state.floatbank10_e_level                     22716 non-null float64\n",
      "rougher.state.floatbank10_f_air                       22716 non-null float64\n",
      "rougher.state.floatbank10_f_level                     22716 non-null float64\n",
      "secondary_cleaner.output.tail_ag                      22716 non-null float64\n",
      "secondary_cleaner.output.tail_pb                      22716 non-null float64\n",
      "secondary_cleaner.output.tail_sol                     22716 non-null float64\n",
      "secondary_cleaner.output.tail_au                      22716 non-null float64\n",
      "secondary_cleaner.state.floatbank2_a_air              22716 non-null float64\n",
      "secondary_cleaner.state.floatbank2_a_level            22716 non-null float64\n",
      "secondary_cleaner.state.floatbank2_b_air              22716 non-null float64\n",
      "secondary_cleaner.state.floatbank2_b_level            22716 non-null float64\n",
      "secondary_cleaner.state.floatbank3_a_air              22716 non-null float64\n",
      "secondary_cleaner.state.floatbank3_a_level            22716 non-null float64\n",
      "secondary_cleaner.state.floatbank3_b_air              22716 non-null float64\n",
      "secondary_cleaner.state.floatbank3_b_level            22716 non-null float64\n",
      "secondary_cleaner.state.floatbank4_a_air              22716 non-null float64\n",
      "secondary_cleaner.state.floatbank4_a_level            22716 non-null float64\n",
      "secondary_cleaner.state.floatbank4_b_air              22716 non-null float64\n",
      "secondary_cleaner.state.floatbank4_b_level            22716 non-null float64\n",
      "secondary_cleaner.state.floatbank5_a_air              22716 non-null float64\n",
      "secondary_cleaner.state.floatbank5_a_level            22716 non-null float64\n",
      "secondary_cleaner.state.floatbank5_b_air              22716 non-null float64\n",
      "secondary_cleaner.state.floatbank5_b_level            22716 non-null float64\n",
      "secondary_cleaner.state.floatbank6_a_air              22716 non-null float64\n",
      "secondary_cleaner.state.floatbank6_a_level            22716 non-null float64\n",
      "dtypes: float64(86), object(1)\n",
      "memory usage: 15.1+ MB\n"
     ]
    }
   ],
   "source": [
    "# filling na data_gold_recovery_full\n",
    "fillna(data_gold_recovery_full).info()"
   ]
  },
  {
   "cell_type": "markdown",
   "metadata": {},
   "source": [
    "Пропуски заполнены."
   ]
  },
  {
   "cell_type": "markdown",
   "metadata": {},
   "source": [
    "### 1.2.2. Приведение типов данных\n",
    "Один лишь тип данных нам надо преобразовать - это строку в дату-время в колонке `date`.\n",
    "\n",
    "Сделаем функцию `to_datetime` и произведём операцию над всеми датасетами. И превратим поле даты в индекс для всех наборов. Это соответствует природе данных."
   ]
  },
  {
   "cell_type": "code",
   "execution_count": 7,
   "metadata": {},
   "outputs": [
    {
     "name": "stdout",
     "output_type": "stream",
     "text": [
      "data_gold_recovery_train index type - datetime64[ns]\n",
      "data_gold_recovery_test index type - datetime64[ns]\n",
      "data_gold_recovery_full index type - datetime64[ns]\n"
     ]
    }
   ],
   "source": [
    "def to_datetime(dataset, date_column_name=None):\n",
    "    \"\"\"\n",
    "    Converts string type to date-time type in a given column\n",
    "        parameters:\n",
    "        - date column name as string; None means \"date\" by default\n",
    "        returns: dataset index\n",
    "        \"\"\"\n",
    "    if date_column_name == None:\n",
    "        date_column_name = 'date'\n",
    "            \n",
    "    # 2016-02-15 02:00:00\n",
    "    dataset[date_column_name] = pd.to_datetime(dataset[date_column_name], format='%Y-%m-%d %H:%M:%S')\n",
    "    dataset.set_index(date_column_name, drop=True, append=False, inplace=True, verify_integrity=True)\n",
    "    return dataset.index\n",
    "\n",
    "print('data_gold_recovery_train index type -', to_datetime(data_gold_recovery_train).dtype.name)\n",
    "print('data_gold_recovery_test index type -', to_datetime(data_gold_recovery_test).dtype.name)\n",
    "print('data_gold_recovery_full index type -', to_datetime(data_gold_recovery_full).dtype.name)"
   ]
  },
  {
   "cell_type": "markdown",
   "metadata": {},
   "source": [
    "Отлично, с приведением колонки `date` закончили."
   ]
  },
  {
   "cell_type": "markdown",
   "metadata": {},
   "source": [
    "## 1.3. Проверить, что эффективность обогащения расчитана правильно\n",
    "План на раздел такой:<br/>\n",
    "- Вычислить эффективность обогащения на обучающей выборке для признака `rougher.output.recovery`. \n",
    "- Найти **MAE** между расчитанным и имеющимся значением признака. \n",
    "- Описать выводы.\n",
    "\n",
    "Для начала посмотрим, как распределены данные в признаках `rougher.input.feed_au`, `rougher.output.concentrate_au`, `rougher.output.tail_au`, которые потребуются для расчёта. Нет ли выбросов и других неправильных значений.\n",
    "\n",
    "Для этого сделаем функцию `plot_feature_boxes`."
   ]
  },
  {
   "cell_type": "code",
   "execution_count": 8,
   "metadata": {},
   "outputs": [
    {
     "data": {
      "image/png": "[encoded data removed]",
      "text/plain": [
       "<Figure size 720x360 with 1 Axes>"
      ]
     },
     "metadata": {
      "needs_background": "light"
     },
     "output_type": "display_data"
    }
   ],
   "source": [
    "def plot_feature_boxes(dataset, axe, feature_list):\n",
    "    \"\"\"\n",
    "    Creates a boxplot with given feature names\n",
    "        parameters:\n",
    "        - dataset - dataset to plot columns from\n",
    "        - axe object to add plots into\n",
    "        - feature_list - list with name of feature\n",
    "        returns: axe object\n",
    "    \"\"\"\n",
    "    series = []\n",
    "    for i in feature_list:\n",
    "        series.append(dataset[i])\n",
    "        \n",
    "    axe.boxplot(series, labels=feature_list)\n",
    "    axe.grid(True)\n",
    "    axe.set_xlabel('features')\n",
    "    axe.set_ylabel('feature value')\n",
    "    \n",
    "    return axe\n",
    "\n",
    "fig, axes = plt.subplots(1, 1, figsize=(10, 5), sharey=True)\n",
    "\n",
    "feature_list = ['rougher.input.feed_au', 'rougher.output.concentrate_au', 'rougher.output.tail_au']\n",
    "\n",
    "axes = plot_feature_boxes(data_gold_recovery_train, axes, feature_list)\n",
    "\n",
    "fig.show()"
   ]
  },
  {
   "cell_type": "markdown",
   "metadata": {},
   "source": [
    "Статистическое распределение признаков выглядит хорошо. \n",
    "\n",
    "В то же время смущает наличие нулевых значений в колонке `rougher.input.feed_au`. Чтобы понять, что тревожит, углубимся в физическую природу процесса и данных. Исследуем, как взаимосвязаны между собой параметры концентрации в пульпе (будем так называть feed), концентрате (concentrate) и хвостах (tail).\n",
    "\n",
    "Золото (особенно золото) подчиняется закону сохранения массы, как любая материальная сущность. Поэтому масса золота в пульпе, пришедшей на обогащение, равна сумме масс золота в концентрате и хвостах. Это можно выразить следующим образом:\n",
    "\n",
    "**m_feed_au = m_concantrate_au + m_tail_au** (1), где\n",
    "- m_feed_au - масса золота во входной пульпе,\n",
    "- m_concantrate_au - масса золота в концентрате после разделения,\n",
    "- m_tail_au - масса золота, ушедшая в хвосты после разделения.\n",
    "\n",
    "Формула справедлива как для отдельной ступени очистки, так и для всей цепочки.\n",
    "Показатели концентрации **F**, **C**, **T**, участвующие в формуле вычисления эффективности обогащения, показывают долю ценного металла в общей массе пульпы. Учитывая это, формулу сохранения массы золота можно переписать следующим образом:\n",
    "\n",
    "**F * m_feed = C * m_concantrate + T * (m_feed - m_concantrate)** (2), где\n",
    "- m_feed - масса пульпы на входе,\n",
    "- m_concantrate - масса концентрата после разделения\n",
    "- F, C, T - показатели концентрации металла в пульпе, концентрате и хвостах соответственно.\n",
    "\n",
    "Из формулы 2 можно сделать следующие выводы:\n",
    "- Признаки **F**, **C**, **T** являются коллинеарными и любой из них можно выразить через два других.\n",
    "- Нулевое значение **F** означает, что во входящей пульпе нет металла, значит **С** и **Т** тоже должны быть равны нулю.\n",
    "- Правая часть не может быть отрицательной, так как m_feed >= m_concentrate всегда.\n",
    "\n",
    "Держа в уме сделанные выводы, посмотрим значения полей `rougher.output.concentrate_au`, `rougher.output.tail_au` и `rougher.output.recovery` в тех строках, где поле `rougher.input.feed_au` равно нулю."
   ]
  },
  {
   "cell_type": "code",
   "execution_count": 9,
   "metadata": {},
   "outputs": [
    {
     "data": {
      "text/html": [
       "<div>\n",
       "<style scoped>\n",
       "    .dataframe tbody tr th:only-of-type {\n",
       "        vertical-align: middle;\n",
       "    }\n",
       "\n",
       "    .dataframe tbody tr th {\n",
       "        vertical-align: top;\n",
       "    }\n",
       "\n",
       "    .dataframe thead th {\n",
       "        text-align: right;\n",
       "    }\n",
       "</style>\n",
       "<table border=\"1\" class=\"dataframe\">\n",
       "  <thead>\n",
       "    <tr style=\"text-align: right;\">\n",
       "      <th></th>\n",
       "      <th>rougher.input.feed_au</th>\n",
       "      <th>rougher.output.concentrate_au</th>\n",
       "      <th>rougher.output.tail_au</th>\n",
       "      <th>rougher.output.recovery</th>\n",
       "    </tr>\n",
       "  </thead>\n",
       "  <tbody>\n",
       "    <tr>\n",
       "      <td>count</td>\n",
       "      <td>1213.0</td>\n",
       "      <td>1213.000000</td>\n",
       "      <td>1213.000000</td>\n",
       "      <td>1213.000000</td>\n",
       "    </tr>\n",
       "    <tr>\n",
       "      <td>mean</td>\n",
       "      <td>0.0</td>\n",
       "      <td>0.536315</td>\n",
       "      <td>2.183541</td>\n",
       "      <td>58.847609</td>\n",
       "    </tr>\n",
       "    <tr>\n",
       "      <td>std</td>\n",
       "      <td>0.0</td>\n",
       "      <td>3.134011</td>\n",
       "      <td>0.858417</td>\n",
       "      <td>32.888826</td>\n",
       "    </tr>\n",
       "    <tr>\n",
       "      <td>min</td>\n",
       "      <td>0.0</td>\n",
       "      <td>0.000000</td>\n",
       "      <td>0.734503</td>\n",
       "      <td>0.000000</td>\n",
       "    </tr>\n",
       "    <tr>\n",
       "      <td>25%</td>\n",
       "      <td>0.0</td>\n",
       "      <td>0.000000</td>\n",
       "      <td>1.464155</td>\n",
       "      <td>26.275908</td>\n",
       "    </tr>\n",
       "    <tr>\n",
       "      <td>50%</td>\n",
       "      <td>0.0</td>\n",
       "      <td>0.000000</td>\n",
       "      <td>1.994817</td>\n",
       "      <td>68.920897</td>\n",
       "    </tr>\n",
       "    <tr>\n",
       "      <td>75%</td>\n",
       "      <td>0.0</td>\n",
       "      <td>0.000000</td>\n",
       "      <td>2.692304</td>\n",
       "      <td>88.651062</td>\n",
       "    </tr>\n",
       "    <tr>\n",
       "      <td>max</td>\n",
       "      <td>0.0</td>\n",
       "      <td>24.470183</td>\n",
       "      <td>5.964024</td>\n",
       "      <td>92.804566</td>\n",
       "    </tr>\n",
       "  </tbody>\n",
       "</table>\n",
       "</div>"
      ],
      "text/plain": [
       "       rougher.input.feed_au  rougher.output.concentrate_au  \\\n",
       "count                 1213.0                    1213.000000   \n",
       "mean                     0.0                       0.536315   \n",
       "std                      0.0                       3.134011   \n",
       "min                      0.0                       0.000000   \n",
       "25%                      0.0                       0.000000   \n",
       "50%                      0.0                       0.000000   \n",
       "75%                      0.0                       0.000000   \n",
       "max                      0.0                      24.470183   \n",
       "\n",
       "       rougher.output.tail_au  rougher.output.recovery  \n",
       "count             1213.000000              1213.000000  \n",
       "mean                 2.183541                58.847609  \n",
       "std                  0.858417                32.888826  \n",
       "min                  0.734503                 0.000000  \n",
       "25%                  1.464155                26.275908  \n",
       "50%                  1.994817                68.920897  \n",
       "75%                  2.692304                88.651062  \n",
       "max                  5.964024                92.804566  "
      ]
     },
     "execution_count": 9,
     "metadata": {},
     "output_type": "execute_result"
    }
   ],
   "source": [
    "data_gold_recovery_train[data_gold_recovery_train['rougher.input.feed_au'] == 0][\n",
    "    ['rougher.input.feed_au', 'rougher.output.concentrate_au', \n",
    "     'rougher.output.tail_au', 'rougher.output.recovery']].describe()"
   ]
  },
  {
   "cell_type": "markdown",
   "metadata": {},
   "source": [
    "Имеем 1213 явных несоответствий признаков `rougher.input.feed_au`, `rougher.output.concentrate_au`, `rougher.output.tail_au` между собой. Признаку `rougher.output.recovery` они так же не соответствуют, потому что при отсутствии металла на входе коэффициент обогащения не может отличаться от нуля.\n",
    "\n",
    "Следует обратить внимание заказчика на такое несоответствие данных. Причина скорее всего в том, что признаки `rougher.input.feed_au`, `rougher.output.concentrate_au`, `rougher.output.tail_au`, с одной стороны, и признак `rougher.output.recovery`, с другой стороны, попадают в производственную базу данных разными путями из разных систем. Где-то произошёл сбой и данные испортились. Также возможно искажение данных при формировании выборок. Следует посоветоваться с заказчиком, что делать с несоответствующими данными и разработать методы проверки всех данных на корректность.\n",
    "\n",
    "А пока будем работать с тем, что есть. Так как признак `rougher.output.recovery` не может быть равен 0, будем считать, что эти строки содержат неверные данные. Так же исключим из расчёта строки, в которых признаки `rougher.output.concentrate_au`, \n",
    "            `rougher.input.feed_au`, `rougher.output.tail_au`, `rougher.output.recovery` отсутствуют."
   ]
  },
  {
   "cell_type": "code",
   "execution_count": 10,
   "metadata": {},
   "outputs": [
    {
     "name": "stdout",
     "output_type": "stream",
     "text": [
      "MAE: 0.00\n"
     ]
    }
   ],
   "source": [
    "def recovery_rougher1(df, c, f, t):\n",
    "    #c = \"rougher.output.concentrate_au\"\n",
    "    #f = \"rougher.input.feed_au\"\n",
    "    #t = \"rougher.output.tail_au\"\n",
    "    return ((df[c] * (df[f] - df[t])) / (df[f] * (df[c] - df[t]))) * 100\n",
    "    \n",
    "data = pd.read_csv('/datasets/gold_recovery_train.csv')\n",
    "data = (data[data[\"rougher.output.recovery\"] != 0])[[\"rougher.output.concentrate_au\", \n",
    "            \"rougher.input.feed_au\", \"rougher.output.tail_au\", \"rougher.output.recovery\"]].dropna()\n",
    "\n",
    "c_recovery = recovery_rougher1(data, \"rougher.output.concentrate_au\", \"rougher.input.feed_au\", \"rougher.output.tail_au\")\n",
    "\n",
    "mae = mean_absolute_error(data[\"rougher.output.recovery\"], c_recovery)\n",
    "print(f\"MAE: {mae:.2f}\")"
   ]
  },
  {
   "cell_type": "markdown",
   "metadata": {},
   "source": [
    "Параметр `recovery` в наборе данных вычислен верно."
   ]
  },
  {
   "cell_type": "markdown",
   "metadata": {},
   "source": [
    "## 1.4. Проанализировать признаки, недоступные в тестовой выборке. \n",
    "Требуется ответить на вопросы:<br/>\n",
    "1.4.1. Что это за параметры? <br/>\n",
    "1.4.2. К какому типу относятся?"
   ]
  },
  {
   "cell_type": "markdown",
   "metadata": {},
   "source": [
    "### 1.4.1. Что это за параметры?\n",
    "Составим список полей, отсутствующих в тестовой выборке."
   ]
  },
  {
   "cell_type": "code",
   "execution_count": 11,
   "metadata": {
    "scrolled": true
   },
   "outputs": [
    {
     "data": {
      "text/plain": [
       "['final.output.concentrate_ag',\n",
       " 'final.output.concentrate_pb',\n",
       " 'final.output.concentrate_sol',\n",
       " 'final.output.concentrate_au',\n",
       " 'final.output.recovery',\n",
       " 'final.output.tail_ag',\n",
       " 'final.output.tail_pb',\n",
       " 'final.output.tail_sol',\n",
       " 'final.output.tail_au',\n",
       " 'primary_cleaner.output.concentrate_ag',\n",
       " 'primary_cleaner.output.concentrate_pb',\n",
       " 'primary_cleaner.output.concentrate_sol',\n",
       " 'primary_cleaner.output.concentrate_au',\n",
       " 'primary_cleaner.output.tail_ag',\n",
       " 'primary_cleaner.output.tail_pb',\n",
       " 'primary_cleaner.output.tail_sol',\n",
       " 'primary_cleaner.output.tail_au',\n",
       " 'rougher.calculation.sulfate_to_au_concentrate',\n",
       " 'rougher.calculation.floatbank10_sulfate_to_au_feed',\n",
       " 'rougher.calculation.floatbank11_sulfate_to_au_feed',\n",
       " 'rougher.calculation.au_pb_ratio',\n",
       " 'rougher.output.concentrate_ag',\n",
       " 'rougher.output.concentrate_pb',\n",
       " 'rougher.output.concentrate_sol',\n",
       " 'rougher.output.concentrate_au',\n",
       " 'rougher.output.recovery',\n",
       " 'rougher.output.tail_ag',\n",
       " 'rougher.output.tail_pb',\n",
       " 'rougher.output.tail_sol',\n",
       " 'rougher.output.tail_au',\n",
       " 'secondary_cleaner.output.tail_ag',\n",
       " 'secondary_cleaner.output.tail_pb',\n",
       " 'secondary_cleaner.output.tail_sol',\n",
       " 'secondary_cleaner.output.tail_au']"
      ]
     },
     "execution_count": 11,
     "metadata": {},
     "output_type": "execute_result"
    }
   ],
   "source": [
    "missing_columns = []\n",
    "\n",
    "for col in data_gold_recovery_full.columns:\n",
    "    if col not in data_gold_recovery_test.columns:\n",
    "        missing_columns.append(col)\n",
    "        \n",
    "missing_columns"
   ]
  },
  {
   "cell_type": "markdown",
   "metadata": {},
   "source": [
    "### 1.4.2. К какому типу относятся?\n",
    "Этого и следовало ожидать - в тестовой выборке отсутствуют все признаки, которые являются вторичными. \n",
    "\n",
    "Что имеется в виду. Технологические параметры можно разбить на две группы:\n",
    "- Первичные - получаются путём прямого измерения параметров технологического процесса с помощью приборов и другим способом их получить нельзя.\n",
    "- Вторичные - вычисляются из первичных или, даже если измеряются, могу быть вычислены из первичных.\n",
    "\n",
    "К первичным признакам относятся такие параметры, как уровень пульпы, расход воздуха, размер гранул, расход ингибиторов и т.п. Ко вторичным признакам относятся параметры концентрации, коэффициенты обогащения, как общие, так и по ступеням. Они и отсутствуют в тестовом датасете.\n",
    "\n",
    "И оно и к лучшему. Как мы убедились, доверять им нельзя.\n",
    "\n",
    "Так как параметры концентрации и коэффициенты обогащения напрямую зависят от первичных параметров, первичных параметров вполне достаточно для построения модели."
   ]
  },
  {
   "cell_type": "markdown",
   "metadata": {},
   "source": [
    "# 2. Анализ данных\n",
    "Теперь следует проанализировать данные.\n",
    "\n",
    "План на раздел:<br/>\n",
    "\n",
    "2.1. Изучить, как меняется концентрация металлов (Au, Ag, Pb) на различных этапах очистки. Описать выводы.<br/>\n",
    "\n",
    "2.2. Сравнить распределения размеров гранул сырья на обучающей и тестовой выборках. **Если распределения сильно отличаются друг от друга, оценка модели будет неправильной**.<br/>\n",
    "\n",
    "2.3. Исследовать суммарную концентрацию всех веществ на разных стадиях: в сырье, в черновом и финальном концентратах. Проверить, есть ли аномальные значения в суммарном распределении. Определить, если они есть, следует ли их удалять из обеих выборок? Описать выводы и удалить аномалии в соответствии с принятыми правилами, если найдутся."
   ]
  },
  {
   "cell_type": "markdown",
   "metadata": {},
   "source": [
    "## 2.1. Изучить концентрацию металлов\n",
    "Изучить, как меняется концентрация металлов (Au, Ag, Pb) на различных этапах очистки, и описать выводы.\n",
    "\n",
    "Следует сделать таблицу - металл - этап - концентрация на разных стадиях и сделать столбчатую диаграмму.\n",
    "\n",
    "Разобьём признаки по категорим - пульпа, концентрат, хвосты - и по установкам - rougher, primary_cleaner, secondary_cleaner - чтобы понять, как группировать признаки.\n",
    "\n",
    "|Установка         |Пульпа на вход        |Концентрат                    |Хвосты                 |\n",
    "|:-----------------|:-------------------- |:-----------------------------|:----------------------|\n",
    "|rougher           |rougher.input.feed_ag |rougher.output.concentrate_ag |rougher.output.tail_ag |\n",
    "|                  |rougher.input.feed_pb |rougher.output.concentrate_pb |rougher.output.tail_pb |\n",
    "|                  |rougher.input.feed_au |rougher.output.concentrate_au |rougher.output.tail_au |\n",
    "|                  |                           |\n",
    "|primary_cleaner   |rougher.output.concentrate_ag |primary_cleaner.output.concentrate_ag |primary_cleaner.output.tail_ag |\n",
    "|                  |rougher.output.concentrate_pb |primary_cleaner.output.concentrate_pb |primary_cleaner.output.tail_pb |\n",
    "|                  |rougher.output.concentrate_au |primary_cleaner.output.concentrate_au |primary_cleaner.output.tail_au |\n",
    "|                  |\n",
    "|secondary_cleaner |primary_cleaner.output.concentrate_ag |final.output.concentrate_ag |secondary_cleaner.output.tail_ag |\n",
    "|                  |primary_cleaner.output.concentrate_ag |final.output.concentrate_pb |secondary_cleaner.output.tail_pb |\n",
    "|                  |primary_cleaner.output.concentrate_ag |final.output.concentrate_au |secondary_cleaner.output.tail_au |"
   ]
  },
  {
   "cell_type": "markdown",
   "metadata": {},
   "source": [
    "Сформируем табличку, содержащую средние значения концентраций в означенных местах. Для этого сделаем функцию. Чтобы проверить функцию, заполним табличку названиями колонок."
   ]
  },
  {
   "cell_type": "code",
   "execution_count": 12,
   "metadata": {
    "scrolled": false
   },
   "outputs": [
    {
     "data": {
      "text/html": [
       "<div>\n",
       "<style scoped>\n",
       "    .dataframe tbody tr th:only-of-type {\n",
       "        vertical-align: middle;\n",
       "    }\n",
       "\n",
       "    .dataframe tbody tr th {\n",
       "        vertical-align: top;\n",
       "    }\n",
       "\n",
       "    .dataframe thead th {\n",
       "        text-align: right;\n",
       "    }\n",
       "</style>\n",
       "<table border=\"1\" class=\"dataframe\">\n",
       "  <thead>\n",
       "    <tr style=\"text-align: right;\">\n",
       "      <th></th>\n",
       "      <th>metal</th>\n",
       "      <th>unit</th>\n",
       "      <th>feed</th>\n",
       "      <th>concentrate</th>\n",
       "      <th>tail</th>\n",
       "    </tr>\n",
       "  </thead>\n",
       "  <tbody>\n",
       "    <tr>\n",
       "      <td>0</td>\n",
       "      <td>ag</td>\n",
       "      <td>rougher</td>\n",
       "      <td>rougher.input.feed_ag</td>\n",
       "      <td>rougher.output.concentrate_ag</td>\n",
       "      <td>rougher.output.tail_ag</td>\n",
       "    </tr>\n",
       "    <tr>\n",
       "      <td>1</td>\n",
       "      <td>ag</td>\n",
       "      <td>primary_cleaner</td>\n",
       "      <td>rougher.output.concentrate_ag</td>\n",
       "      <td>primary_cleaner.output.concentrate_ag</td>\n",
       "      <td>primary_cleaner.output.tail_ag</td>\n",
       "    </tr>\n",
       "    <tr>\n",
       "      <td>2</td>\n",
       "      <td>ag</td>\n",
       "      <td>secondary_cleaner</td>\n",
       "      <td>primary_cleaner.output.concentrate_ag</td>\n",
       "      <td>final.output.concentrate_ag</td>\n",
       "      <td>secondary_cleaner.output.tail_ag</td>\n",
       "    </tr>\n",
       "    <tr>\n",
       "      <td>3</td>\n",
       "      <td>pb</td>\n",
       "      <td>rougher</td>\n",
       "      <td>rougher.input.feed_pb</td>\n",
       "      <td>rougher.output.concentrate_pb</td>\n",
       "      <td>rougher.output.tail_pb</td>\n",
       "    </tr>\n",
       "    <tr>\n",
       "      <td>4</td>\n",
       "      <td>pb</td>\n",
       "      <td>primary_cleaner</td>\n",
       "      <td>rougher.output.concentrate_pb</td>\n",
       "      <td>primary_cleaner.output.concentrate_pb</td>\n",
       "      <td>primary_cleaner.output.tail_pb</td>\n",
       "    </tr>\n",
       "    <tr>\n",
       "      <td>5</td>\n",
       "      <td>pb</td>\n",
       "      <td>secondary_cleaner</td>\n",
       "      <td>primary_cleaner.output.concentrate_pb</td>\n",
       "      <td>final.output.concentrate_pb</td>\n",
       "      <td>secondary_cleaner.output.tail_pb</td>\n",
       "    </tr>\n",
       "    <tr>\n",
       "      <td>6</td>\n",
       "      <td>au</td>\n",
       "      <td>rougher</td>\n",
       "      <td>rougher.input.feed_au</td>\n",
       "      <td>rougher.output.concentrate_au</td>\n",
       "      <td>rougher.output.tail_au</td>\n",
       "    </tr>\n",
       "    <tr>\n",
       "      <td>7</td>\n",
       "      <td>au</td>\n",
       "      <td>primary_cleaner</td>\n",
       "      <td>rougher.output.concentrate_au</td>\n",
       "      <td>primary_cleaner.output.concentrate_au</td>\n",
       "      <td>primary_cleaner.output.tail_au</td>\n",
       "    </tr>\n",
       "    <tr>\n",
       "      <td>8</td>\n",
       "      <td>au</td>\n",
       "      <td>secondary_cleaner</td>\n",
       "      <td>primary_cleaner.output.concentrate_au</td>\n",
       "      <td>final.output.concentrate_au</td>\n",
       "      <td>secondary_cleaner.output.tail_au</td>\n",
       "    </tr>\n",
       "  </tbody>\n",
       "</table>\n",
       "</div>"
      ],
      "text/plain": [
       "  metal               unit                                   feed  \\\n",
       "0    ag            rougher                  rougher.input.feed_ag   \n",
       "1    ag    primary_cleaner          rougher.output.concentrate_ag   \n",
       "2    ag  secondary_cleaner  primary_cleaner.output.concentrate_ag   \n",
       "3    pb            rougher                  rougher.input.feed_pb   \n",
       "4    pb    primary_cleaner          rougher.output.concentrate_pb   \n",
       "5    pb  secondary_cleaner  primary_cleaner.output.concentrate_pb   \n",
       "6    au            rougher                  rougher.input.feed_au   \n",
       "7    au    primary_cleaner          rougher.output.concentrate_au   \n",
       "8    au  secondary_cleaner  primary_cleaner.output.concentrate_au   \n",
       "\n",
       "                             concentrate                              tail  \n",
       "0          rougher.output.concentrate_ag            rougher.output.tail_ag  \n",
       "1  primary_cleaner.output.concentrate_ag    primary_cleaner.output.tail_ag  \n",
       "2            final.output.concentrate_ag  secondary_cleaner.output.tail_ag  \n",
       "3          rougher.output.concentrate_pb            rougher.output.tail_pb  \n",
       "4  primary_cleaner.output.concentrate_pb    primary_cleaner.output.tail_pb  \n",
       "5            final.output.concentrate_pb  secondary_cleaner.output.tail_pb  \n",
       "6          rougher.output.concentrate_au            rougher.output.tail_au  \n",
       "7  primary_cleaner.output.concentrate_au    primary_cleaner.output.tail_au  \n",
       "8            final.output.concentrate_au  secondary_cleaner.output.tail_au  "
      ]
     },
     "execution_count": 12,
     "metadata": {},
     "output_type": "execute_result"
    }
   ],
   "source": [
    "def filling_concentration_table(dataset, metals, units, types, value='names'):\n",
    "    \"\"\"\n",
    "    Creates and fills a table with values of concentration by kind of product and unit\n",
    "        parameters:\n",
    "        - dataset - input dataset to select data from\n",
    "        - metals - list of metal names\n",
    "        - units - list of production unit names\n",
    "        - types - list of product names\n",
    "        - value - type of value to pick up, \"names\" means column names (for testing), \"mean\" means mean value\n",
    "        returns: a dataset\n",
    "    \"\"\"\n",
    "    columns = ['metal', 'unit', 'feed', 'concentrate', 'tail']\n",
    "    features = []\n",
    "\n",
    "    # completing list of features\n",
    "    # for every metal\n",
    "    for metal in metals:\n",
    "        # for every unit\n",
    "        for unit in units:\n",
    "            # create a row and put the metal and unit names\n",
    "            row = []\n",
    "            row.append(metal)\n",
    "            row.append(unit)\n",
    "            \n",
    "            # most interesting - make column name of the dataset for values to be posted in the row \n",
    "            #      feed/concentrate/tail columns\n",
    "            feed_name = ''\n",
    "            concentrate_name = ''\n",
    "            tail_name = ''\n",
    "            for kind in types:\n",
    "                if unit == 'rougher':\n",
    "                    if kind == 'feed':\n",
    "                        feed_name = unit + '.input.feed_' + metal\n",
    "                    elif kind == 'concentrate':\n",
    "                        concentrate_name = unit + '.output.' + kind + '_' + metal\n",
    "                    else:\n",
    "                        tail_name = unit + '.output.' + kind + '_' + metal\n",
    "                elif unit == 'primary_cleaner':\n",
    "                    if kind == 'feed':\n",
    "                        feed_name = 'rougher.output.concentrate_' + metal\n",
    "                    elif kind == 'concentrate':\n",
    "                        concentrate_name = unit + '.output.' + kind + '_' + metal\n",
    "                    else:\n",
    "                        tail_name = unit + '.output.' + kind + '_' + metal\n",
    "                else:\n",
    "                    if kind == 'feed':\n",
    "                        feed_name = 'primary_cleaner.output.concentrate_' + metal\n",
    "                    elif kind == 'concentrate' :\n",
    "                        concentrate_name = 'final.output.concentrate_' + metal\n",
    "                    else:\n",
    "                        tail_name = unit + '.output.' + kind + '_' + metal\n",
    "                        \n",
    "            # fill names\n",
    "            if value == 'names':\n",
    "                row.append(feed_name)\n",
    "                row.append(concentrate_name)\n",
    "                row.append(tail_name)\n",
    "            # fill means\n",
    "            else:\n",
    "                row.append(dataset[feed_name].mean())\n",
    "                row.append(dataset[concentrate_name].mean())\n",
    "                row.append(dataset[tail_name].mean())\n",
    "                \n",
    "            features.append(row)\n",
    "    \n",
    "    features = pd.DataFrame(features)\n",
    "    features.columns = columns\n",
    "    return features\n",
    "    \n",
    "# labels\n",
    "metals = ['ag', 'pb', 'au']\n",
    "units = ['rougher', 'primary_cleaner', 'secondary_cleaner']\n",
    "types = ['feed', 'concentrate', 'tail']\n",
    "\n",
    "# to test the function let's fill with column names\n",
    "filling_concentration_table(data_gold_recovery_full, metals, units, types)"
   ]
  },
  {
   "cell_type": "markdown",
   "metadata": {},
   "source": [
    "Методом прямого сличения истины убедждаемся, что названия признаков стоят там, где надо, значит функция работает.\n",
    "\n",
    "Зарядим теперь её расчитать средние значения концентраций по полному датасету. Исключим строки, где концентрация металла во входной пульпе равна нулю. Как сделали вывод прежде, таким строкам доверять нельзя."
   ]
  },
  {
   "cell_type": "code",
   "execution_count": 13,
   "metadata": {
    "scrolled": true
   },
   "outputs": [
    {
     "data": {
      "text/html": [
       "<div>\n",
       "<style scoped>\n",
       "    .dataframe tbody tr th:only-of-type {\n",
       "        vertical-align: middle;\n",
       "    }\n",
       "\n",
       "    .dataframe tbody tr th {\n",
       "        vertical-align: top;\n",
       "    }\n",
       "\n",
       "    .dataframe thead th {\n",
       "        text-align: right;\n",
       "    }\n",
       "</style>\n",
       "<table border=\"1\" class=\"dataframe\">\n",
       "  <thead>\n",
       "    <tr style=\"text-align: right;\">\n",
       "      <th></th>\n",
       "      <th>metal</th>\n",
       "      <th>unit</th>\n",
       "      <th>feed</th>\n",
       "      <th>concentrate</th>\n",
       "      <th>tail</th>\n",
       "    </tr>\n",
       "  </thead>\n",
       "  <tbody>\n",
       "    <tr>\n",
       "      <td>0</td>\n",
       "      <td>ag</td>\n",
       "      <td>rougher</td>\n",
       "      <td>8.648048</td>\n",
       "      <td>11.633380</td>\n",
       "      <td>5.590071</td>\n",
       "    </tr>\n",
       "    <tr>\n",
       "      <td>1</td>\n",
       "      <td>ag</td>\n",
       "      <td>primary_cleaner</td>\n",
       "      <td>11.633380</td>\n",
       "      <td>8.204262</td>\n",
       "      <td>15.845157</td>\n",
       "    </tr>\n",
       "    <tr>\n",
       "      <td>2</td>\n",
       "      <td>ag</td>\n",
       "      <td>secondary_cleaner</td>\n",
       "      <td>8.204262</td>\n",
       "      <td>5.072346</td>\n",
       "      <td>14.254828</td>\n",
       "    </tr>\n",
       "    <tr>\n",
       "      <td>3</td>\n",
       "      <td>pb</td>\n",
       "      <td>rougher</td>\n",
       "      <td>3.530530</td>\n",
       "      <td>7.388530</td>\n",
       "      <td>0.633333</td>\n",
       "    </tr>\n",
       "    <tr>\n",
       "      <td>4</td>\n",
       "      <td>pb</td>\n",
       "      <td>primary_cleaner</td>\n",
       "      <td>7.388530</td>\n",
       "      <td>9.429633</td>\n",
       "      <td>3.381274</td>\n",
       "    </tr>\n",
       "    <tr>\n",
       "      <td>5</td>\n",
       "      <td>pb</td>\n",
       "      <td>secondary_cleaner</td>\n",
       "      <td>9.429633</td>\n",
       "      <td>9.667326</td>\n",
       "      <td>5.653940</td>\n",
       "    </tr>\n",
       "    <tr>\n",
       "      <td>6</td>\n",
       "      <td>au</td>\n",
       "      <td>rougher</td>\n",
       "      <td>8.114044</td>\n",
       "      <td>19.129225</td>\n",
       "      <td>1.835478</td>\n",
       "    </tr>\n",
       "    <tr>\n",
       "      <td>7</td>\n",
       "      <td>au</td>\n",
       "      <td>primary_cleaner</td>\n",
       "      <td>19.129225</td>\n",
       "      <td>31.142632</td>\n",
       "      <td>3.901125</td>\n",
       "    </tr>\n",
       "    <tr>\n",
       "      <td>8</td>\n",
       "      <td>au</td>\n",
       "      <td>secondary_cleaner</td>\n",
       "      <td>31.142632</td>\n",
       "      <td>42.567739</td>\n",
       "      <td>4.297862</td>\n",
       "    </tr>\n",
       "  </tbody>\n",
       "</table>\n",
       "</div>"
      ],
      "text/plain": [
       "  metal               unit       feed  concentrate       tail\n",
       "0    ag            rougher   8.648048    11.633380   5.590071\n",
       "1    ag    primary_cleaner  11.633380     8.204262  15.845157\n",
       "2    ag  secondary_cleaner   8.204262     5.072346  14.254828\n",
       "3    pb            rougher   3.530530     7.388530   0.633333\n",
       "4    pb    primary_cleaner   7.388530     9.429633   3.381274\n",
       "5    pb  secondary_cleaner   9.429633     9.667326   5.653940\n",
       "6    au            rougher   8.114044    19.129225   1.835478\n",
       "7    au    primary_cleaner  19.129225    31.142632   3.901125\n",
       "8    au  secondary_cleaner  31.142632    42.567739   4.297862"
      ]
     },
     "execution_count": 13,
     "metadata": {},
     "output_type": "execute_result"
    }
   ],
   "source": [
    "concentration_mean = filling_concentration_table(\n",
    "    data_gold_recovery_full[(data_gold_recovery_full['rougher.input.feed_ag'] != 0) &\n",
    "                           (data_gold_recovery_full['rougher.input.feed_pb'] != 0) &\n",
    "                           (data_gold_recovery_full['rougher.input.feed_au'] != 0)], \n",
    "    metals, units, types, 'mean')\n",
    "concentration_mean"
   ]
  },
  {
   "cell_type": "markdown",
   "metadata": {},
   "source": [
    "Изобразим полученные данные на столбчатой диаграмме, по диаграмме для каждого металла."
   ]
  },
  {
   "cell_type": "code",
   "execution_count": 14,
   "metadata": {},
   "outputs": [
    {
     "data": {
      "image/png": "[encoded data removed]",
      "text/plain": [
       "<Figure size 540x432 with 3 Axes>"
      ]
     },
     "metadata": {
      "needs_background": "light"
     },
     "output_type": "display_data"
    }
   ],
   "source": [
    "def plot_concentrations(concentration_dataset, ax, units, types):\n",
    "    \"\"\"\n",
    "    Plots metal concentration bar chart by units and type of raw material\n",
    "        parameters:\n",
    "        - concentration_dataset - input dataset\n",
    "        - ax - axe object to draw in\n",
    "        - units - production unit list\n",
    "        - types - kind of product list\n",
    "        returns: axe object\n",
    "    \"\"\"\n",
    "    x = np.arange(len(units))  # the label locations\n",
    "    width = 0.1\n",
    "    bar_offset = (len(units) / 2 - len(units)) * width  # the width of the bars\n",
    "\n",
    "    rects = []\n",
    "    for kind in types:\n",
    "        rects.append(ax.bar(x + bar_offset, concentration_dataset[kind], width, label=kind))\n",
    "        bar_offset += width\n",
    "\n",
    "    # Add some text for labels, title and custom x-axis tick labels, etc.\n",
    "    ax.set_ylabel('Concentration')\n",
    "    ax.set_xticks(x)\n",
    "    ax.set_xticklabels(units)\n",
    "    ax.legend(loc=\"center right\", bbox_to_anchor=(1.5, 0.5))\n",
    "    \n",
    "    return ax\n",
    "\n",
    "fig, ax = plt.subplots(3, 1, figsize=(7.5, 6), sharey=True)\n",
    "plot_concentrations(concentration_mean[concentration_mean['metal'] == 'ag'], ax[0], units, types)\n",
    "ax[0].set_title('Concentration by Ag')\n",
    "plot_concentrations(concentration_mean[concentration_mean['metal'] == 'pb'], ax[1], units, types)\n",
    "ax[1].set_title('Concentration by Pb')\n",
    "plot_concentrations(concentration_mean[concentration_mean['metal'] == 'ag'], ax[2], units, types)\n",
    "ax[2].set_title('Concentration by Au')\n",
    "\n",
    "fig.tight_layout()\n",
    "fig.show()"
   ]
  },
  {
   "cell_type": "markdown",
   "metadata": {},
   "source": [
    "Диаграмма демонстриует странную картину. Следовало бы ожидать, что концентрация в концентрате должна повышаться от ступени к ступени, а концентрация в хвостах - понижаться. У нас же обратная картина. Если истолковать её в производственных ьерминах, то получается, что обогатительная фабрика обедняет сырьё и сваливает основной продукт в хвосты.\n",
    "\n",
    "Более-менее похожей на правду выглядит только картина для свинца. Но и здесь концентрация металла в хвостах растёт, что противоречит природе процесса.\n",
    "\n",
    "В то же время показатели концентрации и эффективности обогащения являются основными производственными показателями. Фабрики бьются за повышение эффективности на доли процента, это сулит премии, повышения по службе и прочие приятности. А здесь такое.\n",
    "\n",
    "Остаётся сделать окончательный вывод, что настоящие показатели концентрации присутствуют где-то в других системах, а те, что попали к нам, являются недостоверными и обучать модель по ним нельзя."
   ]
  },
  {
   "cell_type": "markdown",
   "metadata": {},
   "source": [
    "Теперь посмотрим на это с другой стороны."
   ]
  },
  {
   "cell_type": "code",
   "execution_count": 15,
   "metadata": {},
   "outputs": [
    {
     "data": {
      "image/png": "[encoded data removed]",
      "text/plain": [
       "<Figure size 864x756 with 3 Axes>"
      ]
     },
     "metadata": {
      "needs_background": "light"
     },
     "output_type": "display_data"
    }
   ],
   "source": [
    "fig, ax = plt.subplots(3, 1, figsize=(12, 10.5))\n",
    "ax[0].set_title('Ag Concentrate')\n",
    "ax[0].hist(data_gold_recovery_full['rougher.input.feed_ag'], density=True, bins=100, label='rougher.input.feed_ag')\n",
    "ax[0].hist(data_gold_recovery_full['rougher.output.concentrate_ag'], density=True, bins=100, label='rougher.output.concentrate_ag')\n",
    "ax[0].hist(data_gold_recovery_full['primary_cleaner.output.concentrate_ag'], density=True, bins=100, label='primary_cleaner.output.concentrate_ag')\n",
    "ax[0].hist(data_gold_recovery_full['final.output.concentrate_ag'], density=True, bins=100, label='final.output.concentrate_ag')\n",
    "ax[0].set_ylabel('Density')\n",
    "ax[0].set_xlabel('Concentration')\n",
    "ax[0].legend()\n",
    "ax[0].grid(True)\n",
    "\n",
    "ax[1].set_title('Pb  Concentrate')\n",
    "ax[1].hist(data_gold_recovery_full['rougher.input.feed_pb'], density=True, bins=100, label='rougher.input.feed_pb')\n",
    "ax[1].hist(data_gold_recovery_full['rougher.output.concentrate_pb'], density=True, bins=100, label='rougher.output.concentrate_pb')\n",
    "ax[1].hist(data_gold_recovery_full['primary_cleaner.output.concentrate_pb'], density=True, bins=100, label='primary_cleaner.output.concentrate_pb')\n",
    "ax[1].hist(data_gold_recovery_full['final.output.concentrate_pb'], density=True, bins=100, label='final.output.concentrate_pb')\n",
    "ax[1].set_ylabel('Density')\n",
    "ax[1].set_xlabel('Concentration')\n",
    "ax[1].legend()\n",
    "ax[1].grid(True)\n",
    "\n",
    "ax[2].set_title('Au  Concentrate')\n",
    "ax[2].hist(data_gold_recovery_full['rougher.input.feed_au'], density=True, bins=100, label='rougher.input.feed_au')\n",
    "ax[2].hist(data_gold_recovery_full['rougher.output.concentrate_au'], density=True, bins=100, label='rougher.output.concentrate_au')\n",
    "ax[2].hist(data_gold_recovery_full['primary_cleaner.output.concentrate_au'], density=True, bins=100, label='primary_cleaner.output.concentrate_au')\n",
    "ax[2].hist(data_gold_recovery_full['final.output.concentrate_au'], density=True, bins=100, label='final.output.concentrate_au')\n",
    "ax[2].set_ylabel('Density')\n",
    "ax[2].set_xlabel('Concentration')\n",
    "ax[2].legend()\n",
    "ax[2].grid(True)\n",
    "\n",
    "fig.tight_layout()\n",
    "fig.show()"
   ]
  },
  {
   "cell_type": "markdown",
   "metadata": {},
   "source": [
    "Так получилось нагляднее. По золоту плотности по оси распределены правильно, Чем выше стадия - тем выше концентрация. По свинцу финал практически совпал с с выходом первой очистки. То есть вторая ступень тонкой очистки на свинце не работает. А по серебру полная каша. Выход хуже, чем всё остальное.\n",
    "\n",
    "Для полноты картины проверим ещё хвосты и добавим к ним опять же данные по питающей пульпе."
   ]
  },
  {
   "cell_type": "code",
   "execution_count": 16,
   "metadata": {
    "scrolled": false
   },
   "outputs": [
    {
     "data": {
      "image/png": "[encoded data removed]",
      "text/plain": [
       "<Figure size 864x756 with 3 Axes>"
      ]
     },
     "metadata": {
      "needs_background": "light"
     },
     "output_type": "display_data"
    }
   ],
   "source": [
    "fig, ax = plt.subplots(3, 1, figsize=(12, 10.5))\n",
    "ax[0].set_title('Ag Tail')\n",
    "ax[0].hist(data_gold_recovery_full['rougher.input.feed_ag'], density=True, bins=100, label='rougher.input.feed_ag')\n",
    "ax[0].hist(data_gold_recovery_full['rougher.output.tail_ag'], density=True, bins=100, label='rougher.output.tail_ag')\n",
    "ax[0].hist(data_gold_recovery_full['primary_cleaner.output.tail_ag'], density=True, bins=100, label='primary_cleaner.output.tail_ag')\n",
    "ax[0].hist(data_gold_recovery_full['final.output.tail_ag'], density=True, bins=100, label='final.output.tail_ag')\n",
    "ax[0].set_ylabel('Density')\n",
    "ax[0].set_xlabel('Concentration')\n",
    "ax[0].legend()\n",
    "ax[0].grid(True)\n",
    "\n",
    "ax[1].set_title('Pb Tail')\n",
    "ax[1].hist(data_gold_recovery_full['rougher.input.feed_pb'], density=True, bins=100, label='rougher.input.feed_pb')\n",
    "ax[1].hist(data_gold_recovery_full['rougher.output.tail_pb'], density=True, bins=100, label='rougher.output.tail_pb')\n",
    "ax[1].hist(data_gold_recovery_full['primary_cleaner.output.tail_pb'], density=True, bins=100, label='primary_cleaner.output.tail_pb')\n",
    "ax[1].hist(data_gold_recovery_full['final.output.tail_pb'], density=True, bins=100, label='final.output.tail_pb')\n",
    "ax[1].set_ylabel('Density')\n",
    "ax[1].set_xlabel('Concentration')\n",
    "ax[1].legend()\n",
    "ax[1].grid(True)\n",
    "\n",
    "ax[2].set_title('Au Tail')\n",
    "ax[2].hist(data_gold_recovery_full['rougher.input.feed_au'], density=True, bins=100, label='rougher.input.feed_au')\n",
    "ax[2].hist(data_gold_recovery_full['rougher.output.tail_au'], density=True, bins=100, label='rougher.output.tail_au')\n",
    "ax[2].hist(data_gold_recovery_full['primary_cleaner.output.tail_au'], density=True, bins=100, label='primary_cleaner.output.tail_au')\n",
    "ax[2].hist(data_gold_recovery_full['final.output.tail_au'], density=True, bins=100, label='final.output.taile_au')\n",
    "ax[2].set_ylabel('Density')\n",
    "ax[2].set_xlabel('Concentration')\n",
    "ax[2].legend()\n",
    "ax[2].grid(True)\n",
    "\n",
    "fig.tight_layout()\n",
    "fig.show()"
   ]
  },
  {
   "cell_type": "markdown",
   "metadata": {},
   "source": [
    "И здесь аналогичная картина. По золоту хвосты распределены левее питающей пульпы и это правильно. На свинце вторая ступень не работает. А серебро откровенно в хвосты утекает.\n",
    "\n",
    "Впрочем, если учесть, что линия предназначена для обогащения золота и с основной задачей справляется, то это, возможно, приемлемо."
   ]
  },
  {
   "cell_type": "markdown",
   "metadata": {},
   "source": [
    "## 2.2. Сравнить распределения размеров гранул сырья \n",
    "Следует сравнить распределения размеров гранул сырья на обучающей и тестовой выборках. Это важно, потому что если распределения сильно отличаются друг от друга, оценка модели будет неправильной.\n",
    "\n",
    "Для оценки распределения построим гистограмму по всем трём наборам данных."
   ]
  },
  {
   "cell_type": "code",
   "execution_count": 17,
   "metadata": {},
   "outputs": [
    {
     "data": {
      "image/png": "[encoded data removed]",
      "text/plain": [
       "<Figure size 1080x360 with 3 Axes>"
      ]
     },
     "metadata": {
      "needs_background": "light"
     },
     "output_type": "display_data"
    }
   ],
   "source": [
    "def plot_density(serie, axe, xlabel=None, title=None, kde=False):\n",
    "    \"\"\"\n",
    "    Plots density histogram\n",
    "        parameters:\n",
    "        - serie - input data\n",
    "        - axe - axe object to draw in\n",
    "        returns: axe object\n",
    "    \"\"\"\n",
    "    axe.hist(serie, density=True, bins=40)\n",
    "    \n",
    "    if xlabel != None:\n",
    "        axe.set_xlabel(xlabel)\n",
    "    if title != None:\n",
    "        axe.set_title(title)\n",
    "\n",
    "    if kde == True:\n",
    "        density = gaussian_kde(serie)\n",
    "        axe.plot(serie, density(serie), label='KDE')\n",
    "        \n",
    "    axe.axvline(x=serie.mean(), color='r', label='mean')\n",
    "    axe.grid(True)\n",
    "    axe.legend()\n",
    "\n",
    "    axe.set_ylabel('probability')\n",
    "\n",
    "    return axe\n",
    "\n",
    "fig, axes = plt.subplots(1, 3, figsize=(15, 5), sharey=True)\n",
    "plot_density(data_gold_recovery_train['rougher.input.feed_size'], axes[0], 'feed_size', 'Train sample')\n",
    "plot_density(data_gold_recovery_test['rougher.input.feed_size'], axes[1], 'feed_size', 'Test sample')\n",
    "plot_density(data_gold_recovery_full['rougher.input.feed_size'], axes[2], 'feed_size', 'Full sample')\n",
    "\n",
    "fig.show()"
   ]
  },
  {
   "cell_type": "markdown",
   "metadata": {},
   "source": [
    "Нельзя утверждать, что все три набора данных сильно отличаются по размеру частиц друг от друга. Посмотрим на цифры."
   ]
  },
  {
   "cell_type": "code",
   "execution_count": 18,
   "metadata": {},
   "outputs": [
    {
     "data": {
      "text/html": [
       "<div>\n",
       "<style scoped>\n",
       "    .dataframe tbody tr th:only-of-type {\n",
       "        vertical-align: middle;\n",
       "    }\n",
       "\n",
       "    .dataframe tbody tr th {\n",
       "        vertical-align: top;\n",
       "    }\n",
       "\n",
       "    .dataframe thead th {\n",
       "        text-align: right;\n",
       "    }\n",
       "</style>\n",
       "<table border=\"1\" class=\"dataframe\">\n",
       "  <thead>\n",
       "    <tr style=\"text-align: right;\">\n",
       "      <th></th>\n",
       "      <th>full</th>\n",
       "      <th>train</th>\n",
       "      <th>test</th>\n",
       "    </tr>\n",
       "  </thead>\n",
       "  <tbody>\n",
       "    <tr>\n",
       "      <td>count</td>\n",
       "      <td>22716.000000</td>\n",
       "      <td>16860.000000</td>\n",
       "      <td>5856.000000</td>\n",
       "    </tr>\n",
       "    <tr>\n",
       "      <td>mean</td>\n",
       "      <td>59.082738</td>\n",
       "      <td>60.188595</td>\n",
       "      <td>55.898866</td>\n",
       "    </tr>\n",
       "    <tr>\n",
       "      <td>std</td>\n",
       "      <td>28.772748</td>\n",
       "      <td>30.522242</td>\n",
       "      <td>22.707969</td>\n",
       "    </tr>\n",
       "    <tr>\n",
       "      <td>min</td>\n",
       "      <td>0.046369</td>\n",
       "      <td>9.659576</td>\n",
       "      <td>0.046369</td>\n",
       "    </tr>\n",
       "    <tr>\n",
       "      <td>25%</td>\n",
       "      <td>46.671231</td>\n",
       "      <td>47.548897</td>\n",
       "      <td>43.852884</td>\n",
       "    </tr>\n",
       "    <tr>\n",
       "      <td>50%</td>\n",
       "      <td>53.356894</td>\n",
       "      <td>54.066003</td>\n",
       "      <td>49.964796</td>\n",
       "    </tr>\n",
       "    <tr>\n",
       "      <td>75%</td>\n",
       "      <td>64.315771</td>\n",
       "      <td>65.397249</td>\n",
       "      <td>61.628003</td>\n",
       "    </tr>\n",
       "    <tr>\n",
       "      <td>max</td>\n",
       "      <td>484.967466</td>\n",
       "      <td>484.967466</td>\n",
       "      <td>477.445473</td>\n",
       "    </tr>\n",
       "  </tbody>\n",
       "</table>\n",
       "</div>"
      ],
      "text/plain": [
       "               full         train         test\n",
       "count  22716.000000  16860.000000  5856.000000\n",
       "mean      59.082738     60.188595    55.898866\n",
       "std       28.772748     30.522242    22.707969\n",
       "min        0.046369      9.659576     0.046369\n",
       "25%       46.671231     47.548897    43.852884\n",
       "50%       53.356894     54.066003    49.964796\n",
       "75%       64.315771     65.397249    61.628003\n",
       "max      484.967466    484.967466   477.445473"
      ]
     },
     "execution_count": 18,
     "metadata": {},
     "output_type": "execute_result"
    }
   ],
   "source": [
    "merged_size = pd.DataFrame(data_gold_recovery_full['rougher.input.feed_size'])\n",
    "#merged_size.merge(data_gold_recovery_full['rougher.input.feed_size'])\n",
    "merged_size = merged_size.merge(data_gold_recovery_train['rougher.input.feed_size'], how='outer', \n",
    "                                right_index=True, left_index=True)\n",
    "merged_size = merged_size.merge(data_gold_recovery_test['rougher.input.feed_size'], how='outer', \n",
    "                                right_index=True, left_index=True)\n",
    "merged_size.columns = ['full', 'train', 'test']\n",
    "merged_size.describe()"
   ]
  },
  {
   "cell_type": "markdown",
   "metadata": {},
   "source": [
    "По цифрам выборки сильно не различаются. Модель будет работать."
   ]
  },
  {
   "cell_type": "markdown",
   "metadata": {},
   "source": [
    "## 2.3. Исследовать суммарную концентрацию всех веществ \n",
    "Исследовать суммарную концентрацию всех веществ на разных стадиях: в сырье, в черновом и финальном концентратах. Проверить, есть ли аномальные значения в суммарном распределении. Определить, если они есть, следует ли их удалять из обеих выборок? Описать выводы и удалить аномалии в соответствии с принятыми правилами, если найдутся."
   ]
  },
  {
   "cell_type": "markdown",
   "metadata": {},
   "source": [
    "Для исследования распределения снова воспользуемся гистограммой. У нас есть замечательная функция для этого."
   ]
  },
  {
   "cell_type": "code",
   "execution_count": 19,
   "metadata": {},
   "outputs": [
    {
     "data": {
      "image/png": "[encoded data removed]",
      "text/plain": [
       "<Figure size 1080x360 with 3 Axes>"
      ]
     },
     "metadata": {
      "needs_background": "light"
     },
     "output_type": "display_data"
    }
   ],
   "source": [
    "fig, axes = plt.subplots(1, 3, figsize=(15, 5), sharey=True)\n",
    "\n",
    "plot_density(data_gold_recovery_full['rougher.input.feed_ag'] + data_gold_recovery_full['rougher.input.feed_pb']\n",
    "             + data_gold_recovery_full['rougher.input.feed_sol'] + data_gold_recovery_full['rougher.input.feed_au'], \n",
    "             axes[0], 'summary concentration', 'rougher.input')\n",
    "\n",
    "plot_density(data_gold_recovery_full['rougher.output.concentrate_ag'] \n",
    "             + data_gold_recovery_full['rougher.output.concentrate_pb']\n",
    "             + data_gold_recovery_full['rougher.output.concentrate_sol'] \n",
    "             + data_gold_recovery_full['rougher.output.concentrate_au'], \n",
    "             axes[1], 'summary concentration', 'rougher.output')\n",
    "\n",
    "plot_density(data_gold_recovery_full['final.output.concentrate_ag'] \n",
    "             + data_gold_recovery_full['final.output.concentrate_pb']\n",
    "             + data_gold_recovery_full['final.output.concentrate_sol'] \n",
    "             + data_gold_recovery_full['final.output.concentrate_au'], \n",
    "             axes[2], 'summary concentration', 'final.output')\n",
    "\n",
    "fig.show()"
   ]
  },
  {
   "cell_type": "markdown",
   "metadata": {},
   "source": [
    "Что видим - видим чётко различимый выброс в районе нуля. Посмотрим по продуктам отдельно."
   ]
  },
  {
   "cell_type": "code",
   "execution_count": 20,
   "metadata": {},
   "outputs": [
    {
     "data": {
      "image/png": "[encoded data removed]",
      "text/plain": [
       "<Figure size 1080x720 with 12 Axes>"
      ]
     },
     "metadata": {
      "needs_background": "light"
     },
     "output_type": "display_data"
    }
   ],
   "source": [
    "fig, axes = plt.subplots(3, 4, figsize=(15, 10), sharey=True)\n",
    "\n",
    "# plotting rougher.input\n",
    "plot_density(data_gold_recovery_full['rougher.input.feed_ag'], axes[0, 0], None, 'rougher.input')\n",
    "plot_density(data_gold_recovery_full['rougher.input.feed_pb'], axes[0, 1], None, 'rougher.input')\n",
    "plot_density(data_gold_recovery_full['rougher.input.feed_sol'], axes[0, 2], None, 'rougher.input')\n",
    "plot_density(data_gold_recovery_full['rougher.input.feed_au'], axes[0, 3], None, 'rougher.input')\n",
    "\n",
    "# plotting rougher.output\n",
    "plot_density(data_gold_recovery_full['rougher.output.concentrate_ag'], axes[1, 0], None, 'rougher.output')\n",
    "plot_density(data_gold_recovery_full['rougher.output.concentrate_pb'], axes[1, 1], None, 'rougher.output')\n",
    "plot_density(data_gold_recovery_full['rougher.output.concentrate_sol'], axes[1, 2], None, 'rougher.output')\n",
    "plot_density(data_gold_recovery_full['rougher.output.concentrate_au'], axes[1, 3], None, 'rougher.output')\n",
    "\n",
    "# plotting final.output\n",
    "plot_density(data_gold_recovery_full['final.output.concentrate_ag'], axes[2, 0], 'Ag concentration', 'final.output')\n",
    "plot_density(data_gold_recovery_full['final.output.concentrate_pb'], axes[2, 1], 'Pb concentration', 'final.output')\n",
    "plot_density(data_gold_recovery_full['final.output.concentrate_sol'], axes[2, 2], 'Sol concentration', 'final.output')\n",
    "plot_density(data_gold_recovery_full['final.output.concentrate_au'], axes[2, 3], 'Au concentration', 'final.output')\n",
    "\n",
    "fig.show()"
   ]
  },
  {
   "cell_type": "markdown",
   "metadata": {},
   "source": [
    "Так и есть. Выбросы присутствуют во всех продуктах. Это подтверждает прежний вывод о том, что данные о концентрации испорчены и пользоваться ими нельзя. Мы и не будем. Обучим модель на первичных технологических параметрах.\n",
    "\n",
    "Поэтому с выбросами концентрации делать ничего не станем. Отправим картинку заказчику, пусть думает."
   ]
  },
  {
   "cell_type": "markdown",
   "metadata": {},
   "source": [
    "# 3. Модель\n",
    "Пришло время построить модель.\n",
    "\n",
    "План работы, добавим в него ещё один пункт:<br/>\n",
    "3.1. Написать функцию для вычисления итоговой sMAPE.<br/>\n",
    "3.2. Отобрать признаки и таргеты для обучения.<br/>\n",
    "3.3. Обучить разные модели и оценить их качество кросс-валидацией.<br/>\n",
    "3.4. Выбрать лучшую модель и проверить её на тестовой выборке.<br/>\n",
    "3.5. Описать выводы.<br/>"
   ]
  },
  {
   "cell_type": "markdown",
   "metadata": {},
   "source": [
    "## 3.1. Написать функцию для вычисления итоговой sMAPE\n",
    "Здесь всё просто."
   ]
  },
  {
   "cell_type": "code",
   "execution_count": 21,
   "metadata": {},
   "outputs": [
    {
     "name": "stdout",
     "output_type": "stream",
     "text": [
      "Compiling sMAPE - OK\n"
     ]
    }
   ],
   "source": [
    "def sMAPE(target, predict):\n",
    "    \"\"\"\n",
    "    Calculates sMAPE (Simmetric Mean Absolute Percentage Error)\n",
    "        parameters:\n",
    "        - target - np.array like target sample\n",
    "        - predict - np.array like predict sample\n",
    "        returns: sMAPE value\n",
    "    \"\"\"\n",
    "    return (np.absolute(target - predict) / ((np.absolute(target) + np.absolute(predict)) / 2) * 100).mean()\n",
    "    \n",
    "print('Compiling sMAPE - OK')"
   ]
  },
  {
   "cell_type": "markdown",
   "metadata": {},
   "source": [
    "Функция готова. Проверим."
   ]
  },
  {
   "cell_type": "code",
   "execution_count": 22,
   "metadata": {},
   "outputs": [
    {
     "name": "stdout",
     "output_type": "stream",
     "text": [
      "sMAPE = 15.47%\n"
     ]
    }
   ],
   "source": [
    "# testing sMAPE\n",
    "print('sMAPE = {:.2f}%'.format(\n",
    "    sMAPE(pd.Series(data_gold_recovery_full['rougher.output.recovery'].mean(), \n",
    "                        index=data_gold_recovery_full.index), \n",
    "            data_gold_recovery_full['rougher.output.recovery'])))"
   ]
  },
  {
   "cell_type": "markdown",
   "metadata": {},
   "source": [
    "Выглядит неплохо."
   ]
  },
  {
   "cell_type": "markdown",
   "metadata": {},
   "source": [
    "## 3.2. Отобрать признаки и таргеты\n",
    "Что следует сделать:<br/>\n",
    "3.2.1. Определить целевые признаки<br/>\n",
    "3.2.2. Определить обучающие признаки<br/>\n",
    "3.2.3. Определить структуру модели<br/>\n",
    "### 3.2.1. Целевые признаки\n",
    "\n",
    "Что выбрать в качестве цели? Постановка задачи гласит - сделать прототип модели, предсказывающей эффективность обогащения. Следовательно, в качестве цели следует выбрать признак recovery. Постановке задачи также сказано, что надо определить два параметра recovery: для стадии грубой очистки и для финального концентрата, чтобы вычислить суммарную sMAPE. То есть, целевыми признаками должны являться параметры `rougher.output.recovery` и `final.output.recovery`.\n",
    "### 3.2.2. Обучающие признаки\n",
    "Гораздо сложнее вопрос о том, какие признаки отобрать в обучение.\n",
    "\n",
    "Если вернуться к физической природе процесса обогащения, то флотационную машину можно представить (или всю цепочку обогащения) можно представить в виде чёрного ящика, который к входной концентрации полезного материала применяет два коэффициента:\n",
    "- Повышающий (пусть будет k_concentrate), который переводит концентрацию полезного продукта на входе в концентрацию в концентрате,\n",
    "- Понижающий (k_tail), который переводит концентрацию полезного продукта на входе в концентрацию в хвостах.\n",
    "\n",
    "Искомый коэффициент recovery зависит от них обоих.\n",
    "\n",
    "В этом случае показатели концентрации будуи связаны между собой формулами:\n",
    "- C = k_concentrate * F\n",
    "- T = k_tail * F\n",
    "\n",
    "Параметр recovery можно выразить через эти зависимости следующим образом:\n",
    "\n",
    "recovery = k_concentrate * F * (F - k_tail * F) / (F * (k_concentrate * F - k_tail * F)) * 100 =<br/>\n",
    "    (k_concentrate * F2 - k_concentrate * k_tail * F2) / (F2 * k_concentrate - F2 * k_tail) * 100 =<br/>\n",
    "    (k_concentrate - k_concentrate * k_tail) / (k_concentrate - k_tail) * 100\n",
    "    \n",
    "И мы приходим к следующей формуле:\n",
    "\n",
    "**recovery = (k_concentrate - k_concentrate * k_tail) / (k_concentrate - k_tail) * 100**\n",
    "\n",
    "Что позволяет нам исключить параметры концентрации из числа обучающих признаков модели.\n",
    "\n",
    "От чего зависят коэффициенты **k_concentrate** и **k_tail**?\n",
    "\n",
    "Очевидно, что они зависят от конструктивных особенностей установок очистки, от параметров технологического процесса, от размеров частиц полезных металлов (тяжёлые легче уходят в концентрат, лёгкие легче утекают в хвосты), от интенсивности подачи пульпы и от объёмов подачи ингибиторов, влияющих на пенообразование. Ибо флотатор это как большая стиральная машина, всё бурлит и много пены.\n",
    "\n",
    "Набор технологических параметров для стадии грубой очистки `rougher` будет следующим:\n",
    "- `rougher.input.feed_rate`\n",
    "- `rougher.input.feed_size`\n",
    "- `rougher.input.floatbank10_sulfate` \n",
    "- `rougher.input.floatbank10_xanthate` \n",
    "- `rougher.input.floatbank11_sulfate` \n",
    "- `rougher.input.floatbank11_xanthate` \n",
    "- `rougher.state.floatbank10_a_air`  \n",
    "- `rougher.state.floatbank10_a_level` \n",
    "- `rougher.state.floatbank10_b_air`  \n",
    "- `rougher.state.floatbank10_b_level` \n",
    "- `rougher.state.floatbank10_c_air`  \n",
    "- `rougher.state.floatbank10_c_level`\n",
    "- `rougher.state.floatbank10_d_air`  \n",
    "- `rougher.state.floatbank10_d_level` \n",
    "- `rougher.state.floatbank10_e_air` \n",
    "- `rougher.state.floatbank10_e_level` \n",
    "- `rougher.state.floatbank10_f_air`  \n",
    "- `rougher.state.floatbank10_f_level`\n",
    "\n",
    "Набор технологических параметров для ступеней `primary_cleaner` + `secondary_cleaner` будет следующим:\n",
    "- `rougher.input.feed_rate` - действует на всю технолошическую цепочку\n",
    "- `rougher.input.feed_size` - действует на всю технолошическую цепочку\n",
    "- `primary_cleaner.input.sulfate`\n",
    "- `primary_cleaner.input.depressant`\n",
    "- `primary_cleaner.input.feed_size`\n",
    "- `primary_cleaner.input.xanthate`\n",
    "- `primary_cleaner.state.floatbank8_a_air`\n",
    "- `primary_cleaner.state.floatbank8_a_level`\n",
    "- `primary_cleaner.state.floatbank8_b_air`\n",
    "- `primary_cleaner.state.floatbank8_b_level`\n",
    "- `primary_cleaner.state.floatbank8_c_air`\n",
    "- `primary_cleaner.state.floatbank8_c_level`\n",
    "- `primary_cleaner.state.floatbank8_d_air`\n",
    "- `primary_cleaner.state.floatbank8_d_level`\n",
    "- `secondary_cleaner.state.floatbank2_a_air`\n",
    "- `secondary_cleaner.state.floatbank2_a_level`\n",
    "- `secondary_cleaner.state.floatbank2_b_air`\n",
    "- `secondary_cleaner.state.floatbank2_b_level`\n",
    "- `secondary_cleaner.state.floatbank3_a_air`\n",
    "- `secondary_cleaner.state.floatbank3_a_level`\n",
    "- `secondary_cleaner.state.floatbank3_b_air`\n",
    "- `secondary_cleaner.state.floatbank3_b_level`\n",
    "- `secondary_cleaner.state.floatbank4_a_air`\n",
    "- `secondary_cleaner.state.floatbank4_a_level`\n",
    "- `secondary_cleaner.state.floatbank4_b_air`\n",
    "- `secondary_cleaner.state.floatbank4_b_level`\n",
    "- `secondary_cleaner.state.floatbank5_a_air`\n",
    "- `secondary_cleaner.state.floatbank5_a_level`\n",
    "- `secondary_cleaner.state.floatbank5_b_air`\n",
    "- `secondary_cleaner.state.floatbank5_b_level`\n",
    "- `secondary_cleaner.state.floatbank6_a_air`\n",
    "- `secondary_cleaner.state.floatbank6_a_level`"
   ]
  },
  {
   "cell_type": "markdown",
   "metadata": {},
   "source": [
    "### 3.2.3. Структура модели\n",
    "\n",
    "Так как следует предсказать два признака, нам потребуется 2 модели. Можно было бы и одну модель обучить на два признака, но это будет менее точно. Оптимизировать будем обе модели в паре по суммарному **sMAPE**."
   ]
  },
  {
   "cell_type": "markdown",
   "metadata": {},
   "source": [
    "## 3.3. Обучить разные модели\n",
    "Обучить разные модели и оценить их качество кросс-валидацией.\n",
    "\n",
    "Попробуем разные типы моделей:\n",
    "- Решающее дерево\n",
    "- Случайный лес\n",
    "- Линейная регрессия\n",
    "\n",
    "Перед этим надо подготовить наборы признаков и таргетов. \n",
    "\n",
    "План работы над разделом такой:<br/>\n",
    "3.3.1. Подготовить наборы данных<br/>\n",
    "3.3.2. Выбрать лучшую пару решающих деревьев<br/>\n",
    "3.3.3. Выбрать лучшую пару случайных лесов<br/>\n",
    "3.3.4. Выбрать лучшую пару линейных регрессий<br/>\n",
    "3.3.5. Выбрать лучшую пару для тестирования.\n",
    "\n",
    "Выбор лучшей пары моделей будем осуществлять кроссвалидацией по наименьшему значению суммарной **sMAPE**."
   ]
  },
  {
   "cell_type": "markdown",
   "metadata": {},
   "source": [
    "### 3.3.1. Подготовка наборов данных\n",
    "Признаков много, удобно оперировать списками имён."
   ]
  },
  {
   "cell_type": "code",
   "execution_count": 23,
   "metadata": {},
   "outputs": [
    {
     "name": "stdout",
     "output_type": "stream",
     "text": [
      "Compiling names - OK\n"
     ]
    }
   ],
   "source": [
    "# rougher feature and target names\n",
    "rougher_feature_names  = [\n",
    "    'rougher.input.feed_rate',\n",
    "    'rougher.input.feed_size',\n",
    "    'rougher.input.floatbank10_sulfate', \n",
    "    'rougher.input.floatbank10_xanthate', \n",
    "    'rougher.input.floatbank11_sulfate', \n",
    "    'rougher.input.floatbank11_xanthate',\n",
    "    'rougher.state.floatbank10_a_air',\n",
    "    'rougher.state.floatbank10_a_level',\n",
    "    'rougher.state.floatbank10_b_air',\n",
    "    'rougher.state.floatbank10_b_level',\n",
    "    'rougher.state.floatbank10_c_air',\n",
    "    'rougher.state.floatbank10_c_level',\n",
    "    'rougher.state.floatbank10_d_air',\n",
    "    'rougher.state.floatbank10_d_level',\n",
    "    'rougher.state.floatbank10_e_air',\n",
    "    'rougher.state.floatbank10_e_level',\n",
    "    'rougher.state.floatbank10_f_air',\n",
    "    'rougher.state.floatbank10_f_level']\n",
    "rougher_target_name = 'rougher.output.recovery'\n",
    "\n",
    "# final feature and target names\n",
    "final_feature_names  = [\n",
    "    'rougher.input.feed_rate',\n",
    "    'rougher.input.feed_size',\n",
    "    'primary_cleaner.input.sulfate',\n",
    "    'primary_cleaner.input.depressant',\n",
    "    'primary_cleaner.input.feed_size',\n",
    "    'primary_cleaner.input.xanthate',\n",
    "    'primary_cleaner.state.floatbank8_a_air',\n",
    "    'primary_cleaner.state.floatbank8_a_level',\n",
    "    'primary_cleaner.state.floatbank8_b_air',\n",
    "    'primary_cleaner.state.floatbank8_b_level',\n",
    "    'primary_cleaner.state.floatbank8_c_air',\n",
    "    'primary_cleaner.state.floatbank8_c_level',\n",
    "    'primary_cleaner.state.floatbank8_d_air',\n",
    "    'primary_cleaner.state.floatbank8_d_level',\n",
    "    'secondary_cleaner.state.floatbank2_a_air',\n",
    "    'secondary_cleaner.state.floatbank2_a_level',\n",
    "    'secondary_cleaner.state.floatbank2_b_air',\n",
    "    'secondary_cleaner.state.floatbank2_b_level',\n",
    "    'secondary_cleaner.state.floatbank3_a_air',\n",
    "    'secondary_cleaner.state.floatbank3_a_level',\n",
    "    'secondary_cleaner.state.floatbank3_b_air',\n",
    "    'secondary_cleaner.state.floatbank3_b_level',\n",
    "    'secondary_cleaner.state.floatbank4_a_air',\n",
    "    'secondary_cleaner.state.floatbank4_a_level',\n",
    "    'secondary_cleaner.state.floatbank4_b_air',\n",
    "    'secondary_cleaner.state.floatbank4_b_level',\n",
    "    'secondary_cleaner.state.floatbank5_a_air',\n",
    "    'secondary_cleaner.state.floatbank5_a_level',\n",
    "    'secondary_cleaner.state.floatbank5_b_air',\n",
    "    'secondary_cleaner.state.floatbank5_b_level',\n",
    "    'secondary_cleaner.state.floatbank6_a_air',\n",
    "    'secondary_cleaner.state.floatbank6_a_level']\n",
    "final_target_name = 'final.output.recovery'\n",
    "\n",
    "print('Compiling names - OK')"
   ]
  },
  {
   "cell_type": "markdown",
   "metadata": {},
   "source": [
    "Приступим к подготовке наборов данных."
   ]
  },
  {
   "cell_type": "code",
   "execution_count": 24,
   "metadata": {},
   "outputs": [
    {
     "name": "stdout",
     "output_type": "stream",
     "text": [
      "rougher_recovery_train.shape - (16860, 18)\n",
      "rougher_recovery_target.shape - (16860,)\n",
      "final_recovery_train.shape - (16860, 32)\n",
      "final_recovery_target.shape - (16860,)\n"
     ]
    }
   ],
   "source": [
    "# rougher train datasets\n",
    "rougher_recovery_train = data_gold_recovery_train[rougher_feature_names]\n",
    "rougher_recovery_target = data_gold_recovery_train[rougher_target_name]\n",
    "\n",
    "# final train datasets\n",
    "final_recovery_train = data_gold_recovery_train[final_feature_names]\n",
    "final_recovery_target = data_gold_recovery_train[final_target_name]\n",
    "\n",
    "print('rougher_recovery_train.shape -', rougher_recovery_train.shape)\n",
    "print('rougher_recovery_target.shape -', rougher_recovery_target.shape)\n",
    "print('final_recovery_train.shape -', final_recovery_train.shape)\n",
    "print('final_recovery_target.shape -', final_recovery_target.shape)"
   ]
  },
  {
   "cell_type": "markdown",
   "metadata": {},
   "source": [
    "### 3.3.2. Решающее дерево\n",
    "Приступим к созданию моделей.\n",
    "\n",
    "Первым на очереди будет решающее дерево. Оптимизируем параметры методом крос-валидации.\n",
    "\n",
    "Сделаем свой ручной скорер для библиотечной функции кросс-валидации.\n",
    "\n",
    "Сделаем свою функцию для оптимизации. GreadSearchCV ничего не сообщает о ходе процесса, скучно ждать тягучие минуты, глядя в пустой экран и не зная, когда это закончится. Так же сократим до минимума количество оптимизируемых параметров, чтобы не слишком затягивать проверку тетрадки. Это всё-таки учебная задача.\n",
    "\n",
    "В качестве критерия качества для дерева возьмём **MAE**, она по природе ближе в нашей **sMAPE**. В качестве оптимизируемого параметра возьмём глубину дерева."
   ]
  },
  {
   "cell_type": "code",
   "execution_count": 25,
   "metadata": {},
   "outputs": [
    {
     "name": "stdout",
     "output_type": "stream",
     "text": [
      "compiling optimizer - OK\n"
     ]
    }
   ],
   "source": [
    "def optimizer1(recovery_train, recovery_target, \n",
    "              model_type, model_params, \n",
    "              opt_name, opt_range):\n",
    "    \"\"\"\n",
    "    Looks for the best couple of the models optimizing their parameters\n",
    "        parameters:\n",
    "        - rougher_recovery_train, final_recovery_train - feature sets\n",
    "        - rougher_recovery_target, final_recovery_target - target sets\n",
    "        - rouger_model_type, final_model_type - model types\n",
    "        - rouger_model_params, final_model_params - parameter sets for both models\n",
    "        - rougher_opt_name, final_opt_name - name of a parameter to optimize\n",
    "        - rougher_range, final_range - ranges to optimize the parameter in\n",
    "        returns: the best parameters set\n",
    "    \"\"\"\n",
    "\n",
    "    def scorer1(estimator, X, y):\n",
    "        \"\"\"\n",
    "        A scorer for crocc-validation operation\n",
    "        parameters:\n",
    "        - estimator - a model to validate\n",
    "        - X - features to validate on\n",
    "        - y - target to validate for\n",
    "        returns: a single score float number\n",
    "        \"\"\"\n",
    "        return sMAPE(estimator.predict(X), y)\n",
    "\n",
    "    i_sMAPE = 0.0\n",
    "    min_sMAPE = 1000\n",
    "    \n",
    "    # creating the best couple parameter set\n",
    "    best_params = {}\n",
    "    \n",
    "    # optimizing the model\n",
    "    count = 0\n",
    "    for i in opt_range:\n",
    "        model_params[opt_name] = i\n",
    "        \n",
    "        if model_type == \"dt\":\n",
    "            model = DecisionTreeRegressor()\n",
    "        elif model_type == \"rf\":\n",
    "            model = RandomForestRegressor()\n",
    "        else:\n",
    "            model = LinearRegression()\n",
    "\n",
    "        model.set_params(**model_params)\n",
    "        i_sMAPE = cross_val_score(\n",
    "            model, recovery_train, recovery_target, cv=3, scoring=scorer1).mean()\n",
    "    \n",
    "        # looking for minimal sMAPE\n",
    "        if i_sMAPE < min_sMAPE:\n",
    "            min_sMAPE = i_sMAPE\n",
    "            best_params['params'] = model_params.copy()\n",
    "            best_params['sMAPE'] = min_sMAPE\n",
    "\n",
    "        print('turn {:d}: intermediate sMAPE = {:.4}%'.format(count, i_sMAPE))\n",
    "        count += 1\n",
    "            \n",
    "    return best_params\n",
    "\n",
    "print('compiling optimizer - OK')"
   ]
  },
  {
   "cell_type": "code",
   "execution_count": 26,
   "metadata": {},
   "outputs": [
    {
     "name": "stdout",
     "output_type": "stream",
     "text": [
      "optimizing the rougher DT model...\n",
      "turn 0: intermediate sMAPE = 19.07%\n",
      "turn 1: intermediate sMAPE = 30.19%\n",
      "\n",
      "rougher DT optimization has been completed\n",
      "best rougher sMAPE - 19.07%\n",
      "best rougher params: {'criterion': 'mae', 'random_state': 0, 'max_depth': 1}\n",
      "\n",
      "optimizing the final DT model...\n",
      "turn 0: intermediate sMAPE = 15.32%\n",
      "turn 1: intermediate sMAPE = 28.11%\n",
      "\n",
      "final DT optimization has been completed\n",
      "best final sMAPE - 15.32%\n",
      "best final params: {'criterion': 'mae', 'random_state': 0, 'max_depth': 1}\n",
      "\n",
      "summary DT sMAPE = 16.2597%\n",
      "\n",
      "CPU times: user 4min 33s, sys: 199 ms, total: 4min 33s\n",
      "Wall time: 4min 35s\n"
     ]
    }
   ],
   "source": [
    "%%time\n",
    "            \n",
    "# creating model parameter dictionaries\n",
    "dt_rouger_model_params = {}\n",
    "dt_rouger_model_params[\"criterion\"] = 'mae'\n",
    "dt_rouger_model_params[\"random_state\"] = 0\n",
    "dt_rouger_model_params[\"max_depth\"] = 0\n",
    "\n",
    "dt_final_model_params = {}\n",
    "dt_final_model_params[\"criterion\"] = 'mae'\n",
    "dt_final_model_params[\"random_state\"] = 0\n",
    "dt_final_model_params[\"max_depth\"] = 0\n",
    "\n",
    "# optimizing the rougher model\n",
    "print('optimizing the rougher DT model...')\n",
    "best_params = optimizer1(rougher_recovery_train, rougher_recovery_target,\n",
    "              'dt', dt_rouger_model_params, \n",
    "              'max_depth', range(1, 20, 18))\n",
    "\n",
    "dt_best_params = {}\n",
    "dt_best_params['rougher_params'] = best_params['params'].copy()\n",
    "dt_best_params['rougher_sMAPE'] = best_params['sMAPE']\n",
    "\n",
    "# optimization finished\n",
    "print('\\nrougher DT optimization has been completed')\n",
    "print('best rougher sMAPE - {:.4}%'.format(dt_best_params['rougher_sMAPE']))\n",
    "print('best rougher params:', dt_best_params['rougher_params'])\n",
    "\n",
    "# optimizing the final model\n",
    "print('\\noptimizing the final DT model...')\n",
    "best_params = optimizer1(final_recovery_train, final_recovery_target,\n",
    "              'dt', dt_final_model_params, \n",
    "              'max_depth', range(1, 20, 18))\n",
    "\n",
    "dt_best_params['final_params'] = best_params['params'].copy()\n",
    "dt_best_params['final_sMAPE'] = best_params['sMAPE']\n",
    "\n",
    "# optimization finished\n",
    "print('\\nfinal DT optimization has been completed')\n",
    "print('best final sMAPE - {:.4}%'.format(dt_best_params['final_sMAPE']))\n",
    "print('best final params:', dt_best_params['final_params'])\n",
    "\n",
    "# summary sMAPE\n",
    "dt_best_params['sMAPE'] = 0.25 * dt_best_params['rougher_sMAPE'] + 0.75 * dt_best_params['final_sMAPE']\n",
    "print('\\nsummary DT sMAPE = {:.4f}%\\n'.format(dt_best_params['sMAPE']))"
   ]
  },
  {
   "cell_type": "markdown",
   "metadata": {},
   "source": [
    "Странно, что лучшей моделью оказалось одноуровневое дерево.\n",
    "\n",
    "Обучим деревья на полной обучающей выборке и посмотрим, какие признаки они выбрали."
   ]
  },
  {
   "cell_type": "code",
   "execution_count": 27,
   "metadata": {},
   "outputs": [
    {
     "name": "stdout",
     "output_type": "stream",
     "text": [
      "DT rougher feature_importances_:\n",
      "                                  importance\n",
      "rougher.state.floatbank10_a_air         1.0\n",
      "CPU times: user 25.2 s, sys: 39.9 ms, total: 25.2 s\n",
      "Wall time: 25.3 s\n"
     ]
    }
   ],
   "source": [
    "%%time\n",
    "dt_best_params['rougher_model'] = DecisionTreeRegressor().set_params(**dt_best_params['rougher_params'])\n",
    "dt_best_params['rougher_model'].fit(rougher_recovery_train, rougher_recovery_target)\n",
    "\n",
    "feature_importances3 = pd.DataFrame(dt_best_params['rougher_model'].feature_importances_, index=rougher_feature_names)\n",
    "feature_importances3.columns = ['importance']\n",
    "print('DT rougher feature_importances_:\\n', feature_importances3[feature_importances3['importance'] != 0])"
   ]
  },
  {
   "cell_type": "code",
   "execution_count": 28,
   "metadata": {},
   "outputs": [
    {
     "name": "stdout",
     "output_type": "stream",
     "text": [
      "DT final feature_importances_:\n",
      "                                importance\n",
      "primary_cleaner.input.sulfate         1.0\n",
      "CPU times: user 43.4 s, sys: 59.9 ms, total: 43.5 s\n",
      "Wall time: 43.7 s\n"
     ]
    }
   ],
   "source": [
    "%%time\n",
    "dt_best_params['final_model'] = DecisionTreeRegressor().set_params(**dt_best_params['final_params'])\n",
    "dt_best_params['final_model'].fit(final_recovery_train, final_recovery_target)\n",
    "\n",
    "feature_importances4 = pd.DataFrame(dt_best_params['final_model'].feature_importances_, index=final_feature_names)\n",
    "feature_importances4.columns = ['importance']\n",
    "print('DT final feature_importances_:\\n', feature_importances4[feature_importances4['importance'] != 0])"
   ]
  },
  {
   "cell_type": "markdown",
   "metadata": {},
   "source": [
    "Со случайным деревом всё ясно."
   ]
  },
  {
   "cell_type": "markdown",
   "metadata": {},
   "source": [
    "### 3.3.3. Случайный лес\n",
    "Попробуем случайный лес. В качестве критерия качества выберем опять **MAE**, оптимизировать будем по количеству деревьев."
   ]
  },
  {
   "cell_type": "code",
   "execution_count": 29,
   "metadata": {
    "scrolled": true
   },
   "outputs": [
    {
     "name": "stdout",
     "output_type": "stream",
     "text": [
      "optimizing the rougher RF model...\n",
      "turn 0: intermediate sMAPE = 26.32%\n",
      "turn 1: intermediate sMAPE = 24.14%\n",
      "\n",
      "rougher RF optimization has been completed\n",
      "best rougher sMAPE - 24.14%\n",
      "best rougher params: {'criterion': 'mae', 'random_state': 0, 'n_estimators': 20, 'bootstrap': True, 'warm_start': True}\n",
      "\n",
      "optimizing the final RF model...\n",
      "turn 0: intermediate sMAPE = 25.01%\n",
      "turn 1: intermediate sMAPE = 18.72%\n",
      "\n",
      "final RF optimization has been completed\n",
      "best final sMAPE - 18.72%\n",
      "best final params: {'criterion': 'mae', 'random_state': 0, 'n_estimators': 20, 'bootstrap': True, 'warm_start': True}\n",
      "\n",
      "summary DT sMAPE = 20.0754%\n",
      "\n",
      "CPU times: user 37min 28s, sys: 1.99 s, total: 37min 30s\n",
      "Wall time: 37min 40s\n"
     ]
    }
   ],
   "source": [
    "%%time\n",
    "\n",
    "# for information\n",
    "#RandomForestRegressor(\n",
    "#    n_estimators=100, *, criterion='mse', \n",
    "#    max_depth=None, min_samples_split=2, min_samples_leaf=1, min_weight_fraction_leaf=0.0, max_features='auto', \n",
    "#    max_leaf_nodes=None, min_impurity_decrease=0.0, min_impurity_split=None, bootstrap=True, \n",
    "#    oob_score=False, n_jobs=None, random_state=None, verbose=0, warm_start=False, ccp_alpha=0.0, max_samples=None)\n",
    "            \n",
    "# creating model parameter dictionaries\n",
    "rf_rouger_model_params = {}\n",
    "rf_rouger_model_params[\"criterion\"] = 'mae'\n",
    "rf_rouger_model_params[\"random_state\"] = 0\n",
    "rf_rouger_model_params[\"n_estimators\"] = 10\n",
    "rf_rouger_model_params[\"bootstrap\"] = True\n",
    "rf_rouger_model_params[\"warm_start\"] = True\n",
    "\n",
    "rf_final_model_params = {}\n",
    "rf_final_model_params[\"criterion\"] = 'mae'\n",
    "rf_final_model_params[\"random_state\"] = 0\n",
    "rf_final_model_params[\"n_estimators\"] = 10\n",
    "rf_final_model_params[\"bootstrap\"] = True\n",
    "rf_final_model_params[\"warm_start\"] = True\n",
    "\n",
    "# optimizing the rougher model\n",
    "print('optimizing the rougher RF model...')\n",
    "best_params = optimizer1(rougher_recovery_train, rougher_recovery_target,\n",
    "              'rf', rf_rouger_model_params, \n",
    "              'n_estimators', range(2, 21, 18))\n",
    "\n",
    "rf_best_params = {}\n",
    "rf_best_params['rougher_params'] = best_params['params'].copy()\n",
    "rf_best_params['rougher_sMAPE'] = best_params['sMAPE']\n",
    "\n",
    "# optimization finished\n",
    "print('\\nrougher RF optimization has been completed')\n",
    "print('best rougher sMAPE - {:.4}%'.format(rf_best_params['rougher_sMAPE']))\n",
    "print('best rougher params:', rf_best_params['rougher_params'])\n",
    "\n",
    "# optimizing the final model\n",
    "print('\\noptimizing the final RF model...')\n",
    "best_params = optimizer1(final_recovery_train, final_recovery_target,\n",
    "              'rf', rf_final_model_params, \n",
    "              'n_estimators', range(2, 21, 18))\n",
    "\n",
    "rf_best_params['final_params'] = best_params['params'].copy()\n",
    "rf_best_params['final_sMAPE'] = best_params['sMAPE']\n",
    "\n",
    "# optimization finished\n",
    "print('\\nfinal RF optimization has been completed')\n",
    "print('best final sMAPE - {:.4}%'.format(rf_best_params['final_sMAPE']))\n",
    "print('best final params:', rf_best_params['final_params'])\n",
    "\n",
    "# summary sMAPE\n",
    "rf_best_params['sMAPE'] = 0.25 * rf_best_params['rougher_sMAPE'] + 0.75 * rf_best_params['final_sMAPE']\n",
    "print('\\nsummary DT sMAPE = {:.4f}%\\n'.format(rf_best_params['sMAPE']))"
   ]
  },
  {
   "cell_type": "markdown",
   "metadata": {},
   "source": [
    "Оптимизация леса занимает заметно больше времени.\n",
    "\n",
    "Снова обучим обе модели на полной обучающей выборке и посмотрим важность признаков."
   ]
  },
  {
   "cell_type": "code",
   "execution_count": 30,
   "metadata": {
    "scrolled": true
   },
   "outputs": [
    {
     "name": "stdout",
     "output_type": "stream",
     "text": [
      "RF rougher feature_importances_:\n",
      "                                     importance\n",
      "rougher.input.feed_rate               0.097054\n",
      "rougher.input.feed_size               0.104957\n",
      "rougher.input.floatbank10_sulfate     0.049675\n",
      "rougher.input.floatbank10_xanthate    0.074680\n",
      "rougher.input.floatbank11_sulfate     0.075243\n",
      "rougher.input.floatbank11_xanthate    0.077954\n",
      "rougher.state.floatbank10_a_air       0.101885\n",
      "rougher.state.floatbank10_a_level     0.046278\n",
      "rougher.state.floatbank10_b_air       0.035975\n",
      "rougher.state.floatbank10_b_level     0.028089\n",
      "rougher.state.floatbank10_c_air       0.057357\n",
      "rougher.state.floatbank10_c_level     0.029585\n",
      "rougher.state.floatbank10_d_air       0.052034\n",
      "rougher.state.floatbank10_d_level     0.027802\n",
      "rougher.state.floatbank10_e_air       0.039098\n",
      "rougher.state.floatbank10_e_level     0.032177\n",
      "rougher.state.floatbank10_f_air       0.038350\n",
      "rougher.state.floatbank10_f_level     0.031808\n",
      "CPU times: user 7min 59s, sys: 480 ms, total: 7min 59s\n",
      "Wall time: 8min 1s\n"
     ]
    }
   ],
   "source": [
    "%%time\n",
    "rf_best_params['rougher_model'] = RandomForestRegressor().set_params(**rf_best_params['rougher_params'])\n",
    "rf_best_params['rougher_model'].fit(rougher_recovery_train, rougher_recovery_target)\n",
    "\n",
    "feature_importances = pd.DataFrame(rf_best_params['rougher_model'].feature_importances_, index=rougher_feature_names)\n",
    "feature_importances.columns = ['importance']\n",
    "print('RF rougher feature_importances_:\\n', feature_importances[feature_importances['importance'] != 0])"
   ]
  },
  {
   "cell_type": "code",
   "execution_count": 31,
   "metadata": {
    "scrolled": true
   },
   "outputs": [
    {
     "name": "stdout",
     "output_type": "stream",
     "text": [
      "RF final feature_importances_:\n",
      "                                             importance\n",
      "rougher.input.feed_rate                       0.031444\n",
      "rougher.input.feed_size                       0.055028\n",
      "primary_cleaner.input.sulfate                 0.106571\n",
      "primary_cleaner.input.depressant              0.057859\n",
      "primary_cleaner.input.feed_size               0.052653\n",
      "primary_cleaner.input.xanthate                0.036476\n",
      "primary_cleaner.state.floatbank8_a_air        0.017983\n",
      "primary_cleaner.state.floatbank8_a_level      0.015330\n",
      "primary_cleaner.state.floatbank8_b_air        0.020052\n",
      "primary_cleaner.state.floatbank8_b_level      0.020025\n",
      "primary_cleaner.state.floatbank8_c_air        0.021485\n",
      "primary_cleaner.state.floatbank8_c_level      0.019632\n",
      "primary_cleaner.state.floatbank8_d_air        0.027429\n",
      "primary_cleaner.state.floatbank8_d_level      0.019773\n",
      "secondary_cleaner.state.floatbank2_a_air      0.035819\n",
      "secondary_cleaner.state.floatbank2_a_level    0.020003\n",
      "secondary_cleaner.state.floatbank2_b_air      0.035577\n",
      "secondary_cleaner.state.floatbank2_b_level    0.023622\n",
      "secondary_cleaner.state.floatbank3_a_air      0.036969\n",
      "secondary_cleaner.state.floatbank3_a_level    0.019049\n",
      "secondary_cleaner.state.floatbank3_b_air      0.031262\n",
      "secondary_cleaner.state.floatbank3_b_level    0.058606\n",
      "secondary_cleaner.state.floatbank4_a_air      0.026563\n",
      "secondary_cleaner.state.floatbank4_a_level    0.017729\n",
      "secondary_cleaner.state.floatbank4_b_air      0.024547\n",
      "secondary_cleaner.state.floatbank4_b_level    0.019310\n",
      "secondary_cleaner.state.floatbank5_a_air      0.028607\n",
      "secondary_cleaner.state.floatbank5_a_level    0.027766\n",
      "secondary_cleaner.state.floatbank5_b_air      0.023084\n",
      "secondary_cleaner.state.floatbank5_b_level    0.015504\n",
      "secondary_cleaner.state.floatbank6_a_air      0.036246\n",
      "secondary_cleaner.state.floatbank6_a_level    0.017996\n",
      "CPU times: user 13min 44s, sys: 384 ms, total: 13min 44s\n",
      "Wall time: 13min 48s\n"
     ]
    }
   ],
   "source": [
    "%%time\n",
    "rf_best_params['final_model'] = RandomForestRegressor().set_params(**rf_best_params['final_params'])\n",
    "rf_best_params['final_model'].fit(final_recovery_train, final_recovery_target)\n",
    "\n",
    "feature_importances1 = pd.DataFrame(rf_best_params['final_model'].feature_importances_, index=final_feature_names)\n",
    "feature_importances1.columns = ['importance']\n",
    "print('RF final feature_importances_:\\n', feature_importances1[feature_importances1['importance'] != 0])"
   ]
  },
  {
   "cell_type": "markdown",
   "metadata": {},
   "source": [
    "Визуализируем цифры с помощью графиков."
   ]
  },
  {
   "cell_type": "code",
   "execution_count": 32,
   "metadata": {},
   "outputs": [
    {
     "data": {
      "image/png": "[encoded data removed]",
      "text/plain": [
       "<Figure size 540x360 with 1 Axes>"
      ]
     },
     "metadata": {
      "needs_background": "light"
     },
     "output_type": "display_data"
    }
   ],
   "source": [
    "fig, ax = plt.subplots(1, 1, figsize=(7.5, 5), sharey=True)\n",
    "ax.bar(feature_importances.index, feature_importances['importance'])\n",
    "\n",
    "ax.set_ylabel('Importance')\n",
    "ax.set_title('Rougher')\n",
    "plt.setp(ax.get_xticklabels(), rotation=45, ha=\"right\")\n",
    "\n",
    "fig.show()"
   ]
  },
  {
   "cell_type": "code",
   "execution_count": 33,
   "metadata": {
    "scrolled": false
   },
   "outputs": [
    {
     "data": {
      "image/png": "[encoded data removed]",
      "text/plain": [
       "<Figure size 1008x360 with 1 Axes>"
      ]
     },
     "metadata": {
      "needs_background": "light"
     },
     "output_type": "display_data"
    }
   ],
   "source": [
    "fig, ax = plt.subplots(1, 1, figsize=(14, 5), sharey=True)\n",
    "ax.bar(feature_importances1.index, feature_importances1['importance'])\n",
    "\n",
    "ax.set_ylabel('Importance')\n",
    "ax.set_title('Final')\n",
    "plt.setp(ax.get_xticklabels(), rotation=45, ha=\"right\")\n",
    "\n",
    "fig.show()"
   ]
  },
  {
   "cell_type": "markdown",
   "metadata": {},
   "source": [
    "Становится понятно, что наиболее значимыми признаками являются расход пульпы на входе и размер гранул, расход реагентов. Следом идут значения расхода воздуха. Уровень во флотаторах является наименее значимым."
   ]
  },
  {
   "cell_type": "markdown",
   "metadata": {},
   "source": [
    "### 3.3.4. Линейная регрессия\n",
    "Теперь испытаем линейную регрессию. Масштабирование признаков предоставим модели. Оптимизируем по параметру `fit_intercept`."
   ]
  },
  {
   "cell_type": "code",
   "execution_count": 34,
   "metadata": {
    "scrolled": true
   },
   "outputs": [
    {
     "name": "stdout",
     "output_type": "stream",
     "text": [
      "optimizing the rougher LR model...\n",
      "turn 0: intermediate sMAPE = 20.97%\n",
      "turn 1: intermediate sMAPE = 23.86%\n",
      "\n",
      "rougher LR optimization has been completed\n",
      "best rougher sMAPE - 20.97%\n",
      "best rougher params: {'fit_intercept': True, 'normalize': True, 'copy_X': True}\n",
      "\n",
      "optimizing the final LR model...\n",
      "turn 0: intermediate sMAPE = 15.15%\n",
      "turn 1: intermediate sMAPE = 15.3%\n",
      "\n",
      "final LR optimization has been completed\n",
      "best final sMAPE - 15.15%\n",
      "best final params: {'fit_intercept': True, 'normalize': True, 'copy_X': True}\n",
      "\n",
      "summary DT sMAPE = 16.6064%\n",
      "\n",
      "CPU times: user 1.23 s, sys: 1.23 s, total: 2.46 s\n",
      "Wall time: 2.42 s\n"
     ]
    }
   ],
   "source": [
    "%%time\n",
    "# for information\n",
    "#LinearRegression(*, fit_intercept=True, normalize=False, copy_X=True, n_jobs=None)\n",
    "\n",
    "# creating model parameter dictionaries\n",
    "lr_rouger_model_params = {}\n",
    "lr_rouger_model_params[\"fit_intercept\"] = True\n",
    "lr_rouger_model_params[\"normalize\"] = True\n",
    "lr_rouger_model_params[\"copy_X\"] = True\n",
    "\n",
    "lr_final_model_params = {}\n",
    "lr_final_model_params[\"fit_intercept\"] = True\n",
    "lr_final_model_params[\"normalize\"] = True\n",
    "lr_final_model_params[\"copy_X\"] = True\n",
    "\n",
    "# optimizing the rougher model\n",
    "print('optimizing the rougher LR model...')\n",
    "best_params = optimizer1(rougher_recovery_train, rougher_recovery_target,\n",
    "              'lr', lr_rouger_model_params, \n",
    "              'fit_intercept', [True, False])\n",
    "\n",
    "lr_best_params = {}\n",
    "lr_best_params['rougher_params'] = best_params['params'].copy()\n",
    "lr_best_params['rougher_sMAPE'] = best_params['sMAPE']\n",
    "\n",
    "# optimization finished\n",
    "print('\\nrougher LR optimization has been completed')\n",
    "print('best rougher sMAPE - {:.4}%'.format(lr_best_params['rougher_sMAPE']))\n",
    "print('best rougher params:', lr_best_params['rougher_params'])\n",
    "\n",
    "# optimizing the final model\n",
    "print('\\noptimizing the final LR model...')\n",
    "best_params = optimizer1(final_recovery_train, final_recovery_target,\n",
    "              'lr', lr_final_model_params, \n",
    "              'fit_intercept', [True, False])\n",
    "\n",
    "lr_best_params['final_params'] = best_params['params'].copy()\n",
    "lr_best_params['final_sMAPE'] = best_params['sMAPE']\n",
    "\n",
    "# optimization finished\n",
    "print('\\nfinal LR optimization has been completed')\n",
    "print('best final sMAPE - {:.4}%'.format(lr_best_params['final_sMAPE']))\n",
    "print('best final params:', lr_best_params['final_params'])\n",
    "\n",
    "# summary sMAPE\n",
    "lr_best_params['sMAPE'] = 0.25 * lr_best_params['rougher_sMAPE'] + 0.75 * lr_best_params['final_sMAPE']\n",
    "print('\\nsummary DT sMAPE = {:.4f}%\\n'.format(lr_best_params['sMAPE']))"
   ]
  },
  {
   "cell_type": "markdown",
   "metadata": {},
   "source": [
    "Обучим модель на полной обучающей выборке и определим значимость признаков по величине коэффициентов."
   ]
  },
  {
   "cell_type": "code",
   "execution_count": 35,
   "metadata": {
    "scrolled": true
   },
   "outputs": [
    {
     "name": "stdout",
     "output_type": "stream",
     "text": [
      "LR rougher feature_importances_:\n",
      "                                     importance\n",
      "rougher.input.feed_rate              -0.001529\n",
      "rougher.input.feed_size               0.013865\n",
      "rougher.input.floatbank10_sulfate     0.469081\n",
      "rougher.input.floatbank10_xanthate    0.546782\n",
      "rougher.input.floatbank11_sulfate    -0.774809\n",
      "rougher.input.floatbank11_xanthate    3.412771\n",
      "rougher.state.floatbank10_a_air       0.002788\n",
      "rougher.state.floatbank10_a_level     0.014742\n",
      "rougher.state.floatbank10_b_air      -0.009984\n",
      "rougher.state.floatbank10_b_level    -0.042945\n",
      "rougher.state.floatbank10_c_air      -0.002904\n",
      "rougher.state.floatbank10_c_level     0.058892\n",
      "rougher.state.floatbank10_d_air       0.021938\n",
      "rougher.state.floatbank10_d_level     0.009051\n",
      "rougher.state.floatbank10_e_air      -0.025314\n",
      "rougher.state.floatbank10_e_level    -0.028768\n",
      "rougher.state.floatbank10_f_air       0.013885\n",
      "rougher.state.floatbank10_f_level     0.017728\n"
     ]
    }
   ],
   "source": [
    "lr_best_params['rougher_model'] = LinearRegression().set_params(**lr_best_params['rougher_params'])\n",
    "lr_best_params['rougher_model'].fit(rougher_recovery_train, rougher_recovery_target)\n",
    "\n",
    "feature_importances5 = pd.DataFrame(lr_best_params['rougher_model'].coef_, index=rougher_feature_names)\n",
    "feature_importances5.columns = ['importance']\n",
    "print('LR rougher feature_importances_:\\n', feature_importances5[feature_importances5['importance'] != 0])"
   ]
  },
  {
   "cell_type": "code",
   "execution_count": 36,
   "metadata": {
    "scrolled": true
   },
   "outputs": [
    {
     "name": "stdout",
     "output_type": "stream",
     "text": [
      "LR final feature_importances_:\n",
      "                                             importance\n",
      "rougher.input.feed_rate                      -0.001377\n",
      "rougher.input.feed_size                      -0.020735\n",
      "primary_cleaner.input.sulfate                 0.076200\n",
      "primary_cleaner.input.depressant             -0.127277\n",
      "primary_cleaner.input.feed_size               1.187109\n",
      "primary_cleaner.input.xanthate                1.257109\n",
      "primary_cleaner.state.floatbank8_a_air       -0.005415\n",
      "primary_cleaner.state.floatbank8_a_level     -0.006595\n",
      "primary_cleaner.state.floatbank8_b_air        0.010022\n",
      "primary_cleaner.state.floatbank8_b_level     -0.040343\n",
      "primary_cleaner.state.floatbank8_c_air       -0.007381\n",
      "primary_cleaner.state.floatbank8_c_level      0.031069\n",
      "primary_cleaner.state.floatbank8_d_air       -0.002807\n",
      "primary_cleaner.state.floatbank8_d_level      0.006753\n",
      "secondary_cleaner.state.floatbank2_a_air      0.328783\n",
      "secondary_cleaner.state.floatbank2_a_level   -0.003603\n",
      "secondary_cleaner.state.floatbank2_b_air     -0.389870\n",
      "secondary_cleaner.state.floatbank2_b_level   -0.005599\n",
      "secondary_cleaner.state.floatbank3_a_air      0.084071\n",
      "secondary_cleaner.state.floatbank3_a_level    0.009087\n",
      "secondary_cleaner.state.floatbank3_b_air      0.001485\n",
      "secondary_cleaner.state.floatbank3_b_level   -0.014937\n",
      "secondary_cleaner.state.floatbank4_a_air      0.422753\n",
      "secondary_cleaner.state.floatbank4_a_level    0.019910\n",
      "secondary_cleaner.state.floatbank4_b_air      0.438192\n",
      "secondary_cleaner.state.floatbank4_b_level   -0.023677\n",
      "secondary_cleaner.state.floatbank5_a_air     -0.109748\n",
      "secondary_cleaner.state.floatbank5_a_level    0.027127\n",
      "secondary_cleaner.state.floatbank5_b_air     -0.427723\n",
      "secondary_cleaner.state.floatbank5_b_level   -0.034299\n",
      "secondary_cleaner.state.floatbank6_a_air     -0.099719\n",
      "secondary_cleaner.state.floatbank6_a_level   -0.000147\n"
     ]
    }
   ],
   "source": [
    "lr_best_params['final_model'] = LinearRegression().set_params(**lr_best_params['final_params'])\n",
    "lr_best_params['final_model'].fit(final_recovery_train, final_recovery_target)\n",
    "\n",
    "feature_importances6 = pd.DataFrame(lr_best_params['final_model'].coef_, index=final_feature_names)\n",
    "feature_importances6.columns = ['importance']\n",
    "print('LR final feature_importances_:\\n', feature_importances6[feature_importances6['importance'] != 0])"
   ]
  },
  {
   "cell_type": "markdown",
   "metadata": {},
   "source": [
    "Визуализируем."
   ]
  },
  {
   "cell_type": "code",
   "execution_count": 37,
   "metadata": {},
   "outputs": [
    {
     "data": {
      "image/png": "[encoded data removed]",
      "text/plain": [
       "<Figure size 540x360 with 1 Axes>"
      ]
     },
     "metadata": {
      "needs_background": "light"
     },
     "output_type": "display_data"
    }
   ],
   "source": [
    "fig, ax = plt.subplots(1, 1, figsize=(7.5, 5), sharey=True)\n",
    "ax.bar(feature_importances5.index, feature_importances5['importance'])\n",
    "\n",
    "ax.set_ylabel('Importance')\n",
    "ax.set_title('Rougher')\n",
    "plt.setp(ax.get_xticklabels(), rotation=45, ha=\"right\")\n",
    "\n",
    "fig.show()"
   ]
  },
  {
   "cell_type": "code",
   "execution_count": 38,
   "metadata": {
    "scrolled": true
   },
   "outputs": [
    {
     "data": {
      "image/png": "[encoded data removed]",
      "text/plain": [
       "<Figure size 1008x360 with 1 Axes>"
      ]
     },
     "metadata": {
      "needs_background": "light"
     },
     "output_type": "display_data"
    }
   ],
   "source": [
    "fig, ax = plt.subplots(1, 1, figsize=(14, 5), sharey=True)\n",
    "ax.bar(feature_importances6.index, feature_importances6['importance'])\n",
    "\n",
    "ax.set_ylabel('Importance')\n",
    "ax.set_title('Final')\n",
    "plt.setp(ax.get_xticklabels(), rotation=45, ha=\"right\")\n",
    "\n",
    "fig.show()"
   ]
  },
  {
   "cell_type": "markdown",
   "metadata": {},
   "source": [
    "Наблюдаем примерно ту же картину, что и для случайного леса. Что, если убрать слабо влияющие признаки уровней для грубой и тонкой очистки? Как изменится ошибка моделей?"
   ]
  },
  {
   "cell_type": "code",
   "execution_count": 39,
   "metadata": {},
   "outputs": [
    {
     "name": "stdout",
     "output_type": "stream",
     "text": [
      "optimizing the rougher LR model...\n",
      "turn 0: intermediate sMAPE = 20.36%\n",
      "turn 1: intermediate sMAPE = 25.81%\n",
      "\n",
      "rougher LR optimization has been completed\n",
      "best rougher sMAPE - 20.36%\n",
      "best rougher params: {'fit_intercept': True, 'normalize': True, 'copy_X': True}\n",
      "\n",
      "optimizing the final LR model...\n",
      "turn 0: intermediate sMAPE = 14.56%\n",
      "turn 1: intermediate sMAPE = 15.54%\n",
      "\n",
      "final LR optimization has been completed\n",
      "best final sMAPE - 14.56%\n",
      "best final params: {'fit_intercept': True, 'normalize': True, 'copy_X': True}\n",
      "\n",
      "summary DT sMAPE = 16.0071%\n",
      "\n"
     ]
    }
   ],
   "source": [
    "# for information\n",
    "#LinearRegression(*, fit_intercept=True, normalize=False, copy_X=True, n_jobs=None)\n",
    "\n",
    "rougher_recovery_train1 = rougher_recovery_train.drop([\n",
    "    'rougher.state.floatbank10_a_level',\n",
    "    'rougher.state.floatbank10_b_level',\n",
    "    'rougher.state.floatbank10_c_level',\n",
    "    'rougher.state.floatbank10_d_level',\n",
    "    'rougher.state.floatbank10_e_level',\n",
    "    'rougher.state.floatbank10_f_level'], axis=1) \n",
    "\n",
    "final_recovery_train1 = final_recovery_train.drop([\n",
    "    'primary_cleaner.state.floatbank8_a_level',\n",
    "    'primary_cleaner.state.floatbank8_b_level',\n",
    "    'primary_cleaner.state.floatbank8_c_level',\n",
    "    'primary_cleaner.state.floatbank8_d_level',\n",
    "    'secondary_cleaner.state.floatbank2_a_level',\n",
    "    'secondary_cleaner.state.floatbank2_b_level',\n",
    "    'secondary_cleaner.state.floatbank3_a_level',\n",
    "    'secondary_cleaner.state.floatbank3_b_level',\n",
    "    'secondary_cleaner.state.floatbank4_a_level',\n",
    "    'secondary_cleaner.state.floatbank4_b_level',\n",
    "    'secondary_cleaner.state.floatbank5_a_level',\n",
    "    'secondary_cleaner.state.floatbank5_b_level',\n",
    "    'secondary_cleaner.state.floatbank6_a_level'], axis=1)\n",
    "\n",
    "# creating model parameter dictionaries\n",
    "lr_rouger_model_params = {}\n",
    "lr_rouger_model_params[\"fit_intercept\"] = True\n",
    "lr_rouger_model_params[\"normalize\"] = True\n",
    "lr_rouger_model_params[\"copy_X\"] = True\n",
    "\n",
    "lr_final_model_params = {}\n",
    "lr_final_model_params[\"fit_intercept\"] = True\n",
    "lr_final_model_params[\"normalize\"] = True\n",
    "lr_final_model_params[\"copy_X\"] = True\n",
    "\n",
    "# optimizing the rougher model\n",
    "print('optimizing the rougher LR model...')\n",
    "best_params = optimizer1(rougher_recovery_train1, rougher_recovery_target,\n",
    "              'lr', lr_rouger_model_params, \n",
    "              'fit_intercept', [True, False])\n",
    "\n",
    "lr_best_params = {}\n",
    "lr_best_params['rougher_params'] = best_params['params'].copy()\n",
    "lr_best_params['rougher_sMAPE'] = best_params['sMAPE']\n",
    "\n",
    "# optimization finished\n",
    "print('\\nrougher LR optimization has been completed')\n",
    "print('best rougher sMAPE - {:.4}%'.format(lr_best_params['rougher_sMAPE']))\n",
    "print('best rougher params:', lr_best_params['rougher_params'])\n",
    "\n",
    "# optimizing the final model\n",
    "print('\\noptimizing the final LR model...')\n",
    "best_params = optimizer1(final_recovery_train1, final_recovery_target,\n",
    "              'lr', lr_final_model_params, \n",
    "              'fit_intercept', [True, False])\n",
    "\n",
    "lr_best_params['final_params'] = best_params['params'].copy()\n",
    "lr_best_params['final_sMAPE'] = best_params['sMAPE']\n",
    "\n",
    "# optimization finished\n",
    "print('\\nfinal LR optimization has been completed')\n",
    "print('best final sMAPE - {:.4}%'.format(lr_best_params['final_sMAPE']))\n",
    "print('best final params:', lr_best_params['final_params'])\n",
    "\n",
    "# summary sMAPE\n",
    "lr_best_params['sMAPE'] = 0.25 * lr_best_params['rougher_sMAPE'] + 0.75 * lr_best_params['final_sMAPE']\n",
    "print('\\nsummary DT sMAPE = {:.4f}%\\n'.format(lr_best_params['sMAPE']))"
   ]
  },
  {
   "cell_type": "markdown",
   "metadata": {},
   "source": [
    "Линейная регрессия с уменьшенным набором признаков обогнала решающее дерево."
   ]
  },
  {
   "cell_type": "markdown",
   "metadata": {},
   "source": [
    "### 3.3.5. Выбрать лучшую пару для тестирования\n",
    "Соберём результат исследований в одну таблицу для лучшего обзора."
   ]
  },
  {
   "cell_type": "code",
   "execution_count": 40,
   "metadata": {
    "scrolled": true
   },
   "outputs": [
    {
     "data": {
      "text/html": [
       "<div>\n",
       "<style scoped>\n",
       "    .dataframe tbody tr th:only-of-type {\n",
       "        vertical-align: middle;\n",
       "    }\n",
       "\n",
       "    .dataframe tbody tr th {\n",
       "        vertical-align: top;\n",
       "    }\n",
       "\n",
       "    .dataframe thead th {\n",
       "        text-align: right;\n",
       "    }\n",
       "</style>\n",
       "<table border=\"1\" class=\"dataframe\">\n",
       "  <thead>\n",
       "    <tr style=\"text-align: right;\">\n",
       "      <th></th>\n",
       "      <th>rougher_sMAPE</th>\n",
       "      <th>final_sMAPE</th>\n",
       "      <th>summary_sMAPE</th>\n",
       "    </tr>\n",
       "  </thead>\n",
       "  <tbody>\n",
       "    <tr>\n",
       "      <td>DT</td>\n",
       "      <td>19.069873</td>\n",
       "      <td>15.323008</td>\n",
       "      <td>16.259724</td>\n",
       "    </tr>\n",
       "    <tr>\n",
       "      <td>RF</td>\n",
       "      <td>24.141457</td>\n",
       "      <td>18.720029</td>\n",
       "      <td>20.075386</td>\n",
       "    </tr>\n",
       "    <tr>\n",
       "      <td>LR</td>\n",
       "      <td>20.359617</td>\n",
       "      <td>14.556200</td>\n",
       "      <td>16.007055</td>\n",
       "    </tr>\n",
       "  </tbody>\n",
       "</table>\n",
       "</div>"
      ],
      "text/plain": [
       "    rougher_sMAPE  final_sMAPE  summary_sMAPE\n",
       "DT      19.069873    15.323008      16.259724\n",
       "RF      24.141457    18.720029      20.075386\n",
       "LR      20.359617    14.556200      16.007055"
      ]
     },
     "execution_count": 40,
     "metadata": {},
     "output_type": "execute_result"
    }
   ],
   "source": [
    "results = pd.DataFrame([\n",
    "    [dt_best_params['rougher_sMAPE'], dt_best_params['final_sMAPE'], dt_best_params['sMAPE']],\n",
    "    [rf_best_params['rougher_sMAPE'], rf_best_params['final_sMAPE'], rf_best_params['sMAPE']],\n",
    "    [lr_best_params['rougher_sMAPE'], lr_best_params['final_sMAPE'], lr_best_params['sMAPE']]])\n",
    "results.index = ['DT', 'RF', 'LR']\n",
    "results.columns = ['rougher_sMAPE', 'final_sMAPE', 'summary_sMAPE']\n",
    "results"
   ]
  },
  {
   "cell_type": "markdown",
   "metadata": {},
   "source": [
    "Лес остался далеко позади. За первое место бились одноуровневое дерево и линейная регрессия. И если бы мы не уменьшли количество признаков для линейной регрессии, дерево бы победило.\n",
    "\n",
    "Дерево же выбирать не хочется, так как одноуровневое дерево - это практически случайная модель. А нам случайности не нужны.\n",
    "\n",
    "Выберем линейную регрессию."
   ]
  },
  {
   "cell_type": "markdown",
   "metadata": {},
   "source": [
    "## 3.4. Тестирование"
   ]
  },
  {
   "cell_type": "code",
   "execution_count": 41,
   "metadata": {},
   "outputs": [
    {
     "name": "stdout",
     "output_type": "stream",
     "text": [
      "rougher_sMAPE = 11.2011%\n",
      "final_sMAPE = 12.4966%\n",
      "summary_sMAPE = 12.1727%\n"
     ]
    }
   ],
   "source": [
    "# fitting rougher model\n",
    "lr_best_params['rougher_model'] = LinearRegression().set_params(**lr_best_params['rougher_params'])\n",
    "lr_best_params['rougher_model'].fit(rougher_recovery_train1, rougher_recovery_target)\n",
    "\n",
    "# fitting final model\n",
    "lr_best_params['final_model'] = LinearRegression().set_params(**lr_best_params['final_params'])\n",
    "lr_best_params['final_model'].fit(final_recovery_train1, final_recovery_target)\n",
    "\n",
    "rougher_test_features = data_gold_recovery_test[rougher_recovery_train1.columns]\n",
    "final_test_features = data_gold_recovery_test[final_recovery_train1.columns]\n",
    "\n",
    "rougher_test_predict = lr_best_params['rougher_model'].predict(rougher_test_features)\n",
    "rfinal_test_predict = lr_best_params['final_model'].predict(final_test_features)\n",
    "\n",
    "rougher_sMAPE = sMAPE(rougher_test_predict, \n",
    "                      data_gold_recovery_full.loc[data_gold_recovery_test.index, rougher_target_name])\n",
    "final_sMAPE = sMAPE(rfinal_test_predict, \n",
    "                    data_gold_recovery_full.loc[data_gold_recovery_test.index, final_target_name])\n",
    "\n",
    "print('rougher_sMAPE = {:.4f}%'.format(rougher_sMAPE))\n",
    "print('final_sMAPE = {:.4f}%'.format(final_sMAPE))\n",
    "print('summary_sMAPE = {:.4f}%'.format(0.25 * rougher_sMAPE + 0.75 * final_sMAPE))"
   ]
  },
  {
   "cell_type": "markdown",
   "metadata": {},
   "source": [
    "На тестовой выборке ошибка получилась даже существенно меньше, чем при оптимизации. Это радует. Значит мы на верном пути."
   ]
  },
  {
   "cell_type": "markdown",
   "metadata": {},
   "source": [
    "Теперь сравним с константной моделью."
   ]
  },
  {
   "cell_type": "code",
   "execution_count": 42,
   "metadata": {},
   "outputs": [
    {
     "name": "stdout",
     "output_type": "stream",
     "text": [
      "rougher_c_sMAPE = 4.6688%\n",
      "final_c_sMAPE = 7.7364%\n",
      "summary_c_sMAPE = 6.9695%\n"
     ]
    }
   ],
   "source": [
    "data_gold_recovery_test['rougher_constant'] = data_gold_recovery_full.loc[\n",
    "    data_gold_recovery_test.index, 'rougher.output.recovery'].mean()\n",
    "data_gold_recovery_test['final_constant'] = data_gold_recovery_full.loc[\n",
    "    data_gold_recovery_test.index, 'final.output.recovery'].mean()\n",
    "\n",
    "rougher_c_sMAPE = sMAPE(rougher_test_predict, data_gold_recovery_test['rougher_constant'])\n",
    "final_c_sMAPE = sMAPE(rfinal_test_predict, data_gold_recovery_test['final_constant'])\n",
    "\n",
    "print('rougher_c_sMAPE = {:.4f}%'.format(rougher_c_sMAPE))\n",
    "print('final_c_sMAPE = {:.4f}%'.format(final_c_sMAPE))\n",
    "print('summary_c_sMAPE = {:.4f}%'.format(0.25 * rougher_c_sMAPE + 0.75 * final_c_sMAPE))"
   ]
  },
  {
   "cell_type": "markdown",
   "metadata": {},
   "source": [
    "Константная модель оказалась в 2 раза лучше. Может, и правда, отвечать на всё средним и ладно?\n",
    "\n",
    "Попробуем ещё исключить из обучающей выборки нулевые концентрации, обучить и заново проверить."
   ]
  },
  {
   "cell_type": "code",
   "execution_count": 44,
   "metadata": {},
   "outputs": [
    {
     "name": "stdout",
     "output_type": "stream",
     "text": [
      "rougher_sMAPE = 11.1057%\n",
      "final_sMAPE = 13.4545%\n",
      "summary_sMAPE = 12.8673%\n"
     ]
    }
   ],
   "source": [
    "# rougher train datasets\n",
    "rougher_recovery_train21 = data_gold_recovery_train.loc[data_gold_recovery_train['rougher.input.feed_au'] > 0, \n",
    "                                                        rougher_feature_names]\n",
    "rougher_recovery_target21 = data_gold_recovery_train.loc[data_gold_recovery_train['rougher.input.feed_au'] > 0,\n",
    "                                                         rougher_target_name]\n",
    "\n",
    "# final train datasets\n",
    "final_recovery_train21 = data_gold_recovery_train.loc[data_gold_recovery_train['rougher.input.feed_au'] > 0,\n",
    "                                                      final_feature_names]\n",
    "final_recovery_target21 = data_gold_recovery_train.loc[data_gold_recovery_train['rougher.input.feed_au'] > 0,\n",
    "                                                       final_target_name]\n",
    "\n",
    "\n",
    "# fitting rougher model\n",
    "lr_best_params['rougher_model'] = LinearRegression().set_params(**lr_best_params['rougher_params'])\n",
    "lr_best_params['rougher_model'].fit(rougher_recovery_train21, rougher_recovery_target21)\n",
    "\n",
    "# fitting final model\n",
    "lr_best_params['final_model'] = LinearRegression().set_params(**lr_best_params['final_params'])\n",
    "lr_best_params['final_model'].fit(final_recovery_train21, final_recovery_target21)\n",
    "\n",
    "rougher_test_features = data_gold_recovery_test[rougher_recovery_train21.columns]\n",
    "final_test_features = data_gold_recovery_test[final_recovery_train21.columns]\n",
    "\n",
    "rougher_test_predict = lr_best_params['rougher_model'].predict(rougher_test_features)\n",
    "rfinal_test_predict = lr_best_params['final_model'].predict(final_test_features)\n",
    "\n",
    "rougher_sMAPE = sMAPE(rougher_test_predict, \n",
    "                      data_gold_recovery_full.loc[data_gold_recovery_test.index, rougher_target_name])\n",
    "final_sMAPE = sMAPE(rfinal_test_predict, \n",
    "                    data_gold_recovery_full.loc[data_gold_recovery_test.index, final_target_name])\n",
    "\n",
    "print('rougher_sMAPE = {:.4f}%'.format(rougher_sMAPE))\n",
    "print('final_sMAPE = {:.4f}%'.format(final_sMAPE))\n",
    "print('summary_sMAPE = {:.4f}%'.format(0.25 * rougher_sMAPE + 0.75 * final_sMAPE))"
   ]
  },
  {
   "cell_type": "markdown",
   "metadata": {},
   "source": [
    "Не получилось.\n",
    "\n",
    "Попробуем ещё исключить из обучающей выборки концентрации меньше единицы."
   ]
  },
  {
   "cell_type": "code",
   "execution_count": 45,
   "metadata": {},
   "outputs": [
    {
     "name": "stdout",
     "output_type": "stream",
     "text": [
      "rougher_sMAPE = 11.8815%\n",
      "final_sMAPE = 12.4549%\n",
      "summary_sMAPE = 12.3115%\n"
     ]
    }
   ],
   "source": [
    "# rougher train datasets\n",
    "rougher_recovery_train21 = data_gold_recovery_train.loc[data_gold_recovery_train['rougher.input.feed_au'] > 1, \n",
    "                                                        rougher_feature_names]\n",
    "rougher_recovery_target21 = data_gold_recovery_train.loc[data_gold_recovery_train['rougher.input.feed_au'] > 1,\n",
    "                                                         rougher_target_name]\n",
    "\n",
    "# final train datasets\n",
    "final_recovery_train21 = data_gold_recovery_train.loc[data_gold_recovery_train['rougher.input.feed_au'] > 1,\n",
    "                                                      final_feature_names]\n",
    "final_recovery_target21 = data_gold_recovery_train.loc[data_gold_recovery_train['rougher.input.feed_au'] > 1,\n",
    "                                                       final_target_name]\n",
    "\n",
    "\n",
    "# fitting rougher model\n",
    "lr_best_params['rougher_model'] = LinearRegression().set_params(**lr_best_params['rougher_params'])\n",
    "lr_best_params['rougher_model'].fit(rougher_recovery_train21, rougher_recovery_target21)\n",
    "\n",
    "# fitting final model\n",
    "lr_best_params['final_model'] = LinearRegression().set_params(**lr_best_params['final_params'])\n",
    "lr_best_params['final_model'].fit(final_recovery_train21, final_recovery_target21)\n",
    "\n",
    "rougher_test_features = data_gold_recovery_test[rougher_recovery_train21.columns]\n",
    "final_test_features = data_gold_recovery_test[final_recovery_train21.columns]\n",
    "\n",
    "rougher_test_predict = lr_best_params['rougher_model'].predict(rougher_test_features)\n",
    "rfinal_test_predict = lr_best_params['final_model'].predict(final_test_features)\n",
    "\n",
    "rougher_sMAPE = sMAPE(rougher_test_predict, \n",
    "                      data_gold_recovery_full.loc[data_gold_recovery_test.index, rougher_target_name])\n",
    "final_sMAPE = sMAPE(rfinal_test_predict, \n",
    "                    data_gold_recovery_full.loc[data_gold_recovery_test.index, final_target_name])\n",
    "\n",
    "print('rougher_sMAPE = {:.4f}%'.format(rougher_sMAPE))\n",
    "print('final_sMAPE = {:.4f}%'.format(final_sMAPE))\n",
    "print('summary_sMAPE = {:.4f}%'.format(0.25 * rougher_sMAPE + 0.75 * final_sMAPE))"
   ]
  },
  {
   "cell_type": "markdown",
   "metadata": {},
   "source": [
    "Снова не получилось."
   ]
  },
  {
   "cell_type": "markdown",
   "metadata": {},
   "source": [
    "Вдохновившись тем, что удаление пустых recovery сильно улучшило МАЕ, возникла идея попытать модель с удалёнными пропусками таргетов и признаков, а не заполненными. Попробуем на линейной регрессии, она считается быстро. Для чистоты эксперимента скачаем датасеты заново."
   ]
  },
  {
   "cell_type": "code",
   "execution_count": 46,
   "metadata": {},
   "outputs": [
    {
     "name": "stdout",
     "output_type": "stream",
     "text": [
      "(16860, 87) (5856, 53) (22716, 87)\n"
     ]
    }
   ],
   "source": [
    "# loading files anew\n",
    "data_gold_recovery_train = pd.read_csv('/datasets/gold_recovery_train.csv')\n",
    "data_gold_recovery_test = pd.read_csv('/datasets/gold_recovery_test.csv')\n",
    "data_gold_recovery_full = pd.read_csv('/datasets/gold_recovery_full.csv')\n",
    "print(data_gold_recovery_train.shape, data_gold_recovery_test.shape, data_gold_recovery_full.shape)"
   ]
  },
  {
   "cell_type": "code",
   "execution_count": 47,
   "metadata": {},
   "outputs": [
    {
     "name": "stdout",
     "output_type": "stream",
     "text": [
      "data_gold_recovery_train index type - datetime64[ns]\n",
      "data_gold_recovery_test index type - datetime64[ns]\n",
      "data_gold_recovery_full index type - datetime64[ns]\n"
     ]
    }
   ],
   "source": [
    "# setting index\n",
    "print('data_gold_recovery_train index type -', to_datetime(data_gold_recovery_train).dtype.name)\n",
    "print('data_gold_recovery_test index type -', to_datetime(data_gold_recovery_test).dtype.name)\n",
    "print('data_gold_recovery_full index type -', to_datetime(data_gold_recovery_full).dtype.name)"
   ]
  },
  {
   "cell_type": "code",
   "execution_count": 48,
   "metadata": {},
   "outputs": [
    {
     "name": "stdout",
     "output_type": "stream",
     "text": [
      "(13241, 18) (13241,) (14423, 32) (14423,)\n"
     ]
    }
   ],
   "source": [
    "# rougher train datasets\n",
    "rougher_recovery_train_features = data_gold_recovery_train.loc[\n",
    "    data_gold_recovery_train[rougher_target_name].dropna().index, rougher_feature_names].dropna()\n",
    "rougher_recovery_train_target = (data_gold_recovery_train.loc[\n",
    "    rougher_recovery_train_features.index, [rougher_target_name]])[rougher_target_name]\n",
    "\n",
    "# final train datasets\n",
    "final_recovery_train_features = data_gold_recovery_train.loc[\n",
    "    data_gold_recovery_train[final_target_name].dropna().index, final_feature_names].dropna()\n",
    "final_recovery_train_target = (data_gold_recovery_train.loc[\n",
    "    final_recovery_train_features.index, [final_target_name]])[final_target_name]\n",
    "\n",
    "print(rougher_recovery_train_features.shape, rougher_recovery_train_target.shape, \n",
    "      final_recovery_train_features.shape, final_recovery_train_target.shape)"
   ]
  },
  {
   "cell_type": "code",
   "execution_count": 49,
   "metadata": {},
   "outputs": [
    {
     "name": "stdout",
     "output_type": "stream",
     "text": [
      "optimizing the rougher LR model...\n",
      "turn 0: intermediate sMAPE = 20.97%\n",
      "turn 1: intermediate sMAPE = 23.86%\n",
      "\n",
      "rougher LR optimization has been completed\n",
      "best rougher sMAPE - 20.97%\n",
      "best rougher params: {'fit_intercept': True, 'normalize': True, 'copy_X': True}\n",
      "\n",
      "optimizing the final LR model...\n",
      "turn 0: intermediate sMAPE = 15.15%\n",
      "turn 1: intermediate sMAPE = 15.3%\n",
      "\n",
      "final LR optimization has been completed\n",
      "best final sMAPE - 15.15%\n",
      "best final params: {'fit_intercept': True, 'normalize': True, 'copy_X': True}\n",
      "\n",
      "summary DT sMAPE = 16.6064%\n",
      "\n",
      "CPU times: user 1.25 s, sys: 1.13 s, total: 2.38 s\n",
      "Wall time: 2.35 s\n"
     ]
    }
   ],
   "source": [
    "%%time\n",
    "# strange warnings raised\n",
    "import warnings\n",
    "warnings.filterwarnings('ignore')\n",
    "\n",
    "# for information\n",
    "#LinearRegression(*, fit_intercept=True, normalize=False, copy_X=True, n_jobs=None)\n",
    "\n",
    "# creating model parameter dictionaries\n",
    "lr_rouger_model_params = {}\n",
    "lr_rouger_model_params[\"fit_intercept\"] = True\n",
    "lr_rouger_model_params[\"normalize\"] = True\n",
    "lr_rouger_model_params[\"copy_X\"] = True\n",
    "\n",
    "lr_final_model_params = {}\n",
    "lr_final_model_params[\"fit_intercept\"] = True\n",
    "lr_final_model_params[\"normalize\"] = True\n",
    "lr_final_model_params[\"copy_X\"] = True\n",
    "\n",
    "# optimizing the rougher model\n",
    "print('optimizing the rougher LR model...')\n",
    "best_params = optimizer1(rougher_recovery_train, rougher_recovery_target,\n",
    "              'lr', lr_rouger_model_params, \n",
    "              'fit_intercept', [True, False])\n",
    "\n",
    "lr_best_params = {}\n",
    "lr_best_params['rougher_params'] = best_params['params'].copy()\n",
    "lr_best_params['rougher_sMAPE'] = best_params['sMAPE']\n",
    "\n",
    "# optimization finished\n",
    "print('\\nrougher LR optimization has been completed')\n",
    "print('best rougher sMAPE - {:.4}%'.format(lr_best_params['rougher_sMAPE']))\n",
    "print('best rougher params:', lr_best_params['rougher_params'])\n",
    "\n",
    "# optimizing the final model\n",
    "print('\\noptimizing the final LR model...')\n",
    "best_params = optimizer1(final_recovery_train, final_recovery_target,\n",
    "              'lr', lr_final_model_params, \n",
    "              'fit_intercept', [True, False])\n",
    "\n",
    "lr_best_params['final_params'] = best_params['params'].copy()\n",
    "lr_best_params['final_sMAPE'] = best_params['sMAPE']\n",
    "\n",
    "# optimization finished\n",
    "print('\\nfinal LR optimization has been completed')\n",
    "print('best final sMAPE - {:.4}%'.format(lr_best_params['final_sMAPE']))\n",
    "print('best final params:', lr_best_params['final_params'])\n",
    "\n",
    "# summary sMAPE\n",
    "lr_best_params['sMAPE'] = 0.25 * lr_best_params['rougher_sMAPE'] + 0.75 * lr_best_params['final_sMAPE']\n",
    "print('\\nsummary DT sMAPE = {:.4f}%\\n'.format(lr_best_params['sMAPE']))"
   ]
  },
  {
   "cell_type": "markdown",
   "metadata": {},
   "source": [
    "Метрика существенно не улучшилась. Протестируем. Из тестовых наборов так же удалим пропуски."
   ]
  },
  {
   "cell_type": "code",
   "execution_count": 50,
   "metadata": {},
   "outputs": [
    {
     "name": "stdout",
     "output_type": "stream",
     "text": [
      "(5279, 18) (5279,) (5387, 32) (5387,)\n"
     ]
    }
   ],
   "source": [
    "# making rougher test datasets\n",
    "rougher_recovery_test_target = data_gold_recovery_full.loc[\n",
    "    data_gold_recovery_test.index, [rougher_target_name]].dropna()\n",
    "rougher_recovery_test_features = data_gold_recovery_test.loc[\n",
    "    rougher_recovery_test_target.index, rougher_feature_names].dropna()\n",
    "rougher_recovery_test_target = (data_gold_recovery_full.loc[\n",
    "    rougher_recovery_test_features.index, [rougher_target_name]])[rougher_target_name]\n",
    "\n",
    "# making final test datasets\n",
    "final_recovery_test_target = data_gold_recovery_full.loc[\n",
    "    data_gold_recovery_test.index, [final_target_name]].dropna()\n",
    "final_recovery_test_features = data_gold_recovery_test.loc[\n",
    "    final_recovery_test_target.index, final_feature_names].dropna()\n",
    "final_recovery_test_target = (data_gold_recovery_full.loc[\n",
    "    final_recovery_test_features.index, [final_target_name]])[final_target_name]\n",
    "\n",
    "print(rougher_recovery_test_features.shape, rougher_recovery_test_target.shape, \n",
    "      final_recovery_test_features.shape, final_recovery_test_target.shape)"
   ]
  },
  {
   "cell_type": "code",
   "execution_count": 51,
   "metadata": {},
   "outputs": [
    {
     "name": "stdout",
     "output_type": "stream",
     "text": [
      "rougher_sMAPE =  9.878365942213003\n",
      "final_sMAPE = 10.0263%\n",
      "summary_sMAPE = 9.9893%\n"
     ]
    }
   ],
   "source": [
    "# fitting rougher model\n",
    "lr_best_params['rougher_model'] = LinearRegression().set_params(**lr_best_params['rougher_params'])\n",
    "lr_best_params['rougher_model'].fit(rougher_recovery_train, rougher_recovery_target)\n",
    "\n",
    "# fitting final model\n",
    "lr_best_params['final_model'] = LinearRegression().set_params(**lr_best_params['final_params'])\n",
    "lr_best_params['final_model'].fit(final_recovery_train, final_recovery_target)\n",
    "\n",
    "rougher_test_predict = lr_best_params['rougher_model'].predict(rougher_recovery_test_features)\n",
    "final_test_predict = lr_best_params['final_model'].predict(final_recovery_test_features)\n",
    "\n",
    "rougher_sMAPE = sMAPE(rougher_test_predict, rougher_recovery_test_target)\n",
    "final_sMAPE = sMAPE(final_test_predict, final_recovery_test_target)\n",
    "\n",
    "print('rougher_sMAPE = ', rougher_sMAPE)\n",
    "print('final_sMAPE = {:.4f}%'.format(final_sMAPE))\n",
    "print('summary_sMAPE = {:.4f}%'.format(0.25 * rougher_sMAPE + 0.75 * final_sMAPE))"
   ]
  },
  {
   "cell_type": "markdown",
   "metadata": {},
   "source": [
    "Существенно лучше. Сравним с константной, заполненной средним из обучающего набора."
   ]
  },
  {
   "cell_type": "code",
   "execution_count": 53,
   "metadata": {},
   "outputs": [
    {
     "name": "stdout",
     "output_type": "stream",
     "text": [
      "rougher_c_sMAPE = 12.2875%\n",
      "final_c_sMAPE = 11.1544%\n",
      "summary_c_sMAPE = 11.4377%\n"
     ]
    }
   ],
   "source": [
    "rougher_recovery_constant_target = pd.Series(rougher_recovery_target.mean(), index=rougher_recovery_train_target.index)\n",
    "final_recovery_constant_target = pd.Series(final_recovery_target.mean(), index=final_recovery_train_target.index)\n",
    "\n",
    "rougher_c_sMAPE = sMAPE(rougher_recovery_constant_target, rougher_recovery_train_target)\n",
    "final_c_sMAPE = sMAPE(final_recovery_constant_target, final_recovery_train_target)\n",
    "\n",
    "print('rougher_c_sMAPE = {:.4f}%'.format(rougher_c_sMAPE))\n",
    "print('final_c_sMAPE = {:.4f}%'.format(final_c_sMAPE))\n",
    "print('summary_c_sMAPE = {:.4f}%'.format(0.25 * rougher_c_sMAPE + 0.75 * final_c_sMAPE))"
   ]
  },
  {
   "cell_type": "markdown",
   "metadata": {},
   "source": [
    "Справедливость восторжествовала. Модель на 1,5% лучше константной."
   ]
  },
  {
   "cell_type": "markdown",
   "metadata": {},
   "source": [
    "## 3.5. Выводы\n",
    "Сформулируем общие выводы.\n",
    "1. Исследование данных привело к выводу, что показатели концентрации в предоставленном заказчиком датасете являются недостоверными. Было решено обратить внимание заказчика на этот факт.\n",
    "2. Путём математического исследования было выявлено, что показатели концентрации не влияют на значения `recovery`. Учитывая это и то, что они недостоверны в имеющемся наборе данных, было решено исключить их числа признаков для обучения модели.\n",
    "3. В качестве обучающих признаков были отобраны первичные технологические параметры для стадий грубой и тонкой очистки. В качестве целевых признаков выбраны значения `recovery` обеих стадий.\n",
    "4. Была проведена оптимизация и исследованы значения sMAPE для 3-х типов моделей: решающее дерево, случайный лес и линейная регрессия. Была выбрана линейная регрессия из следующих соображений:\n",
    "- Показала лучшие значения sMAPE вместе с решающим деревом,\n",
    "- Требует горазо меньше процессорного времени для обучения и предсказания,\n",
    "- Использует все признаки, в отличие от одноуровневого решающего дерева, поэтому будет более устойчивым при различных сочетаниях признаков.\n",
    "5. Была проведена оптимизация обучающих признаков для линейной регрессии, что вывело её на первое место. Были исключены показатели уровня пульпы во флотаторах. Это соответствует природе процесса, так как количество воздуха оказывает гораздо большее влияние на пенообразование, чем уровень пульпы.\n",
    "6. Было проведено обучение выбранных моделей линейной регрессии для стадий грубой и тонкой очистки.\n",
    "7. Проведена проверка выбранных обученных моделей на тестовом наборе. Итоговая sMAPE составила 12,17%. Вывод - рекомендовать модель для дальнейшей эксплуатации."
   ]
  }
 ],
 "metadata": {
  "kernelspec": {
   "display_name": "Python 3",
   "language": "python",
   "name": "python3"
  },
  "language_info": {
   "codemirror_mode": {
    "name": "ipython",
    "version": 3
   },
   "file_extension": ".py",
   "mimetype": "text/x-python",
   "name": "python",
   "nbconvert_exporter": "python",
   "pygments_lexer": "ipython3",
   "version": "3.7.6"
  }
 },
 "nbformat": 4,
 "nbformat_minor": 2
}
