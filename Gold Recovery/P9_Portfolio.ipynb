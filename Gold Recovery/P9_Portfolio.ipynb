{
 "cells": [
  {
   "cell_type": "markdown",
   "metadata": {
    "toc": true
   },
   "source": [
    "<h1>Содержание<span class=\"tocSkip\"></span></h1>\n",
    "<div class=\"toc\"><ul class=\"toc-item\"><li><ul class=\"toc-item\"><li><span><a href=\"#Данные\" data-toc-modified-id=\"Данные-0.1\"><span class=\"toc-item-num\">0.1&nbsp;&nbsp;</span>Данные</a></span></li><li><span><a href=\"#Наименование-признаков\" data-toc-modified-id=\"Наименование-признаков-0.2\"><span class=\"toc-item-num\">0.2&nbsp;&nbsp;</span>Наименование признаков</a></span></li><li><span><a href=\"#Формулы\" data-toc-modified-id=\"Формулы-0.3\"><span class=\"toc-item-num\">0.3&nbsp;&nbsp;</span>Формулы</a></span></li></ul></li><li><span><a href=\"#Подготовка-данных\" data-toc-modified-id=\"Подготовка-данных-1\"><span class=\"toc-item-num\">1&nbsp;&nbsp;</span>Подготовка данных</a></span></li><li><span><a href=\"#Анализ-данных\" data-toc-modified-id=\"Анализ-данных-2\"><span class=\"toc-item-num\">2&nbsp;&nbsp;</span>Анализ данных</a></span></li><li><span><a href=\"#Модель\" data-toc-modified-id=\"Модель-3\"><span class=\"toc-item-num\">3&nbsp;&nbsp;</span>Модель</a></span></li><li><span><a href=\"#Чек-лист-готовности-проекта\" data-toc-modified-id=\"Чек-лист-готовности-проекта-4\"><span class=\"toc-item-num\">4&nbsp;&nbsp;</span>Чек-лист готовности проекта</a></span></li></ul></div>"
   ]
  },
  {
   "cell_type": "markdown",
   "metadata": {},
   "source": [
    "# Восстановление золота из руды"
   ]
  },
  {
   "cell_type": "markdown",
   "metadata": {},
   "source": [
    "Подготовьте прототип модели машинного обучения для «Цифры». Компания разрабатывает решения для эффективной работы промышленных предприятий.\n",
    "\n",
    "Модель должна предсказать коэффициент восстановления золота из золотосодержащей руды. Используйте данные с параметрами добычи и очистки. \n",
    "\n",
    "Модель поможет оптимизировать производство, чтобы не запускать предприятие с убыточными характеристиками.\n",
    "\n",
    "Вам нужно:\n",
    "\n",
    "1. Подготовить данные;\n",
    "2. Провести исследовательский анализ данных;\n",
    "3. Построить и обучить модель.\n",
    "\n",
    "Чтобы выполнить проект, обращайтесь к библиотекам *pandas*, *matplotlib* и *sklearn.* Вам поможет их документация."
   ]
  },
  {
   "cell_type": "markdown",
   "metadata": {},
   "source": [
    "<b>Задача: подготовить прототип модели машинного обучения, которая должна предсказать коэффициент восстановления золота из золотосодержащей руды. </b>"
   ]
  },
  {
   "cell_type": "markdown",
   "metadata": {},
   "source": [
    "### Данные\n",
    "В нашем распоряжении имеются данные с параметрами добычи и очистки. \n",
    "\n",
    "Данные находятся в трёх файлах:\n",
    "- **gold_recovery_train.csv** — обучающая выборка;\n",
    "- **gold_recovery_test.csv** — тестовая выборка;\n",
    "- **gold_recovery_full.csv** — исходные данные.\n",
    "\n",
    "Данные индексируются датой и временем получения информации (признак date). Соседние по времени параметры часто похожи.\n",
    "Некоторые параметры недоступны, потому что замеряются и/или рассчитываются значительно позже. Из-за этого в тестовой выборке отсутствуют некоторые признаки, которые могут быть в обучающей. Также в тестовом наборе нет целевых признаков.<br/>\n",
    "Исходный датасет содержит обучающую и тестовую выборки со всеми признаками.<br/>\n",
    "\n",
    "Данные в нашем распоряжении являются сырыми: их просто выгрузили из хранилища. Прежде чем приступить к построению модели, требуется проверить их на корректность согласно согласованной с заказчиком инструкции.\n",
    "\n",
    "### Наименование признаков\n",
    "Наименование признаков строится по следующему правилу:\n",
    "\n",
    "`[этап].[тип_параметра].[название_параметра]`\n",
    "    \n",
    "\n",
    "Пример: `rougher.input.feed_ag`\n",
    "\n",
    "Возможные значения для блока `[этап]`:\n",
    "- **rougher** — флотация\n",
    "- **primary_cleaner** — первичная очистка\n",
    "- **secondary_cleaner** — вторичная очистка\n",
    "- **final** — финальные характеристики\n",
    "\n",
    "Возможные значения для блока `[тип_параметра]`:\n",
    "- **input** — параметры сырья\n",
    "- **output** — параметры продукта\n",
    "- **state** — параметры, характеризующие текущее состояние этапа\n",
    "- **calculation** — расчётные характеристики\n",
    "\n",
    "### Формулы\n",
    "Требуется использовать следующие формулы для вычисления метрик качества.\n",
    "\n",
    "Эффективность обогащения рассчитывается по формуле:\n",
    "\n",
    "$$\n",
    "Recovery = {{C \\times (F - T)} \\over {F \\times (C - T)}} \\times 100\\%\n",
    "$$\n",
    "\n",
    "где:\n",
    "- $C$ — доля золота в концентрате после флотации/очистки;\n",
    "- $F$ — доля золота в сырье/концентрате до флотации/очистки;\n",
    "- $T$ — доля золота в отвальных хвостах после флотации/очистки.\n",
    "\n",
    "Для решения задачи введём новую метрику качества — **sMAPE** (Symmetric Mean Absolute Percentage Error - симметричное среднее абсолютное процентное отклонение).\n",
    "Она похожа на MAE, но выражается не в абсолютных величинах, а в относительных и одинаково учитывает масштаб и целевого признака, и предсказания.\n",
    "\n",
    "Метрика sMAPE вычисляется так:\n",
    "\n",
    "$$\n",
    "sMAPE = {1 \\over N} \\sum\\limits_{i=1}^N {{|y_i - y'_i|} \\over {(|y_i| + |y'_i|) / 2}} \\times 100\\%\n",
    "$$\n",
    "\n",
    "При работе над проектом требуется спрогнозировать сразу две величины эффективности обогащения:\n",
    "- эффективность обогащения чернового концентрата `rougher.output.recovery`;\n",
    "- эффективность обогащения финального концентрата `final.output.recovery`.\n",
    "\n",
    "Итоговая метрика sMAPE складывается из двух величин:\n",
    "\n",
    "$$\n",
    "Final\\_sMAPE = 25\\% \\times sMAPE(rougher) + 75\\% \\times sMAPE(final)\n",
    "$$"
   ]
  },
  {
   "cell_type": "markdown",
   "metadata": {},
   "source": [
    "## Подготовка данных"
   ]
  },
  {
   "cell_type": "markdown",
   "metadata": {},
   "source": [
    "Сначала отдельно импортируем все необходимые библиотеки и функции:"
   ]
  },
  {
   "cell_type": "code",
   "execution_count": 1,
   "metadata": {},
   "outputs": [],
   "source": [
    "import pandas as pd\n",
    "import numpy as np\n",
    "import matplotlib.pyplot as plt\n",
    "from scipy import stats as st\n",
    "\n",
    "from sklearn.ensemble import RandomForestRegressor\n",
    "from sklearn.linear_model import LinearRegression\n",
    "from sklearn.dummy import DummyRegressor\n",
    "\n",
    "from sklearn.metrics import mean_absolute_error, mean_squared_error, accuracy_score, make_scorer\n",
    "from sklearn.metrics import f1_score, roc_curve, roc_auc_score\n",
    "from sklearn.model_selection import cross_val_score\n",
    "from sklearn.preprocessing import StandardScaler\n",
    "\n",
    "from tqdm.notebook import tqdm"
   ]
  },
  {
   "cell_type": "markdown",
   "metadata": {},
   "source": [
    "Далее откроем и изучим файлы с данными:"
   ]
  },
  {
   "cell_type": "code",
   "execution_count": 2,
   "metadata": {},
   "outputs": [
    {
     "name": "stdout",
     "output_type": "stream",
     "text": [
      "\u001b[1mTRAIN:\u001b[0m\n",
      "<class 'pandas.core.frame.DataFrame'>\n",
      "RangeIndex: 14149 entries, 0 to 14148\n",
      "Data columns (total 87 columns):\n",
      " #   Column                                              Non-Null Count  Dtype  \n",
      "---  ------                                              --------------  -----  \n",
      " 0   date                                                14149 non-null  object \n",
      " 1   final.output.concentrate_ag                         14148 non-null  float64\n",
      " 2   final.output.concentrate_pb                         14148 non-null  float64\n",
      " 3   final.output.concentrate_sol                        13938 non-null  float64\n",
      " 4   final.output.concentrate_au                         14149 non-null  float64\n",
      " 5   final.output.recovery                               14149 non-null  float64\n",
      " 6   final.output.tail_ag                                14149 non-null  float64\n",
      " 7   final.output.tail_pb                                14049 non-null  float64\n",
      " 8   final.output.tail_sol                               14144 non-null  float64\n",
      " 9   final.output.tail_au                                14149 non-null  float64\n",
      " 10  primary_cleaner.input.sulfate                       14129 non-null  float64\n",
      " 11  primary_cleaner.input.depressant                    14117 non-null  float64\n",
      " 12  primary_cleaner.input.feed_size                     14149 non-null  float64\n",
      " 13  primary_cleaner.input.xanthate                      14049 non-null  float64\n",
      " 14  primary_cleaner.output.concentrate_ag               14149 non-null  float64\n",
      " 15  primary_cleaner.output.concentrate_pb               14063 non-null  float64\n",
      " 16  primary_cleaner.output.concentrate_sol              13863 non-null  float64\n",
      " 17  primary_cleaner.output.concentrate_au               14149 non-null  float64\n",
      " 18  primary_cleaner.output.tail_ag                      14148 non-null  float64\n",
      " 19  primary_cleaner.output.tail_pb                      14134 non-null  float64\n",
      " 20  primary_cleaner.output.tail_sol                     14103 non-null  float64\n",
      " 21  primary_cleaner.output.tail_au                      14149 non-null  float64\n",
      " 22  primary_cleaner.state.floatbank8_a_air              14145 non-null  float64\n",
      " 23  primary_cleaner.state.floatbank8_a_level            14148 non-null  float64\n",
      " 24  primary_cleaner.state.floatbank8_b_air              14145 non-null  float64\n",
      " 25  primary_cleaner.state.floatbank8_b_level            14148 non-null  float64\n",
      " 26  primary_cleaner.state.floatbank8_c_air              14147 non-null  float64\n",
      " 27  primary_cleaner.state.floatbank8_c_level            14148 non-null  float64\n",
      " 28  primary_cleaner.state.floatbank8_d_air              14146 non-null  float64\n",
      " 29  primary_cleaner.state.floatbank8_d_level            14148 non-null  float64\n",
      " 30  rougher.calculation.sulfate_to_au_concentrate       14148 non-null  float64\n",
      " 31  rougher.calculation.floatbank10_sulfate_to_au_feed  14148 non-null  float64\n",
      " 32  rougher.calculation.floatbank11_sulfate_to_au_feed  14148 non-null  float64\n",
      " 33  rougher.calculation.au_pb_ratio                     14149 non-null  float64\n",
      " 34  rougher.input.feed_ag                               14149 non-null  float64\n",
      " 35  rougher.input.feed_pb                               14049 non-null  float64\n",
      " 36  rougher.input.feed_rate                             14141 non-null  float64\n",
      " 37  rougher.input.feed_size                             14005 non-null  float64\n",
      " 38  rougher.input.feed_sol                              14071 non-null  float64\n",
      " 39  rougher.input.feed_au                               14149 non-null  float64\n",
      " 40  rougher.input.floatbank10_sulfate                   14120 non-null  float64\n",
      " 41  rougher.input.floatbank10_xanthate                  14141 non-null  float64\n",
      " 42  rougher.input.floatbank11_sulfate                   14113 non-null  float64\n",
      " 43  rougher.input.floatbank11_xanthate                  13721 non-null  float64\n",
      " 44  rougher.output.concentrate_ag                       14149 non-null  float64\n",
      " 45  rougher.output.concentrate_pb                       14149 non-null  float64\n",
      " 46  rougher.output.concentrate_sol                      14127 non-null  float64\n",
      " 47  rougher.output.concentrate_au                       14149 non-null  float64\n",
      " 48  rougher.output.recovery                             14149 non-null  float64\n",
      " 49  rougher.output.tail_ag                              14148 non-null  float64\n",
      " 50  rougher.output.tail_pb                              14149 non-null  float64\n",
      " 51  rougher.output.tail_sol                             14149 non-null  float64\n",
      " 52  rougher.output.tail_au                              14149 non-null  float64\n",
      " 53  rougher.state.floatbank10_a_air                     14148 non-null  float64\n",
      " 54  rougher.state.floatbank10_a_level                   14148 non-null  float64\n",
      " 55  rougher.state.floatbank10_b_air                     14148 non-null  float64\n",
      " 56  rougher.state.floatbank10_b_level                   14148 non-null  float64\n",
      " 57  rougher.state.floatbank10_c_air                     14148 non-null  float64\n",
      " 58  rougher.state.floatbank10_c_level                   14148 non-null  float64\n",
      " 59  rougher.state.floatbank10_d_air                     14149 non-null  float64\n",
      " 60  rougher.state.floatbank10_d_level                   14149 non-null  float64\n",
      " 61  rougher.state.floatbank10_e_air                     13713 non-null  float64\n",
      " 62  rougher.state.floatbank10_e_level                   14149 non-null  float64\n",
      " 63  rougher.state.floatbank10_f_air                     14149 non-null  float64\n",
      " 64  rougher.state.floatbank10_f_level                   14149 non-null  float64\n",
      " 65  secondary_cleaner.output.tail_ag                    14147 non-null  float64\n",
      " 66  secondary_cleaner.output.tail_pb                    14139 non-null  float64\n",
      " 67  secondary_cleaner.output.tail_sol                   12544 non-null  float64\n",
      " 68  secondary_cleaner.output.tail_au                    14149 non-null  float64\n",
      " 69  secondary_cleaner.state.floatbank2_a_air            13932 non-null  float64\n",
      " 70  secondary_cleaner.state.floatbank2_a_level          14148 non-null  float64\n",
      " 71  secondary_cleaner.state.floatbank2_b_air            14128 non-null  float64\n",
      " 72  secondary_cleaner.state.floatbank2_b_level          14148 non-null  float64\n",
      " 73  secondary_cleaner.state.floatbank3_a_air            14145 non-null  float64\n",
      " 74  secondary_cleaner.state.floatbank3_a_level          14148 non-null  float64\n",
      " 75  secondary_cleaner.state.floatbank3_b_air            14148 non-null  float64\n",
      " 76  secondary_cleaner.state.floatbank3_b_level          14148 non-null  float64\n",
      " 77  secondary_cleaner.state.floatbank4_a_air            14143 non-null  float64\n",
      " 78  secondary_cleaner.state.floatbank4_a_level          14148 non-null  float64\n",
      " 79  secondary_cleaner.state.floatbank4_b_air            14148 non-null  float64\n",
      " 80  secondary_cleaner.state.floatbank4_b_level          14148 non-null  float64\n",
      " 81  secondary_cleaner.state.floatbank5_a_air            14148 non-null  float64\n",
      " 82  secondary_cleaner.state.floatbank5_a_level          14148 non-null  float64\n",
      " 83  secondary_cleaner.state.floatbank5_b_air            14148 non-null  float64\n",
      " 84  secondary_cleaner.state.floatbank5_b_level          14148 non-null  float64\n",
      " 85  secondary_cleaner.state.floatbank6_a_air            14147 non-null  float64\n",
      " 86  secondary_cleaner.state.floatbank6_a_level          14148 non-null  float64\n",
      "dtypes: float64(86), object(1)\n",
      "memory usage: 9.4+ MB\n"
     ]
    },
    {
     "data": {
      "text/html": [
       "<div>\n",
       "<style scoped>\n",
       "    .dataframe tbody tr th:only-of-type {\n",
       "        vertical-align: middle;\n",
       "    }\n",
       "\n",
       "    .dataframe tbody tr th {\n",
       "        vertical-align: top;\n",
       "    }\n",
       "\n",
       "    .dataframe thead th {\n",
       "        text-align: right;\n",
       "    }\n",
       "</style>\n",
       "<table border=\"1\" class=\"dataframe\">\n",
       "  <thead>\n",
       "    <tr style=\"text-align: right;\">\n",
       "      <th></th>\n",
       "      <th>date</th>\n",
       "      <th>final.output.concentrate_ag</th>\n",
       "      <th>final.output.concentrate_pb</th>\n",
       "      <th>final.output.concentrate_sol</th>\n",
       "      <th>final.output.concentrate_au</th>\n",
       "      <th>final.output.recovery</th>\n",
       "      <th>final.output.tail_ag</th>\n",
       "      <th>final.output.tail_pb</th>\n",
       "      <th>final.output.tail_sol</th>\n",
       "      <th>final.output.tail_au</th>\n",
       "      <th>...</th>\n",
       "      <th>secondary_cleaner.state.floatbank4_a_air</th>\n",
       "      <th>secondary_cleaner.state.floatbank4_a_level</th>\n",
       "      <th>secondary_cleaner.state.floatbank4_b_air</th>\n",
       "      <th>secondary_cleaner.state.floatbank4_b_level</th>\n",
       "      <th>secondary_cleaner.state.floatbank5_a_air</th>\n",
       "      <th>secondary_cleaner.state.floatbank5_a_level</th>\n",
       "      <th>secondary_cleaner.state.floatbank5_b_air</th>\n",
       "      <th>secondary_cleaner.state.floatbank5_b_level</th>\n",
       "      <th>secondary_cleaner.state.floatbank6_a_air</th>\n",
       "      <th>secondary_cleaner.state.floatbank6_a_level</th>\n",
       "    </tr>\n",
       "  </thead>\n",
       "  <tbody>\n",
       "    <tr>\n",
       "      <th>0</th>\n",
       "      <td>2016-01-15 00:00:00</td>\n",
       "      <td>6.055403</td>\n",
       "      <td>9.889648</td>\n",
       "      <td>5.507324</td>\n",
       "      <td>42.192020</td>\n",
       "      <td>70.541216</td>\n",
       "      <td>10.411962</td>\n",
       "      <td>0.895447</td>\n",
       "      <td>16.904297</td>\n",
       "      <td>2.143149</td>\n",
       "      <td>...</td>\n",
       "      <td>14.016835</td>\n",
       "      <td>-502.488007</td>\n",
       "      <td>12.099931</td>\n",
       "      <td>-504.715942</td>\n",
       "      <td>9.925633</td>\n",
       "      <td>-498.310211</td>\n",
       "      <td>8.079666</td>\n",
       "      <td>-500.470978</td>\n",
       "      <td>14.151341</td>\n",
       "      <td>-605.841980</td>\n",
       "    </tr>\n",
       "    <tr>\n",
       "      <th>1</th>\n",
       "      <td>2016-01-15 01:00:00</td>\n",
       "      <td>6.029369</td>\n",
       "      <td>9.968944</td>\n",
       "      <td>5.257781</td>\n",
       "      <td>42.701629</td>\n",
       "      <td>69.266198</td>\n",
       "      <td>10.462676</td>\n",
       "      <td>0.927452</td>\n",
       "      <td>16.634514</td>\n",
       "      <td>2.224930</td>\n",
       "      <td>...</td>\n",
       "      <td>13.992281</td>\n",
       "      <td>-505.503262</td>\n",
       "      <td>11.950531</td>\n",
       "      <td>-501.331529</td>\n",
       "      <td>10.039245</td>\n",
       "      <td>-500.169983</td>\n",
       "      <td>7.984757</td>\n",
       "      <td>-500.582168</td>\n",
       "      <td>13.998353</td>\n",
       "      <td>-599.787184</td>\n",
       "    </tr>\n",
       "    <tr>\n",
       "      <th>2</th>\n",
       "      <td>2016-01-15 02:00:00</td>\n",
       "      <td>6.055926</td>\n",
       "      <td>10.213995</td>\n",
       "      <td>5.383759</td>\n",
       "      <td>42.657501</td>\n",
       "      <td>68.116445</td>\n",
       "      <td>10.507046</td>\n",
       "      <td>0.953716</td>\n",
       "      <td>16.208849</td>\n",
       "      <td>2.257889</td>\n",
       "      <td>...</td>\n",
       "      <td>14.015015</td>\n",
       "      <td>-502.520901</td>\n",
       "      <td>11.912783</td>\n",
       "      <td>-501.133383</td>\n",
       "      <td>10.070913</td>\n",
       "      <td>-500.129135</td>\n",
       "      <td>8.013877</td>\n",
       "      <td>-500.517572</td>\n",
       "      <td>14.028663</td>\n",
       "      <td>-601.427363</td>\n",
       "    </tr>\n",
       "    <tr>\n",
       "      <th>3</th>\n",
       "      <td>2016-01-15 03:00:00</td>\n",
       "      <td>6.047977</td>\n",
       "      <td>9.977019</td>\n",
       "      <td>4.858634</td>\n",
       "      <td>42.689819</td>\n",
       "      <td>68.347543</td>\n",
       "      <td>10.422762</td>\n",
       "      <td>0.883763</td>\n",
       "      <td>16.532835</td>\n",
       "      <td>2.146849</td>\n",
       "      <td>...</td>\n",
       "      <td>14.036510</td>\n",
       "      <td>-500.857308</td>\n",
       "      <td>11.999550</td>\n",
       "      <td>-501.193686</td>\n",
       "      <td>9.970366</td>\n",
       "      <td>-499.201640</td>\n",
       "      <td>7.977324</td>\n",
       "      <td>-500.255908</td>\n",
       "      <td>14.005551</td>\n",
       "      <td>-599.996129</td>\n",
       "    </tr>\n",
       "    <tr>\n",
       "      <th>4</th>\n",
       "      <td>2016-01-15 04:00:00</td>\n",
       "      <td>6.148599</td>\n",
       "      <td>10.142511</td>\n",
       "      <td>4.939416</td>\n",
       "      <td>42.774141</td>\n",
       "      <td>66.927016</td>\n",
       "      <td>10.360302</td>\n",
       "      <td>0.792826</td>\n",
       "      <td>16.525686</td>\n",
       "      <td>2.055292</td>\n",
       "      <td>...</td>\n",
       "      <td>14.027298</td>\n",
       "      <td>-499.838632</td>\n",
       "      <td>11.953070</td>\n",
       "      <td>-501.053894</td>\n",
       "      <td>9.925709</td>\n",
       "      <td>-501.686727</td>\n",
       "      <td>7.894242</td>\n",
       "      <td>-500.356035</td>\n",
       "      <td>13.996647</td>\n",
       "      <td>-601.496691</td>\n",
       "    </tr>\n",
       "  </tbody>\n",
       "</table>\n",
       "<p>5 rows × 87 columns</p>\n",
       "</div>"
      ],
      "text/plain": [
       "                  date  final.output.concentrate_ag  \\\n",
       "0  2016-01-15 00:00:00                     6.055403   \n",
       "1  2016-01-15 01:00:00                     6.029369   \n",
       "2  2016-01-15 02:00:00                     6.055926   \n",
       "3  2016-01-15 03:00:00                     6.047977   \n",
       "4  2016-01-15 04:00:00                     6.148599   \n",
       "\n",
       "   final.output.concentrate_pb  final.output.concentrate_sol  \\\n",
       "0                     9.889648                      5.507324   \n",
       "1                     9.968944                      5.257781   \n",
       "2                    10.213995                      5.383759   \n",
       "3                     9.977019                      4.858634   \n",
       "4                    10.142511                      4.939416   \n",
       "\n",
       "   final.output.concentrate_au  final.output.recovery  final.output.tail_ag  \\\n",
       "0                    42.192020              70.541216             10.411962   \n",
       "1                    42.701629              69.266198             10.462676   \n",
       "2                    42.657501              68.116445             10.507046   \n",
       "3                    42.689819              68.347543             10.422762   \n",
       "4                    42.774141              66.927016             10.360302   \n",
       "\n",
       "   final.output.tail_pb  final.output.tail_sol  final.output.tail_au  ...  \\\n",
       "0              0.895447              16.904297              2.143149  ...   \n",
       "1              0.927452              16.634514              2.224930  ...   \n",
       "2              0.953716              16.208849              2.257889  ...   \n",
       "3              0.883763              16.532835              2.146849  ...   \n",
       "4              0.792826              16.525686              2.055292  ...   \n",
       "\n",
       "   secondary_cleaner.state.floatbank4_a_air  \\\n",
       "0                                 14.016835   \n",
       "1                                 13.992281   \n",
       "2                                 14.015015   \n",
       "3                                 14.036510   \n",
       "4                                 14.027298   \n",
       "\n",
       "   secondary_cleaner.state.floatbank4_a_level  \\\n",
       "0                                 -502.488007   \n",
       "1                                 -505.503262   \n",
       "2                                 -502.520901   \n",
       "3                                 -500.857308   \n",
       "4                                 -499.838632   \n",
       "\n",
       "   secondary_cleaner.state.floatbank4_b_air  \\\n",
       "0                                 12.099931   \n",
       "1                                 11.950531   \n",
       "2                                 11.912783   \n",
       "3                                 11.999550   \n",
       "4                                 11.953070   \n",
       "\n",
       "   secondary_cleaner.state.floatbank4_b_level  \\\n",
       "0                                 -504.715942   \n",
       "1                                 -501.331529   \n",
       "2                                 -501.133383   \n",
       "3                                 -501.193686   \n",
       "4                                 -501.053894   \n",
       "\n",
       "   secondary_cleaner.state.floatbank5_a_air  \\\n",
       "0                                  9.925633   \n",
       "1                                 10.039245   \n",
       "2                                 10.070913   \n",
       "3                                  9.970366   \n",
       "4                                  9.925709   \n",
       "\n",
       "   secondary_cleaner.state.floatbank5_a_level  \\\n",
       "0                                 -498.310211   \n",
       "1                                 -500.169983   \n",
       "2                                 -500.129135   \n",
       "3                                 -499.201640   \n",
       "4                                 -501.686727   \n",
       "\n",
       "   secondary_cleaner.state.floatbank5_b_air  \\\n",
       "0                                  8.079666   \n",
       "1                                  7.984757   \n",
       "2                                  8.013877   \n",
       "3                                  7.977324   \n",
       "4                                  7.894242   \n",
       "\n",
       "   secondary_cleaner.state.floatbank5_b_level  \\\n",
       "0                                 -500.470978   \n",
       "1                                 -500.582168   \n",
       "2                                 -500.517572   \n",
       "3                                 -500.255908   \n",
       "4                                 -500.356035   \n",
       "\n",
       "   secondary_cleaner.state.floatbank6_a_air  \\\n",
       "0                                 14.151341   \n",
       "1                                 13.998353   \n",
       "2                                 14.028663   \n",
       "3                                 14.005551   \n",
       "4                                 13.996647   \n",
       "\n",
       "   secondary_cleaner.state.floatbank6_a_level  \n",
       "0                                 -605.841980  \n",
       "1                                 -599.787184  \n",
       "2                                 -601.427363  \n",
       "3                                 -599.996129  \n",
       "4                                 -601.496691  \n",
       "\n",
       "[5 rows x 87 columns]"
      ]
     },
     "metadata": {},
     "output_type": "display_data"
    },
    {
     "name": "stdout",
     "output_type": "stream",
     "text": [
      "----------------------------------------------\n",
      "\n",
      "\u001b[1mTEST:\u001b[0m\n",
      "<class 'pandas.core.frame.DataFrame'>\n",
      "RangeIndex: 5290 entries, 0 to 5289\n",
      "Data columns (total 53 columns):\n",
      " #   Column                                      Non-Null Count  Dtype  \n",
      "---  ------                                      --------------  -----  \n",
      " 0   date                                        5290 non-null   object \n",
      " 1   primary_cleaner.input.sulfate               5286 non-null   float64\n",
      " 2   primary_cleaner.input.depressant            5285 non-null   float64\n",
      " 3   primary_cleaner.input.feed_size             5290 non-null   float64\n",
      " 4   primary_cleaner.input.xanthate              5286 non-null   float64\n",
      " 5   primary_cleaner.state.floatbank8_a_air      5290 non-null   float64\n",
      " 6   primary_cleaner.state.floatbank8_a_level    5290 non-null   float64\n",
      " 7   primary_cleaner.state.floatbank8_b_air      5290 non-null   float64\n",
      " 8   primary_cleaner.state.floatbank8_b_level    5290 non-null   float64\n",
      " 9   primary_cleaner.state.floatbank8_c_air      5290 non-null   float64\n",
      " 10  primary_cleaner.state.floatbank8_c_level    5290 non-null   float64\n",
      " 11  primary_cleaner.state.floatbank8_d_air      5290 non-null   float64\n",
      " 12  primary_cleaner.state.floatbank8_d_level    5290 non-null   float64\n",
      " 13  rougher.input.feed_ag                       5290 non-null   float64\n",
      " 14  rougher.input.feed_pb                       5290 non-null   float64\n",
      " 15  rougher.input.feed_rate                     5287 non-null   float64\n",
      " 16  rougher.input.feed_size                     5289 non-null   float64\n",
      " 17  rougher.input.feed_sol                      5269 non-null   float64\n",
      " 18  rougher.input.feed_au                       5290 non-null   float64\n",
      " 19  rougher.input.floatbank10_sulfate           5285 non-null   float64\n",
      " 20  rougher.input.floatbank10_xanthate          5290 non-null   float64\n",
      " 21  rougher.input.floatbank11_sulfate           5282 non-null   float64\n",
      " 22  rougher.input.floatbank11_xanthate          5265 non-null   float64\n",
      " 23  rougher.state.floatbank10_a_air             5290 non-null   float64\n",
      " 24  rougher.state.floatbank10_a_level           5290 non-null   float64\n",
      " 25  rougher.state.floatbank10_b_air             5290 non-null   float64\n",
      " 26  rougher.state.floatbank10_b_level           5290 non-null   float64\n",
      " 27  rougher.state.floatbank10_c_air             5290 non-null   float64\n",
      " 28  rougher.state.floatbank10_c_level           5290 non-null   float64\n",
      " 29  rougher.state.floatbank10_d_air             5290 non-null   float64\n",
      " 30  rougher.state.floatbank10_d_level           5290 non-null   float64\n",
      " 31  rougher.state.floatbank10_e_air             5290 non-null   float64\n",
      " 32  rougher.state.floatbank10_e_level           5290 non-null   float64\n",
      " 33  rougher.state.floatbank10_f_air             5290 non-null   float64\n",
      " 34  rougher.state.floatbank10_f_level           5290 non-null   float64\n",
      " 35  secondary_cleaner.state.floatbank2_a_air    5287 non-null   float64\n",
      " 36  secondary_cleaner.state.floatbank2_a_level  5290 non-null   float64\n",
      " 37  secondary_cleaner.state.floatbank2_b_air    5288 non-null   float64\n",
      " 38  secondary_cleaner.state.floatbank2_b_level  5290 non-null   float64\n",
      " 39  secondary_cleaner.state.floatbank3_a_air    5281 non-null   float64\n",
      " 40  secondary_cleaner.state.floatbank3_a_level  5290 non-null   float64\n",
      " 41  secondary_cleaner.state.floatbank3_b_air    5290 non-null   float64\n",
      " 42  secondary_cleaner.state.floatbank3_b_level  5290 non-null   float64\n",
      " 43  secondary_cleaner.state.floatbank4_a_air    5290 non-null   float64\n",
      " 44  secondary_cleaner.state.floatbank4_a_level  5290 non-null   float64\n",
      " 45  secondary_cleaner.state.floatbank4_b_air    5290 non-null   float64\n",
      " 46  secondary_cleaner.state.floatbank4_b_level  5290 non-null   float64\n",
      " 47  secondary_cleaner.state.floatbank5_a_air    5290 non-null   float64\n",
      " 48  secondary_cleaner.state.floatbank5_a_level  5290 non-null   float64\n",
      " 49  secondary_cleaner.state.floatbank5_b_air    5290 non-null   float64\n",
      " 50  secondary_cleaner.state.floatbank5_b_level  5290 non-null   float64\n",
      " 51  secondary_cleaner.state.floatbank6_a_air    5290 non-null   float64\n",
      " 52  secondary_cleaner.state.floatbank6_a_level  5290 non-null   float64\n",
      "dtypes: float64(52), object(1)\n",
      "memory usage: 2.1+ MB\n"
     ]
    },
    {
     "data": {
      "text/html": [
       "<div>\n",
       "<style scoped>\n",
       "    .dataframe tbody tr th:only-of-type {\n",
       "        vertical-align: middle;\n",
       "    }\n",
       "\n",
       "    .dataframe tbody tr th {\n",
       "        vertical-align: top;\n",
       "    }\n",
       "\n",
       "    .dataframe thead th {\n",
       "        text-align: right;\n",
       "    }\n",
       "</style>\n",
       "<table border=\"1\" class=\"dataframe\">\n",
       "  <thead>\n",
       "    <tr style=\"text-align: right;\">\n",
       "      <th></th>\n",
       "      <th>date</th>\n",
       "      <th>primary_cleaner.input.sulfate</th>\n",
       "      <th>primary_cleaner.input.depressant</th>\n",
       "      <th>primary_cleaner.input.feed_size</th>\n",
       "      <th>primary_cleaner.input.xanthate</th>\n",
       "      <th>primary_cleaner.state.floatbank8_a_air</th>\n",
       "      <th>primary_cleaner.state.floatbank8_a_level</th>\n",
       "      <th>primary_cleaner.state.floatbank8_b_air</th>\n",
       "      <th>primary_cleaner.state.floatbank8_b_level</th>\n",
       "      <th>primary_cleaner.state.floatbank8_c_air</th>\n",
       "      <th>...</th>\n",
       "      <th>secondary_cleaner.state.floatbank4_a_air</th>\n",
       "      <th>secondary_cleaner.state.floatbank4_a_level</th>\n",
       "      <th>secondary_cleaner.state.floatbank4_b_air</th>\n",
       "      <th>secondary_cleaner.state.floatbank4_b_level</th>\n",
       "      <th>secondary_cleaner.state.floatbank5_a_air</th>\n",
       "      <th>secondary_cleaner.state.floatbank5_a_level</th>\n",
       "      <th>secondary_cleaner.state.floatbank5_b_air</th>\n",
       "      <th>secondary_cleaner.state.floatbank5_b_level</th>\n",
       "      <th>secondary_cleaner.state.floatbank6_a_air</th>\n",
       "      <th>secondary_cleaner.state.floatbank6_a_level</th>\n",
       "    </tr>\n",
       "  </thead>\n",
       "  <tbody>\n",
       "    <tr>\n",
       "      <th>0</th>\n",
       "      <td>2016-09-01 00:59:59</td>\n",
       "      <td>210.800909</td>\n",
       "      <td>14.993118</td>\n",
       "      <td>8.080000</td>\n",
       "      <td>1.005021</td>\n",
       "      <td>1398.981301</td>\n",
       "      <td>-500.225577</td>\n",
       "      <td>1399.144926</td>\n",
       "      <td>-499.919735</td>\n",
       "      <td>1400.102998</td>\n",
       "      <td>...</td>\n",
       "      <td>12.023554</td>\n",
       "      <td>-497.795834</td>\n",
       "      <td>8.016656</td>\n",
       "      <td>-501.289139</td>\n",
       "      <td>7.946562</td>\n",
       "      <td>-432.317850</td>\n",
       "      <td>4.872511</td>\n",
       "      <td>-500.037437</td>\n",
       "      <td>26.705889</td>\n",
       "      <td>-499.709414</td>\n",
       "    </tr>\n",
       "    <tr>\n",
       "      <th>1</th>\n",
       "      <td>2016-09-01 01:59:59</td>\n",
       "      <td>215.392455</td>\n",
       "      <td>14.987471</td>\n",
       "      <td>8.080000</td>\n",
       "      <td>0.990469</td>\n",
       "      <td>1398.777912</td>\n",
       "      <td>-500.057435</td>\n",
       "      <td>1398.055362</td>\n",
       "      <td>-499.778182</td>\n",
       "      <td>1396.151033</td>\n",
       "      <td>...</td>\n",
       "      <td>12.058140</td>\n",
       "      <td>-498.695773</td>\n",
       "      <td>8.130979</td>\n",
       "      <td>-499.634209</td>\n",
       "      <td>7.958270</td>\n",
       "      <td>-525.839648</td>\n",
       "      <td>4.878850</td>\n",
       "      <td>-500.162375</td>\n",
       "      <td>25.019940</td>\n",
       "      <td>-499.819438</td>\n",
       "    </tr>\n",
       "    <tr>\n",
       "      <th>2</th>\n",
       "      <td>2016-09-01 02:59:59</td>\n",
       "      <td>215.259946</td>\n",
       "      <td>12.884934</td>\n",
       "      <td>7.786667</td>\n",
       "      <td>0.996043</td>\n",
       "      <td>1398.493666</td>\n",
       "      <td>-500.868360</td>\n",
       "      <td>1398.860436</td>\n",
       "      <td>-499.764529</td>\n",
       "      <td>1398.075709</td>\n",
       "      <td>...</td>\n",
       "      <td>11.962366</td>\n",
       "      <td>-498.767484</td>\n",
       "      <td>8.096893</td>\n",
       "      <td>-500.827423</td>\n",
       "      <td>8.071056</td>\n",
       "      <td>-500.801673</td>\n",
       "      <td>4.905125</td>\n",
       "      <td>-499.828510</td>\n",
       "      <td>24.994862</td>\n",
       "      <td>-500.622559</td>\n",
       "    </tr>\n",
       "    <tr>\n",
       "      <th>3</th>\n",
       "      <td>2016-09-01 03:59:59</td>\n",
       "      <td>215.336236</td>\n",
       "      <td>12.006805</td>\n",
       "      <td>7.640000</td>\n",
       "      <td>0.863514</td>\n",
       "      <td>1399.618111</td>\n",
       "      <td>-498.863574</td>\n",
       "      <td>1397.440120</td>\n",
       "      <td>-499.211024</td>\n",
       "      <td>1400.129303</td>\n",
       "      <td>...</td>\n",
       "      <td>12.033091</td>\n",
       "      <td>-498.350935</td>\n",
       "      <td>8.074946</td>\n",
       "      <td>-499.474407</td>\n",
       "      <td>7.897085</td>\n",
       "      <td>-500.868509</td>\n",
       "      <td>4.931400</td>\n",
       "      <td>-499.963623</td>\n",
       "      <td>24.948919</td>\n",
       "      <td>-498.709987</td>\n",
       "    </tr>\n",
       "    <tr>\n",
       "      <th>4</th>\n",
       "      <td>2016-09-01 04:59:59</td>\n",
       "      <td>199.099327</td>\n",
       "      <td>10.682530</td>\n",
       "      <td>7.530000</td>\n",
       "      <td>0.805575</td>\n",
       "      <td>1401.268123</td>\n",
       "      <td>-500.808305</td>\n",
       "      <td>1398.128818</td>\n",
       "      <td>-499.504543</td>\n",
       "      <td>1402.172226</td>\n",
       "      <td>...</td>\n",
       "      <td>12.025367</td>\n",
       "      <td>-500.786497</td>\n",
       "      <td>8.054678</td>\n",
       "      <td>-500.397500</td>\n",
       "      <td>8.107890</td>\n",
       "      <td>-509.526725</td>\n",
       "      <td>4.957674</td>\n",
       "      <td>-500.360026</td>\n",
       "      <td>25.003331</td>\n",
       "      <td>-500.856333</td>\n",
       "    </tr>\n",
       "  </tbody>\n",
       "</table>\n",
       "<p>5 rows × 53 columns</p>\n",
       "</div>"
      ],
      "text/plain": [
       "                  date  primary_cleaner.input.sulfate  \\\n",
       "0  2016-09-01 00:59:59                     210.800909   \n",
       "1  2016-09-01 01:59:59                     215.392455   \n",
       "2  2016-09-01 02:59:59                     215.259946   \n",
       "3  2016-09-01 03:59:59                     215.336236   \n",
       "4  2016-09-01 04:59:59                     199.099327   \n",
       "\n",
       "   primary_cleaner.input.depressant  primary_cleaner.input.feed_size  \\\n",
       "0                         14.993118                         8.080000   \n",
       "1                         14.987471                         8.080000   \n",
       "2                         12.884934                         7.786667   \n",
       "3                         12.006805                         7.640000   \n",
       "4                         10.682530                         7.530000   \n",
       "\n",
       "   primary_cleaner.input.xanthate  primary_cleaner.state.floatbank8_a_air  \\\n",
       "0                        1.005021                             1398.981301   \n",
       "1                        0.990469                             1398.777912   \n",
       "2                        0.996043                             1398.493666   \n",
       "3                        0.863514                             1399.618111   \n",
       "4                        0.805575                             1401.268123   \n",
       "\n",
       "   primary_cleaner.state.floatbank8_a_level  \\\n",
       "0                               -500.225577   \n",
       "1                               -500.057435   \n",
       "2                               -500.868360   \n",
       "3                               -498.863574   \n",
       "4                               -500.808305   \n",
       "\n",
       "   primary_cleaner.state.floatbank8_b_air  \\\n",
       "0                             1399.144926   \n",
       "1                             1398.055362   \n",
       "2                             1398.860436   \n",
       "3                             1397.440120   \n",
       "4                             1398.128818   \n",
       "\n",
       "   primary_cleaner.state.floatbank8_b_level  \\\n",
       "0                               -499.919735   \n",
       "1                               -499.778182   \n",
       "2                               -499.764529   \n",
       "3                               -499.211024   \n",
       "4                               -499.504543   \n",
       "\n",
       "   primary_cleaner.state.floatbank8_c_air  ...  \\\n",
       "0                             1400.102998  ...   \n",
       "1                             1396.151033  ...   \n",
       "2                             1398.075709  ...   \n",
       "3                             1400.129303  ...   \n",
       "4                             1402.172226  ...   \n",
       "\n",
       "   secondary_cleaner.state.floatbank4_a_air  \\\n",
       "0                                 12.023554   \n",
       "1                                 12.058140   \n",
       "2                                 11.962366   \n",
       "3                                 12.033091   \n",
       "4                                 12.025367   \n",
       "\n",
       "   secondary_cleaner.state.floatbank4_a_level  \\\n",
       "0                                 -497.795834   \n",
       "1                                 -498.695773   \n",
       "2                                 -498.767484   \n",
       "3                                 -498.350935   \n",
       "4                                 -500.786497   \n",
       "\n",
       "   secondary_cleaner.state.floatbank4_b_air  \\\n",
       "0                                  8.016656   \n",
       "1                                  8.130979   \n",
       "2                                  8.096893   \n",
       "3                                  8.074946   \n",
       "4                                  8.054678   \n",
       "\n",
       "   secondary_cleaner.state.floatbank4_b_level  \\\n",
       "0                                 -501.289139   \n",
       "1                                 -499.634209   \n",
       "2                                 -500.827423   \n",
       "3                                 -499.474407   \n",
       "4                                 -500.397500   \n",
       "\n",
       "   secondary_cleaner.state.floatbank5_a_air  \\\n",
       "0                                  7.946562   \n",
       "1                                  7.958270   \n",
       "2                                  8.071056   \n",
       "3                                  7.897085   \n",
       "4                                  8.107890   \n",
       "\n",
       "   secondary_cleaner.state.floatbank5_a_level  \\\n",
       "0                                 -432.317850   \n",
       "1                                 -525.839648   \n",
       "2                                 -500.801673   \n",
       "3                                 -500.868509   \n",
       "4                                 -509.526725   \n",
       "\n",
       "   secondary_cleaner.state.floatbank5_b_air  \\\n",
       "0                                  4.872511   \n",
       "1                                  4.878850   \n",
       "2                                  4.905125   \n",
       "3                                  4.931400   \n",
       "4                                  4.957674   \n",
       "\n",
       "   secondary_cleaner.state.floatbank5_b_level  \\\n",
       "0                                 -500.037437   \n",
       "1                                 -500.162375   \n",
       "2                                 -499.828510   \n",
       "3                                 -499.963623   \n",
       "4                                 -500.360026   \n",
       "\n",
       "   secondary_cleaner.state.floatbank6_a_air  \\\n",
       "0                                 26.705889   \n",
       "1                                 25.019940   \n",
       "2                                 24.994862   \n",
       "3                                 24.948919   \n",
       "4                                 25.003331   \n",
       "\n",
       "   secondary_cleaner.state.floatbank6_a_level  \n",
       "0                                 -499.709414  \n",
       "1                                 -499.819438  \n",
       "2                                 -500.622559  \n",
       "3                                 -498.709987  \n",
       "4                                 -500.856333  \n",
       "\n",
       "[5 rows x 53 columns]"
      ]
     },
     "metadata": {},
     "output_type": "display_data"
    },
    {
     "name": "stdout",
     "output_type": "stream",
     "text": [
      "----------------------------------------------\n",
      "\n",
      "\u001b[1mFULL:\u001b[0m\n",
      "<class 'pandas.core.frame.DataFrame'>\n",
      "RangeIndex: 19439 entries, 0 to 19438\n",
      "Data columns (total 87 columns):\n",
      " #   Column                                              Non-Null Count  Dtype  \n",
      "---  ------                                              --------------  -----  \n",
      " 0   date                                                19439 non-null  object \n",
      " 1   final.output.concentrate_ag                         19438 non-null  float64\n",
      " 2   final.output.concentrate_pb                         19438 non-null  float64\n",
      " 3   final.output.concentrate_sol                        19228 non-null  float64\n",
      " 4   final.output.concentrate_au                         19439 non-null  float64\n",
      " 5   final.output.recovery                               19439 non-null  float64\n",
      " 6   final.output.tail_ag                                19438 non-null  float64\n",
      " 7   final.output.tail_pb                                19338 non-null  float64\n",
      " 8   final.output.tail_sol                               19433 non-null  float64\n",
      " 9   final.output.tail_au                                19439 non-null  float64\n",
      " 10  primary_cleaner.input.sulfate                       19415 non-null  float64\n",
      " 11  primary_cleaner.input.depressant                    19402 non-null  float64\n",
      " 12  primary_cleaner.input.feed_size                     19439 non-null  float64\n",
      " 13  primary_cleaner.input.xanthate                      19335 non-null  float64\n",
      " 14  primary_cleaner.output.concentrate_ag               19439 non-null  float64\n",
      " 15  primary_cleaner.output.concentrate_pb               19323 non-null  float64\n",
      " 16  primary_cleaner.output.concentrate_sol              19069 non-null  float64\n",
      " 17  primary_cleaner.output.concentrate_au               19439 non-null  float64\n",
      " 18  primary_cleaner.output.tail_ag                      19435 non-null  float64\n",
      " 19  primary_cleaner.output.tail_pb                      19418 non-null  float64\n",
      " 20  primary_cleaner.output.tail_sol                     19377 non-null  float64\n",
      " 21  primary_cleaner.output.tail_au                      19439 non-null  float64\n",
      " 22  primary_cleaner.state.floatbank8_a_air              19435 non-null  float64\n",
      " 23  primary_cleaner.state.floatbank8_a_level            19438 non-null  float64\n",
      " 24  primary_cleaner.state.floatbank8_b_air              19435 non-null  float64\n",
      " 25  primary_cleaner.state.floatbank8_b_level            19438 non-null  float64\n",
      " 26  primary_cleaner.state.floatbank8_c_air              19437 non-null  float64\n",
      " 27  primary_cleaner.state.floatbank8_c_level            19438 non-null  float64\n",
      " 28  primary_cleaner.state.floatbank8_d_air              19436 non-null  float64\n",
      " 29  primary_cleaner.state.floatbank8_d_level            19438 non-null  float64\n",
      " 30  rougher.calculation.sulfate_to_au_concentrate       19437 non-null  float64\n",
      " 31  rougher.calculation.floatbank10_sulfate_to_au_feed  19437 non-null  float64\n",
      " 32  rougher.calculation.floatbank11_sulfate_to_au_feed  19437 non-null  float64\n",
      " 33  rougher.calculation.au_pb_ratio                     19439 non-null  float64\n",
      " 34  rougher.input.feed_ag                               19439 non-null  float64\n",
      " 35  rougher.input.feed_pb                               19339 non-null  float64\n",
      " 36  rougher.input.feed_rate                             19428 non-null  float64\n",
      " 37  rougher.input.feed_size                             19294 non-null  float64\n",
      " 38  rougher.input.feed_sol                              19340 non-null  float64\n",
      " 39  rougher.input.feed_au                               19439 non-null  float64\n",
      " 40  rougher.input.floatbank10_sulfate                   19405 non-null  float64\n",
      " 41  rougher.input.floatbank10_xanthate                  19431 non-null  float64\n",
      " 42  rougher.input.floatbank11_sulfate                   19395 non-null  float64\n",
      " 43  rougher.input.floatbank11_xanthate                  18986 non-null  float64\n",
      " 44  rougher.output.concentrate_ag                       19439 non-null  float64\n",
      " 45  rougher.output.concentrate_pb                       19439 non-null  float64\n",
      " 46  rougher.output.concentrate_sol                      19416 non-null  float64\n",
      " 47  rougher.output.concentrate_au                       19439 non-null  float64\n",
      " 48  rougher.output.recovery                             19439 non-null  float64\n",
      " 49  rougher.output.tail_ag                              19438 non-null  float64\n",
      " 50  rougher.output.tail_pb                              19439 non-null  float64\n",
      " 51  rougher.output.tail_sol                             19439 non-null  float64\n",
      " 52  rougher.output.tail_au                              19439 non-null  float64\n",
      " 53  rougher.state.floatbank10_a_air                     19438 non-null  float64\n",
      " 54  rougher.state.floatbank10_a_level                   19438 non-null  float64\n",
      " 55  rougher.state.floatbank10_b_air                     19438 non-null  float64\n",
      " 56  rougher.state.floatbank10_b_level                   19438 non-null  float64\n",
      " 57  rougher.state.floatbank10_c_air                     19438 non-null  float64\n",
      " 58  rougher.state.floatbank10_c_level                   19438 non-null  float64\n",
      " 59  rougher.state.floatbank10_d_air                     19439 non-null  float64\n",
      " 60  rougher.state.floatbank10_d_level                   19439 non-null  float64\n",
      " 61  rougher.state.floatbank10_e_air                     19003 non-null  float64\n",
      " 62  rougher.state.floatbank10_e_level                   19439 non-null  float64\n",
      " 63  rougher.state.floatbank10_f_air                     19439 non-null  float64\n",
      " 64  rougher.state.floatbank10_f_level                   19439 non-null  float64\n",
      " 65  secondary_cleaner.output.tail_ag                    19437 non-null  float64\n",
      " 66  secondary_cleaner.output.tail_pb                    19427 non-null  float64\n",
      " 67  secondary_cleaner.output.tail_sol                   17691 non-null  float64\n",
      " 68  secondary_cleaner.output.tail_au                    19439 non-null  float64\n",
      " 69  secondary_cleaner.state.floatbank2_a_air            19219 non-null  float64\n",
      " 70  secondary_cleaner.state.floatbank2_a_level          19438 non-null  float64\n",
      " 71  secondary_cleaner.state.floatbank2_b_air            19416 non-null  float64\n",
      " 72  secondary_cleaner.state.floatbank2_b_level          19438 non-null  float64\n",
      " 73  secondary_cleaner.state.floatbank3_a_air            19426 non-null  float64\n",
      " 74  secondary_cleaner.state.floatbank3_a_level          19438 non-null  float64\n",
      " 75  secondary_cleaner.state.floatbank3_b_air            19438 non-null  float64\n",
      " 76  secondary_cleaner.state.floatbank3_b_level          19438 non-null  float64\n",
      " 77  secondary_cleaner.state.floatbank4_a_air            19433 non-null  float64\n",
      " 78  secondary_cleaner.state.floatbank4_a_level          19438 non-null  float64\n",
      " 79  secondary_cleaner.state.floatbank4_b_air            19438 non-null  float64\n",
      " 80  secondary_cleaner.state.floatbank4_b_level          19438 non-null  float64\n",
      " 81  secondary_cleaner.state.floatbank5_a_air            19438 non-null  float64\n",
      " 82  secondary_cleaner.state.floatbank5_a_level          19438 non-null  float64\n",
      " 83  secondary_cleaner.state.floatbank5_b_air            19438 non-null  float64\n",
      " 84  secondary_cleaner.state.floatbank5_b_level          19438 non-null  float64\n",
      " 85  secondary_cleaner.state.floatbank6_a_air            19437 non-null  float64\n",
      " 86  secondary_cleaner.state.floatbank6_a_level          19438 non-null  float64\n",
      "dtypes: float64(86), object(1)\n",
      "memory usage: 12.9+ MB\n"
     ]
    },
    {
     "data": {
      "text/html": [
       "<div>\n",
       "<style scoped>\n",
       "    .dataframe tbody tr th:only-of-type {\n",
       "        vertical-align: middle;\n",
       "    }\n",
       "\n",
       "    .dataframe tbody tr th {\n",
       "        vertical-align: top;\n",
       "    }\n",
       "\n",
       "    .dataframe thead th {\n",
       "        text-align: right;\n",
       "    }\n",
       "</style>\n",
       "<table border=\"1\" class=\"dataframe\">\n",
       "  <thead>\n",
       "    <tr style=\"text-align: right;\">\n",
       "      <th></th>\n",
       "      <th>date</th>\n",
       "      <th>final.output.concentrate_ag</th>\n",
       "      <th>final.output.concentrate_pb</th>\n",
       "      <th>final.output.concentrate_sol</th>\n",
       "      <th>final.output.concentrate_au</th>\n",
       "      <th>final.output.recovery</th>\n",
       "      <th>final.output.tail_ag</th>\n",
       "      <th>final.output.tail_pb</th>\n",
       "      <th>final.output.tail_sol</th>\n",
       "      <th>final.output.tail_au</th>\n",
       "      <th>...</th>\n",
       "      <th>secondary_cleaner.state.floatbank4_a_air</th>\n",
       "      <th>secondary_cleaner.state.floatbank4_a_level</th>\n",
       "      <th>secondary_cleaner.state.floatbank4_b_air</th>\n",
       "      <th>secondary_cleaner.state.floatbank4_b_level</th>\n",
       "      <th>secondary_cleaner.state.floatbank5_a_air</th>\n",
       "      <th>secondary_cleaner.state.floatbank5_a_level</th>\n",
       "      <th>secondary_cleaner.state.floatbank5_b_air</th>\n",
       "      <th>secondary_cleaner.state.floatbank5_b_level</th>\n",
       "      <th>secondary_cleaner.state.floatbank6_a_air</th>\n",
       "      <th>secondary_cleaner.state.floatbank6_a_level</th>\n",
       "    </tr>\n",
       "  </thead>\n",
       "  <tbody>\n",
       "    <tr>\n",
       "      <th>0</th>\n",
       "      <td>2016-01-15 00:00:00</td>\n",
       "      <td>6.055403</td>\n",
       "      <td>9.889648</td>\n",
       "      <td>5.507324</td>\n",
       "      <td>42.192020</td>\n",
       "      <td>70.541216</td>\n",
       "      <td>10.411962</td>\n",
       "      <td>0.895447</td>\n",
       "      <td>16.904297</td>\n",
       "      <td>2.143149</td>\n",
       "      <td>...</td>\n",
       "      <td>14.016835</td>\n",
       "      <td>-502.488007</td>\n",
       "      <td>12.099931</td>\n",
       "      <td>-504.715942</td>\n",
       "      <td>9.925633</td>\n",
       "      <td>-498.310211</td>\n",
       "      <td>8.079666</td>\n",
       "      <td>-500.470978</td>\n",
       "      <td>14.151341</td>\n",
       "      <td>-605.841980</td>\n",
       "    </tr>\n",
       "    <tr>\n",
       "      <th>1</th>\n",
       "      <td>2016-01-15 01:00:00</td>\n",
       "      <td>6.029369</td>\n",
       "      <td>9.968944</td>\n",
       "      <td>5.257781</td>\n",
       "      <td>42.701629</td>\n",
       "      <td>69.266198</td>\n",
       "      <td>10.462676</td>\n",
       "      <td>0.927452</td>\n",
       "      <td>16.634514</td>\n",
       "      <td>2.224930</td>\n",
       "      <td>...</td>\n",
       "      <td>13.992281</td>\n",
       "      <td>-505.503262</td>\n",
       "      <td>11.950531</td>\n",
       "      <td>-501.331529</td>\n",
       "      <td>10.039245</td>\n",
       "      <td>-500.169983</td>\n",
       "      <td>7.984757</td>\n",
       "      <td>-500.582168</td>\n",
       "      <td>13.998353</td>\n",
       "      <td>-599.787184</td>\n",
       "    </tr>\n",
       "    <tr>\n",
       "      <th>2</th>\n",
       "      <td>2016-01-15 02:00:00</td>\n",
       "      <td>6.055926</td>\n",
       "      <td>10.213995</td>\n",
       "      <td>5.383759</td>\n",
       "      <td>42.657501</td>\n",
       "      <td>68.116445</td>\n",
       "      <td>10.507046</td>\n",
       "      <td>0.953716</td>\n",
       "      <td>16.208849</td>\n",
       "      <td>2.257889</td>\n",
       "      <td>...</td>\n",
       "      <td>14.015015</td>\n",
       "      <td>-502.520901</td>\n",
       "      <td>11.912783</td>\n",
       "      <td>-501.133383</td>\n",
       "      <td>10.070913</td>\n",
       "      <td>-500.129135</td>\n",
       "      <td>8.013877</td>\n",
       "      <td>-500.517572</td>\n",
       "      <td>14.028663</td>\n",
       "      <td>-601.427363</td>\n",
       "    </tr>\n",
       "    <tr>\n",
       "      <th>3</th>\n",
       "      <td>2016-01-15 03:00:00</td>\n",
       "      <td>6.047977</td>\n",
       "      <td>9.977019</td>\n",
       "      <td>4.858634</td>\n",
       "      <td>42.689819</td>\n",
       "      <td>68.347543</td>\n",
       "      <td>10.422762</td>\n",
       "      <td>0.883763</td>\n",
       "      <td>16.532835</td>\n",
       "      <td>2.146849</td>\n",
       "      <td>...</td>\n",
       "      <td>14.036510</td>\n",
       "      <td>-500.857308</td>\n",
       "      <td>11.999550</td>\n",
       "      <td>-501.193686</td>\n",
       "      <td>9.970366</td>\n",
       "      <td>-499.201640</td>\n",
       "      <td>7.977324</td>\n",
       "      <td>-500.255908</td>\n",
       "      <td>14.005551</td>\n",
       "      <td>-599.996129</td>\n",
       "    </tr>\n",
       "    <tr>\n",
       "      <th>4</th>\n",
       "      <td>2016-01-15 04:00:00</td>\n",
       "      <td>6.148599</td>\n",
       "      <td>10.142511</td>\n",
       "      <td>4.939416</td>\n",
       "      <td>42.774141</td>\n",
       "      <td>66.927016</td>\n",
       "      <td>10.360302</td>\n",
       "      <td>0.792826</td>\n",
       "      <td>16.525686</td>\n",
       "      <td>2.055292</td>\n",
       "      <td>...</td>\n",
       "      <td>14.027298</td>\n",
       "      <td>-499.838632</td>\n",
       "      <td>11.953070</td>\n",
       "      <td>-501.053894</td>\n",
       "      <td>9.925709</td>\n",
       "      <td>-501.686727</td>\n",
       "      <td>7.894242</td>\n",
       "      <td>-500.356035</td>\n",
       "      <td>13.996647</td>\n",
       "      <td>-601.496691</td>\n",
       "    </tr>\n",
       "  </tbody>\n",
       "</table>\n",
       "<p>5 rows × 87 columns</p>\n",
       "</div>"
      ],
      "text/plain": [
       "                  date  final.output.concentrate_ag  \\\n",
       "0  2016-01-15 00:00:00                     6.055403   \n",
       "1  2016-01-15 01:00:00                     6.029369   \n",
       "2  2016-01-15 02:00:00                     6.055926   \n",
       "3  2016-01-15 03:00:00                     6.047977   \n",
       "4  2016-01-15 04:00:00                     6.148599   \n",
       "\n",
       "   final.output.concentrate_pb  final.output.concentrate_sol  \\\n",
       "0                     9.889648                      5.507324   \n",
       "1                     9.968944                      5.257781   \n",
       "2                    10.213995                      5.383759   \n",
       "3                     9.977019                      4.858634   \n",
       "4                    10.142511                      4.939416   \n",
       "\n",
       "   final.output.concentrate_au  final.output.recovery  final.output.tail_ag  \\\n",
       "0                    42.192020              70.541216             10.411962   \n",
       "1                    42.701629              69.266198             10.462676   \n",
       "2                    42.657501              68.116445             10.507046   \n",
       "3                    42.689819              68.347543             10.422762   \n",
       "4                    42.774141              66.927016             10.360302   \n",
       "\n",
       "   final.output.tail_pb  final.output.tail_sol  final.output.tail_au  ...  \\\n",
       "0              0.895447              16.904297              2.143149  ...   \n",
       "1              0.927452              16.634514              2.224930  ...   \n",
       "2              0.953716              16.208849              2.257889  ...   \n",
       "3              0.883763              16.532835              2.146849  ...   \n",
       "4              0.792826              16.525686              2.055292  ...   \n",
       "\n",
       "   secondary_cleaner.state.floatbank4_a_air  \\\n",
       "0                                 14.016835   \n",
       "1                                 13.992281   \n",
       "2                                 14.015015   \n",
       "3                                 14.036510   \n",
       "4                                 14.027298   \n",
       "\n",
       "   secondary_cleaner.state.floatbank4_a_level  \\\n",
       "0                                 -502.488007   \n",
       "1                                 -505.503262   \n",
       "2                                 -502.520901   \n",
       "3                                 -500.857308   \n",
       "4                                 -499.838632   \n",
       "\n",
       "   secondary_cleaner.state.floatbank4_b_air  \\\n",
       "0                                 12.099931   \n",
       "1                                 11.950531   \n",
       "2                                 11.912783   \n",
       "3                                 11.999550   \n",
       "4                                 11.953070   \n",
       "\n",
       "   secondary_cleaner.state.floatbank4_b_level  \\\n",
       "0                                 -504.715942   \n",
       "1                                 -501.331529   \n",
       "2                                 -501.133383   \n",
       "3                                 -501.193686   \n",
       "4                                 -501.053894   \n",
       "\n",
       "   secondary_cleaner.state.floatbank5_a_air  \\\n",
       "0                                  9.925633   \n",
       "1                                 10.039245   \n",
       "2                                 10.070913   \n",
       "3                                  9.970366   \n",
       "4                                  9.925709   \n",
       "\n",
       "   secondary_cleaner.state.floatbank5_a_level  \\\n",
       "0                                 -498.310211   \n",
       "1                                 -500.169983   \n",
       "2                                 -500.129135   \n",
       "3                                 -499.201640   \n",
       "4                                 -501.686727   \n",
       "\n",
       "   secondary_cleaner.state.floatbank5_b_air  \\\n",
       "0                                  8.079666   \n",
       "1                                  7.984757   \n",
       "2                                  8.013877   \n",
       "3                                  7.977324   \n",
       "4                                  7.894242   \n",
       "\n",
       "   secondary_cleaner.state.floatbank5_b_level  \\\n",
       "0                                 -500.470978   \n",
       "1                                 -500.582168   \n",
       "2                                 -500.517572   \n",
       "3                                 -500.255908   \n",
       "4                                 -500.356035   \n",
       "\n",
       "   secondary_cleaner.state.floatbank6_a_air  \\\n",
       "0                                 14.151341   \n",
       "1                                 13.998353   \n",
       "2                                 14.028663   \n",
       "3                                 14.005551   \n",
       "4                                 13.996647   \n",
       "\n",
       "   secondary_cleaner.state.floatbank6_a_level  \n",
       "0                                 -605.841980  \n",
       "1                                 -599.787184  \n",
       "2                                 -601.427363  \n",
       "3                                 -599.996129  \n",
       "4                                 -601.496691  \n",
       "\n",
       "[5 rows x 87 columns]"
      ]
     },
     "metadata": {},
     "output_type": "display_data"
    }
   ],
   "source": [
    "df_train = pd.read_csv('/datasets/gold_recovery_train_new.csv')\n",
    "print('\\033[1mTRAIN:\\033[0m')\n",
    "df_train.info()\n",
    "display(df_train.head())\n",
    "print('----------------------------------------------')\n",
    "print()\n",
    "df_test = pd.read_csv('/datasets/gold_recovery_test_new.csv')\n",
    "print('\\033[1mTEST:\\033[0m')\n",
    "df_test.info()\n",
    "display(df_test.head())\n",
    "print('----------------------------------------------')\n",
    "print()\n",
    "df_full = pd.read_csv('/datasets/gold_recovery_full_new.csv')\n",
    "print('\\033[1mFULL:\\033[0m')\n",
    "df_full.info()\n",
    "display(df_full.head())"
   ]
  },
  {
   "cell_type": "markdown",
   "metadata": {},
   "source": [
    "Видим, что в данных есть пропуски, которые нужно будет заполнить.\n",
    "\n",
    "Проверим, что эффективность обогащения на обучающей выборке рассчитана правильно:"
   ]
  },
  {
   "cell_type": "code",
   "execution_count": 3,
   "metadata": {},
   "outputs": [
    {
     "data": {
      "text/plain": [
       "9.73512347450521e-15"
      ]
     },
     "execution_count": 3,
     "metadata": {},
     "output_type": "execute_result"
    }
   ],
   "source": [
    "C = df_train['rougher.output.concentrate_au']\n",
    "F = df_train['rougher.input.feed_au']\n",
    "T = df_train['rougher.output.tail_au']\n",
    "recovery = df_train['rougher.output.recovery']\n",
    "calculated_recovery = (C * (F - T)) / (F * (C - T)) * 100\n",
    "mean_absolute_error(recovery, calculated_recovery)"
   ]
  },
  {
   "cell_type": "markdown",
   "metadata": {},
   "source": [
    "Видим, что расхождения в наших расчётах и значением признака практически нет, значит эффективность обогащения рассчитана верно.\n",
    "\n",
    "Теперь посмотрим на признаки, недоступные в тестовой выборке. И заодно сохраним все те признаки которые есть в тестовой выборке, в список - для дальнейшего обучения модели."
   ]
  },
  {
   "cell_type": "code",
   "execution_count": 4,
   "metadata": {
    "scrolled": true
   },
   "outputs": [
    {
     "data": {
      "text/plain": [
       "['final.output.concentrate_ag',\n",
       " 'final.output.concentrate_pb',\n",
       " 'final.output.concentrate_sol',\n",
       " 'final.output.concentrate_au',\n",
       " 'final.output.recovery',\n",
       " 'final.output.tail_ag',\n",
       " 'final.output.tail_pb',\n",
       " 'final.output.tail_sol',\n",
       " 'final.output.tail_au',\n",
       " 'primary_cleaner.output.concentrate_ag',\n",
       " 'primary_cleaner.output.concentrate_pb',\n",
       " 'primary_cleaner.output.concentrate_sol',\n",
       " 'primary_cleaner.output.concentrate_au',\n",
       " 'primary_cleaner.output.tail_ag',\n",
       " 'primary_cleaner.output.tail_pb',\n",
       " 'primary_cleaner.output.tail_sol',\n",
       " 'primary_cleaner.output.tail_au',\n",
       " 'rougher.calculation.sulfate_to_au_concentrate',\n",
       " 'rougher.calculation.floatbank10_sulfate_to_au_feed',\n",
       " 'rougher.calculation.floatbank11_sulfate_to_au_feed',\n",
       " 'rougher.calculation.au_pb_ratio',\n",
       " 'rougher.output.concentrate_ag',\n",
       " 'rougher.output.concentrate_pb',\n",
       " 'rougher.output.concentrate_sol',\n",
       " 'rougher.output.concentrate_au',\n",
       " 'rougher.output.recovery',\n",
       " 'rougher.output.tail_ag',\n",
       " 'rougher.output.tail_pb',\n",
       " 'rougher.output.tail_sol',\n",
       " 'rougher.output.tail_au',\n",
       " 'secondary_cleaner.output.tail_ag',\n",
       " 'secondary_cleaner.output.tail_pb',\n",
       " 'secondary_cleaner.output.tail_sol',\n",
       " 'secondary_cleaner.output.tail_au']"
      ]
     },
     "execution_count": 4,
     "metadata": {},
     "output_type": "execute_result"
    }
   ],
   "source": [
    "values = []\n",
    "features_list = []\n",
    "for col in df_train.columns:\n",
    "    if col not in df_test.columns:\n",
    "        values.append(col)\n",
    "    if col in df_test.columns:\n",
    "        features_list.append(col)\n",
    "values"
   ]
  },
  {
   "cell_type": "markdown",
   "metadata": {},
   "source": [
    "Эти параметры недоступны в тестовой выборке, потому что замеряются либо рассчитываются значительно позже. В основном это параметры продукта на всех этапах техпроцесса, а также расчётные характеристики для флотации. Также здесь нет целевых признаков."
   ]
  },
  {
   "cell_type": "markdown",
   "metadata": {},
   "source": [
    "Посмотрим количество пропусков во всех столбцах:"
   ]
  },
  {
   "cell_type": "code",
   "execution_count": 5,
   "metadata": {
    "scrolled": true
   },
   "outputs": [
    {
     "data": {
      "text/plain": [
       "date                                          0.000000\n",
       "primary_cleaner.input.sulfate                 0.000756\n",
       "primary_cleaner.input.depressant              0.000945\n",
       "primary_cleaner.input.feed_size               0.000000\n",
       "primary_cleaner.input.xanthate                0.000756\n",
       "primary_cleaner.state.floatbank8_a_air        0.000000\n",
       "primary_cleaner.state.floatbank8_a_level      0.000000\n",
       "primary_cleaner.state.floatbank8_b_air        0.000000\n",
       "primary_cleaner.state.floatbank8_b_level      0.000000\n",
       "primary_cleaner.state.floatbank8_c_air        0.000000\n",
       "primary_cleaner.state.floatbank8_c_level      0.000000\n",
       "primary_cleaner.state.floatbank8_d_air        0.000000\n",
       "primary_cleaner.state.floatbank8_d_level      0.000000\n",
       "rougher.input.feed_ag                         0.000000\n",
       "rougher.input.feed_pb                         0.000000\n",
       "rougher.input.feed_rate                       0.000567\n",
       "rougher.input.feed_size                       0.000189\n",
       "rougher.input.feed_sol                        0.003970\n",
       "rougher.input.feed_au                         0.000000\n",
       "rougher.input.floatbank10_sulfate             0.000945\n",
       "rougher.input.floatbank10_xanthate            0.000000\n",
       "rougher.input.floatbank11_sulfate             0.001512\n",
       "rougher.input.floatbank11_xanthate            0.004726\n",
       "rougher.state.floatbank10_a_air               0.000000\n",
       "rougher.state.floatbank10_a_level             0.000000\n",
       "rougher.state.floatbank10_b_air               0.000000\n",
       "rougher.state.floatbank10_b_level             0.000000\n",
       "rougher.state.floatbank10_c_air               0.000000\n",
       "rougher.state.floatbank10_c_level             0.000000\n",
       "rougher.state.floatbank10_d_air               0.000000\n",
       "rougher.state.floatbank10_d_level             0.000000\n",
       "rougher.state.floatbank10_e_air               0.000000\n",
       "rougher.state.floatbank10_e_level             0.000000\n",
       "rougher.state.floatbank10_f_air               0.000000\n",
       "rougher.state.floatbank10_f_level             0.000000\n",
       "secondary_cleaner.state.floatbank2_a_air      0.000567\n",
       "secondary_cleaner.state.floatbank2_a_level    0.000000\n",
       "secondary_cleaner.state.floatbank2_b_air      0.000378\n",
       "secondary_cleaner.state.floatbank2_b_level    0.000000\n",
       "secondary_cleaner.state.floatbank3_a_air      0.001701\n",
       "secondary_cleaner.state.floatbank3_a_level    0.000000\n",
       "secondary_cleaner.state.floatbank3_b_air      0.000000\n",
       "secondary_cleaner.state.floatbank3_b_level    0.000000\n",
       "secondary_cleaner.state.floatbank4_a_air      0.000000\n",
       "secondary_cleaner.state.floatbank4_a_level    0.000000\n",
       "secondary_cleaner.state.floatbank4_b_air      0.000000\n",
       "secondary_cleaner.state.floatbank4_b_level    0.000000\n",
       "secondary_cleaner.state.floatbank5_a_air      0.000000\n",
       "secondary_cleaner.state.floatbank5_a_level    0.000000\n",
       "secondary_cleaner.state.floatbank5_b_air      0.000000\n",
       "secondary_cleaner.state.floatbank5_b_level    0.000000\n",
       "secondary_cleaner.state.floatbank6_a_air      0.000000\n",
       "secondary_cleaner.state.floatbank6_a_level    0.000000\n",
       "dtype: float64"
      ]
     },
     "execution_count": 5,
     "metadata": {},
     "output_type": "execute_result"
    }
   ],
   "source": [
    "df_test.isna().mean()"
   ]
  },
  {
   "cell_type": "markdown",
   "metadata": {},
   "source": [
    "Пропусков в целом не очень много - максимум 3% в двух столбцах, а в остальных ещё меньше. Начнём предобработку данных обучающей и тестовой выборок с заполнения пропусков. Заполним их согласно имеющимся у нас данным о том, что соседние по времени параметры часто похожи, используя для этого специальный метод ffill:"
   ]
  },
  {
   "cell_type": "code",
   "execution_count": 6,
   "metadata": {
    "scrolled": true
   },
   "outputs": [
    {
     "name": "stdout",
     "output_type": "stream",
     "text": [
      "0.0 0.0\n"
     ]
    }
   ],
   "source": [
    "df_train = df_train.fillna(method='ffill')\n",
    "df_test = df_test.fillna(method='ffill')\n",
    "print(df_train.isna().mean().sum(), df_test.isna().mean().sum())"
   ]
  },
  {
   "cell_type": "markdown",
   "metadata": {},
   "source": [
    "Пропусков больше нет. Возьмём для дальнейшего построения модели только столбцы, которые присутствуют в тестовой выборке, также исключив столбец date, не несущий полезной информации."
   ]
  },
  {
   "cell_type": "code",
   "execution_count": 7,
   "metadata": {},
   "outputs": [],
   "source": [
    "features_list.remove('date')\n",
    "features_train = df_train[features_list]\n",
    "target_train = df_train[['rougher.output.recovery','final.output.recovery']]"
   ]
  },
  {
   "cell_type": "markdown",
   "metadata": {},
   "source": [
    "Далее подготовим тестовую выборку, определив для неё столбцы признаков и таргетов, которые мы получим из таблицы с полными данными:"
   ]
  },
  {
   "cell_type": "code",
   "execution_count": 8,
   "metadata": {},
   "outputs": [],
   "source": [
    "features_test = df_test\n",
    "features_test = features_test.drop(['date'],axis=1)\n",
    "target_full = df_full[['date','rougher.output.recovery','final.output.recovery']]\n",
    "target_test = df_test.merge(target_full,on=['date'],how='left')\n",
    "target_test = target_test[['rougher.output.recovery','final.output.recovery']]"
   ]
  },
  {
   "cell_type": "markdown",
   "metadata": {},
   "source": [
    "Масштабируем признаки в обучающей и тестовой выборках:"
   ]
  },
  {
   "cell_type": "code",
   "execution_count": 9,
   "metadata": {
    "scrolled": true
   },
   "outputs": [
    {
     "data": {
      "text/html": [
       "<div>\n",
       "<style scoped>\n",
       "    .dataframe tbody tr th:only-of-type {\n",
       "        vertical-align: middle;\n",
       "    }\n",
       "\n",
       "    .dataframe tbody tr th {\n",
       "        vertical-align: top;\n",
       "    }\n",
       "\n",
       "    .dataframe thead th {\n",
       "        text-align: right;\n",
       "    }\n",
       "</style>\n",
       "<table border=\"1\" class=\"dataframe\">\n",
       "  <thead>\n",
       "    <tr style=\"text-align: right;\">\n",
       "      <th></th>\n",
       "      <th>primary_cleaner.input.sulfate</th>\n",
       "      <th>primary_cleaner.input.depressant</th>\n",
       "      <th>primary_cleaner.input.feed_size</th>\n",
       "      <th>primary_cleaner.input.xanthate</th>\n",
       "      <th>primary_cleaner.state.floatbank8_a_air</th>\n",
       "      <th>primary_cleaner.state.floatbank8_a_level</th>\n",
       "      <th>primary_cleaner.state.floatbank8_b_air</th>\n",
       "      <th>primary_cleaner.state.floatbank8_b_level</th>\n",
       "      <th>primary_cleaner.state.floatbank8_c_air</th>\n",
       "      <th>primary_cleaner.state.floatbank8_c_level</th>\n",
       "      <th>...</th>\n",
       "      <th>secondary_cleaner.state.floatbank4_a_air</th>\n",
       "      <th>secondary_cleaner.state.floatbank4_a_level</th>\n",
       "      <th>secondary_cleaner.state.floatbank4_b_air</th>\n",
       "      <th>secondary_cleaner.state.floatbank4_b_level</th>\n",
       "      <th>secondary_cleaner.state.floatbank5_a_air</th>\n",
       "      <th>secondary_cleaner.state.floatbank5_a_level</th>\n",
       "      <th>secondary_cleaner.state.floatbank5_b_air</th>\n",
       "      <th>secondary_cleaner.state.floatbank5_b_level</th>\n",
       "      <th>secondary_cleaner.state.floatbank6_a_air</th>\n",
       "      <th>secondary_cleaner.state.floatbank6_a_level</th>\n",
       "    </tr>\n",
       "  </thead>\n",
       "  <tbody>\n",
       "    <tr>\n",
       "      <th>0</th>\n",
       "      <td>1.959089</td>\n",
       "      <td>1.818448</td>\n",
       "      <td>1.233941</td>\n",
       "      <td>0.328922</td>\n",
       "      <td>-1.628244</td>\n",
       "      <td>-0.320693</td>\n",
       "      <td>-1.597904</td>\n",
       "      <td>-0.319837</td>\n",
       "      <td>-1.555083</td>\n",
       "      <td>-0.311555</td>\n",
       "      <td>...</td>\n",
       "      <td>-1.404848</td>\n",
       "      <td>-0.376307</td>\n",
       "      <td>-1.421433</td>\n",
       "      <td>-0.697607</td>\n",
       "      <td>-1.513793</td>\n",
       "      <td>1.362866</td>\n",
       "      <td>-1.420851</td>\n",
       "      <td>-0.409885</td>\n",
       "      <td>1.236789</td>\n",
       "      <td>0.191335</td>\n",
       "    </tr>\n",
       "    <tr>\n",
       "      <th>1</th>\n",
       "      <td>2.075027</td>\n",
       "      <td>1.816775</td>\n",
       "      <td>1.233941</td>\n",
       "      <td>0.290185</td>\n",
       "      <td>-1.629828</td>\n",
       "      <td>-0.315983</td>\n",
       "      <td>-1.606215</td>\n",
       "      <td>-0.315624</td>\n",
       "      <td>-1.584519</td>\n",
       "      <td>-0.270451</td>\n",
       "      <td>...</td>\n",
       "      <td>-1.398742</td>\n",
       "      <td>-0.394044</td>\n",
       "      <td>-1.399680</td>\n",
       "      <td>-0.669484</td>\n",
       "      <td>-1.511785</td>\n",
       "      <td>-1.105331</td>\n",
       "      <td>-1.419752</td>\n",
       "      <td>-0.413072</td>\n",
       "      <td>0.944308</td>\n",
       "      <td>0.188368</td>\n",
       "    </tr>\n",
       "    <tr>\n",
       "      <th>2</th>\n",
       "      <td>2.071681</td>\n",
       "      <td>1.193859</td>\n",
       "      <td>0.756231</td>\n",
       "      <td>0.305022</td>\n",
       "      <td>-1.632043</td>\n",
       "      <td>-0.338697</td>\n",
       "      <td>-1.600074</td>\n",
       "      <td>-0.315218</td>\n",
       "      <td>-1.570183</td>\n",
       "      <td>-0.352180</td>\n",
       "      <td>...</td>\n",
       "      <td>-1.415653</td>\n",
       "      <td>-0.395458</td>\n",
       "      <td>-1.406166</td>\n",
       "      <td>-0.689761</td>\n",
       "      <td>-1.492446</td>\n",
       "      <td>-0.444537</td>\n",
       "      <td>-1.415195</td>\n",
       "      <td>-0.404556</td>\n",
       "      <td>0.939957</td>\n",
       "      <td>0.166711</td>\n",
       "    </tr>\n",
       "    <tr>\n",
       "      <th>3</th>\n",
       "      <td>2.073608</td>\n",
       "      <td>0.933697</td>\n",
       "      <td>0.517376</td>\n",
       "      <td>-0.047757</td>\n",
       "      <td>-1.623284</td>\n",
       "      <td>-0.282543</td>\n",
       "      <td>-1.610908</td>\n",
       "      <td>-0.298745</td>\n",
       "      <td>-1.554887</td>\n",
       "      <td>-0.245626</td>\n",
       "      <td>...</td>\n",
       "      <td>-1.403165</td>\n",
       "      <td>-0.387248</td>\n",
       "      <td>-1.410342</td>\n",
       "      <td>-0.666769</td>\n",
       "      <td>-1.522277</td>\n",
       "      <td>-0.446301</td>\n",
       "      <td>-1.410637</td>\n",
       "      <td>-0.408003</td>\n",
       "      <td>0.931987</td>\n",
       "      <td>0.218284</td>\n",
       "    </tr>\n",
       "    <tr>\n",
       "      <th>4</th>\n",
       "      <td>1.663622</td>\n",
       "      <td>0.541357</td>\n",
       "      <td>0.338235</td>\n",
       "      <td>-0.201986</td>\n",
       "      <td>-1.610431</td>\n",
       "      <td>-0.337015</td>\n",
       "      <td>-1.605655</td>\n",
       "      <td>-0.307481</td>\n",
       "      <td>-1.539670</td>\n",
       "      <td>-0.314537</td>\n",
       "      <td>...</td>\n",
       "      <td>-1.404528</td>\n",
       "      <td>-0.435251</td>\n",
       "      <td>-1.414198</td>\n",
       "      <td>-0.682455</td>\n",
       "      <td>-1.486129</td>\n",
       "      <td>-0.674806</td>\n",
       "      <td>-1.406080</td>\n",
       "      <td>-0.418113</td>\n",
       "      <td>0.941426</td>\n",
       "      <td>0.160408</td>\n",
       "    </tr>\n",
       "    <tr>\n",
       "      <th>...</th>\n",
       "      <td>...</td>\n",
       "      <td>...</td>\n",
       "      <td>...</td>\n",
       "      <td>...</td>\n",
       "      <td>...</td>\n",
       "      <td>...</td>\n",
       "      <td>...</td>\n",
       "      <td>...</td>\n",
       "      <td>...</td>\n",
       "      <td>...</td>\n",
       "      <td>...</td>\n",
       "      <td>...</td>\n",
       "      <td>...</td>\n",
       "      <td>...</td>\n",
       "      <td>...</td>\n",
       "      <td>...</td>\n",
       "      <td>...</td>\n",
       "      <td>...</td>\n",
       "      <td>...</td>\n",
       "      <td>...</td>\n",
       "      <td>...</td>\n",
       "    </tr>\n",
       "    <tr>\n",
       "      <th>5285</th>\n",
       "      <td>1.028791</td>\n",
       "      <td>2.105912</td>\n",
       "      <td>1.217655</td>\n",
       "      <td>0.040583</td>\n",
       "      <td>-1.605271</td>\n",
       "      <td>-0.306780</td>\n",
       "      <td>-1.580386</td>\n",
       "      <td>-0.298222</td>\n",
       "      <td>-1.557263</td>\n",
       "      <td>-0.280528</td>\n",
       "      <td>...</td>\n",
       "      <td>-1.056577</td>\n",
       "      <td>-0.422853</td>\n",
       "      <td>-0.650317</td>\n",
       "      <td>-0.670148</td>\n",
       "      <td>-1.508529</td>\n",
       "      <td>-0.410609</td>\n",
       "      <td>-1.236855</td>\n",
       "      <td>-0.408062</td>\n",
       "      <td>-1.837087</td>\n",
       "      <td>0.190081</td>\n",
       "    </tr>\n",
       "    <tr>\n",
       "      <th>5286</th>\n",
       "      <td>1.002342</td>\n",
       "      <td>2.117527</td>\n",
       "      <td>1.217655</td>\n",
       "      <td>0.040098</td>\n",
       "      <td>-1.253610</td>\n",
       "      <td>-0.166394</td>\n",
       "      <td>-1.218741</td>\n",
       "      <td>0.690714</td>\n",
       "      <td>-1.228934</td>\n",
       "      <td>-0.392499</td>\n",
       "      <td>...</td>\n",
       "      <td>-0.570329</td>\n",
       "      <td>-0.341534</td>\n",
       "      <td>-0.403671</td>\n",
       "      <td>-0.660792</td>\n",
       "      <td>-1.283676</td>\n",
       "      <td>-0.341380</td>\n",
       "      <td>-0.987160</td>\n",
       "      <td>-0.407475</td>\n",
       "      <td>-1.837145</td>\n",
       "      <td>0.186094</td>\n",
       "    </tr>\n",
       "    <tr>\n",
       "      <th>5287</th>\n",
       "      <td>0.957534</td>\n",
       "      <td>2.114880</td>\n",
       "      <td>1.217655</td>\n",
       "      <td>0.757421</td>\n",
       "      <td>-0.850418</td>\n",
       "      <td>-0.363963</td>\n",
       "      <td>-0.831846</td>\n",
       "      <td>-0.188792</td>\n",
       "      <td>-0.790526</td>\n",
       "      <td>-0.871975</td>\n",
       "      <td>...</td>\n",
       "      <td>0.002532</td>\n",
       "      <td>-0.415637</td>\n",
       "      <td>-0.073332</td>\n",
       "      <td>-0.674617</td>\n",
       "      <td>-0.992062</td>\n",
       "      <td>-0.379778</td>\n",
       "      <td>-0.701307</td>\n",
       "      <td>-0.409962</td>\n",
       "      <td>-1.837977</td>\n",
       "      <td>0.243095</td>\n",
       "    </tr>\n",
       "    <tr>\n",
       "      <th>5288</th>\n",
       "      <td>1.173712</td>\n",
       "      <td>1.950543</td>\n",
       "      <td>1.217655</td>\n",
       "      <td>1.649353</td>\n",
       "      <td>-0.853300</td>\n",
       "      <td>-0.327931</td>\n",
       "      <td>-0.843939</td>\n",
       "      <td>-0.893627</td>\n",
       "      <td>-0.836559</td>\n",
       "      <td>0.059703</td>\n",
       "      <td>...</td>\n",
       "      <td>-0.003713</td>\n",
       "      <td>-0.418937</td>\n",
       "      <td>-0.087522</td>\n",
       "      <td>-0.670995</td>\n",
       "      <td>-0.988216</td>\n",
       "      <td>-0.422985</td>\n",
       "      <td>-0.703243</td>\n",
       "      <td>-0.407346</td>\n",
       "      <td>-1.832665</td>\n",
       "      <td>0.179338</td>\n",
       "    </tr>\n",
       "    <tr>\n",
       "      <th>5289</th>\n",
       "      <td>1.220670</td>\n",
       "      <td>1.819257</td>\n",
       "      <td>1.217655</td>\n",
       "      <td>1.975135</td>\n",
       "      <td>-0.856182</td>\n",
       "      <td>-0.308686</td>\n",
       "      <td>-0.815283</td>\n",
       "      <td>-0.475398</td>\n",
       "      <td>-0.814460</td>\n",
       "      <td>-0.079220</td>\n",
       "      <td>...</td>\n",
       "      <td>0.009699</td>\n",
       "      <td>-0.434110</td>\n",
       "      <td>-0.108958</td>\n",
       "      <td>-0.674825</td>\n",
       "      <td>-0.992503</td>\n",
       "      <td>-0.440746</td>\n",
       "      <td>-0.706762</td>\n",
       "      <td>-0.417541</td>\n",
       "      <td>-1.836833</td>\n",
       "      <td>0.162872</td>\n",
       "    </tr>\n",
       "  </tbody>\n",
       "</table>\n",
       "<p>5290 rows × 52 columns</p>\n",
       "</div>"
      ],
      "text/plain": [
       "      primary_cleaner.input.sulfate  primary_cleaner.input.depressant  \\\n",
       "0                          1.959089                          1.818448   \n",
       "1                          2.075027                          1.816775   \n",
       "2                          2.071681                          1.193859   \n",
       "3                          2.073608                          0.933697   \n",
       "4                          1.663622                          0.541357   \n",
       "...                             ...                               ...   \n",
       "5285                       1.028791                          2.105912   \n",
       "5286                       1.002342                          2.117527   \n",
       "5287                       0.957534                          2.114880   \n",
       "5288                       1.173712                          1.950543   \n",
       "5289                       1.220670                          1.819257   \n",
       "\n",
       "      primary_cleaner.input.feed_size  primary_cleaner.input.xanthate  \\\n",
       "0                            1.233941                        0.328922   \n",
       "1                            1.233941                        0.290185   \n",
       "2                            0.756231                        0.305022   \n",
       "3                            0.517376                       -0.047757   \n",
       "4                            0.338235                       -0.201986   \n",
       "...                               ...                             ...   \n",
       "5285                         1.217655                        0.040583   \n",
       "5286                         1.217655                        0.040098   \n",
       "5287                         1.217655                        0.757421   \n",
       "5288                         1.217655                        1.649353   \n",
       "5289                         1.217655                        1.975135   \n",
       "\n",
       "      primary_cleaner.state.floatbank8_a_air  \\\n",
       "0                                  -1.628244   \n",
       "1                                  -1.629828   \n",
       "2                                  -1.632043   \n",
       "3                                  -1.623284   \n",
       "4                                  -1.610431   \n",
       "...                                      ...   \n",
       "5285                               -1.605271   \n",
       "5286                               -1.253610   \n",
       "5287                               -0.850418   \n",
       "5288                               -0.853300   \n",
       "5289                               -0.856182   \n",
       "\n",
       "      primary_cleaner.state.floatbank8_a_level  \\\n",
       "0                                    -0.320693   \n",
       "1                                    -0.315983   \n",
       "2                                    -0.338697   \n",
       "3                                    -0.282543   \n",
       "4                                    -0.337015   \n",
       "...                                        ...   \n",
       "5285                                 -0.306780   \n",
       "5286                                 -0.166394   \n",
       "5287                                 -0.363963   \n",
       "5288                                 -0.327931   \n",
       "5289                                 -0.308686   \n",
       "\n",
       "      primary_cleaner.state.floatbank8_b_air  \\\n",
       "0                                  -1.597904   \n",
       "1                                  -1.606215   \n",
       "2                                  -1.600074   \n",
       "3                                  -1.610908   \n",
       "4                                  -1.605655   \n",
       "...                                      ...   \n",
       "5285                               -1.580386   \n",
       "5286                               -1.218741   \n",
       "5287                               -0.831846   \n",
       "5288                               -0.843939   \n",
       "5289                               -0.815283   \n",
       "\n",
       "      primary_cleaner.state.floatbank8_b_level  \\\n",
       "0                                    -0.319837   \n",
       "1                                    -0.315624   \n",
       "2                                    -0.315218   \n",
       "3                                    -0.298745   \n",
       "4                                    -0.307481   \n",
       "...                                        ...   \n",
       "5285                                 -0.298222   \n",
       "5286                                  0.690714   \n",
       "5287                                 -0.188792   \n",
       "5288                                 -0.893627   \n",
       "5289                                 -0.475398   \n",
       "\n",
       "      primary_cleaner.state.floatbank8_c_air  \\\n",
       "0                                  -1.555083   \n",
       "1                                  -1.584519   \n",
       "2                                  -1.570183   \n",
       "3                                  -1.554887   \n",
       "4                                  -1.539670   \n",
       "...                                      ...   \n",
       "5285                               -1.557263   \n",
       "5286                               -1.228934   \n",
       "5287                               -0.790526   \n",
       "5288                               -0.836559   \n",
       "5289                               -0.814460   \n",
       "\n",
       "      primary_cleaner.state.floatbank8_c_level  ...  \\\n",
       "0                                    -0.311555  ...   \n",
       "1                                    -0.270451  ...   \n",
       "2                                    -0.352180  ...   \n",
       "3                                    -0.245626  ...   \n",
       "4                                    -0.314537  ...   \n",
       "...                                        ...  ...   \n",
       "5285                                 -0.280528  ...   \n",
       "5286                                 -0.392499  ...   \n",
       "5287                                 -0.871975  ...   \n",
       "5288                                  0.059703  ...   \n",
       "5289                                 -0.079220  ...   \n",
       "\n",
       "      secondary_cleaner.state.floatbank4_a_air  \\\n",
       "0                                    -1.404848   \n",
       "1                                    -1.398742   \n",
       "2                                    -1.415653   \n",
       "3                                    -1.403165   \n",
       "4                                    -1.404528   \n",
       "...                                        ...   \n",
       "5285                                 -1.056577   \n",
       "5286                                 -0.570329   \n",
       "5287                                  0.002532   \n",
       "5288                                 -0.003713   \n",
       "5289                                  0.009699   \n",
       "\n",
       "      secondary_cleaner.state.floatbank4_a_level  \\\n",
       "0                                      -0.376307   \n",
       "1                                      -0.394044   \n",
       "2                                      -0.395458   \n",
       "3                                      -0.387248   \n",
       "4                                      -0.435251   \n",
       "...                                          ...   \n",
       "5285                                   -0.422853   \n",
       "5286                                   -0.341534   \n",
       "5287                                   -0.415637   \n",
       "5288                                   -0.418937   \n",
       "5289                                   -0.434110   \n",
       "\n",
       "      secondary_cleaner.state.floatbank4_b_air  \\\n",
       "0                                    -1.421433   \n",
       "1                                    -1.399680   \n",
       "2                                    -1.406166   \n",
       "3                                    -1.410342   \n",
       "4                                    -1.414198   \n",
       "...                                        ...   \n",
       "5285                                 -0.650317   \n",
       "5286                                 -0.403671   \n",
       "5287                                 -0.073332   \n",
       "5288                                 -0.087522   \n",
       "5289                                 -0.108958   \n",
       "\n",
       "      secondary_cleaner.state.floatbank4_b_level  \\\n",
       "0                                      -0.697607   \n",
       "1                                      -0.669484   \n",
       "2                                      -0.689761   \n",
       "3                                      -0.666769   \n",
       "4                                      -0.682455   \n",
       "...                                          ...   \n",
       "5285                                   -0.670148   \n",
       "5286                                   -0.660792   \n",
       "5287                                   -0.674617   \n",
       "5288                                   -0.670995   \n",
       "5289                                   -0.674825   \n",
       "\n",
       "      secondary_cleaner.state.floatbank5_a_air  \\\n",
       "0                                    -1.513793   \n",
       "1                                    -1.511785   \n",
       "2                                    -1.492446   \n",
       "3                                    -1.522277   \n",
       "4                                    -1.486129   \n",
       "...                                        ...   \n",
       "5285                                 -1.508529   \n",
       "5286                                 -1.283676   \n",
       "5287                                 -0.992062   \n",
       "5288                                 -0.988216   \n",
       "5289                                 -0.992503   \n",
       "\n",
       "      secondary_cleaner.state.floatbank5_a_level  \\\n",
       "0                                       1.362866   \n",
       "1                                      -1.105331   \n",
       "2                                      -0.444537   \n",
       "3                                      -0.446301   \n",
       "4                                      -0.674806   \n",
       "...                                          ...   \n",
       "5285                                   -0.410609   \n",
       "5286                                   -0.341380   \n",
       "5287                                   -0.379778   \n",
       "5288                                   -0.422985   \n",
       "5289                                   -0.440746   \n",
       "\n",
       "      secondary_cleaner.state.floatbank5_b_air  \\\n",
       "0                                    -1.420851   \n",
       "1                                    -1.419752   \n",
       "2                                    -1.415195   \n",
       "3                                    -1.410637   \n",
       "4                                    -1.406080   \n",
       "...                                        ...   \n",
       "5285                                 -1.236855   \n",
       "5286                                 -0.987160   \n",
       "5287                                 -0.701307   \n",
       "5288                                 -0.703243   \n",
       "5289                                 -0.706762   \n",
       "\n",
       "      secondary_cleaner.state.floatbank5_b_level  \\\n",
       "0                                      -0.409885   \n",
       "1                                      -0.413072   \n",
       "2                                      -0.404556   \n",
       "3                                      -0.408003   \n",
       "4                                      -0.418113   \n",
       "...                                          ...   \n",
       "5285                                   -0.408062   \n",
       "5286                                   -0.407475   \n",
       "5287                                   -0.409962   \n",
       "5288                                   -0.407346   \n",
       "5289                                   -0.417541   \n",
       "\n",
       "      secondary_cleaner.state.floatbank6_a_air  \\\n",
       "0                                     1.236789   \n",
       "1                                     0.944308   \n",
       "2                                     0.939957   \n",
       "3                                     0.931987   \n",
       "4                                     0.941426   \n",
       "...                                        ...   \n",
       "5285                                 -1.837087   \n",
       "5286                                 -1.837145   \n",
       "5287                                 -1.837977   \n",
       "5288                                 -1.832665   \n",
       "5289                                 -1.836833   \n",
       "\n",
       "      secondary_cleaner.state.floatbank6_a_level  \n",
       "0                                       0.191335  \n",
       "1                                       0.188368  \n",
       "2                                       0.166711  \n",
       "3                                       0.218284  \n",
       "4                                       0.160408  \n",
       "...                                          ...  \n",
       "5285                                    0.190081  \n",
       "5286                                    0.186094  \n",
       "5287                                    0.243095  \n",
       "5288                                    0.179338  \n",
       "5289                                    0.162872  \n",
       "\n",
       "[5290 rows x 52 columns]"
      ]
     },
     "execution_count": 9,
     "metadata": {},
     "output_type": "execute_result"
    }
   ],
   "source": [
    "scaler = StandardScaler()\n",
    "scaler.fit(features_train)\n",
    "features_train_st = scaler.transform(features_train)#pd.DataFrame(features_train_st, columns=features_list)\n",
    "features_train_st = pd.DataFrame(features_train_st, columns=features_list)\n",
    "features_test_st = scaler.transform(features_test)\n",
    "features_test_st = pd.DataFrame(features_test_st, columns=features_list)\n",
    "features_test_st"
   ]
  },
  {
   "cell_type": "code",
   "execution_count": 10,
   "metadata": {
    "scrolled": true
   },
   "outputs": [
    {
     "data": {
      "text/plain": [
       "primary_cleaner.input.sulfate                 0.0\n",
       "primary_cleaner.input.depressant              0.0\n",
       "primary_cleaner.input.feed_size               0.0\n",
       "primary_cleaner.input.xanthate                0.0\n",
       "primary_cleaner.state.floatbank8_a_air        0.0\n",
       "primary_cleaner.state.floatbank8_a_level      0.0\n",
       "primary_cleaner.state.floatbank8_b_air        0.0\n",
       "primary_cleaner.state.floatbank8_b_level      0.0\n",
       "primary_cleaner.state.floatbank8_c_air        0.0\n",
       "primary_cleaner.state.floatbank8_c_level      0.0\n",
       "primary_cleaner.state.floatbank8_d_air        0.0\n",
       "primary_cleaner.state.floatbank8_d_level      0.0\n",
       "rougher.input.feed_ag                         0.0\n",
       "rougher.input.feed_pb                         0.0\n",
       "rougher.input.feed_rate                       0.0\n",
       "rougher.input.feed_size                       0.0\n",
       "rougher.input.feed_sol                        0.0\n",
       "rougher.input.feed_au                         0.0\n",
       "rougher.input.floatbank10_sulfate             0.0\n",
       "rougher.input.floatbank10_xanthate            0.0\n",
       "rougher.input.floatbank11_sulfate             0.0\n",
       "rougher.input.floatbank11_xanthate            0.0\n",
       "rougher.state.floatbank10_a_air               0.0\n",
       "rougher.state.floatbank10_a_level             0.0\n",
       "rougher.state.floatbank10_b_air               0.0\n",
       "rougher.state.floatbank10_b_level             0.0\n",
       "rougher.state.floatbank10_c_air               0.0\n",
       "rougher.state.floatbank10_c_level             0.0\n",
       "rougher.state.floatbank10_d_air               0.0\n",
       "rougher.state.floatbank10_d_level             0.0\n",
       "rougher.state.floatbank10_e_air               0.0\n",
       "rougher.state.floatbank10_e_level             0.0\n",
       "rougher.state.floatbank10_f_air               0.0\n",
       "rougher.state.floatbank10_f_level             0.0\n",
       "secondary_cleaner.state.floatbank2_a_air      0.0\n",
       "secondary_cleaner.state.floatbank2_a_level    0.0\n",
       "secondary_cleaner.state.floatbank2_b_air      0.0\n",
       "secondary_cleaner.state.floatbank2_b_level    0.0\n",
       "secondary_cleaner.state.floatbank3_a_air      0.0\n",
       "secondary_cleaner.state.floatbank3_a_level    0.0\n",
       "secondary_cleaner.state.floatbank3_b_air      0.0\n",
       "secondary_cleaner.state.floatbank3_b_level    0.0\n",
       "secondary_cleaner.state.floatbank4_a_air      0.0\n",
       "secondary_cleaner.state.floatbank4_a_level    0.0\n",
       "secondary_cleaner.state.floatbank4_b_air      0.0\n",
       "secondary_cleaner.state.floatbank4_b_level    0.0\n",
       "secondary_cleaner.state.floatbank5_a_air      0.0\n",
       "secondary_cleaner.state.floatbank5_a_level    0.0\n",
       "secondary_cleaner.state.floatbank5_b_air      0.0\n",
       "secondary_cleaner.state.floatbank5_b_level    0.0\n",
       "secondary_cleaner.state.floatbank6_a_air      0.0\n",
       "secondary_cleaner.state.floatbank6_a_level    0.0\n",
       "dtype: float64"
      ]
     },
     "execution_count": 10,
     "metadata": {},
     "output_type": "execute_result"
    }
   ],
   "source": [
    "features_test_st.isna().mean()"
   ]
  },
  {
   "cell_type": "markdown",
   "metadata": {},
   "source": [
    "Данные подготовлены для обучения модели."
   ]
  },
  {
   "cell_type": "markdown",
   "metadata": {},
   "source": [
    "## Анализ данных"
   ]
  },
  {
   "cell_type": "markdown",
   "metadata": {},
   "source": [
    "Посмотрим, как меняется концентрация металлов (Au, Ag, Pb) на различных этапах очистки, предварительно удалив значения, близкие к нулю, как явные ошибки измерений:"
   ]
  },
  {
   "cell_type": "code",
   "execution_count": 11,
   "metadata": {
    "scrolled": true
   },
   "outputs": [
    {
     "data": {
      "image/png": "[encoded data removed]",
      "text/plain": [
       "<Figure size 720x360 with 1 Axes>"
      ]
     },
     "metadata": {
      "needs_background": "light"
     },
     "output_type": "display_data"
    },
    {
     "data": {
      "image/png": "[encoded data removed]",
      "text/plain": [
       "<Figure size 720x360 with 1 Axes>"
      ]
     },
     "metadata": {
      "needs_background": "light"
     },
     "output_type": "display_data"
    },
    {
     "data": {
      "image/png": "[encoded data removed]",
      "text/plain": [
       "<Figure size 720x360 with 1 Axes>"
      ]
     },
     "metadata": {
      "needs_background": "light"
     },
     "output_type": "display_data"
    }
   ],
   "source": [
    "for idx in ['au', 'ag', 'pb']:\n",
    "    plt.figure(figsize=(10, 5))\n",
    "    plot1 = df_full[df_full['rougher.input.feed_' + idx] > 2\n",
    "                   ]['rougher.input.feed_' + idx].plot(\n",
    "        kind='hist', bins=80, label='в сырье', alpha=0.6)\n",
    "    plot2 = df_full[df_full['rougher.output.concentrate_' + idx] > 2\n",
    "                   ]['rougher.output.concentrate_' + idx].plot(\n",
    "        kind='hist', bins=80, label='после флотации', alpha=0.6)\n",
    "    plot3 = df_full[df_full['primary_cleaner.output.concentrate_' + idx] > 2\n",
    "                   ]['primary_cleaner.output.concentrate_' + idx].plot(\n",
    "        kind='hist', bins=80, label='после перв.очистки', alpha=0.6)\n",
    "    plot4 = df_full[df_full['final.output.concentrate_' + idx] > 2\n",
    "                   ]['final.output.concentrate_' + idx].plot(\n",
    "        kind='hist', bins=80, label='в финальном концентрате', alpha=0.6)\n",
    "    plt.xlabel('Концентрация')\n",
    "    plt.ylabel('Частота значений')\n",
    "    plt.legend(loc='upper left')\n",
    "    plt.title('Распределение концентрации ' + idx.upper() + ' на разных этапах')\n",
    "    plt.show()"
   ]
  },
  {
   "cell_type": "markdown",
   "metadata": {},
   "source": [
    "Из полученных графиков видим, что концентрация золота с каждым этапом очистки растёт примерно на 10-15%, концентрация серебра падает примерно на 5-10%, а концентрация свинца после флотации возрастает на пару процентов, а затем остаётся примерно одинаковой."
   ]
  },
  {
   "cell_type": "markdown",
   "metadata": {},
   "source": [
    "Теперь взглянем на распределения размеров гранул сырья на обучающей и тестовой выборках, предварительно отбросив наименее вероятно встречающиеся случаи:"
   ]
  },
  {
   "cell_type": "code",
   "execution_count": 12,
   "metadata": {},
   "outputs": [
    {
     "name": "stdout",
     "output_type": "stream",
     "text": [
      "98%-ый доверительный интервал встречаемости гранул: (35.32, 127.61)\n",
      "98%-ый доверительный интервал встречаемости гранул: (38.47, 111.93)\n"
     ]
    }
   ],
   "source": [
    "print(f'98%-ый доверительный интервал встречаемости гранул: ({df_train[\"rougher.input.feed_size\"].quantile(0.01):.2f}, {df_train[\"rougher.input.feed_size\"].quantile(0.99):.2f})')\n",
    "print(f'98%-ый доверительный интервал встречаемости гранул: ({df_test[\"rougher.input.feed_size\"].quantile(0.01):.2f}, {df_test[\"rougher.input.feed_size\"].quantile(0.99):.2f})')"
   ]
  },
  {
   "cell_type": "markdown",
   "metadata": {},
   "source": [
    "Построим график их распределения:"
   ]
  },
  {
   "cell_type": "code",
   "execution_count": 13,
   "metadata": {
    "scrolled": false
   },
   "outputs": [
    {
     "data": {
      "image/png": "[encoded data removed]",
      "text/plain": [
       "<Figure size 720x360 with 1 Axes>"
      ]
     },
     "metadata": {
      "needs_background": "light"
     },
     "output_type": "display_data"
    }
   ],
   "source": [
    "plt.figure(figsize=(10, 5))\n",
    "plot1 = df_train['rougher.input.feed_size'].plot(\n",
    "        kind='hist', bins=150, label='обучающая выборка', alpha=0.6)\n",
    "plot2 = df_test['rougher.input.feed_size'].plot(\n",
    "        kind='hist', bins=150, label='тестовая выборка', alpha=0.6)\n",
    "plt.xlim(20, 130)\n",
    "plt.xlabel('Размер гранул')\n",
    "plt.ylabel('Частота значений')\n",
    "plt.legend(loc='upper left')\n",
    "plt.title('Размеры гранул на обучающей и тестовой выборках')\n",
    "plt.show()"
   ]
  },
  {
   "cell_type": "markdown",
   "metadata": {},
   "source": [
    "Видим, что распределения размеров гранул на обучающей и тестовой выборках не сильно отличаются друг от друга, поэтому оценка модели не будет неправильной."
   ]
  },
  {
   "cell_type": "markdown",
   "metadata": {},
   "source": [
    "Далее исследуем суммарную концентрацию всех веществ на разных стадиях: в сырье, в черновом и финальном концентратах:"
   ]
  },
  {
   "cell_type": "code",
   "execution_count": 14,
   "metadata": {
    "scrolled": true
   },
   "outputs": [
    {
     "data": {
      "image/png": "[encoded data removed]",
      "text/plain": [
       "<Figure size 720x360 with 1 Axes>"
      ]
     },
     "metadata": {
      "needs_background": "light"
     },
     "output_type": "display_data"
    }
   ],
   "source": [
    "plt.figure(figsize=(10, 5))\n",
    "plot1 = (df_full['rougher.input.feed_au'] + df_full['rougher.input.feed_ag'] +\n",
    "         df_full['rougher.input.feed_pb']).plot(\n",
    "        kind='hist', bins=80, label='в сырье', alpha=0.6)\n",
    "plot2 = (df_full['rougher.output.concentrate_au'] +\n",
    "         df_full['rougher.output.concentrate_ag'] +\n",
    "         df_full['rougher.output.concentrate_pb']).plot(\n",
    "        kind='hist', bins=80, label='в черновом концентрате', alpha=0.6)\n",
    "plot3 = (df_full['final.output.concentrate_au'] + df_full['final.output.concentrate_ag'] +\n",
    "         df_full['final.output.concentrate_pb']).plot(\n",
    "        kind='hist', bins=80, label='в финальном концентрате', alpha=0.6)\n",
    "#plt.xlim(25, 70)\n",
    "plt.xlabel('Концентрация')\n",
    "plt.ylabel('Частота значений')\n",
    "plt.legend(loc='upper left')\n",
    "plt.title('Распределение концентрации всех металлов на разных этапах')\n",
    "plt.show()"
   ]
  },
  {
   "cell_type": "markdown",
   "metadata": {},
   "source": [
    "Видим явную тенденцию к увеличению концентрации металлов с каждым этапом флотации и очистки. Также наблюдаем выбросы - это значения, близкие к нулю, похожие на явные ошибки измерений."
   ]
  },
  {
   "cell_type": "markdown",
   "metadata": {},
   "source": [
    "## Модель"
   ]
  },
  {
   "cell_type": "markdown",
   "metadata": {},
   "source": [
    "Напишем функцию для вычисления итоговой sMAPE:"
   ]
  },
  {
   "cell_type": "code",
   "execution_count": 15,
   "metadata": {},
   "outputs": [],
   "source": [
    "def sMAPE_calculate(predict, target):\n",
    "    predict_rougher = predict['rougher.output.recovery']\n",
    "    predict_final = predict['final.output.recovery']\n",
    "    target_rougher = target[:,0]\n",
    "    target_final = target[:,1]\n",
    "    \n",
    "    sMAPE_rougher = np.sum(abs(target_rougher - predict_rougher) / (\n",
    "        (abs(target_rougher) + abs(predict_rougher)) / 2))\n",
    "    sMAPE_rougher = sMAPE_rougher / len(target_rougher) * 100\n",
    "       \n",
    "    sMAPE_final = np.sum(abs(target_final - predict_final) / ((abs(target_final) + abs(predict_final)) / 2))\n",
    "    sMAPE_final = sMAPE_final / len(target_final) * 100\n",
    "    \n",
    "    sMAPE = 0.25 * sMAPE_rougher + 0.75 * sMAPE_final\n",
    "    return sMAPE"
   ]
  },
  {
   "cell_type": "markdown",
   "metadata": {},
   "source": [
    "Далее сперва посмотрим на результаты работы модели линейной регрессии:"
   ]
  },
  {
   "cell_type": "code",
   "execution_count": 16,
   "metadata": {},
   "outputs": [
    {
     "name": "stdout",
     "output_type": "stream",
     "text": [
      "sMAPE тестовой модели = 11.526511765682077\n"
     ]
    }
   ],
   "source": [
    "model = LinearRegression()\n",
    "CVS=cross_val_score(model, features_train_st, target_train, cv=10,\n",
    "                            scoring=make_scorer(sMAPE_calculate, greater_is_better=False))\n",
    "print('sMAPE тестовой модели =', sum(abs(CVS)) / 10)"
   ]
  },
  {
   "cell_type": "markdown",
   "metadata": {},
   "source": [
    "Затем найдём наилучшие гиперпараметры для модели случайного леса, как для наиболее точной модели из всех изученных:"
   ]
  },
  {
   "cell_type": "code",
   "execution_count": 17,
   "metadata": {
    "scrolled": true
   },
   "outputs": [
    {
     "data": {
      "application/vnd.jupyter.widget-view+json": {
       "model_id": "75fff7b2e96c4d6d990505050a6d34aa",
       "version_major": 2,
       "version_minor": 0
      },
      "text/plain": [
       "  0%|          | 0/5 [00:00<?, ?it/s]"
      ]
     },
     "metadata": {},
     "output_type": "display_data"
    },
    {
     "name": "stdout",
     "output_type": "stream",
     "text": [
      "Качество наилучшей модели: 10.29537204532305 Количество деревьев: 50 Глубина: 6\n",
      "CPU times: user 20min, sys: 3.1 s, total: 20min 3s\n",
      "Wall time: 20min 4s\n"
     ]
    }
   ],
   "source": [
    "%%time\n",
    "\n",
    "best_forest_model = None\n",
    "best_forest_score = 1000\n",
    "best_depth = 0\n",
    "best_forest_est = 0\n",
    "for est in tqdm(range(10, 51, 10)):\n",
    "    for depth in range(3, 10):\n",
    "        model = RandomForestRegressor(random_state=9428, n_estimators=est, max_depth=depth)\n",
    "        CVS=cross_val_score(model, features_train_st, target_train, cv=5,\n",
    "                            scoring=make_scorer(sMAPE_calculate, greater_is_better=False))\n",
    "        final_CVS = sum(abs(CVS)) / 5\n",
    "        if final_CVS < best_forest_score:\n",
    "            best_forest_model = model\n",
    "            best_forest_score = final_CVS\n",
    "            best_depth = depth\n",
    "            best_forest_est = est\n",
    "print(\"Качество наилучшей модели:\", best_forest_score, \"Количество деревьев:\", best_forest_est, \"Глубина:\", best_depth)"
   ]
  },
  {
   "cell_type": "markdown",
   "metadata": {},
   "source": [
    "Получили наилучшую модель, которую теперь можно проверить на тестовой выборке:"
   ]
  },
  {
   "cell_type": "code",
   "execution_count": 18,
   "metadata": {},
   "outputs": [
    {
     "name": "stdout",
     "output_type": "stream",
     "text": [
      "sMAPE тестовой модели = 9.346114433768593\n"
     ]
    }
   ],
   "source": [
    "best_forest_model = RandomForestRegressor(random_state=9428, max_depth=6, n_estimators=20)\n",
    "best_forest_model.fit(features_train_st, target_train)\n",
    "predict_test = best_forest_model.predict(features_test_st)\n",
    "predict_test = pd.DataFrame(predict_test, columns=['rougher.output.recovery','final.output.recovery'])\n",
    "smape = sMAPE_calculate(predict_test, np.array(target_test))\n",
    "print('sMAPE тестовой модели =', smape)"
   ]
  },
  {
   "cell_type": "markdown",
   "metadata": {},
   "source": [
    "Сравним полученные результаты с предсказанием константной модели:"
   ]
  },
  {
   "cell_type": "code",
   "execution_count": 19,
   "metadata": {},
   "outputs": [
    {
     "name": "stdout",
     "output_type": "stream",
     "text": [
      "sMAPE константной модели = 10.289630376021035\n"
     ]
    }
   ],
   "source": [
    "dummy_model = DummyRegressor(strategy=\"mean\")\n",
    "dummy_model.fit(features_train_st, target_train)\n",
    "dummy_predict = dummy_model.predict(features_test_st)\n",
    "dummy_predict = pd.DataFrame(dummy_predict, columns=['rougher.output.recovery','final.output.recovery'])\n",
    "smape = sMAPE_calculate(dummy_predict, np.array(target_test))\n",
    "print('sMAPE константной модели =', smape)"
   ]
  },
  {
   "cell_type": "markdown",
   "metadata": {},
   "source": [
    "<b>Вывод: подготовили прототип наилучшей модели машинного обучения, которая предсказывает коэффициент восстановления золота из золотосодержащей руды со значением метрики sMAPE на тестовой выборке равной 9.346, что лучше предсказания константной модели примерно на 1%.</b>"
   ]
  }
 ],
 "metadata": {
  "ExecuteTimeLog": [
   {
    "duration": 1464,
    "start_time": "2022-07-13T17:37:59.694Z"
   },
   {
    "duration": 3,
    "start_time": "2022-07-13T17:39:33.653Z"
   },
   {
    "duration": 1735,
    "start_time": "2022-07-13T17:43:23.072Z"
   },
   {
    "duration": 1291,
    "start_time": "2022-07-22T08:12:14.545Z"
   },
   {
    "duration": 2093,
    "start_time": "2022-07-22T08:12:15.838Z"
   },
   {
    "duration": 5,
    "start_time": "2022-07-22T08:16:36.568Z"
   },
   {
    "duration": 4,
    "start_time": "2022-07-22T08:17:05.301Z"
   },
   {
    "duration": 5,
    "start_time": "2022-07-22T08:17:14.330Z"
   },
   {
    "duration": 4,
    "start_time": "2022-07-22T08:17:25.934Z"
   },
   {
    "duration": 126,
    "start_time": "2022-07-22T08:17:39.198Z"
   },
   {
    "duration": 200,
    "start_time": "2022-07-22T08:18:19.520Z"
   },
   {
    "duration": 116,
    "start_time": "2022-07-22T08:18:30.816Z"
   },
   {
    "duration": 118,
    "start_time": "2022-07-22T08:19:53.075Z"
   },
   {
    "duration": 154,
    "start_time": "2022-07-22T08:20:04.317Z"
   },
   {
    "duration": 224,
    "start_time": "2022-07-22T08:20:27.039Z"
   },
   {
    "duration": 1492,
    "start_time": "2022-07-22T08:22:31.696Z"
   },
   {
    "duration": 3,
    "start_time": "2022-07-22T08:26:35.731Z"
   },
   {
    "duration": 8,
    "start_time": "2022-07-22T08:38:57.738Z"
   },
   {
    "duration": 7,
    "start_time": "2022-07-22T08:39:26.128Z"
   },
   {
    "duration": 7,
    "start_time": "2022-07-22T08:39:49.020Z"
   },
   {
    "duration": 9,
    "start_time": "2022-07-22T08:49:10.209Z"
   },
   {
    "duration": 5,
    "start_time": "2022-07-22T08:49:20.037Z"
   },
   {
    "duration": 7,
    "start_time": "2022-07-22T08:51:36.799Z"
   },
   {
    "duration": 4,
    "start_time": "2022-07-22T09:02:04.487Z"
   },
   {
    "duration": 4,
    "start_time": "2022-07-22T09:02:39.253Z"
   },
   {
    "duration": 8,
    "start_time": "2022-07-22T09:04:39.539Z"
   },
   {
    "duration": 7,
    "start_time": "2022-07-22T09:04:54.598Z"
   },
   {
    "duration": 3,
    "start_time": "2022-07-22T09:05:55.594Z"
   },
   {
    "duration": 3,
    "start_time": "2022-07-22T09:06:05.344Z"
   },
   {
    "duration": 3,
    "start_time": "2022-07-22T09:06:35.319Z"
   },
   {
    "duration": 4,
    "start_time": "2022-07-22T09:08:41.088Z"
   },
   {
    "duration": 4,
    "start_time": "2022-07-22T09:10:03.539Z"
   },
   {
    "duration": 4,
    "start_time": "2022-07-22T09:10:20.517Z"
   },
   {
    "duration": 4,
    "start_time": "2022-07-22T09:10:32.105Z"
   },
   {
    "duration": 6,
    "start_time": "2022-07-22T09:10:41.427Z"
   },
   {
    "duration": 4,
    "start_time": "2022-07-22T09:10:48.745Z"
   },
   {
    "duration": 4,
    "start_time": "2022-07-22T09:10:55.919Z"
   },
   {
    "duration": 4,
    "start_time": "2022-07-22T09:11:35.539Z"
   },
   {
    "duration": 6,
    "start_time": "2022-07-22T09:13:26.914Z"
   },
   {
    "duration": 9,
    "start_time": "2022-07-22T09:14:09.768Z"
   },
   {
    "duration": 9,
    "start_time": "2022-07-22T09:14:25.687Z"
   },
   {
    "duration": 9,
    "start_time": "2022-07-22T09:15:02.974Z"
   },
   {
    "duration": 4,
    "start_time": "2022-07-22T09:15:15.528Z"
   },
   {
    "duration": 9,
    "start_time": "2022-07-22T09:15:31.464Z"
   },
   {
    "duration": 5,
    "start_time": "2022-07-22T09:16:31.528Z"
   },
   {
    "duration": 5,
    "start_time": "2022-07-22T09:17:04.601Z"
   },
   {
    "duration": 5,
    "start_time": "2022-07-22T09:18:16.859Z"
   },
   {
    "duration": 4,
    "start_time": "2022-07-22T09:19:05.965Z"
   },
   {
    "duration": 4,
    "start_time": "2022-07-22T09:19:15.348Z"
   },
   {
    "duration": 5,
    "start_time": "2022-07-22T09:32:51.551Z"
   },
   {
    "duration": 6,
    "start_time": "2022-07-22T09:32:55.177Z"
   },
   {
    "duration": 4,
    "start_time": "2022-07-22T09:37:58.102Z"
   },
   {
    "duration": 3,
    "start_time": "2022-07-22T09:44:59.884Z"
   },
   {
    "duration": 8,
    "start_time": "2022-07-22T09:45:32.566Z"
   },
   {
    "duration": 9,
    "start_time": "2022-07-22T09:45:38.476Z"
   },
   {
    "duration": 33,
    "start_time": "2022-07-22T09:45:47.134Z"
   },
   {
    "duration": 32,
    "start_time": "2022-07-22T09:46:18.801Z"
   },
   {
    "duration": 16,
    "start_time": "2022-07-22T09:47:41.594Z"
   },
   {
    "duration": 13,
    "start_time": "2022-07-22T09:50:26.481Z"
   },
   {
    "duration": 12,
    "start_time": "2022-07-22T09:53:36.014Z"
   },
   {
    "duration": 13,
    "start_time": "2022-07-22T09:58:19.113Z"
   },
   {
    "duration": 13,
    "start_time": "2022-07-22T10:00:01.302Z"
   },
   {
    "duration": 27,
    "start_time": "2022-07-22T10:00:34.794Z"
   },
   {
    "duration": 58,
    "start_time": "2022-07-22T10:15:24.185Z"
   },
   {
    "duration": 1215,
    "start_time": "2022-07-22T10:26:33.628Z"
   },
   {
    "duration": 759,
    "start_time": "2022-07-22T10:26:34.845Z"
   },
   {
    "duration": 7,
    "start_time": "2022-07-22T10:26:35.606Z"
   },
   {
    "duration": 4,
    "start_time": "2022-07-22T10:26:35.614Z"
   },
   {
    "duration": 16,
    "start_time": "2022-07-22T10:26:35.620Z"
   },
   {
    "duration": 13,
    "start_time": "2022-07-22T10:26:35.637Z"
   },
   {
    "duration": 179,
    "start_time": "2022-07-22T10:26:35.652Z"
   },
   {
    "duration": 0,
    "start_time": "2022-07-22T10:26:35.833Z"
   },
   {
    "duration": 1165,
    "start_time": "2022-07-22T10:28:41.669Z"
   },
   {
    "duration": 709,
    "start_time": "2022-07-22T10:28:42.836Z"
   },
   {
    "duration": 7,
    "start_time": "2022-07-22T10:28:43.547Z"
   },
   {
    "duration": 4,
    "start_time": "2022-07-22T10:28:43.556Z"
   },
   {
    "duration": 17,
    "start_time": "2022-07-22T10:28:43.561Z"
   },
   {
    "duration": 30,
    "start_time": "2022-07-22T10:28:43.579Z"
   },
   {
    "duration": 33,
    "start_time": "2022-07-22T10:28:43.610Z"
   },
   {
    "duration": 21,
    "start_time": "2022-07-22T10:28:43.644Z"
   },
   {
    "duration": 35,
    "start_time": "2022-07-22T10:29:00.828Z"
   },
   {
    "duration": 1591,
    "start_time": "2022-07-22T10:55:49.890Z"
   },
   {
    "duration": 3329,
    "start_time": "2022-07-22T10:55:56.829Z"
   },
   {
    "duration": 12,
    "start_time": "2022-07-22T10:56:04.259Z"
   },
   {
    "duration": 5,
    "start_time": "2022-07-22T10:56:07.134Z"
   },
   {
    "duration": 5,
    "start_time": "2022-07-22T10:56:13.523Z"
   },
   {
    "duration": 5,
    "start_time": "2022-07-22T10:56:42.491Z"
   },
   {
    "duration": 5,
    "start_time": "2022-07-22T10:57:14.058Z"
   },
   {
    "duration": 117,
    "start_time": "2022-07-22T10:57:31.452Z"
   },
   {
    "duration": 5,
    "start_time": "2022-07-22T10:57:49.216Z"
   },
   {
    "duration": 42,
    "start_time": "2022-07-22T10:57:57.162Z"
   },
   {
    "duration": 11,
    "start_time": "2022-07-22T10:58:09.953Z"
   },
   {
    "duration": 10,
    "start_time": "2022-07-22T10:58:15.696Z"
   },
   {
    "duration": 1080,
    "start_time": "2022-07-22T10:58:32.254Z"
   },
   {
    "duration": 11,
    "start_time": "2022-07-22T10:58:38.485Z"
   },
   {
    "duration": 8,
    "start_time": "2022-07-22T10:58:41.504Z"
   },
   {
    "duration": 15,
    "start_time": "2022-07-22T10:59:23.395Z"
   },
   {
    "duration": 26,
    "start_time": "2022-07-22T10:59:41.119Z"
   },
   {
    "duration": 53,
    "start_time": "2022-07-22T10:59:57.426Z"
   },
   {
    "duration": 24,
    "start_time": "2022-07-22T11:04:20.793Z"
   },
   {
    "duration": 25,
    "start_time": "2022-07-22T11:07:55.697Z"
   },
   {
    "duration": 27,
    "start_time": "2022-07-22T11:09:01.357Z"
   },
   {
    "duration": 1365,
    "start_time": "2022-07-22T11:09:48.609Z"
   },
   {
    "duration": 862,
    "start_time": "2022-07-22T11:09:49.977Z"
   },
   {
    "duration": 9,
    "start_time": "2022-07-22T11:09:50.840Z"
   },
   {
    "duration": 13,
    "start_time": "2022-07-22T11:09:50.851Z"
   },
   {
    "duration": 27,
    "start_time": "2022-07-22T11:09:50.866Z"
   },
   {
    "duration": 18,
    "start_time": "2022-07-22T11:09:50.894Z"
   },
   {
    "duration": 122,
    "start_time": "2022-07-22T11:09:50.913Z"
   },
   {
    "duration": 0,
    "start_time": "2022-07-22T11:09:51.037Z"
   },
   {
    "duration": 43,
    "start_time": "2022-07-22T11:10:04.355Z"
   },
   {
    "duration": 30,
    "start_time": "2022-07-22T11:10:49.557Z"
   },
   {
    "duration": 51,
    "start_time": "2022-07-22T11:10:58.988Z"
   },
   {
    "duration": 5,
    "start_time": "2022-07-22T11:24:45.512Z"
   },
   {
    "duration": 7,
    "start_time": "2022-07-22T11:25:15.387Z"
   },
   {
    "duration": 27,
    "start_time": "2022-07-22T11:36:55.105Z"
   },
   {
    "duration": 270,
    "start_time": "2022-07-22T11:37:05.964Z"
   },
   {
    "duration": 252,
    "start_time": "2022-07-22T11:37:14.972Z"
   },
   {
    "duration": 275,
    "start_time": "2022-07-22T11:37:27.168Z"
   },
   {
    "duration": 240,
    "start_time": "2022-07-22T11:37:42.193Z"
   },
   {
    "duration": 250,
    "start_time": "2022-07-22T11:37:58.185Z"
   },
   {
    "duration": 420,
    "start_time": "2022-07-22T11:38:04.504Z"
   },
   {
    "duration": 252,
    "start_time": "2022-07-22T11:38:10.325Z"
   },
   {
    "duration": 61,
    "start_time": "2022-07-22T11:45:28.689Z"
   },
   {
    "duration": 220,
    "start_time": "2022-07-22T11:47:46.686Z"
   },
   {
    "duration": 343,
    "start_time": "2022-07-22T11:48:27.189Z"
   },
   {
    "duration": 19,
    "start_time": "2022-07-22T11:48:52.000Z"
   },
   {
    "duration": 255,
    "start_time": "2022-07-22T11:49:11.850Z"
   },
   {
    "duration": 338,
    "start_time": "2022-07-22T11:50:52.297Z"
   },
   {
    "duration": 392,
    "start_time": "2022-07-22T11:51:23.109Z"
   },
   {
    "duration": 1203,
    "start_time": "2022-07-22T11:51:34.707Z"
   },
   {
    "duration": 635,
    "start_time": "2022-07-22T11:52:02.746Z"
   },
   {
    "duration": 401,
    "start_time": "2022-07-22T11:52:15.708Z"
   },
   {
    "duration": 423,
    "start_time": "2022-07-22T11:59:47.310Z"
   },
   {
    "duration": 7,
    "start_time": "2022-07-22T12:00:21.935Z"
   },
   {
    "duration": 7,
    "start_time": "2022-07-22T12:00:31.875Z"
   },
   {
    "duration": 7,
    "start_time": "2022-07-22T12:00:38.238Z"
   },
   {
    "duration": 6,
    "start_time": "2022-07-22T12:00:50.264Z"
   },
   {
    "duration": 6,
    "start_time": "2022-07-22T12:00:57.317Z"
   },
   {
    "duration": 8,
    "start_time": "2022-07-22T12:01:06.962Z"
   },
   {
    "duration": 328,
    "start_time": "2022-07-22T12:01:33.541Z"
   },
   {
    "duration": 477,
    "start_time": "2022-07-22T12:09:25.661Z"
   },
   {
    "duration": 697,
    "start_time": "2022-07-22T12:11:09.852Z"
   },
   {
    "duration": 1759,
    "start_time": "2022-07-22T12:14:36.141Z"
   },
   {
    "duration": 704,
    "start_time": "2022-07-22T12:15:43.382Z"
   },
   {
    "duration": 514,
    "start_time": "2022-07-22T12:15:50.333Z"
   },
   {
    "duration": 1962,
    "start_time": "2022-07-22T12:16:18.341Z"
   },
   {
    "duration": 45,
    "start_time": "2022-07-22T12:21:20.507Z"
   },
   {
    "duration": 69,
    "start_time": "2022-07-22T12:22:51.447Z"
   },
   {
    "duration": 872,
    "start_time": "2022-07-22T12:27:22.181Z"
   },
   {
    "duration": 1360,
    "start_time": "2022-07-22T12:28:01.604Z"
   },
   {
    "duration": 1808,
    "start_time": "2022-07-22T12:29:18.401Z"
   },
   {
    "duration": 1695,
    "start_time": "2022-07-22T12:29:47.535Z"
   },
   {
    "duration": 1752,
    "start_time": "2022-07-22T12:30:07.741Z"
   },
   {
    "duration": 240,
    "start_time": "2022-07-22T12:30:43.357Z"
   },
   {
    "duration": 1666,
    "start_time": "2022-07-22T12:31:01.700Z"
   },
   {
    "duration": 1714,
    "start_time": "2022-07-22T12:31:21.009Z"
   },
   {
    "duration": 1774,
    "start_time": "2022-07-22T12:33:29.327Z"
   },
   {
    "duration": 1974,
    "start_time": "2022-07-22T12:39:23.680Z"
   },
   {
    "duration": 1719,
    "start_time": "2022-07-22T12:39:56.475Z"
   },
   {
    "duration": 1807,
    "start_time": "2022-07-22T12:41:03.856Z"
   },
   {
    "duration": 6,
    "start_time": "2022-07-22T13:33:54.689Z"
   },
   {
    "duration": 443,
    "start_time": "2022-07-22T13:34:12.280Z"
   },
   {
    "duration": 142,
    "start_time": "2022-07-22T13:34:24.192Z"
   },
   {
    "duration": 169,
    "start_time": "2022-07-22T13:34:39.887Z"
   },
   {
    "duration": 194,
    "start_time": "2022-07-22T13:34:52.102Z"
   },
   {
    "duration": 167,
    "start_time": "2022-07-22T13:35:02.211Z"
   },
   {
    "duration": 138,
    "start_time": "2022-07-22T13:37:10.955Z"
   },
   {
    "duration": 140,
    "start_time": "2022-07-22T13:37:22.860Z"
   },
   {
    "duration": 1317,
    "start_time": "2022-07-22T13:40:55.654Z"
   },
   {
    "duration": 814,
    "start_time": "2022-07-22T13:40:56.973Z"
   },
   {
    "duration": 12,
    "start_time": "2022-07-22T13:40:57.788Z"
   },
   {
    "duration": 5,
    "start_time": "2022-07-22T13:40:57.802Z"
   },
   {
    "duration": 17,
    "start_time": "2022-07-22T13:40:57.809Z"
   },
   {
    "duration": 39,
    "start_time": "2022-07-22T13:40:57.827Z"
   },
   {
    "duration": 40,
    "start_time": "2022-07-22T13:40:57.867Z"
   },
   {
    "duration": 1687,
    "start_time": "2022-07-22T13:40:57.909Z"
   },
   {
    "duration": 152,
    "start_time": "2022-07-22T13:40:59.598Z"
   },
   {
    "duration": 13,
    "start_time": "2022-07-22T13:40:59.752Z"
   },
   {
    "duration": 291,
    "start_time": "2022-07-22T13:42:23.023Z"
   },
   {
    "duration": 7,
    "start_time": "2022-07-22T14:01:31.933Z"
   },
   {
    "duration": 294,
    "start_time": "2022-07-22T14:01:49.756Z"
   },
   {
    "duration": 8,
    "start_time": "2022-07-22T14:05:02.601Z"
   },
   {
    "duration": 47,
    "start_time": "2022-07-22T14:06:13.059Z"
   },
   {
    "duration": 490,
    "start_time": "2022-07-22T14:06:41.587Z"
   },
   {
    "duration": 657,
    "start_time": "2022-07-22T14:08:42.552Z"
   },
   {
    "duration": 621,
    "start_time": "2022-07-22T14:09:34.416Z"
   },
   {
    "duration": 814,
    "start_time": "2022-07-22T14:09:52.487Z"
   },
   {
    "duration": 583,
    "start_time": "2022-07-22T14:10:01.286Z"
   },
   {
    "duration": 52,
    "start_time": "2022-07-22T14:12:18.576Z"
   },
   {
    "duration": 55,
    "start_time": "2022-07-22T14:12:43.220Z"
   },
   {
    "duration": 132,
    "start_time": "2022-07-22T14:14:12.559Z"
   },
   {
    "duration": 106,
    "start_time": "2022-07-22T14:15:17.366Z"
   },
   {
    "duration": 4,
    "start_time": "2022-07-22T14:15:28.251Z"
   },
   {
    "duration": 49,
    "start_time": "2022-07-22T14:15:52.954Z"
   },
   {
    "duration": 44,
    "start_time": "2022-07-22T14:16:08.306Z"
   },
   {
    "duration": 53,
    "start_time": "2022-07-22T14:16:33.580Z"
   },
   {
    "duration": 109,
    "start_time": "2022-07-22T14:16:43.352Z"
   },
   {
    "duration": 4,
    "start_time": "2022-07-22T14:17:27.553Z"
   },
   {
    "duration": 108,
    "start_time": "2022-07-22T14:17:46.245Z"
   },
   {
    "duration": 16,
    "start_time": "2022-07-22T14:21:13.396Z"
   },
   {
    "duration": 8,
    "start_time": "2022-07-22T14:21:33.023Z"
   },
   {
    "duration": 10,
    "start_time": "2022-07-22T14:22:30.464Z"
   },
   {
    "duration": 14,
    "start_time": "2022-07-22T14:23:39.055Z"
   },
   {
    "duration": 10,
    "start_time": "2022-07-22T14:25:56.378Z"
   },
   {
    "duration": 12,
    "start_time": "2022-07-22T14:26:44.070Z"
   },
   {
    "duration": 510,
    "start_time": "2022-07-22T14:38:37.550Z"
   },
   {
    "duration": 667,
    "start_time": "2022-07-22T14:41:46.552Z"
   },
   {
    "duration": 554,
    "start_time": "2022-07-22T14:43:07.267Z"
   },
   {
    "duration": 867,
    "start_time": "2022-07-22T14:47:34.871Z"
   },
   {
    "duration": 1103,
    "start_time": "2022-07-22T14:48:20.206Z"
   },
   {
    "duration": 110,
    "start_time": "2022-07-22T15:03:23.863Z"
   },
   {
    "duration": 4,
    "start_time": "2022-07-22T15:07:37.973Z"
   },
   {
    "duration": 912,
    "start_time": "2022-07-22T15:07:41.894Z"
   },
   {
    "duration": 10,
    "start_time": "2022-07-22T15:07:47.539Z"
   },
   {
    "duration": 5,
    "start_time": "2022-07-22T15:07:53.384Z"
   },
   {
    "duration": 11,
    "start_time": "2022-07-22T15:08:03.403Z"
   },
   {
    "duration": 24,
    "start_time": "2022-07-22T15:12:53.437Z"
   },
   {
    "duration": 204,
    "start_time": "2022-07-22T15:15:02.706Z"
   },
   {
    "duration": 8,
    "start_time": "2022-07-22T15:15:19.672Z"
   },
   {
    "duration": 10,
    "start_time": "2022-07-22T15:17:04.872Z"
   },
   {
    "duration": 17,
    "start_time": "2022-07-22T15:17:47.437Z"
   },
   {
    "duration": 54,
    "start_time": "2022-07-22T16:07:46.951Z"
   },
   {
    "duration": 41,
    "start_time": "2022-07-22T16:07:59.110Z"
   },
   {
    "duration": 27,
    "start_time": "2022-07-22T16:08:41.992Z"
   },
   {
    "duration": 5,
    "start_time": "2022-07-22T16:08:53.298Z"
   },
   {
    "duration": 9,
    "start_time": "2022-07-22T16:09:25.810Z"
   },
   {
    "duration": 19,
    "start_time": "2022-07-22T16:14:13.930Z"
   },
   {
    "duration": 20,
    "start_time": "2022-07-22T16:14:28.590Z"
   },
   {
    "duration": 38,
    "start_time": "2022-07-22T16:14:36.122Z"
   },
   {
    "duration": 41,
    "start_time": "2022-07-22T16:17:14.011Z"
   },
   {
    "duration": 44,
    "start_time": "2022-07-22T16:18:17.684Z"
   },
   {
    "duration": 43,
    "start_time": "2022-07-22T16:19:16.626Z"
   },
   {
    "duration": 8,
    "start_time": "2022-07-22T16:29:19.200Z"
   },
   {
    "duration": 7,
    "start_time": "2022-07-22T16:29:30.551Z"
   },
   {
    "duration": 8,
    "start_time": "2022-07-22T16:30:21.990Z"
   },
   {
    "duration": 6,
    "start_time": "2022-07-22T16:30:35.457Z"
   },
   {
    "duration": 752,
    "start_time": "2022-07-22T16:30:49.150Z"
   },
   {
    "duration": 5,
    "start_time": "2022-07-22T16:30:54.055Z"
   },
   {
    "duration": 8,
    "start_time": "2022-07-22T16:31:01.502Z"
   },
   {
    "duration": 9,
    "start_time": "2022-07-22T16:31:10.187Z"
   },
   {
    "duration": 9,
    "start_time": "2022-07-22T16:31:20.005Z"
   },
   {
    "duration": 9,
    "start_time": "2022-07-22T16:31:32.790Z"
   },
   {
    "duration": 7,
    "start_time": "2022-07-22T16:31:50.269Z"
   },
   {
    "duration": 8,
    "start_time": "2022-07-22T16:31:57.450Z"
   },
   {
    "duration": 20,
    "start_time": "2022-07-22T16:34:03.068Z"
   },
   {
    "duration": 6,
    "start_time": "2022-07-22T16:34:32.885Z"
   },
   {
    "duration": 17,
    "start_time": "2022-07-22T16:34:35.401Z"
   },
   {
    "duration": 50,
    "start_time": "2022-07-22T16:34:39.372Z"
   },
   {
    "duration": 7,
    "start_time": "2022-07-22T16:34:43.109Z"
   },
   {
    "duration": 51,
    "start_time": "2022-07-22T16:39:59.963Z"
   },
   {
    "duration": 28,
    "start_time": "2022-07-22T16:47:16.073Z"
   },
   {
    "duration": 19,
    "start_time": "2022-07-22T16:57:43.270Z"
   },
   {
    "duration": 3,
    "start_time": "2022-07-22T16:58:19.533Z"
   },
   {
    "duration": 4,
    "start_time": "2022-07-22T17:33:13.012Z"
   },
   {
    "duration": 10,
    "start_time": "2022-07-22T17:34:03.824Z"
   },
   {
    "duration": 463,
    "start_time": "2022-07-22T17:34:51.831Z"
   },
   {
    "duration": 944,
    "start_time": "2022-07-22T17:35:04.405Z"
   },
   {
    "duration": 9,
    "start_time": "2022-07-22T17:35:17.515Z"
   },
   {
    "duration": 6,
    "start_time": "2022-07-22T17:35:28.072Z"
   },
   {
    "duration": 50,
    "start_time": "2022-07-22T17:38:26.241Z"
   },
   {
    "duration": 4,
    "start_time": "2022-07-22T19:17:35.666Z"
   },
   {
    "duration": 55897,
    "start_time": "2022-07-22T19:17:40.146Z"
   },
   {
    "duration": 4,
    "start_time": "2022-07-22T19:30:33.908Z"
   },
   {
    "duration": 3,
    "start_time": "2022-07-22T19:31:43.357Z"
   },
   {
    "duration": 55893,
    "start_time": "2022-07-22T19:31:52.368Z"
   },
   {
    "duration": 55590,
    "start_time": "2022-07-22T19:33:07.909Z"
   },
   {
    "duration": 55934,
    "start_time": "2022-07-22T19:34:11.651Z"
   },
   {
    "duration": 5,
    "start_time": "2022-07-22T20:07:15.641Z"
   },
   {
    "duration": 55751,
    "start_time": "2022-07-22T20:07:25.761Z"
   },
   {
    "duration": 57894,
    "start_time": "2022-07-22T20:08:34.455Z"
   },
   {
    "duration": 4,
    "start_time": "2022-07-22T20:18:11.972Z"
   },
   {
    "duration": 22129,
    "start_time": "2022-07-22T20:18:15.344Z"
   },
   {
    "duration": 1286,
    "start_time": "2022-07-22T20:19:18.058Z"
   },
   {
    "duration": 784,
    "start_time": "2022-07-22T20:19:19.346Z"
   },
   {
    "duration": 7,
    "start_time": "2022-07-22T20:19:20.132Z"
   },
   {
    "duration": 10,
    "start_time": "2022-07-22T20:19:20.141Z"
   },
   {
    "duration": 8,
    "start_time": "2022-07-22T20:19:20.163Z"
   },
   {
    "duration": 20,
    "start_time": "2022-07-22T20:19:20.172Z"
   },
   {
    "duration": 8,
    "start_time": "2022-07-22T20:19:20.193Z"
   },
   {
    "duration": 36,
    "start_time": "2022-07-22T20:19:20.203Z"
   },
   {
    "duration": 61,
    "start_time": "2022-07-22T20:19:20.241Z"
   },
   {
    "duration": 8,
    "start_time": "2022-07-22T20:19:20.304Z"
   },
   {
    "duration": 1509,
    "start_time": "2022-07-22T20:19:20.313Z"
   },
   {
    "duration": 7,
    "start_time": "2022-07-22T20:19:21.824Z"
   },
   {
    "duration": 490,
    "start_time": "2022-07-22T20:19:21.833Z"
   },
   {
    "duration": 595,
    "start_time": "2022-07-22T20:19:22.325Z"
   },
   {
    "duration": 4,
    "start_time": "2022-07-22T20:19:22.922Z"
   },
   {
    "duration": 22306,
    "start_time": "2022-07-22T20:19:22.928Z"
   },
   {
    "duration": 11001,
    "start_time": "2022-07-22T20:19:45.236Z"
   },
   {
    "duration": 0,
    "start_time": "2022-07-22T20:19:56.240Z"
   },
   {
    "duration": 0,
    "start_time": "2022-07-22T20:19:56.241Z"
   },
   {
    "duration": 5,
    "start_time": "2022-07-22T20:25:00.882Z"
   },
   {
    "duration": 22560,
    "start_time": "2022-07-22T20:25:07.717Z"
   },
   {
    "duration": 26,
    "start_time": "2022-07-22T20:26:01.147Z"
   },
   {
    "duration": 10,
    "start_time": "2022-07-22T20:26:23.261Z"
   },
   {
    "duration": 1861,
    "start_time": "2022-07-23T08:38:52.108Z"
   },
   {
    "duration": 4856,
    "start_time": "2022-07-23T08:38:53.972Z"
   },
   {
    "duration": 35,
    "start_time": "2022-07-23T08:38:58.843Z"
   },
   {
    "duration": 10,
    "start_time": "2022-07-23T08:38:58.882Z"
   },
   {
    "duration": 12,
    "start_time": "2022-07-23T08:38:58.894Z"
   },
   {
    "duration": 27,
    "start_time": "2022-07-23T08:38:58.907Z"
   },
   {
    "duration": 18,
    "start_time": "2022-07-23T08:38:58.936Z"
   },
   {
    "duration": 58,
    "start_time": "2022-07-23T08:38:58.959Z"
   },
   {
    "duration": 57,
    "start_time": "2022-07-23T08:38:59.019Z"
   },
   {
    "duration": 8,
    "start_time": "2022-07-23T08:38:59.078Z"
   },
   {
    "duration": 1978,
    "start_time": "2022-07-23T08:38:59.088Z"
   },
   {
    "duration": 11,
    "start_time": "2022-07-23T08:39:01.075Z"
   },
   {
    "duration": 797,
    "start_time": "2022-07-23T08:39:01.088Z"
   },
   {
    "duration": 777,
    "start_time": "2022-07-23T08:39:01.887Z"
   },
   {
    "duration": 8,
    "start_time": "2022-07-23T08:39:02.678Z"
   },
   {
    "duration": 18,
    "start_time": "2022-07-23T08:39:02.687Z"
   },
   {
    "duration": 28509,
    "start_time": "2022-07-23T08:39:02.707Z"
   },
   {
    "duration": 13721,
    "start_time": "2022-07-23T08:39:31.218Z"
   },
   {
    "duration": 0,
    "start_time": "2022-07-23T08:39:44.941Z"
   },
   {
    "duration": 0,
    "start_time": "2022-07-23T08:39:44.942Z"
   },
   {
    "duration": 1519,
    "start_time": "2022-07-23T08:45:12.625Z"
   },
   {
    "duration": 998,
    "start_time": "2022-07-23T08:45:14.146Z"
   },
   {
    "duration": 12,
    "start_time": "2022-07-23T08:45:15.154Z"
   },
   {
    "duration": 10,
    "start_time": "2022-07-23T08:45:15.169Z"
   },
   {
    "duration": 23,
    "start_time": "2022-07-23T08:45:15.180Z"
   },
   {
    "duration": 32,
    "start_time": "2022-07-23T08:45:15.205Z"
   },
   {
    "duration": 19,
    "start_time": "2022-07-23T08:45:15.241Z"
   },
   {
    "duration": 23,
    "start_time": "2022-07-23T08:45:15.262Z"
   },
   {
    "duration": 71,
    "start_time": "2022-07-23T08:45:15.287Z"
   },
   {
    "duration": 8,
    "start_time": "2022-07-23T08:45:15.361Z"
   },
   {
    "duration": 1837,
    "start_time": "2022-07-23T08:45:15.371Z"
   },
   {
    "duration": 19,
    "start_time": "2022-07-23T08:45:17.210Z"
   },
   {
    "duration": 629,
    "start_time": "2022-07-23T08:45:17.230Z"
   },
   {
    "duration": 741,
    "start_time": "2022-07-23T08:45:17.861Z"
   },
   {
    "duration": 5,
    "start_time": "2022-07-23T08:45:18.603Z"
   },
   {
    "duration": 28,
    "start_time": "2022-07-23T08:45:18.610Z"
   },
   {
    "duration": 27612,
    "start_time": "2022-07-23T08:45:18.639Z"
   },
   {
    "duration": 13159,
    "start_time": "2022-07-23T08:45:46.253Z"
   },
   {
    "duration": 0,
    "start_time": "2022-07-23T08:45:59.414Z"
   },
   {
    "duration": 0,
    "start_time": "2022-07-23T08:45:59.415Z"
   },
   {
    "duration": 28221,
    "start_time": "2022-07-23T09:09:43.257Z"
   },
   {
    "duration": 26469,
    "start_time": "2022-07-23T13:26:36.984Z"
   },
   {
    "duration": 6,
    "start_time": "2022-07-23T13:28:02.150Z"
   },
   {
    "duration": 26662,
    "start_time": "2022-07-23T13:28:14.287Z"
   },
   {
    "duration": 1534,
    "start_time": "2022-07-23T13:28:50.454Z"
   },
   {
    "duration": 914,
    "start_time": "2022-07-23T13:28:51.991Z"
   },
   {
    "duration": 21,
    "start_time": "2022-07-23T13:28:52.907Z"
   },
   {
    "duration": 10,
    "start_time": "2022-07-23T13:28:52.934Z"
   },
   {
    "duration": 14,
    "start_time": "2022-07-23T13:28:52.946Z"
   },
   {
    "duration": 27,
    "start_time": "2022-07-23T13:28:52.963Z"
   },
   {
    "duration": 37,
    "start_time": "2022-07-23T13:28:52.992Z"
   },
   {
    "duration": 27,
    "start_time": "2022-07-23T13:28:53.031Z"
   },
   {
    "duration": 91,
    "start_time": "2022-07-23T13:28:53.061Z"
   },
   {
    "duration": 13,
    "start_time": "2022-07-23T13:28:53.161Z"
   },
   {
    "duration": 2046,
    "start_time": "2022-07-23T13:28:53.177Z"
   },
   {
    "duration": 13,
    "start_time": "2022-07-23T13:28:55.226Z"
   },
   {
    "duration": 750,
    "start_time": "2022-07-23T13:28:55.242Z"
   },
   {
    "duration": 715,
    "start_time": "2022-07-23T13:28:55.996Z"
   },
   {
    "duration": 9,
    "start_time": "2022-07-23T13:28:56.714Z"
   },
   {
    "duration": 26714,
    "start_time": "2022-07-23T13:28:56.726Z"
   },
   {
    "duration": 13113,
    "start_time": "2022-07-23T13:29:23.443Z"
   },
   {
    "duration": 0,
    "start_time": "2022-07-23T13:29:36.558Z"
   },
   {
    "duration": 0,
    "start_time": "2022-07-23T13:29:36.559Z"
   },
   {
    "duration": 1723,
    "start_time": "2022-07-23T16:07:39.732Z"
   },
   {
    "duration": 1126,
    "start_time": "2022-07-23T16:07:41.458Z"
   },
   {
    "duration": 15,
    "start_time": "2022-07-23T16:07:42.586Z"
   },
   {
    "duration": 22,
    "start_time": "2022-07-23T16:07:42.606Z"
   },
   {
    "duration": 46,
    "start_time": "2022-07-23T16:07:42.630Z"
   },
   {
    "duration": 45,
    "start_time": "2022-07-23T16:07:42.678Z"
   },
   {
    "duration": 15,
    "start_time": "2022-07-23T16:07:42.730Z"
   },
   {
    "duration": 69,
    "start_time": "2022-07-23T16:07:42.748Z"
   },
   {
    "duration": 105,
    "start_time": "2022-07-23T16:07:42.820Z"
   },
   {
    "duration": 13,
    "start_time": "2022-07-23T16:07:42.929Z"
   },
   {
    "duration": 2229,
    "start_time": "2022-07-23T16:07:42.944Z"
   },
   {
    "duration": 10,
    "start_time": "2022-07-23T16:07:45.175Z"
   },
   {
    "duration": 689,
    "start_time": "2022-07-23T16:07:45.187Z"
   },
   {
    "duration": 768,
    "start_time": "2022-07-23T16:07:45.878Z"
   },
   {
    "duration": 8,
    "start_time": "2022-07-23T16:07:46.648Z"
   },
   {
    "duration": 27709,
    "start_time": "2022-07-23T16:07:46.658Z"
   },
   {
    "duration": 14238,
    "start_time": "2022-07-23T16:08:14.369Z"
   },
   {
    "duration": 0,
    "start_time": "2022-07-23T16:08:28.610Z"
   },
   {
    "duration": 0,
    "start_time": "2022-07-23T16:08:28.612Z"
   },
   {
    "duration": 11692482,
    "start_time": "2022-07-23T16:12:27.069Z"
   },
   {
    "duration": 18,
    "start_time": "2022-07-23T19:27:32.016Z"
   },
   {
    "duration": 1382,
    "start_time": "2022-07-23T19:27:46.405Z"
   },
   {
    "duration": 863,
    "start_time": "2022-07-23T19:27:47.789Z"
   },
   {
    "duration": 8,
    "start_time": "2022-07-23T19:27:48.654Z"
   },
   {
    "duration": 6,
    "start_time": "2022-07-23T19:27:48.663Z"
   },
   {
    "duration": 12,
    "start_time": "2022-07-23T19:27:48.671Z"
   },
   {
    "duration": 49,
    "start_time": "2022-07-23T19:27:48.685Z"
   },
   {
    "duration": 8,
    "start_time": "2022-07-23T19:27:48.737Z"
   },
   {
    "duration": 27,
    "start_time": "2022-07-23T19:27:48.747Z"
   },
   {
    "duration": 51,
    "start_time": "2022-07-23T19:27:48.776Z"
   },
   {
    "duration": 10,
    "start_time": "2022-07-23T19:27:48.834Z"
   },
   {
    "duration": 1663,
    "start_time": "2022-07-23T19:27:48.847Z"
   },
   {
    "duration": 15,
    "start_time": "2022-07-23T19:27:50.512Z"
   },
   {
    "duration": 541,
    "start_time": "2022-07-23T19:27:50.535Z"
   },
   {
    "duration": 655,
    "start_time": "2022-07-23T19:27:51.078Z"
   },
   {
    "duration": 4,
    "start_time": "2022-07-23T19:27:51.736Z"
   },
   {
    "duration": 2182,
    "start_time": "2022-07-23T19:27:51.742Z"
   },
   {
    "duration": 559982,
    "start_time": "2022-07-23T19:27:53.927Z"
   },
   {
    "duration": 131,
    "start_time": "2022-07-23T19:37:13.911Z"
   },
   {
    "duration": 13,
    "start_time": "2022-07-23T19:37:46.970Z"
   },
   {
    "duration": 5880,
    "start_time": "2022-07-23T19:39:58.090Z"
   },
   {
    "duration": 6016,
    "start_time": "2022-07-23T19:40:29.773Z"
   },
   {
    "duration": 5546,
    "start_time": "2022-07-23T19:41:21.956Z"
   },
   {
    "duration": 5602,
    "start_time": "2022-07-23T19:42:12.176Z"
   },
   {
    "duration": 13,
    "start_time": "2022-07-23T19:44:25.568Z"
   },
   {
    "duration": 13,
    "start_time": "2022-07-23T19:44:55.559Z"
   },
   {
    "duration": 5,
    "start_time": "2022-07-23T19:45:21.900Z"
   },
   {
    "duration": 10,
    "start_time": "2022-07-23T19:46:59.522Z"
   },
   {
    "duration": 415,
    "start_time": "2022-07-23T19:47:10.042Z"
   },
   {
    "duration": 13,
    "start_time": "2022-07-23T19:48:31.384Z"
   },
   {
    "duration": 7,
    "start_time": "2022-07-23T19:49:09.652Z"
   },
   {
    "duration": 5759,
    "start_time": "2022-07-23T19:50:04.184Z"
   },
   {
    "duration": 1782,
    "start_time": "2022-07-23T19:51:01.947Z"
   },
   {
    "duration": 1830,
    "start_time": "2022-07-23T19:52:26.194Z"
   },
   {
    "duration": 1926,
    "start_time": "2022-07-23T19:53:05.203Z"
   },
   {
    "duration": 228551,
    "start_time": "2022-07-23T19:53:15.518Z"
   },
   {
    "duration": 1449,
    "start_time": "2022-07-23T19:57:52.216Z"
   },
   {
    "duration": 844,
    "start_time": "2022-07-23T19:57:53.667Z"
   },
   {
    "duration": 14,
    "start_time": "2022-07-23T19:57:54.513Z"
   },
   {
    "duration": 12,
    "start_time": "2022-07-23T19:57:54.530Z"
   },
   {
    "duration": 18,
    "start_time": "2022-07-23T19:57:54.543Z"
   },
   {
    "duration": 24,
    "start_time": "2022-07-23T19:57:54.562Z"
   },
   {
    "duration": 7,
    "start_time": "2022-07-23T19:57:54.588Z"
   },
   {
    "duration": 44,
    "start_time": "2022-07-23T19:57:54.596Z"
   },
   {
    "duration": 54,
    "start_time": "2022-07-23T19:57:54.642Z"
   },
   {
    "duration": 8,
    "start_time": "2022-07-23T19:57:54.699Z"
   },
   {
    "duration": 1596,
    "start_time": "2022-07-23T19:57:54.708Z"
   },
   {
    "duration": 7,
    "start_time": "2022-07-23T19:57:56.306Z"
   },
   {
    "duration": 541,
    "start_time": "2022-07-23T19:57:56.315Z"
   },
   {
    "duration": 620,
    "start_time": "2022-07-23T19:57:56.858Z"
   },
   {
    "duration": 5,
    "start_time": "2022-07-23T19:57:57.480Z"
   },
   {
    "duration": 2440,
    "start_time": "2022-07-23T19:57:57.487Z"
   },
   {
    "duration": 1215765,
    "start_time": "2022-07-23T19:58:00.022Z"
   },
   {
    "duration": 5864,
    "start_time": "2022-07-23T20:18:15.789Z"
   },
   {
    "duration": 1291,
    "start_time": "2022-07-24T07:38:36.400Z"
   },
   {
    "duration": 785,
    "start_time": "2022-07-24T07:38:37.693Z"
   },
   {
    "duration": 18,
    "start_time": "2022-07-24T07:38:38.479Z"
   },
   {
    "duration": 27,
    "start_time": "2022-07-24T07:38:38.499Z"
   },
   {
    "duration": 14,
    "start_time": "2022-07-24T07:38:38.527Z"
   },
   {
    "duration": 21,
    "start_time": "2022-07-24T07:38:38.543Z"
   },
   {
    "duration": 8,
    "start_time": "2022-07-24T07:38:38.565Z"
   },
   {
    "duration": 52,
    "start_time": "2022-07-24T07:38:38.574Z"
   },
   {
    "duration": 43,
    "start_time": "2022-07-24T07:38:38.628Z"
   },
   {
    "duration": 8,
    "start_time": "2022-07-24T07:38:38.673Z"
   },
   {
    "duration": 1723,
    "start_time": "2022-07-24T07:38:38.683Z"
   },
   {
    "duration": 18,
    "start_time": "2022-07-24T07:38:40.408Z"
   },
   {
    "duration": 617,
    "start_time": "2022-07-24T07:38:40.428Z"
   },
   {
    "duration": 635,
    "start_time": "2022-07-24T07:38:41.047Z"
   },
   {
    "duration": 5,
    "start_time": "2022-07-24T07:38:41.685Z"
   },
   {
    "duration": 2136,
    "start_time": "2022-07-24T07:38:41.692Z"
   },
   {
    "duration": 1217266,
    "start_time": "2022-07-24T07:38:43.831Z"
   },
   {
    "duration": 6057,
    "start_time": "2022-07-24T07:59:01.099Z"
   },
   {
    "duration": 6,
    "start_time": "2022-07-24T09:15:41.281Z"
   },
   {
    "duration": 837,
    "start_time": "2022-07-24T09:15:51.220Z"
   },
   {
    "duration": 9,
    "start_time": "2022-07-24T09:16:00.265Z"
   },
   {
    "duration": 7,
    "start_time": "2022-07-24T09:16:12.480Z"
   },
   {
    "duration": 8,
    "start_time": "2022-07-24T09:16:25.440Z"
   },
   {
    "duration": 23,
    "start_time": "2022-07-24T09:16:35.641Z"
   },
   {
    "duration": 9,
    "start_time": "2022-07-24T09:16:38.719Z"
   },
   {
    "duration": 25,
    "start_time": "2022-07-24T09:16:45.110Z"
   },
   {
    "duration": 45,
    "start_time": "2022-07-24T09:16:48.469Z"
   },
   {
    "duration": 8,
    "start_time": "2022-07-24T09:16:58.589Z"
   },
   {
    "duration": 2179,
    "start_time": "2022-07-24T09:17:09.837Z"
   },
   {
    "duration": 2202,
    "start_time": "2022-07-24T09:17:51.633Z"
   },
   {
    "duration": 12,
    "start_time": "2022-07-24T09:18:10.062Z"
   },
   {
    "duration": 836,
    "start_time": "2022-07-24T09:19:03.012Z"
   },
   {
    "duration": 612,
    "start_time": "2022-07-24T09:33:09.672Z"
   },
   {
    "duration": 5,
    "start_time": "2022-07-24T09:39:15.286Z"
   },
   {
    "duration": 12,
    "start_time": "2022-07-24T09:44:14.645Z"
   },
   {
    "duration": 1529,
    "start_time": "2022-07-24T09:49:27.947Z"
   },
   {
    "duration": 1071,
    "start_time": "2022-07-24T09:49:29.478Z"
   },
   {
    "duration": 11,
    "start_time": "2022-07-24T09:49:30.551Z"
   },
   {
    "duration": 46,
    "start_time": "2022-07-24T09:49:30.564Z"
   },
   {
    "duration": 57,
    "start_time": "2022-07-24T09:49:30.612Z"
   },
   {
    "duration": 91,
    "start_time": "2022-07-24T09:49:30.670Z"
   },
   {
    "duration": 24,
    "start_time": "2022-07-24T09:49:30.763Z"
   },
   {
    "duration": 93,
    "start_time": "2022-07-24T09:49:30.789Z"
   },
   {
    "duration": 110,
    "start_time": "2022-07-24T09:49:30.884Z"
   },
   {
    "duration": 10,
    "start_time": "2022-07-24T09:49:30.997Z"
   },
   {
    "duration": 2294,
    "start_time": "2022-07-24T09:49:31.009Z"
   },
   {
    "duration": 21,
    "start_time": "2022-07-24T09:49:33.305Z"
   },
   {
    "duration": 761,
    "start_time": "2022-07-24T09:49:33.329Z"
   },
   {
    "duration": 614,
    "start_time": "2022-07-24T09:49:34.092Z"
   },
   {
    "duration": 13,
    "start_time": "2022-07-24T09:49:34.708Z"
   },
   {
    "duration": 2411,
    "start_time": "2022-07-24T09:49:34.723Z"
   },
   {
    "duration": 1204308,
    "start_time": "2022-07-24T09:49:37.143Z"
   },
   {
    "duration": 6358,
    "start_time": "2022-07-24T10:09:41.453Z"
   },
   {
    "duration": 10,
    "start_time": "2022-07-24T10:09:47.822Z"
   }
  ],
  "kernelspec": {
   "display_name": "Python 3 (ipykernel)",
   "language": "python",
   "name": "python3"
  },
  "language_info": {
   "codemirror_mode": {
    "name": "ipython",
    "version": 3
   },
   "file_extension": ".py",
   "mimetype": "text/x-python",
   "name": "python",
   "nbconvert_exporter": "python",
   "pygments_lexer": "ipython3",
   "version": "3.10.2"
  },
  "toc": {
   "base_numbering": 1,
   "nav_menu": {},
   "number_sections": true,
   "sideBar": true,
   "skip_h1_title": true,
   "title_cell": "Содержание",
   "title_sidebar": "Contents",
   "toc_cell": true,
   "toc_position": {
    "height": "calc(100% - 180px)",
    "left": "10px",
    "top": "150px",
    "width": "165px"
   },
   "toc_section_display": true,
   "toc_window_display": false
  }
 },
 "nbformat": 4,
 "nbformat_minor": 2
}
