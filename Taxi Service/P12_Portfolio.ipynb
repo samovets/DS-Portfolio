{
 "cells": [
  {
   "cell_type": "markdown",
   "metadata": {
    "toc": true
   },
   "source": [
    "<h1>Содержание<span class=\"tocSkip\"></span></h1>\n",
    "<div class=\"toc\"><ul class=\"toc-item\"><li><span><a href=\"#Подготовка\" data-toc-modified-id=\"Подготовка-1\"><span class=\"toc-item-num\">1&nbsp;&nbsp;</span>Подготовка</a></span></li><li><span><a href=\"#Анализ\" data-toc-modified-id=\"Анализ-2\"><span class=\"toc-item-num\">2&nbsp;&nbsp;</span>Анализ</a></span></li><li><span><a href=\"#Обучение\" data-toc-modified-id=\"Обучение-3\"><span class=\"toc-item-num\">3&nbsp;&nbsp;</span>Обучение</a></span><ul class=\"toc-item\"><li><span><a href=\"#Модель-решающего-леса\" data-toc-modified-id=\"Модель-решающего-леса-3.1\"><span class=\"toc-item-num\">3.1&nbsp;&nbsp;</span>Модель решающего леса</a></span></li><li><span><a href=\"#Модель-LightGBM\" data-toc-modified-id=\"Модель-LightGBM-3.2\"><span class=\"toc-item-num\">3.2&nbsp;&nbsp;</span>Модель LightGBM</a></span></li><li><span><a href=\"#Модель-CatBoost\" data-toc-modified-id=\"Модель-CatBoost-3.3\"><span class=\"toc-item-num\">3.3&nbsp;&nbsp;</span>Модель CatBoost</a></span></li></ul></li><li><span><a href=\"#Тестирование\" data-toc-modified-id=\"Тестирование-4\"><span class=\"toc-item-num\">4&nbsp;&nbsp;</span>Тестирование</a></span></li><li><span><a href=\"#Заключение\" data-toc-modified-id=\"Заключение-5\"><span class=\"toc-item-num\">5&nbsp;&nbsp;</span>Заключение</a></span></li></ul></div>"
   ]
  },
  {
   "cell_type": "markdown",
   "metadata": {},
   "source": [
    "#  Прогнозирование заказов такси"
   ]
  },
  {
   "cell_type": "markdown",
   "metadata": {},
   "source": [
    "Компания «Чётенькое такси» собрала исторические данные о заказах такси в аэропортах. Чтобы привлекать больше водителей в период пиковой нагрузки, нужно спрогнозировать количество заказов такси на следующий час. Постройте модель для такого предсказания.\n",
    "\n",
    "Значение метрики *RMSE* на тестовой выборке должно быть не больше 48.\n",
    "\n",
    "Вам нужно:\n",
    "\n",
    "1. Загрузить данные и выполнить их ресемплирование по одному часу.\n",
    "2. Проанализировать данные.\n",
    "3. Обучить разные модели с различными гиперпараметрами. Сделать тестовую выборку размером 10% от исходных данных.\n",
    "4. Проверить данные на тестовой выборке и сделать выводы.\n",
    "\n",
    "\n",
    "Данные лежат в файле `taxi.csv`. Количество заказов находится в столбце `num_orders` (от англ. *number of orders*, «число заказов»)."
   ]
  },
  {
   "cell_type": "markdown",
   "metadata": {},
   "source": [
    "<b>Задача: построить модель для прогнозирования количества заказов такси на следующий час в период пиковой нагрузки. </b>"
   ]
  },
  {
   "cell_type": "markdown",
   "metadata": {},
   "source": [
    "## Подготовка"
   ]
  },
  {
   "cell_type": "markdown",
   "metadata": {},
   "source": [
    "Сначала отдельно импортируем все необходимые библиотеки и функции:"
   ]
  },
  {
   "cell_type": "code",
   "execution_count": 1,
   "metadata": {},
   "outputs": [],
   "source": [
    "import pandas as pd\n",
    "import seaborn as sns\n",
    "import numpy as np\n",
    "import matplotlib.pyplot as plt\n",
    "from statsmodels.tsa.seasonal import seasonal_decompose\n",
    "\n",
    "from sklearn.model_selection import train_test_split, GridSearchCV, TimeSeriesSplit\n",
    "from sklearn.metrics import mean_squared_error\n",
    "\n",
    "from sklearn.ensemble import RandomForestRegressor\n",
    "import lightgbm as lgb\n",
    "from catboost import CatBoostRegressor"
   ]
  },
  {
   "cell_type": "markdown",
   "metadata": {},
   "source": [
    "Далее откроем и изучим файлы с данными, сразу импортировав их как временной ряд:"
   ]
  },
  {
   "cell_type": "code",
   "execution_count": 2,
   "metadata": {},
   "outputs": [
    {
     "name": "stdout",
     "output_type": "stream",
     "text": [
      "<class 'pandas.core.frame.DataFrame'>\n",
      "DatetimeIndex: 26496 entries, 2018-03-01 00:00:00 to 2018-08-31 23:50:00\n",
      "Data columns (total 1 columns):\n",
      " #   Column      Non-Null Count  Dtype\n",
      "---  ------      --------------  -----\n",
      " 0   num_orders  26496 non-null  int64\n",
      "dtypes: int64(1)\n",
      "memory usage: 414.0 KB\n"
     ]
    },
    {
     "data": {
      "text/html": [
       "<div>\n",
       "<style scoped>\n",
       "    .dataframe tbody tr th:only-of-type {\n",
       "        vertical-align: middle;\n",
       "    }\n",
       "\n",
       "    .dataframe tbody tr th {\n",
       "        vertical-align: top;\n",
       "    }\n",
       "\n",
       "    .dataframe thead th {\n",
       "        text-align: right;\n",
       "    }\n",
       "</style>\n",
       "<table border=\"1\" class=\"dataframe\">\n",
       "  <thead>\n",
       "    <tr style=\"text-align: right;\">\n",
       "      <th></th>\n",
       "      <th>num_orders</th>\n",
       "    </tr>\n",
       "    <tr>\n",
       "      <th>datetime</th>\n",
       "      <th></th>\n",
       "    </tr>\n",
       "  </thead>\n",
       "  <tbody>\n",
       "    <tr>\n",
       "      <th>2018-03-01 00:00:00</th>\n",
       "      <td>9</td>\n",
       "    </tr>\n",
       "    <tr>\n",
       "      <th>2018-03-01 00:10:00</th>\n",
       "      <td>14</td>\n",
       "    </tr>\n",
       "    <tr>\n",
       "      <th>2018-03-01 00:20:00</th>\n",
       "      <td>28</td>\n",
       "    </tr>\n",
       "    <tr>\n",
       "      <th>2018-03-01 00:30:00</th>\n",
       "      <td>20</td>\n",
       "    </tr>\n",
       "    <tr>\n",
       "      <th>2018-03-01 00:40:00</th>\n",
       "      <td>32</td>\n",
       "    </tr>\n",
       "  </tbody>\n",
       "</table>\n",
       "</div>"
      ],
      "text/plain": [
       "                     num_orders\n",
       "datetime                       \n",
       "2018-03-01 00:00:00           9\n",
       "2018-03-01 00:10:00          14\n",
       "2018-03-01 00:20:00          28\n",
       "2018-03-01 00:30:00          20\n",
       "2018-03-01 00:40:00          32"
      ]
     },
     "execution_count": 2,
     "metadata": {},
     "output_type": "execute_result"
    }
   ],
   "source": [
    "df = pd.read_csv('/datasets/taxi.csv', index_col=[0], parse_dates=[0])\n",
    "df.info()\n",
    "df.head()"
   ]
  },
  {
   "cell_type": "markdown",
   "metadata": {},
   "source": [
    "## Анализ"
   ]
  },
  {
   "cell_type": "markdown",
   "metadata": {},
   "source": [
    "У нас есть только исторические данные о времени заказов такси и их количестве. Пропуски в таблице отсутствуют.\n",
    "\n",
    "Проверим, в хронологическом ли порядке расположены даты и время в индексе:"
   ]
  },
  {
   "cell_type": "code",
   "execution_count": 3,
   "metadata": {},
   "outputs": [
    {
     "name": "stdout",
     "output_type": "stream",
     "text": [
      "True\n"
     ]
    }
   ],
   "source": [
    "print(df.index.is_monotonic)"
   ]
  },
  {
   "cell_type": "markdown",
   "metadata": {},
   "source": [
    "С этим всё в порядке.\n",
    "\n",
    "Далее выполним ресемплирование данных по одному часу, а затем проверим сезонность за неделю - циклично повторяющиеся закономерности в нашем временном ряду:"
   ]
  },
  {
   "cell_type": "code",
   "execution_count": 4,
   "metadata": {
    "scrolled": false
   },
   "outputs": [
    {
     "data": {
      "text/html": [
       "<div>\n",
       "<style scoped>\n",
       "    .dataframe tbody tr th:only-of-type {\n",
       "        vertical-align: middle;\n",
       "    }\n",
       "\n",
       "    .dataframe tbody tr th {\n",
       "        vertical-align: top;\n",
       "    }\n",
       "\n",
       "    .dataframe thead th {\n",
       "        text-align: right;\n",
       "    }\n",
       "</style>\n",
       "<table border=\"1\" class=\"dataframe\">\n",
       "  <thead>\n",
       "    <tr style=\"text-align: right;\">\n",
       "      <th></th>\n",
       "      <th>num_orders</th>\n",
       "    </tr>\n",
       "    <tr>\n",
       "      <th>datetime</th>\n",
       "      <th></th>\n",
       "    </tr>\n",
       "  </thead>\n",
       "  <tbody>\n",
       "    <tr>\n",
       "      <th>2018-03-01 00:00:00</th>\n",
       "      <td>124</td>\n",
       "    </tr>\n",
       "    <tr>\n",
       "      <th>2018-03-01 01:00:00</th>\n",
       "      <td>85</td>\n",
       "    </tr>\n",
       "    <tr>\n",
       "      <th>2018-03-01 02:00:00</th>\n",
       "      <td>71</td>\n",
       "    </tr>\n",
       "    <tr>\n",
       "      <th>2018-03-01 03:00:00</th>\n",
       "      <td>66</td>\n",
       "    </tr>\n",
       "    <tr>\n",
       "      <th>2018-03-01 04:00:00</th>\n",
       "      <td>43</td>\n",
       "    </tr>\n",
       "  </tbody>\n",
       "</table>\n",
       "</div>"
      ],
      "text/plain": [
       "                     num_orders\n",
       "datetime                       \n",
       "2018-03-01 00:00:00         124\n",
       "2018-03-01 01:00:00          85\n",
       "2018-03-01 02:00:00          71\n",
       "2018-03-01 03:00:00          66\n",
       "2018-03-01 04:00:00          43"
      ]
     },
     "metadata": {},
     "output_type": "display_data"
    },
    {
     "data": {
      "image/png": "[encoded data removed]",
      "text/plain": [
       "<Figure size 432x288 with 1 Axes>"
      ]
     },
     "metadata": {
      "needs_background": "light"
     },
     "output_type": "display_data"
    },
    {
     "data": {
      "text/plain": [
       "Text(0.5, 1.0, 'Тренд (неделя)')"
      ]
     },
     "execution_count": 4,
     "metadata": {},
     "output_type": "execute_result"
    },
    {
     "data": {
      "image/png": "[encoded data removed]",
      "text/plain": [
       "<Figure size 432x288 with 1 Axes>"
      ]
     },
     "metadata": {
      "needs_background": "light"
     },
     "output_type": "display_data"
    }
   ],
   "source": [
    "df = df.resample('1H').sum()\n",
    "display(df.head())\n",
    "seasonal_decompose(df['2018-03-12':'2018-03-19']).seasonal.plot()\n",
    "plt.title('Сезонность (неделя)')\n",
    "plt.show()\n",
    "seasonal_decompose(df['2018-03-12':'2018-03-19']).trend.plot()\n",
    "plt.title('Тренд (неделя)')"
   ]
  },
  {
   "cell_type": "markdown",
   "metadata": {},
   "source": [
    "Общий график временного ряда выглядит так:"
   ]
  },
  {
   "cell_type": "code",
   "execution_count": 5,
   "metadata": {},
   "outputs": [
    {
     "data": {
      "text/plain": [
       "<AxesSubplot:xlabel='datetime'>"
      ]
     },
     "execution_count": 5,
     "metadata": {},
     "output_type": "execute_result"
    },
    {
     "data": {
      "image/png": "[encoded data removed]",
      "text/plain": [
       "<Figure size 432x288 with 1 Axes>"
      ]
     },
     "metadata": {
      "needs_background": "light"
     },
     "output_type": "display_data"
    }
   ],
   "source": [
    "df.rolling(168).mean().plot()"
   ]
  },
  {
   "cell_type": "markdown",
   "metadata": {},
   "source": [
    "График сезонности в течение дня:"
   ]
  },
  {
   "cell_type": "code",
   "execution_count": 6,
   "metadata": {},
   "outputs": [
    {
     "data": {
      "image/png": "[encoded data removed]",
      "text/plain": [
       "<Figure size 864x576 with 1 Axes>"
      ]
     },
     "metadata": {
      "needs_background": "light"
     },
     "output_type": "display_data"
    }
   ],
   "source": [
    "fig = plt.figure(figsize=(12, 8))\n",
    "counter = 24\n",
    "decomposed_by_day = seasonal_decompose(df).seasonal\n",
    "while counter < decomposed_by_day.shape[0]:\n",
    "    plt.plot(decomposed_by_day[counter-24:counter].reset_index(drop=True), figure=fig)\n",
    "    counter += 24"
   ]
  },
  {
   "cell_type": "code",
   "execution_count": 7,
   "metadata": {
    "scrolled": true
   },
   "outputs": [
    {
     "data": {
      "text/html": [
       "<div>\n",
       "<style scoped>\n",
       "    .dataframe tbody tr th:only-of-type {\n",
       "        vertical-align: middle;\n",
       "    }\n",
       "\n",
       "    .dataframe tbody tr th {\n",
       "        vertical-align: top;\n",
       "    }\n",
       "\n",
       "    .dataframe thead th {\n",
       "        text-align: right;\n",
       "    }\n",
       "</style>\n",
       "<table border=\"1\" class=\"dataframe\">\n",
       "  <thead>\n",
       "    <tr style=\"text-align: right;\">\n",
       "      <th></th>\n",
       "      <th>num_orders</th>\n",
       "      <th>day</th>\n",
       "      <th>dayofweek</th>\n",
       "      <th>lag_1</th>\n",
       "      <th>lag_2</th>\n",
       "      <th>lag_3</th>\n",
       "      <th>lag_4</th>\n",
       "      <th>lag_5</th>\n",
       "      <th>lag_6</th>\n",
       "      <th>lag_7</th>\n",
       "      <th>...</th>\n",
       "      <th>lag_16</th>\n",
       "      <th>lag_17</th>\n",
       "      <th>lag_18</th>\n",
       "      <th>lag_19</th>\n",
       "      <th>lag_20</th>\n",
       "      <th>lag_21</th>\n",
       "      <th>lag_22</th>\n",
       "      <th>lag_23</th>\n",
       "      <th>lag_24</th>\n",
       "      <th>rolling_mean</th>\n",
       "    </tr>\n",
       "    <tr>\n",
       "      <th>datetime</th>\n",
       "      <th></th>\n",
       "      <th></th>\n",
       "      <th></th>\n",
       "      <th></th>\n",
       "      <th></th>\n",
       "      <th></th>\n",
       "      <th></th>\n",
       "      <th></th>\n",
       "      <th></th>\n",
       "      <th></th>\n",
       "      <th></th>\n",
       "      <th></th>\n",
       "      <th></th>\n",
       "      <th></th>\n",
       "      <th></th>\n",
       "      <th></th>\n",
       "      <th></th>\n",
       "      <th></th>\n",
       "      <th></th>\n",
       "      <th></th>\n",
       "      <th></th>\n",
       "    </tr>\n",
       "  </thead>\n",
       "  <tbody>\n",
       "    <tr>\n",
       "      <th>2018-03-01 00:00:00</th>\n",
       "      <td>124</td>\n",
       "      <td>1</td>\n",
       "      <td>3</td>\n",
       "      <td>NaN</td>\n",
       "      <td>NaN</td>\n",
       "      <td>NaN</td>\n",
       "      <td>NaN</td>\n",
       "      <td>NaN</td>\n",
       "      <td>NaN</td>\n",
       "      <td>NaN</td>\n",
       "      <td>...</td>\n",
       "      <td>NaN</td>\n",
       "      <td>NaN</td>\n",
       "      <td>NaN</td>\n",
       "      <td>NaN</td>\n",
       "      <td>NaN</td>\n",
       "      <td>NaN</td>\n",
       "      <td>NaN</td>\n",
       "      <td>NaN</td>\n",
       "      <td>NaN</td>\n",
       "      <td>NaN</td>\n",
       "    </tr>\n",
       "    <tr>\n",
       "      <th>2018-03-01 01:00:00</th>\n",
       "      <td>85</td>\n",
       "      <td>1</td>\n",
       "      <td>3</td>\n",
       "      <td>124.0</td>\n",
       "      <td>NaN</td>\n",
       "      <td>NaN</td>\n",
       "      <td>NaN</td>\n",
       "      <td>NaN</td>\n",
       "      <td>NaN</td>\n",
       "      <td>NaN</td>\n",
       "      <td>...</td>\n",
       "      <td>NaN</td>\n",
       "      <td>NaN</td>\n",
       "      <td>NaN</td>\n",
       "      <td>NaN</td>\n",
       "      <td>NaN</td>\n",
       "      <td>NaN</td>\n",
       "      <td>NaN</td>\n",
       "      <td>NaN</td>\n",
       "      <td>NaN</td>\n",
       "      <td>NaN</td>\n",
       "    </tr>\n",
       "    <tr>\n",
       "      <th>2018-03-01 02:00:00</th>\n",
       "      <td>71</td>\n",
       "      <td>1</td>\n",
       "      <td>3</td>\n",
       "      <td>85.0</td>\n",
       "      <td>124.0</td>\n",
       "      <td>NaN</td>\n",
       "      <td>NaN</td>\n",
       "      <td>NaN</td>\n",
       "      <td>NaN</td>\n",
       "      <td>NaN</td>\n",
       "      <td>...</td>\n",
       "      <td>NaN</td>\n",
       "      <td>NaN</td>\n",
       "      <td>NaN</td>\n",
       "      <td>NaN</td>\n",
       "      <td>NaN</td>\n",
       "      <td>NaN</td>\n",
       "      <td>NaN</td>\n",
       "      <td>NaN</td>\n",
       "      <td>NaN</td>\n",
       "      <td>NaN</td>\n",
       "    </tr>\n",
       "    <tr>\n",
       "      <th>2018-03-01 03:00:00</th>\n",
       "      <td>66</td>\n",
       "      <td>1</td>\n",
       "      <td>3</td>\n",
       "      <td>71.0</td>\n",
       "      <td>85.0</td>\n",
       "      <td>124.0</td>\n",
       "      <td>NaN</td>\n",
       "      <td>NaN</td>\n",
       "      <td>NaN</td>\n",
       "      <td>NaN</td>\n",
       "      <td>...</td>\n",
       "      <td>NaN</td>\n",
       "      <td>NaN</td>\n",
       "      <td>NaN</td>\n",
       "      <td>NaN</td>\n",
       "      <td>NaN</td>\n",
       "      <td>NaN</td>\n",
       "      <td>NaN</td>\n",
       "      <td>NaN</td>\n",
       "      <td>NaN</td>\n",
       "      <td>NaN</td>\n",
       "    </tr>\n",
       "    <tr>\n",
       "      <th>2018-03-01 04:00:00</th>\n",
       "      <td>43</td>\n",
       "      <td>1</td>\n",
       "      <td>3</td>\n",
       "      <td>66.0</td>\n",
       "      <td>71.0</td>\n",
       "      <td>85.0</td>\n",
       "      <td>124.0</td>\n",
       "      <td>NaN</td>\n",
       "      <td>NaN</td>\n",
       "      <td>NaN</td>\n",
       "      <td>...</td>\n",
       "      <td>NaN</td>\n",
       "      <td>NaN</td>\n",
       "      <td>NaN</td>\n",
       "      <td>NaN</td>\n",
       "      <td>NaN</td>\n",
       "      <td>NaN</td>\n",
       "      <td>NaN</td>\n",
       "      <td>NaN</td>\n",
       "      <td>NaN</td>\n",
       "      <td>NaN</td>\n",
       "    </tr>\n",
       "    <tr>\n",
       "      <th>...</th>\n",
       "      <td>...</td>\n",
       "      <td>...</td>\n",
       "      <td>...</td>\n",
       "      <td>...</td>\n",
       "      <td>...</td>\n",
       "      <td>...</td>\n",
       "      <td>...</td>\n",
       "      <td>...</td>\n",
       "      <td>...</td>\n",
       "      <td>...</td>\n",
       "      <td>...</td>\n",
       "      <td>...</td>\n",
       "      <td>...</td>\n",
       "      <td>...</td>\n",
       "      <td>...</td>\n",
       "      <td>...</td>\n",
       "      <td>...</td>\n",
       "      <td>...</td>\n",
       "      <td>...</td>\n",
       "      <td>...</td>\n",
       "      <td>...</td>\n",
       "    </tr>\n",
       "    <tr>\n",
       "      <th>2018-08-31 19:00:00</th>\n",
       "      <td>136</td>\n",
       "      <td>31</td>\n",
       "      <td>4</td>\n",
       "      <td>207.0</td>\n",
       "      <td>217.0</td>\n",
       "      <td>197.0</td>\n",
       "      <td>116.0</td>\n",
       "      <td>133.0</td>\n",
       "      <td>166.0</td>\n",
       "      <td>136.0</td>\n",
       "      <td>...</td>\n",
       "      <td>99.0</td>\n",
       "      <td>230.0</td>\n",
       "      <td>194.0</td>\n",
       "      <td>276.0</td>\n",
       "      <td>246.0</td>\n",
       "      <td>158.0</td>\n",
       "      <td>198.0</td>\n",
       "      <td>142.0</td>\n",
       "      <td>72.0</td>\n",
       "      <td>162.861111</td>\n",
       "    </tr>\n",
       "    <tr>\n",
       "      <th>2018-08-31 20:00:00</th>\n",
       "      <td>154</td>\n",
       "      <td>31</td>\n",
       "      <td>4</td>\n",
       "      <td>136.0</td>\n",
       "      <td>207.0</td>\n",
       "      <td>217.0</td>\n",
       "      <td>197.0</td>\n",
       "      <td>116.0</td>\n",
       "      <td>133.0</td>\n",
       "      <td>166.0</td>\n",
       "      <td>...</td>\n",
       "      <td>268.0</td>\n",
       "      <td>99.0</td>\n",
       "      <td>230.0</td>\n",
       "      <td>194.0</td>\n",
       "      <td>276.0</td>\n",
       "      <td>246.0</td>\n",
       "      <td>158.0</td>\n",
       "      <td>198.0</td>\n",
       "      <td>142.0</td>\n",
       "      <td>163.208333</td>\n",
       "    </tr>\n",
       "    <tr>\n",
       "      <th>2018-08-31 21:00:00</th>\n",
       "      <td>159</td>\n",
       "      <td>31</td>\n",
       "      <td>4</td>\n",
       "      <td>154.0</td>\n",
       "      <td>136.0</td>\n",
       "      <td>207.0</td>\n",
       "      <td>217.0</td>\n",
       "      <td>197.0</td>\n",
       "      <td>116.0</td>\n",
       "      <td>133.0</td>\n",
       "      <td>...</td>\n",
       "      <td>78.0</td>\n",
       "      <td>268.0</td>\n",
       "      <td>99.0</td>\n",
       "      <td>230.0</td>\n",
       "      <td>194.0</td>\n",
       "      <td>276.0</td>\n",
       "      <td>246.0</td>\n",
       "      <td>158.0</td>\n",
       "      <td>198.0</td>\n",
       "      <td>164.041667</td>\n",
       "    </tr>\n",
       "    <tr>\n",
       "      <th>2018-08-31 22:00:00</th>\n",
       "      <td>223</td>\n",
       "      <td>31</td>\n",
       "      <td>4</td>\n",
       "      <td>159.0</td>\n",
       "      <td>154.0</td>\n",
       "      <td>136.0</td>\n",
       "      <td>207.0</td>\n",
       "      <td>217.0</td>\n",
       "      <td>197.0</td>\n",
       "      <td>116.0</td>\n",
       "      <td>...</td>\n",
       "      <td>35.0</td>\n",
       "      <td>78.0</td>\n",
       "      <td>268.0</td>\n",
       "      <td>99.0</td>\n",
       "      <td>230.0</td>\n",
       "      <td>194.0</td>\n",
       "      <td>276.0</td>\n",
       "      <td>246.0</td>\n",
       "      <td>158.0</td>\n",
       "      <td>163.625000</td>\n",
       "    </tr>\n",
       "    <tr>\n",
       "      <th>2018-08-31 23:00:00</th>\n",
       "      <td>205</td>\n",
       "      <td>31</td>\n",
       "      <td>4</td>\n",
       "      <td>223.0</td>\n",
       "      <td>159.0</td>\n",
       "      <td>154.0</td>\n",
       "      <td>136.0</td>\n",
       "      <td>207.0</td>\n",
       "      <td>217.0</td>\n",
       "      <td>197.0</td>\n",
       "      <td>...</td>\n",
       "      <td>46.0</td>\n",
       "      <td>35.0</td>\n",
       "      <td>78.0</td>\n",
       "      <td>268.0</td>\n",
       "      <td>99.0</td>\n",
       "      <td>230.0</td>\n",
       "      <td>194.0</td>\n",
       "      <td>276.0</td>\n",
       "      <td>246.0</td>\n",
       "      <td>164.500000</td>\n",
       "    </tr>\n",
       "  </tbody>\n",
       "</table>\n",
       "<p>4416 rows × 28 columns</p>\n",
       "</div>"
      ],
      "text/plain": [
       "                     num_orders  day  dayofweek  lag_1  lag_2  lag_3  lag_4  \\\n",
       "datetime                                                                      \n",
       "2018-03-01 00:00:00         124    1          3    NaN    NaN    NaN    NaN   \n",
       "2018-03-01 01:00:00          85    1          3  124.0    NaN    NaN    NaN   \n",
       "2018-03-01 02:00:00          71    1          3   85.0  124.0    NaN    NaN   \n",
       "2018-03-01 03:00:00          66    1          3   71.0   85.0  124.0    NaN   \n",
       "2018-03-01 04:00:00          43    1          3   66.0   71.0   85.0  124.0   \n",
       "...                         ...  ...        ...    ...    ...    ...    ...   \n",
       "2018-08-31 19:00:00         136   31          4  207.0  217.0  197.0  116.0   \n",
       "2018-08-31 20:00:00         154   31          4  136.0  207.0  217.0  197.0   \n",
       "2018-08-31 21:00:00         159   31          4  154.0  136.0  207.0  217.0   \n",
       "2018-08-31 22:00:00         223   31          4  159.0  154.0  136.0  207.0   \n",
       "2018-08-31 23:00:00         205   31          4  223.0  159.0  154.0  136.0   \n",
       "\n",
       "                     lag_5  lag_6  lag_7  ...  lag_16  lag_17  lag_18  lag_19  \\\n",
       "datetime                                  ...                                   \n",
       "2018-03-01 00:00:00    NaN    NaN    NaN  ...     NaN     NaN     NaN     NaN   \n",
       "2018-03-01 01:00:00    NaN    NaN    NaN  ...     NaN     NaN     NaN     NaN   \n",
       "2018-03-01 02:00:00    NaN    NaN    NaN  ...     NaN     NaN     NaN     NaN   \n",
       "2018-03-01 03:00:00    NaN    NaN    NaN  ...     NaN     NaN     NaN     NaN   \n",
       "2018-03-01 04:00:00    NaN    NaN    NaN  ...     NaN     NaN     NaN     NaN   \n",
       "...                    ...    ...    ...  ...     ...     ...     ...     ...   \n",
       "2018-08-31 19:00:00  133.0  166.0  136.0  ...    99.0   230.0   194.0   276.0   \n",
       "2018-08-31 20:00:00  116.0  133.0  166.0  ...   268.0    99.0   230.0   194.0   \n",
       "2018-08-31 21:00:00  197.0  116.0  133.0  ...    78.0   268.0    99.0   230.0   \n",
       "2018-08-31 22:00:00  217.0  197.0  116.0  ...    35.0    78.0   268.0    99.0   \n",
       "2018-08-31 23:00:00  207.0  217.0  197.0  ...    46.0    35.0    78.0   268.0   \n",
       "\n",
       "                     lag_20  lag_21  lag_22  lag_23  lag_24  rolling_mean  \n",
       "datetime                                                                   \n",
       "2018-03-01 00:00:00     NaN     NaN     NaN     NaN     NaN           NaN  \n",
       "2018-03-01 01:00:00     NaN     NaN     NaN     NaN     NaN           NaN  \n",
       "2018-03-01 02:00:00     NaN     NaN     NaN     NaN     NaN           NaN  \n",
       "2018-03-01 03:00:00     NaN     NaN     NaN     NaN     NaN           NaN  \n",
       "2018-03-01 04:00:00     NaN     NaN     NaN     NaN     NaN           NaN  \n",
       "...                     ...     ...     ...     ...     ...           ...  \n",
       "2018-08-31 19:00:00   246.0   158.0   198.0   142.0    72.0    162.861111  \n",
       "2018-08-31 20:00:00   276.0   246.0   158.0   198.0   142.0    163.208333  \n",
       "2018-08-31 21:00:00   194.0   276.0   246.0   158.0   198.0    164.041667  \n",
       "2018-08-31 22:00:00   230.0   194.0   276.0   246.0   158.0    163.625000  \n",
       "2018-08-31 23:00:00    99.0   230.0   194.0   276.0   246.0    164.500000  \n",
       "\n",
       "[4416 rows x 28 columns]"
      ]
     },
     "execution_count": 7,
     "metadata": {},
     "output_type": "execute_result"
    }
   ],
   "source": [
    "def make_features(data, max_lag, rolling_mean_size):\n",
    "    data['day'] = data.index.day\n",
    "    data['dayofweek'] = data.index.dayofweek\n",
    "    \n",
    "    for lag in range(1, max_lag + 1):\n",
    "        data['lag_{}'.format(lag)] = data['num_orders'].shift(lag)\n",
    "\n",
    "    data['rolling_mean'] = data['num_orders'].shift().rolling(rolling_mean_size).mean()\n",
    "\n",
    "\n",
    "make_features(df, 24, 72)\n",
    "df"
   ]
  },
  {
   "cell_type": "markdown",
   "metadata": {},
   "source": [
    "## Обучение"
   ]
  },
  {
   "cell_type": "markdown",
   "metadata": {},
   "source": [
    "Признаки готовы, теперь делим данные на тестовую и тренировочную выборки, оставив для тестовой выборки лишь 10% ото всех данных. Затем удалим в тестовой выборке пустые строки, образовавшиеся в процессе создания новых признаков:"
   ]
  },
  {
   "cell_type": "code",
   "execution_count": 8,
   "metadata": {
    "scrolled": false
   },
   "outputs": [
    {
     "data": {
      "text/html": [
       "<div>\n",
       "<style scoped>\n",
       "    .dataframe tbody tr th:only-of-type {\n",
       "        vertical-align: middle;\n",
       "    }\n",
       "\n",
       "    .dataframe tbody tr th {\n",
       "        vertical-align: top;\n",
       "    }\n",
       "\n",
       "    .dataframe thead th {\n",
       "        text-align: right;\n",
       "    }\n",
       "</style>\n",
       "<table border=\"1\" class=\"dataframe\">\n",
       "  <thead>\n",
       "    <tr style=\"text-align: right;\">\n",
       "      <th></th>\n",
       "      <th>day</th>\n",
       "      <th>dayofweek</th>\n",
       "      <th>lag_1</th>\n",
       "      <th>lag_2</th>\n",
       "      <th>lag_3</th>\n",
       "      <th>lag_4</th>\n",
       "      <th>lag_5</th>\n",
       "      <th>lag_6</th>\n",
       "      <th>lag_7</th>\n",
       "      <th>lag_8</th>\n",
       "      <th>...</th>\n",
       "      <th>lag_16</th>\n",
       "      <th>lag_17</th>\n",
       "      <th>lag_18</th>\n",
       "      <th>lag_19</th>\n",
       "      <th>lag_20</th>\n",
       "      <th>lag_21</th>\n",
       "      <th>lag_22</th>\n",
       "      <th>lag_23</th>\n",
       "      <th>lag_24</th>\n",
       "      <th>rolling_mean</th>\n",
       "    </tr>\n",
       "    <tr>\n",
       "      <th>datetime</th>\n",
       "      <th></th>\n",
       "      <th></th>\n",
       "      <th></th>\n",
       "      <th></th>\n",
       "      <th></th>\n",
       "      <th></th>\n",
       "      <th></th>\n",
       "      <th></th>\n",
       "      <th></th>\n",
       "      <th></th>\n",
       "      <th></th>\n",
       "      <th></th>\n",
       "      <th></th>\n",
       "      <th></th>\n",
       "      <th></th>\n",
       "      <th></th>\n",
       "      <th></th>\n",
       "      <th></th>\n",
       "      <th></th>\n",
       "      <th></th>\n",
       "      <th></th>\n",
       "    </tr>\n",
       "  </thead>\n",
       "  <tbody>\n",
       "    <tr>\n",
       "      <th>2018-03-04 00:00:00</th>\n",
       "      <td>4</td>\n",
       "      <td>6</td>\n",
       "      <td>43.0</td>\n",
       "      <td>63.0</td>\n",
       "      <td>48.0</td>\n",
       "      <td>83.0</td>\n",
       "      <td>30.0</td>\n",
       "      <td>68.0</td>\n",
       "      <td>49.0</td>\n",
       "      <td>46.0</td>\n",
       "      <td>...</td>\n",
       "      <td>56.0</td>\n",
       "      <td>17.0</td>\n",
       "      <td>9.0</td>\n",
       "      <td>15.0</td>\n",
       "      <td>44.0</td>\n",
       "      <td>64.0</td>\n",
       "      <td>25.0</td>\n",
       "      <td>108.0</td>\n",
       "      <td>163.0</td>\n",
       "      <td>57.777778</td>\n",
       "    </tr>\n",
       "    <tr>\n",
       "      <th>2018-03-04 01:00:00</th>\n",
       "      <td>4</td>\n",
       "      <td>6</td>\n",
       "      <td>75.0</td>\n",
       "      <td>43.0</td>\n",
       "      <td>63.0</td>\n",
       "      <td>48.0</td>\n",
       "      <td>83.0</td>\n",
       "      <td>30.0</td>\n",
       "      <td>68.0</td>\n",
       "      <td>49.0</td>\n",
       "      <td>...</td>\n",
       "      <td>73.0</td>\n",
       "      <td>56.0</td>\n",
       "      <td>17.0</td>\n",
       "      <td>9.0</td>\n",
       "      <td>15.0</td>\n",
       "      <td>44.0</td>\n",
       "      <td>64.0</td>\n",
       "      <td>25.0</td>\n",
       "      <td>108.0</td>\n",
       "      <td>57.097222</td>\n",
       "    </tr>\n",
       "    <tr>\n",
       "      <th>2018-03-04 02:00:00</th>\n",
       "      <td>4</td>\n",
       "      <td>6</td>\n",
       "      <td>60.0</td>\n",
       "      <td>75.0</td>\n",
       "      <td>43.0</td>\n",
       "      <td>63.0</td>\n",
       "      <td>48.0</td>\n",
       "      <td>83.0</td>\n",
       "      <td>30.0</td>\n",
       "      <td>68.0</td>\n",
       "      <td>...</td>\n",
       "      <td>52.0</td>\n",
       "      <td>73.0</td>\n",
       "      <td>56.0</td>\n",
       "      <td>17.0</td>\n",
       "      <td>9.0</td>\n",
       "      <td>15.0</td>\n",
       "      <td>44.0</td>\n",
       "      <td>64.0</td>\n",
       "      <td>25.0</td>\n",
       "      <td>56.750000</td>\n",
       "    </tr>\n",
       "    <tr>\n",
       "      <th>2018-03-04 03:00:00</th>\n",
       "      <td>4</td>\n",
       "      <td>6</td>\n",
       "      <td>26.0</td>\n",
       "      <td>60.0</td>\n",
       "      <td>75.0</td>\n",
       "      <td>43.0</td>\n",
       "      <td>63.0</td>\n",
       "      <td>48.0</td>\n",
       "      <td>83.0</td>\n",
       "      <td>30.0</td>\n",
       "      <td>...</td>\n",
       "      <td>57.0</td>\n",
       "      <td>52.0</td>\n",
       "      <td>73.0</td>\n",
       "      <td>56.0</td>\n",
       "      <td>17.0</td>\n",
       "      <td>9.0</td>\n",
       "      <td>15.0</td>\n",
       "      <td>44.0</td>\n",
       "      <td>64.0</td>\n",
       "      <td>56.125000</td>\n",
       "    </tr>\n",
       "    <tr>\n",
       "      <th>2018-03-04 04:00:00</th>\n",
       "      <td>4</td>\n",
       "      <td>6</td>\n",
       "      <td>42.0</td>\n",
       "      <td>26.0</td>\n",
       "      <td>60.0</td>\n",
       "      <td>75.0</td>\n",
       "      <td>43.0</td>\n",
       "      <td>63.0</td>\n",
       "      <td>48.0</td>\n",
       "      <td>83.0</td>\n",
       "      <td>...</td>\n",
       "      <td>32.0</td>\n",
       "      <td>57.0</td>\n",
       "      <td>52.0</td>\n",
       "      <td>73.0</td>\n",
       "      <td>56.0</td>\n",
       "      <td>17.0</td>\n",
       "      <td>9.0</td>\n",
       "      <td>15.0</td>\n",
       "      <td>44.0</td>\n",
       "      <td>55.791667</td>\n",
       "    </tr>\n",
       "    <tr>\n",
       "      <th>...</th>\n",
       "      <td>...</td>\n",
       "      <td>...</td>\n",
       "      <td>...</td>\n",
       "      <td>...</td>\n",
       "      <td>...</td>\n",
       "      <td>...</td>\n",
       "      <td>...</td>\n",
       "      <td>...</td>\n",
       "      <td>...</td>\n",
       "      <td>...</td>\n",
       "      <td>...</td>\n",
       "      <td>...</td>\n",
       "      <td>...</td>\n",
       "      <td>...</td>\n",
       "      <td>...</td>\n",
       "      <td>...</td>\n",
       "      <td>...</td>\n",
       "      <td>...</td>\n",
       "      <td>...</td>\n",
       "      <td>...</td>\n",
       "      <td>...</td>\n",
       "    </tr>\n",
       "    <tr>\n",
       "      <th>2018-08-13 09:00:00</th>\n",
       "      <td>13</td>\n",
       "      <td>0</td>\n",
       "      <td>91.0</td>\n",
       "      <td>39.0</td>\n",
       "      <td>66.0</td>\n",
       "      <td>83.0</td>\n",
       "      <td>143.0</td>\n",
       "      <td>168.0</td>\n",
       "      <td>437.0</td>\n",
       "      <td>273.0</td>\n",
       "      <td>...</td>\n",
       "      <td>115.0</td>\n",
       "      <td>153.0</td>\n",
       "      <td>149.0</td>\n",
       "      <td>104.0</td>\n",
       "      <td>120.0</td>\n",
       "      <td>123.0</td>\n",
       "      <td>81.0</td>\n",
       "      <td>108.0</td>\n",
       "      <td>108.0</td>\n",
       "      <td>123.680556</td>\n",
       "    </tr>\n",
       "    <tr>\n",
       "      <th>2018-08-13 10:00:00</th>\n",
       "      <td>13</td>\n",
       "      <td>0</td>\n",
       "      <td>137.0</td>\n",
       "      <td>91.0</td>\n",
       "      <td>39.0</td>\n",
       "      <td>66.0</td>\n",
       "      <td>83.0</td>\n",
       "      <td>143.0</td>\n",
       "      <td>168.0</td>\n",
       "      <td>437.0</td>\n",
       "      <td>...</td>\n",
       "      <td>78.0</td>\n",
       "      <td>115.0</td>\n",
       "      <td>153.0</td>\n",
       "      <td>149.0</td>\n",
       "      <td>104.0</td>\n",
       "      <td>120.0</td>\n",
       "      <td>123.0</td>\n",
       "      <td>81.0</td>\n",
       "      <td>108.0</td>\n",
       "      <td>124.458333</td>\n",
       "    </tr>\n",
       "    <tr>\n",
       "      <th>2018-08-13 11:00:00</th>\n",
       "      <td>13</td>\n",
       "      <td>0</td>\n",
       "      <td>156.0</td>\n",
       "      <td>137.0</td>\n",
       "      <td>91.0</td>\n",
       "      <td>39.0</td>\n",
       "      <td>66.0</td>\n",
       "      <td>83.0</td>\n",
       "      <td>143.0</td>\n",
       "      <td>168.0</td>\n",
       "      <td>...</td>\n",
       "      <td>82.0</td>\n",
       "      <td>78.0</td>\n",
       "      <td>115.0</td>\n",
       "      <td>153.0</td>\n",
       "      <td>149.0</td>\n",
       "      <td>104.0</td>\n",
       "      <td>120.0</td>\n",
       "      <td>123.0</td>\n",
       "      <td>81.0</td>\n",
       "      <td>124.500000</td>\n",
       "    </tr>\n",
       "    <tr>\n",
       "      <th>2018-08-13 12:00:00</th>\n",
       "      <td>13</td>\n",
       "      <td>0</td>\n",
       "      <td>144.0</td>\n",
       "      <td>156.0</td>\n",
       "      <td>137.0</td>\n",
       "      <td>91.0</td>\n",
       "      <td>39.0</td>\n",
       "      <td>66.0</td>\n",
       "      <td>83.0</td>\n",
       "      <td>143.0</td>\n",
       "      <td>...</td>\n",
       "      <td>98.0</td>\n",
       "      <td>82.0</td>\n",
       "      <td>78.0</td>\n",
       "      <td>115.0</td>\n",
       "      <td>153.0</td>\n",
       "      <td>149.0</td>\n",
       "      <td>104.0</td>\n",
       "      <td>120.0</td>\n",
       "      <td>123.0</td>\n",
       "      <td>124.180556</td>\n",
       "    </tr>\n",
       "    <tr>\n",
       "      <th>2018-08-13 13:00:00</th>\n",
       "      <td>13</td>\n",
       "      <td>0</td>\n",
       "      <td>92.0</td>\n",
       "      <td>144.0</td>\n",
       "      <td>156.0</td>\n",
       "      <td>137.0</td>\n",
       "      <td>91.0</td>\n",
       "      <td>39.0</td>\n",
       "      <td>66.0</td>\n",
       "      <td>83.0</td>\n",
       "      <td>...</td>\n",
       "      <td>135.0</td>\n",
       "      <td>98.0</td>\n",
       "      <td>82.0</td>\n",
       "      <td>78.0</td>\n",
       "      <td>115.0</td>\n",
       "      <td>153.0</td>\n",
       "      <td>149.0</td>\n",
       "      <td>104.0</td>\n",
       "      <td>120.0</td>\n",
       "      <td>123.902778</td>\n",
       "    </tr>\n",
       "  </tbody>\n",
       "</table>\n",
       "<p>3902 rows × 27 columns</p>\n",
       "</div>"
      ],
      "text/plain": [
       "                     day  dayofweek  lag_1  lag_2  lag_3  lag_4  lag_5  lag_6  \\\n",
       "datetime                                                                        \n",
       "2018-03-04 00:00:00    4          6   43.0   63.0   48.0   83.0   30.0   68.0   \n",
       "2018-03-04 01:00:00    4          6   75.0   43.0   63.0   48.0   83.0   30.0   \n",
       "2018-03-04 02:00:00    4          6   60.0   75.0   43.0   63.0   48.0   83.0   \n",
       "2018-03-04 03:00:00    4          6   26.0   60.0   75.0   43.0   63.0   48.0   \n",
       "2018-03-04 04:00:00    4          6   42.0   26.0   60.0   75.0   43.0   63.0   \n",
       "...                  ...        ...    ...    ...    ...    ...    ...    ...   \n",
       "2018-08-13 09:00:00   13          0   91.0   39.0   66.0   83.0  143.0  168.0   \n",
       "2018-08-13 10:00:00   13          0  137.0   91.0   39.0   66.0   83.0  143.0   \n",
       "2018-08-13 11:00:00   13          0  156.0  137.0   91.0   39.0   66.0   83.0   \n",
       "2018-08-13 12:00:00   13          0  144.0  156.0  137.0   91.0   39.0   66.0   \n",
       "2018-08-13 13:00:00   13          0   92.0  144.0  156.0  137.0   91.0   39.0   \n",
       "\n",
       "                     lag_7  lag_8  ...  lag_16  lag_17  lag_18  lag_19  \\\n",
       "datetime                           ...                                   \n",
       "2018-03-04 00:00:00   49.0   46.0  ...    56.0    17.0     9.0    15.0   \n",
       "2018-03-04 01:00:00   68.0   49.0  ...    73.0    56.0    17.0     9.0   \n",
       "2018-03-04 02:00:00   30.0   68.0  ...    52.0    73.0    56.0    17.0   \n",
       "2018-03-04 03:00:00   83.0   30.0  ...    57.0    52.0    73.0    56.0   \n",
       "2018-03-04 04:00:00   48.0   83.0  ...    32.0    57.0    52.0    73.0   \n",
       "...                    ...    ...  ...     ...     ...     ...     ...   \n",
       "2018-08-13 09:00:00  437.0  273.0  ...   115.0   153.0   149.0   104.0   \n",
       "2018-08-13 10:00:00  168.0  437.0  ...    78.0   115.0   153.0   149.0   \n",
       "2018-08-13 11:00:00  143.0  168.0  ...    82.0    78.0   115.0   153.0   \n",
       "2018-08-13 12:00:00   83.0  143.0  ...    98.0    82.0    78.0   115.0   \n",
       "2018-08-13 13:00:00   66.0   83.0  ...   135.0    98.0    82.0    78.0   \n",
       "\n",
       "                     lag_20  lag_21  lag_22  lag_23  lag_24  rolling_mean  \n",
       "datetime                                                                   \n",
       "2018-03-04 00:00:00    44.0    64.0    25.0   108.0   163.0     57.777778  \n",
       "2018-03-04 01:00:00    15.0    44.0    64.0    25.0   108.0     57.097222  \n",
       "2018-03-04 02:00:00     9.0    15.0    44.0    64.0    25.0     56.750000  \n",
       "2018-03-04 03:00:00    17.0     9.0    15.0    44.0    64.0     56.125000  \n",
       "2018-03-04 04:00:00    56.0    17.0     9.0    15.0    44.0     55.791667  \n",
       "...                     ...     ...     ...     ...     ...           ...  \n",
       "2018-08-13 09:00:00   120.0   123.0    81.0   108.0   108.0    123.680556  \n",
       "2018-08-13 10:00:00   104.0   120.0   123.0    81.0   108.0    124.458333  \n",
       "2018-08-13 11:00:00   149.0   104.0   120.0   123.0    81.0    124.500000  \n",
       "2018-08-13 12:00:00   153.0   149.0   104.0   120.0   123.0    124.180556  \n",
       "2018-08-13 13:00:00   115.0   153.0   149.0   104.0   120.0    123.902778  \n",
       "\n",
       "[3902 rows x 27 columns]"
      ]
     },
     "execution_count": 8,
     "metadata": {},
     "output_type": "execute_result"
    }
   ],
   "source": [
    "train, test = train_test_split(df, shuffle=False, test_size=0.1)\n",
    "train = train.dropna()\n",
    "features_train = train.drop(['num_orders'], axis=1)\n",
    "target_train = train['num_orders']\n",
    "features_test = test.drop(['num_orders'], axis=1)\n",
    "target_test = test['num_orders']\n",
    "features_train"
   ]
  },
  {
   "cell_type": "markdown",
   "metadata": {},
   "source": [
    "Теперь построим несколько разных моделей с различными гиперпараметрами для получения наилучшего результата:"
   ]
  },
  {
   "cell_type": "markdown",
   "metadata": {},
   "source": [
    "### Модель решающего леса"
   ]
  },
  {
   "cell_type": "code",
   "execution_count": 9,
   "metadata": {},
   "outputs": [
    {
     "name": "stdout",
     "output_type": "stream",
     "text": [
      "{'max_depth': 10, 'n_estimators': 50}\n",
      "Лучшее значение RMSE: 26.294956159662252\n",
      "CPU times: user 35.6 s, sys: 122 ms, total: 35.7 s\n",
      "Wall time: 35.7 s\n"
     ]
    }
   ],
   "source": [
    "%%time\n",
    "\n",
    "parameters = { 'n_estimators': range (20, 51, 10),\n",
    "              'max_depth': range (4, 12, 2) }\n",
    "clf = RandomForestRegressor()\n",
    "tscv = TimeSeriesSplit(n_splits=5)\n",
    "grid = GridSearchCV(clf, parameters, cv=tscv, scoring='neg_mean_squared_error')\n",
    "grid.fit(features_train, target_train)\n",
    "print(grid.best_params_)\n",
    "print('Лучшее значение RMSE:', abs(grid.best_score_)**0.5)"
   ]
  },
  {
   "cell_type": "markdown",
   "metadata": {},
   "source": [
    "Используем найденные параметры для обучения нашей модели:"
   ]
  },
  {
   "cell_type": "code",
   "execution_count": 10,
   "metadata": {},
   "outputs": [
    {
     "name": "stdout",
     "output_type": "stream",
     "text": [
      "CPU times: user 1.27 s, sys: 7.83 ms, total: 1.28 s\n",
      "Wall time: 1.29 s\n"
     ]
    },
    {
     "data": {
      "text/plain": [
       "RandomForestRegressor(max_depth=10, n_estimators=40, random_state=9428)"
      ]
     },
     "execution_count": 10,
     "metadata": {},
     "output_type": "execute_result"
    }
   ],
   "source": [
    "%%time\n",
    "\n",
    "best_forest_model = RandomForestRegressor(random_state=9428, max_depth=10, n_estimators=40)\n",
    "best_forest_model.fit(features_train, target_train)"
   ]
  },
  {
   "cell_type": "markdown",
   "metadata": {},
   "source": [
    "### Модель LightGBM"
   ]
  },
  {
   "cell_type": "code",
   "execution_count": 11,
   "metadata": {},
   "outputs": [
    {
     "name": "stdout",
     "output_type": "stream",
     "text": [
      "{'learning_rate': 0.3, 'n_estimators': 20}\n",
      "Лучшее значение RMSE: 26.80830448567736\n",
      "CPU times: user 54.2 s, sys: 523 ms, total: 54.7 s\n",
      "Wall time: 55.1 s\n"
     ]
    }
   ],
   "source": [
    "%%time\n",
    "\n",
    "parameters = { 'n_estimators': range (10, 41, 10),\n",
    "              'learning_rate': [0.3, 0.4, 0.5, 0.6] }\n",
    "clf = lgb.LGBMRegressor()\n",
    "tscv = TimeSeriesSplit(n_splits=5)\n",
    "grid = GridSearchCV(clf, parameters, cv=tscv, scoring='neg_mean_squared_error')\n",
    "grid.fit(features_train, target_train)\n",
    "print(grid.best_params_)\n",
    "print('Лучшее значение RMSE:', abs(grid.best_score_)**0.5)"
   ]
  },
  {
   "cell_type": "markdown",
   "metadata": {},
   "source": [
    "Используем эти параметры learning_rate' = 0.3 и 'n_estimators' = 12 для обучения модели:"
   ]
  },
  {
   "cell_type": "code",
   "execution_count": 12,
   "metadata": {},
   "outputs": [
    {
     "name": "stdout",
     "output_type": "stream",
     "text": [
      "[1]\tvalid_0's l1: 56.4142\tvalid_0's l2: 5226.05\n",
      "[2]\tvalid_0's l1: 48.2984\tvalid_0's l2: 4017.7\n",
      "[3]\tvalid_0's l1: 42.5621\tvalid_0's l2: 3235.58\n",
      "[4]\tvalid_0's l1: 39.5803\tvalid_0's l2: 2868.99\n",
      "[5]\tvalid_0's l1: 37.6507\tvalid_0's l2: 2606.79\n",
      "[6]\tvalid_0's l1: 36.7995\tvalid_0's l2: 2487.91\n",
      "[7]\tvalid_0's l1: 35.6558\tvalid_0's l2: 2349.91\n",
      "[8]\tvalid_0's l1: 35.1872\tvalid_0's l2: 2286.33\n",
      "[9]\tvalid_0's l1: 34.5123\tvalid_0's l2: 2191.07\n",
      "[10]\tvalid_0's l1: 33.9167\tvalid_0's l2: 2113.89\n",
      "[11]\tvalid_0's l1: 33.773\tvalid_0's l2: 2087.29\n",
      "[12]\tvalid_0's l1: 33.0882\tvalid_0's l2: 2011.98\n",
      "CPU times: user 281 ms, sys: 14.6 ms, total: 296 ms\n",
      "Wall time: 303 ms\n"
     ]
    },
    {
     "data": {
      "text/plain": [
       "LGBMRegressor(learning_rate=0.3, n_estimators=12, objective='regression')"
      ]
     },
     "execution_count": 12,
     "metadata": {},
     "output_type": "execute_result"
    }
   ],
   "source": [
    "%%time\n",
    "\n",
    "gbm = lgb.LGBMRegressor(objective='regression', learning_rate=0.3, n_estimators=12)\n",
    "gbm.fit(features_train, target_train, eval_set=[(features_test, target_test)], eval_metric='l1')"
   ]
  },
  {
   "cell_type": "markdown",
   "metadata": {},
   "source": [
    "### Модель CatBoost"
   ]
  },
  {
   "cell_type": "code",
   "execution_count": 13,
   "metadata": {},
   "outputs": [
    {
     "name": "stdout",
     "output_type": "stream",
     "text": [
      "{'depth': 6, 'learning_rate': 0.2, 'n_estimators': 200, 'verbose': False}\n",
      "Лучшее значение RMSE: 25.390252032084188\n",
      "CPU times: user 1min 30s, sys: 957 ms, total: 1min 31s\n",
      "Wall time: 1min 45s\n"
     ]
    }
   ],
   "source": [
    "%%time\n",
    "\n",
    "parameters = { 'learning_rate': [0.2, 0.4],\n",
    "              'depth': [4, 6, 10],\n",
    "              'n_estimators': [200],\n",
    "              'verbose': [False]\n",
    "             }\n",
    "clf = CatBoostRegressor()\n",
    "tscv = TimeSeriesSplit(n_splits=5)\n",
    "grid = GridSearchCV(clf, parameters, cv=tscv, scoring='neg_mean_squared_error')\n",
    "grid.fit(features_train, target_train)\n",
    "print(grid.best_params_)\n",
    "print('Лучшее значение RMSE:', abs(grid.best_score_)**0.5)"
   ]
  },
  {
   "cell_type": "markdown",
   "metadata": {},
   "source": [
    "Используем эти параметры learning_rate' = 0.2, depth = 4 и n_estimators = 200 для обучения модели:"
   ]
  },
  {
   "cell_type": "code",
   "execution_count": 14,
   "metadata": {},
   "outputs": [
    {
     "data": {
      "application/vnd.jupyter.widget-view+json": {
       "model_id": "81359e98115641048a1ca55737a09ace",
       "version_major": 2,
       "version_minor": 0
      },
      "text/plain": [
       "MetricVisualizer(layout=Layout(align_self='stretch', height='500px'))"
      ]
     },
     "metadata": {},
     "output_type": "display_data"
    },
    {
     "name": "stdout",
     "output_type": "stream",
     "text": [
      "CPU times: user 1.13 s, sys: 43.4 ms, total: 1.17 s\n",
      "Wall time: 1.67 s\n"
     ]
    },
    {
     "data": {
      "text/plain": [
       "<catboost.core.CatBoostRegressor at 0x7f2e3f947610>"
      ]
     },
     "execution_count": 14,
     "metadata": {},
     "output_type": "execute_result"
    }
   ],
   "source": [
    "%%time\n",
    "\n",
    "cat = CatBoostRegressor(learning_rate=0.2, depth=6, n_estimators=200)\n",
    "cat.fit(features_train, target_train, verbose=False, plot=True)"
   ]
  },
  {
   "cell_type": "markdown",
   "metadata": {},
   "source": [
    "## Тестирование"
   ]
  },
  {
   "cell_type": "markdown",
   "metadata": {},
   "source": [
    "Самой быстрой и качественной моделью оказалась модель CatBoost со временем обучения около 2 секунд и значением RMSE - 25.39.\n",
    "\n",
    "Теперь проверим её на тестовой выборке:"
   ]
  },
  {
   "cell_type": "code",
   "execution_count": 15,
   "metadata": {},
   "outputs": [
    {
     "name": "stdout",
     "output_type": "stream",
     "text": [
      "The rmse of prediction is: 41.69440968949513\n",
      "CPU times: user 323 µs, sys: 3.81 ms, total: 4.13 ms\n",
      "Wall time: 2.79 ms\n"
     ]
    }
   ],
   "source": [
    "%%time\n",
    "\n",
    "predict_test = cat.predict(features_test)\n",
    "print('The rmse of prediction is:', mean_squared_error(target_test, predict_test, squared=False))"
   ]
  },
  {
   "cell_type": "markdown",
   "metadata": {},
   "source": [
    "Значение метрики RMSE на тестовой выборке составило 41.7. Это менее 48, а значит согласно нашему заданию нам удалось успешно построить модель для прогнозирования количества заказов такси на следующий час в период пиковой нагрузки.\n",
    "\n",
    "Также дополнительно можно сравнить реальные данные с фактическим прогнозом:"
   ]
  },
  {
   "cell_type": "code",
   "execution_count": 16,
   "metadata": {},
   "outputs": [
    {
     "data": {
      "image/png": "[encoded data removed]",
      "text/plain": [
       "<Figure size 1512x648 with 1 Axes>"
      ]
     },
     "metadata": {},
     "output_type": "display_data"
    }
   ],
   "source": [
    "def real_pred_plot(real, pred):\n",
    "    pred_series = pd.Series(data=pred[:len(real)], index=real.index)\n",
    "    sns.set(style='whitegrid')\n",
    "    fig, ax = plt.subplots(figsize=(21,9))\n",
    "    sns.lineplot(x=real.index, y=real, ax=ax, color='y')\n",
    "    sns.lineplot(x=pred_series.index, y=pred_series, ax=ax, color='b')\n",
    "\n",
    "real_pred_plot(target_test, predict_test)"
   ]
  },
  {
   "cell_type": "markdown",
   "metadata": {},
   "source": [
    "Из графика видим, что предсказаное значение в среднем повторяет цель, отставая в экстремумах. Очевидно, стоит ещё поработать с признаками, чтобы отыскать эту составляющую. Возможно, имеет смысл подмешать данные более мелкого 10-минутного масштаба."
   ]
  },
  {
   "cell_type": "markdown",
   "metadata": {},
   "source": [
    "## Заключение"
   ]
  },
  {
   "cell_type": "markdown",
   "metadata": {},
   "source": [
    "Подведём итог.\n",
    "\n",
    "Мы провели исследование временного ряда на предмет трендовых и сезонных закономерностей, случайной составляющей. Выяснили, что ряд имеет следующие характеристики:\n",
    "1. Есть общий тренд, он растущий и мультипликативный, более чем 2-го порядка.\n",
    "2. Присутствуют как минимум две сезонности: недельная и 24-часовая.\n",
    "3. Достаточно велика случайная составляющая, что является теоретическим пределом для качества модели.\n",
    "\n",
    "Есть ли возможности для улучшения точности модели? На мой взгляд, да. Следут поэкспериментировать с признаками. Например:\n",
    "- Подмешать данные более старшего временного масштаба - 1 день\n",
    "- Подмешать данные более мелкого масштаба - 10 минут\n",
    "- Добавить скользящие средние по этим данным\n",
    "- Добавить куб номера наблюдения.\n",
    "\n",
    "Так же исследовать значимость признаков. Это вопрос, который мы здесь не рассматривали вовсе.\n",
    "\n",
    "И ещё один момент - при эксплуатации предусмотреть переобучение модели каждую неделю. Характеристики временных рядов постепенно уходят. Модель должна следить за этим."
   ]
  }
 ],
 "metadata": {
  "ExecuteTimeLog": [
   {
    "duration": 1036,
    "start_time": "2022-09-11T06:46:11.097Z"
   },
   {
    "duration": 117,
    "start_time": "2022-09-11T06:46:42.886Z"
   },
   {
    "duration": 134,
    "start_time": "2022-09-11T06:47:01.143Z"
   },
   {
    "duration": 4,
    "start_time": "2022-09-11T06:48:30.373Z"
   },
   {
    "duration": 14,
    "start_time": "2022-09-11T06:48:53.887Z"
   },
   {
    "duration": 27,
    "start_time": "2022-09-11T06:49:46.076Z"
   },
   {
    "duration": 10,
    "start_time": "2022-09-11T06:55:29.778Z"
   },
   {
    "duration": 21,
    "start_time": "2022-09-11T06:55:39.083Z"
   },
   {
    "duration": 212,
    "start_time": "2022-09-11T07:00:24.600Z"
   },
   {
    "duration": 12202,
    "start_time": "2022-09-11T07:01:17.255Z"
   },
   {
    "duration": 100,
    "start_time": "2022-09-11T07:02:57.871Z"
   },
   {
    "duration": 354,
    "start_time": "2022-09-11T07:03:04.165Z"
   },
   {
    "duration": 925678,
    "start_time": "2022-09-11T07:08:31.772Z"
   },
   {
    "duration": 1591,
    "start_time": "2022-09-11T07:24:42.452Z"
   },
   {
    "duration": 60229,
    "start_time": "2022-09-11T07:26:02.494Z"
   },
   {
    "duration": 1610,
    "start_time": "2022-09-11T07:33:01.338Z"
   },
   {
    "duration": 1863,
    "start_time": "2022-09-11T07:33:20.718Z"
   },
   {
    "duration": 13623795,
    "start_time": "2022-09-11T07:34:14.601Z"
   },
   {
    "duration": 882428,
    "start_time": "2022-09-11T16:54:18.739Z"
   },
   {
    "duration": 11,
    "start_time": "2022-09-11T17:09:19.726Z"
   },
   {
    "duration": 122,
    "start_time": "2022-09-11T17:11:53.270Z"
   },
   {
    "duration": 12,
    "start_time": "2022-09-11T17:12:10.999Z"
   },
   {
    "duration": 1450,
    "start_time": "2022-09-11T17:12:49.392Z"
   },
   {
    "duration": 6,
    "start_time": "2022-09-11T17:12:58.405Z"
   },
   {
    "duration": 3130,
    "start_time": "2022-09-11T17:13:12.168Z"
   },
   {
    "duration": 5,
    "start_time": "2022-09-11T17:13:21.423Z"
   },
   {
    "duration": 30,
    "start_time": "2022-09-11T17:33:46.272Z"
   },
   {
    "duration": 27,
    "start_time": "2022-09-11T17:33:51.766Z"
   },
   {
    "duration": 1289,
    "start_time": "2022-09-11T17:34:12.352Z"
   },
   {
    "duration": 14,
    "start_time": "2022-09-11T17:34:24.486Z"
   },
   {
    "duration": 47779,
    "start_time": "2022-09-11T17:35:21.851Z"
   },
   {
    "duration": 8,
    "start_time": "2022-09-11T17:36:17.406Z"
   },
   {
    "duration": 45,
    "start_time": "2022-09-11T17:36:36.480Z"
   },
   {
    "duration": 47,
    "start_time": "2022-09-11T17:37:01.200Z"
   },
   {
    "duration": 35,
    "start_time": "2022-09-11T17:37:06.646Z"
   },
   {
    "duration": 3155,
    "start_time": "2022-09-11T17:37:18.725Z"
   },
   {
    "duration": 15,
    "start_time": "2022-09-11T17:37:35.317Z"
   },
   {
    "duration": 125210,
    "start_time": "2022-09-11T17:37:56.601Z"
   },
   {
    "duration": 9,
    "start_time": "2022-09-11T17:40:16.264Z"
   },
   {
    "duration": 49412,
    "start_time": "2022-09-11T17:42:58.946Z"
   },
   {
    "duration": 6,
    "start_time": "2022-09-11T17:44:02.642Z"
   },
   {
    "duration": 12933,
    "start_time": "2022-09-11T17:44:15.134Z"
   },
   {
    "duration": 6,
    "start_time": "2022-09-11T17:44:36.858Z"
   },
   {
    "duration": 35,
    "start_time": "2022-09-11T17:45:02.147Z"
   },
   {
    "duration": 33,
    "start_time": "2022-09-11T17:45:08.892Z"
   },
   {
    "duration": 3155,
    "start_time": "2022-09-11T17:45:19.737Z"
   },
   {
    "duration": 16,
    "start_time": "2022-09-11T17:45:32.072Z"
   },
   {
    "duration": 33,
    "start_time": "2022-09-11T17:46:30.682Z"
   },
   {
    "duration": 34,
    "start_time": "2022-09-11T17:46:33.904Z"
   },
   {
    "duration": 3166,
    "start_time": "2022-09-11T17:46:40.190Z"
   },
   {
    "duration": 16,
    "start_time": "2022-09-11T17:46:56.230Z"
   },
   {
    "duration": 31,
    "start_time": "2022-09-11T17:47:12.696Z"
   },
   {
    "duration": 33,
    "start_time": "2022-09-11T17:47:15.703Z"
   },
   {
    "duration": 2993,
    "start_time": "2022-09-11T17:47:57.630Z"
   },
   {
    "duration": 15,
    "start_time": "2022-09-11T17:48:08.189Z"
   },
   {
    "duration": 32,
    "start_time": "2022-09-11T17:48:51.205Z"
   },
   {
    "duration": 34,
    "start_time": "2022-09-11T17:48:58.101Z"
   },
   {
    "duration": 3205,
    "start_time": "2022-09-11T17:49:05.534Z"
   },
   {
    "duration": 19,
    "start_time": "2022-09-11T17:49:15.020Z"
   },
   {
    "duration": 15,
    "start_time": "2022-09-11T17:49:23.467Z"
   },
   {
    "duration": 15,
    "start_time": "2022-09-11T17:49:24.035Z"
   },
   {
    "duration": 15,
    "start_time": "2022-09-11T17:49:24.411Z"
   },
   {
    "duration": 15,
    "start_time": "2022-09-11T17:49:24.771Z"
   },
   {
    "duration": 1329,
    "start_time": "2022-09-11T17:51:29.636Z"
   },
   {
    "duration": 123,
    "start_time": "2022-09-11T17:51:30.967Z"
   },
   {
    "duration": 4,
    "start_time": "2022-09-11T17:51:31.091Z"
   },
   {
    "duration": 30,
    "start_time": "2022-09-11T17:51:31.096Z"
   },
   {
    "duration": 26,
    "start_time": "2022-09-11T17:51:31.128Z"
   },
   {
    "duration": 23,
    "start_time": "2022-09-11T17:51:31.155Z"
   },
   {
    "duration": 15,
    "start_time": "2022-09-11T17:51:31.179Z"
   },
   {
    "duration": 351,
    "start_time": "2022-09-11T17:51:31.196Z"
   },
   {
    "duration": 2,
    "start_time": "2022-09-11T17:51:31.549Z"
   },
   {
    "duration": 36,
    "start_time": "2022-09-11T17:51:31.553Z"
   },
   {
    "duration": 20,
    "start_time": "2022-09-11T17:51:31.590Z"
   },
   {
    "duration": 13,
    "start_time": "2022-09-11T17:51:31.611Z"
   },
   {
    "duration": 16,
    "start_time": "2022-09-11T17:51:31.626Z"
   },
   {
    "duration": 9,
    "start_time": "2022-09-11T17:51:31.644Z"
   },
   {
    "duration": 15,
    "start_time": "2022-09-11T17:51:31.654Z"
   },
   {
    "duration": 1181,
    "start_time": "2022-09-11T17:51:47.771Z"
   },
   {
    "duration": 63,
    "start_time": "2022-09-11T17:51:48.953Z"
   },
   {
    "duration": 4,
    "start_time": "2022-09-11T17:51:49.017Z"
   },
   {
    "duration": 20,
    "start_time": "2022-09-11T17:51:49.022Z"
   },
   {
    "duration": 27,
    "start_time": "2022-09-11T17:51:49.043Z"
   },
   {
    "duration": 22,
    "start_time": "2022-09-11T17:51:49.072Z"
   },
   {
    "duration": 2,
    "start_time": "2022-09-11T17:51:49.095Z"
   },
   {
    "duration": 366,
    "start_time": "2022-09-11T17:51:49.099Z"
   },
   {
    "duration": 2,
    "start_time": "2022-09-11T17:51:49.466Z"
   },
   {
    "duration": 7,
    "start_time": "2022-09-11T17:51:49.470Z"
   },
   {
    "duration": 5,
    "start_time": "2022-09-11T17:51:49.479Z"
   },
   {
    "duration": 8,
    "start_time": "2022-09-11T17:51:49.485Z"
   },
   {
    "duration": 13,
    "start_time": "2022-09-11T17:51:49.494Z"
   },
   {
    "duration": 2,
    "start_time": "2022-09-11T17:51:49.508Z"
   },
   {
    "duration": 6,
    "start_time": "2022-09-11T17:51:49.512Z"
   },
   {
    "duration": 839,
    "start_time": "2022-09-11T17:52:22.377Z"
   },
   {
    "duration": 1188,
    "start_time": "2022-09-11T17:52:33.669Z"
   },
   {
    "duration": 64,
    "start_time": "2022-09-11T17:52:34.859Z"
   },
   {
    "duration": 3,
    "start_time": "2022-09-11T17:52:34.925Z"
   },
   {
    "duration": 19,
    "start_time": "2022-09-11T17:52:34.930Z"
   },
   {
    "duration": 33,
    "start_time": "2022-09-11T17:52:34.950Z"
   },
   {
    "duration": 23,
    "start_time": "2022-09-11T17:52:34.984Z"
   },
   {
    "duration": 2,
    "start_time": "2022-09-11T17:52:35.008Z"
   },
   {
    "duration": 901,
    "start_time": "2022-09-11T17:52:35.012Z"
   },
   {
    "duration": 2,
    "start_time": "2022-09-11T17:52:35.915Z"
   },
   {
    "duration": 25,
    "start_time": "2022-09-11T17:52:35.919Z"
   },
   {
    "duration": 21,
    "start_time": "2022-09-11T17:52:35.946Z"
   },
   {
    "duration": 16,
    "start_time": "2022-09-11T17:52:35.968Z"
   },
   {
    "duration": 39,
    "start_time": "2022-09-11T17:52:35.985Z"
   },
   {
    "duration": 7,
    "start_time": "2022-09-11T17:52:36.026Z"
   },
   {
    "duration": 43,
    "start_time": "2022-09-11T17:52:36.034Z"
   },
   {
    "duration": 1232,
    "start_time": "2022-09-11T17:52:50.735Z"
   },
   {
    "duration": 62,
    "start_time": "2022-09-11T17:52:51.969Z"
   },
   {
    "duration": 3,
    "start_time": "2022-09-11T17:52:52.032Z"
   },
   {
    "duration": 16,
    "start_time": "2022-09-11T17:52:52.037Z"
   },
   {
    "duration": 51,
    "start_time": "2022-09-11T17:52:52.054Z"
   },
   {
    "duration": 52,
    "start_time": "2022-09-11T17:52:52.107Z"
   },
   {
    "duration": 3,
    "start_time": "2022-09-11T17:52:52.160Z"
   },
   {
    "duration": 3175,
    "start_time": "2022-09-11T17:52:52.164Z"
   },
   {
    "duration": 2,
    "start_time": "2022-09-11T17:52:55.340Z"
   },
   {
    "duration": 18,
    "start_time": "2022-09-11T17:52:55.344Z"
   },
   {
    "duration": 8,
    "start_time": "2022-09-11T17:52:55.364Z"
   },
   {
    "duration": 6,
    "start_time": "2022-09-11T17:52:55.373Z"
   },
   {
    "duration": 18,
    "start_time": "2022-09-11T17:52:55.380Z"
   },
   {
    "duration": 2,
    "start_time": "2022-09-11T17:52:55.400Z"
   },
   {
    "duration": 7,
    "start_time": "2022-09-11T17:52:55.403Z"
   },
   {
    "duration": 1213,
    "start_time": "2022-09-11T17:53:23.644Z"
   },
   {
    "duration": 63,
    "start_time": "2022-09-11T17:53:24.859Z"
   },
   {
    "duration": 3,
    "start_time": "2022-09-11T17:53:24.924Z"
   },
   {
    "duration": 29,
    "start_time": "2022-09-11T17:53:24.928Z"
   },
   {
    "duration": 48,
    "start_time": "2022-09-11T17:53:24.958Z"
   },
   {
    "duration": 27,
    "start_time": "2022-09-11T17:53:25.007Z"
   },
   {
    "duration": 2,
    "start_time": "2022-09-11T17:53:25.036Z"
   },
   {
    "duration": 1252,
    "start_time": "2022-09-11T17:53:25.039Z"
   },
   {
    "duration": 3,
    "start_time": "2022-09-11T17:53:26.292Z"
   },
   {
    "duration": 6,
    "start_time": "2022-09-11T17:53:26.297Z"
   },
   {
    "duration": 6,
    "start_time": "2022-09-11T17:53:26.304Z"
   },
   {
    "duration": 13,
    "start_time": "2022-09-11T17:53:26.311Z"
   },
   {
    "duration": 29,
    "start_time": "2022-09-11T17:53:26.325Z"
   },
   {
    "duration": 2,
    "start_time": "2022-09-11T17:53:26.356Z"
   },
   {
    "duration": 25,
    "start_time": "2022-09-11T17:53:26.359Z"
   },
   {
    "duration": 1220,
    "start_time": "2022-09-11T17:53:42.745Z"
   },
   {
    "duration": 72,
    "start_time": "2022-09-11T17:53:43.967Z"
   },
   {
    "duration": 3,
    "start_time": "2022-09-11T17:53:44.041Z"
   },
   {
    "duration": 15,
    "start_time": "2022-09-11T17:53:44.046Z"
   },
   {
    "duration": 33,
    "start_time": "2022-09-11T17:53:44.063Z"
   },
   {
    "duration": 46,
    "start_time": "2022-09-11T17:53:44.098Z"
   },
   {
    "duration": 3,
    "start_time": "2022-09-11T17:53:44.145Z"
   },
   {
    "duration": 1355,
    "start_time": "2022-09-11T17:53:44.149Z"
   },
   {
    "duration": 3,
    "start_time": "2022-09-11T17:53:45.505Z"
   },
   {
    "duration": 5,
    "start_time": "2022-09-11T17:53:45.510Z"
   },
   {
    "duration": 5,
    "start_time": "2022-09-11T17:53:45.516Z"
   },
   {
    "duration": 14,
    "start_time": "2022-09-11T17:53:45.523Z"
   },
   {
    "duration": 18,
    "start_time": "2022-09-11T17:53:45.538Z"
   },
   {
    "duration": 2,
    "start_time": "2022-09-11T17:53:45.557Z"
   },
   {
    "duration": 6,
    "start_time": "2022-09-11T17:53:45.561Z"
   },
   {
    "duration": 1196,
    "start_time": "2022-09-11T17:54:07.756Z"
   },
   {
    "duration": 64,
    "start_time": "2022-09-11T17:54:08.954Z"
   },
   {
    "duration": 3,
    "start_time": "2022-09-11T17:54:09.020Z"
   },
   {
    "duration": 30,
    "start_time": "2022-09-11T17:54:09.024Z"
   },
   {
    "duration": 66,
    "start_time": "2022-09-11T17:54:09.057Z"
   },
   {
    "duration": 35,
    "start_time": "2022-09-11T17:54:09.125Z"
   },
   {
    "duration": 2,
    "start_time": "2022-09-11T17:54:09.161Z"
   },
   {
    "duration": 2306,
    "start_time": "2022-09-11T17:54:09.165Z"
   },
   {
    "duration": 2,
    "start_time": "2022-09-11T17:54:11.473Z"
   },
   {
    "duration": 34,
    "start_time": "2022-09-11T17:54:11.476Z"
   },
   {
    "duration": 16,
    "start_time": "2022-09-11T17:54:11.512Z"
   },
   {
    "duration": 26,
    "start_time": "2022-09-11T17:54:11.529Z"
   },
   {
    "duration": 33,
    "start_time": "2022-09-11T17:54:11.557Z"
   },
   {
    "duration": 10,
    "start_time": "2022-09-11T17:54:11.593Z"
   },
   {
    "duration": 26,
    "start_time": "2022-09-11T17:54:11.604Z"
   },
   {
    "duration": 1196,
    "start_time": "2022-09-11T17:54:27.244Z"
   },
   {
    "duration": 65,
    "start_time": "2022-09-11T17:54:28.442Z"
   },
   {
    "duration": 4,
    "start_time": "2022-09-11T17:54:28.508Z"
   },
   {
    "duration": 36,
    "start_time": "2022-09-11T17:54:28.514Z"
   },
   {
    "duration": 63,
    "start_time": "2022-09-11T17:54:28.552Z"
   },
   {
    "duration": 40,
    "start_time": "2022-09-11T17:54:28.616Z"
   },
   {
    "duration": 3,
    "start_time": "2022-09-11T17:54:28.657Z"
   },
   {
    "duration": 3287,
    "start_time": "2022-09-11T17:54:28.661Z"
   },
   {
    "duration": 3,
    "start_time": "2022-09-11T17:54:31.949Z"
   },
   {
    "duration": 31,
    "start_time": "2022-09-11T17:54:31.954Z"
   },
   {
    "duration": 25,
    "start_time": "2022-09-11T17:54:31.986Z"
   },
   {
    "duration": 7,
    "start_time": "2022-09-11T17:54:32.012Z"
   },
   {
    "duration": 24,
    "start_time": "2022-09-11T17:54:32.021Z"
   },
   {
    "duration": 6,
    "start_time": "2022-09-11T17:54:32.047Z"
   },
   {
    "duration": 12,
    "start_time": "2022-09-11T17:54:32.054Z"
   },
   {
    "duration": 1174,
    "start_time": "2022-09-11T17:54:57.282Z"
   },
   {
    "duration": 65,
    "start_time": "2022-09-11T17:54:58.458Z"
   },
   {
    "duration": 3,
    "start_time": "2022-09-11T17:54:58.525Z"
   },
   {
    "duration": 16,
    "start_time": "2022-09-11T17:54:58.530Z"
   },
   {
    "duration": 53,
    "start_time": "2022-09-11T17:54:58.547Z"
   },
   {
    "duration": 47,
    "start_time": "2022-09-11T17:54:58.602Z"
   },
   {
    "duration": 2,
    "start_time": "2022-09-11T17:54:58.651Z"
   },
   {
    "duration": 3192,
    "start_time": "2022-09-11T17:54:58.654Z"
   },
   {
    "duration": 2,
    "start_time": "2022-09-11T17:55:01.848Z"
   },
   {
    "duration": 43,
    "start_time": "2022-09-11T17:55:01.853Z"
   },
   {
    "duration": 54,
    "start_time": "2022-09-11T17:55:01.898Z"
   },
   {
    "duration": 52,
    "start_time": "2022-09-11T17:55:01.954Z"
   },
   {
    "duration": 58,
    "start_time": "2022-09-11T17:55:02.007Z"
   },
   {
    "duration": 6,
    "start_time": "2022-09-11T17:55:02.067Z"
   },
   {
    "duration": 15,
    "start_time": "2022-09-11T17:55:02.075Z"
   },
   {
    "duration": 1154,
    "start_time": "2022-09-11T17:55:21.097Z"
   },
   {
    "duration": 64,
    "start_time": "2022-09-11T17:55:22.253Z"
   },
   {
    "duration": 3,
    "start_time": "2022-09-11T17:55:22.318Z"
   },
   {
    "duration": 14,
    "start_time": "2022-09-11T17:55:22.323Z"
   },
   {
    "duration": 53,
    "start_time": "2022-09-11T17:55:22.338Z"
   },
   {
    "duration": 48,
    "start_time": "2022-09-11T17:55:22.392Z"
   },
   {
    "duration": 2,
    "start_time": "2022-09-11T17:55:22.442Z"
   },
   {
    "duration": 3122,
    "start_time": "2022-09-11T17:55:22.445Z"
   },
   {
    "duration": 2,
    "start_time": "2022-09-11T17:55:25.569Z"
   },
   {
    "duration": 8,
    "start_time": "2022-09-11T17:55:25.573Z"
   },
   {
    "duration": 5,
    "start_time": "2022-09-11T17:55:25.582Z"
   },
   {
    "duration": 10,
    "start_time": "2022-09-11T17:55:25.588Z"
   },
   {
    "duration": 20,
    "start_time": "2022-09-11T17:55:25.599Z"
   },
   {
    "duration": 2,
    "start_time": "2022-09-11T17:55:25.620Z"
   },
   {
    "duration": 8,
    "start_time": "2022-09-11T17:55:25.623Z"
   },
   {
    "duration": 1312,
    "start_time": "2022-09-11T17:56:19.705Z"
   },
   {
    "duration": 62,
    "start_time": "2022-09-11T17:56:21.019Z"
   },
   {
    "duration": 3,
    "start_time": "2022-09-11T17:56:21.082Z"
   },
   {
    "duration": 15,
    "start_time": "2022-09-11T17:56:21.086Z"
   },
   {
    "duration": 58,
    "start_time": "2022-09-11T17:56:21.103Z"
   },
   {
    "duration": 35,
    "start_time": "2022-09-11T17:56:21.163Z"
   },
   {
    "duration": 2,
    "start_time": "2022-09-11T17:56:21.200Z"
   },
   {
    "duration": 2246,
    "start_time": "2022-09-11T17:56:21.203Z"
   },
   {
    "duration": 2,
    "start_time": "2022-09-11T17:56:23.451Z"
   },
   {
    "duration": 14,
    "start_time": "2022-09-11T17:56:23.454Z"
   },
   {
    "duration": 9,
    "start_time": "2022-09-11T17:56:23.469Z"
   },
   {
    "duration": 7,
    "start_time": "2022-09-11T17:56:23.479Z"
   },
   {
    "duration": 25,
    "start_time": "2022-09-11T17:56:23.487Z"
   },
   {
    "duration": 2,
    "start_time": "2022-09-11T17:56:23.515Z"
   },
   {
    "duration": 10,
    "start_time": "2022-09-11T17:56:23.518Z"
   },
   {
    "duration": 1255,
    "start_time": "2022-09-11T17:56:38.638Z"
   },
   {
    "duration": 67,
    "start_time": "2022-09-11T17:56:39.895Z"
   },
   {
    "duration": 4,
    "start_time": "2022-09-11T17:56:39.964Z"
   },
   {
    "duration": 26,
    "start_time": "2022-09-11T17:56:39.970Z"
   },
   {
    "duration": 56,
    "start_time": "2022-09-11T17:56:39.998Z"
   },
   {
    "duration": 38,
    "start_time": "2022-09-11T17:56:40.056Z"
   },
   {
    "duration": 3,
    "start_time": "2022-09-11T17:56:40.095Z"
   },
   {
    "duration": 2692,
    "start_time": "2022-09-11T17:56:40.099Z"
   },
   {
    "duration": 3,
    "start_time": "2022-09-11T17:56:42.792Z"
   },
   {
    "duration": 7,
    "start_time": "2022-09-11T17:56:42.798Z"
   },
   {
    "duration": 5,
    "start_time": "2022-09-11T17:56:42.806Z"
   },
   {
    "duration": 3,
    "start_time": "2022-09-11T17:56:42.813Z"
   },
   {
    "duration": 32,
    "start_time": "2022-09-11T17:56:42.818Z"
   },
   {
    "duration": 3,
    "start_time": "2022-09-11T17:56:42.851Z"
   },
   {
    "duration": 5,
    "start_time": "2022-09-11T17:56:42.855Z"
   },
   {
    "duration": 1203,
    "start_time": "2022-09-11T17:57:08.376Z"
   },
   {
    "duration": 69,
    "start_time": "2022-09-11T17:57:09.581Z"
   },
   {
    "duration": 4,
    "start_time": "2022-09-11T17:57:09.651Z"
   },
   {
    "duration": 16,
    "start_time": "2022-09-11T17:57:09.657Z"
   },
   {
    "duration": 63,
    "start_time": "2022-09-11T17:57:09.675Z"
   },
   {
    "duration": 36,
    "start_time": "2022-09-11T17:57:09.740Z"
   },
   {
    "duration": 2,
    "start_time": "2022-09-11T17:57:09.777Z"
   },
   {
    "duration": 2496,
    "start_time": "2022-09-11T17:57:09.781Z"
   },
   {
    "duration": 2,
    "start_time": "2022-09-11T17:57:12.279Z"
   },
   {
    "duration": 22,
    "start_time": "2022-09-11T17:57:12.283Z"
   },
   {
    "duration": 10,
    "start_time": "2022-09-11T17:57:12.306Z"
   },
   {
    "duration": 12,
    "start_time": "2022-09-11T17:57:12.318Z"
   },
   {
    "duration": 28,
    "start_time": "2022-09-11T17:57:12.332Z"
   },
   {
    "duration": 2,
    "start_time": "2022-09-11T17:57:12.362Z"
   },
   {
    "duration": 16,
    "start_time": "2022-09-11T17:57:12.365Z"
   },
   {
    "duration": 1263,
    "start_time": "2022-09-11T17:57:48.506Z"
   },
   {
    "duration": 62,
    "start_time": "2022-09-11T17:57:49.771Z"
   },
   {
    "duration": 3,
    "start_time": "2022-09-11T17:57:49.834Z"
   },
   {
    "duration": 29,
    "start_time": "2022-09-11T17:57:49.839Z"
   },
   {
    "duration": 48,
    "start_time": "2022-09-11T17:57:49.869Z"
   },
   {
    "duration": 51,
    "start_time": "2022-09-11T17:57:49.919Z"
   },
   {
    "duration": 3,
    "start_time": "2022-09-11T17:57:49.972Z"
   },
   {
    "duration": 2540,
    "start_time": "2022-09-11T17:57:49.976Z"
   },
   {
    "duration": 3,
    "start_time": "2022-09-11T17:57:52.517Z"
   },
   {
    "duration": 10,
    "start_time": "2022-09-11T17:57:52.522Z"
   },
   {
    "duration": 7,
    "start_time": "2022-09-11T17:57:52.533Z"
   },
   {
    "duration": 7,
    "start_time": "2022-09-11T17:57:52.542Z"
   },
   {
    "duration": 18,
    "start_time": "2022-09-11T17:57:52.550Z"
   },
   {
    "duration": 3,
    "start_time": "2022-09-11T17:57:52.569Z"
   },
   {
    "duration": 6,
    "start_time": "2022-09-11T17:57:52.573Z"
   },
   {
    "duration": 1256,
    "start_time": "2022-09-11T17:58:40.659Z"
   },
   {
    "duration": 72,
    "start_time": "2022-09-11T17:58:41.917Z"
   },
   {
    "duration": 3,
    "start_time": "2022-09-11T17:58:41.991Z"
   },
   {
    "duration": 16,
    "start_time": "2022-09-11T17:58:41.996Z"
   },
   {
    "duration": 62,
    "start_time": "2022-09-11T17:58:42.014Z"
   },
   {
    "duration": 56,
    "start_time": "2022-09-11T17:58:42.081Z"
   },
   {
    "duration": 3,
    "start_time": "2022-09-11T17:58:42.139Z"
   },
   {
    "duration": 1060,
    "start_time": "2022-09-11T17:58:42.144Z"
   },
   {
    "duration": 2,
    "start_time": "2022-09-11T17:58:43.206Z"
   },
   {
    "duration": 12,
    "start_time": "2022-09-11T17:58:43.210Z"
   },
   {
    "duration": 6,
    "start_time": "2022-09-11T17:58:43.224Z"
   },
   {
    "duration": 4,
    "start_time": "2022-09-11T17:58:43.236Z"
   },
   {
    "duration": 13,
    "start_time": "2022-09-11T17:58:43.241Z"
   },
   {
    "duration": 3,
    "start_time": "2022-09-11T17:58:43.255Z"
   },
   {
    "duration": 14,
    "start_time": "2022-09-11T17:58:43.260Z"
   },
   {
    "duration": 1228,
    "start_time": "2022-09-11T17:59:20.738Z"
   },
   {
    "duration": 62,
    "start_time": "2022-09-11T17:59:21.968Z"
   },
   {
    "duration": 3,
    "start_time": "2022-09-11T17:59:22.031Z"
   },
   {
    "duration": 13,
    "start_time": "2022-09-11T17:59:22.037Z"
   },
   {
    "duration": 49,
    "start_time": "2022-09-11T17:59:22.051Z"
   },
   {
    "duration": 50,
    "start_time": "2022-09-11T17:59:22.101Z"
   },
   {
    "duration": 2,
    "start_time": "2022-09-11T17:59:22.153Z"
   },
   {
    "duration": 1089,
    "start_time": "2022-09-11T17:59:22.157Z"
   },
   {
    "duration": 3,
    "start_time": "2022-09-11T17:59:23.247Z"
   },
   {
    "duration": 8,
    "start_time": "2022-09-11T17:59:23.252Z"
   },
   {
    "duration": 5,
    "start_time": "2022-09-11T17:59:23.262Z"
   },
   {
    "duration": 5,
    "start_time": "2022-09-11T17:59:23.268Z"
   },
   {
    "duration": 13,
    "start_time": "2022-09-11T17:59:23.275Z"
   },
   {
    "duration": 2,
    "start_time": "2022-09-11T17:59:23.290Z"
   },
   {
    "duration": 8,
    "start_time": "2022-09-11T17:59:23.293Z"
   },
   {
    "duration": 113,
    "start_time": "2022-09-11T18:15:29.715Z"
   },
   {
    "duration": 57,
    "start_time": "2022-09-11T18:15:49.538Z"
   },
   {
    "duration": 21,
    "start_time": "2022-09-11T18:16:01.849Z"
   },
   {
    "duration": 10,
    "start_time": "2022-09-11T18:16:23.155Z"
   },
   {
    "duration": 9,
    "start_time": "2022-09-11T18:16:29.627Z"
   },
   {
    "duration": 11,
    "start_time": "2022-09-11T18:16:40.146Z"
   },
   {
    "duration": 32,
    "start_time": "2022-09-11T18:21:15.013Z"
   },
   {
    "duration": 3,
    "start_time": "2022-09-11T18:21:47.836Z"
   },
   {
    "duration": 56,
    "start_time": "2022-09-11T18:21:49.378Z"
   },
   {
    "duration": 4,
    "start_time": "2022-09-11T18:21:53.089Z"
   },
   {
    "duration": 11,
    "start_time": "2022-09-11T18:21:54.770Z"
   },
   {
    "duration": 512,
    "start_time": "2022-09-11T18:21:57.659Z"
   },
   {
    "duration": 25,
    "start_time": "2022-09-11T18:23:09.882Z"
   },
   {
    "duration": 4,
    "start_time": "2022-09-11T18:23:28.312Z"
   },
   {
    "duration": 723,
    "start_time": "2022-09-11T18:23:34.011Z"
   },
   {
    "duration": 8,
    "start_time": "2022-09-11T18:25:44.194Z"
   },
   {
    "duration": 608,
    "start_time": "2022-09-11T18:26:16.146Z"
   },
   {
    "duration": 422,
    "start_time": "2022-09-11T18:26:45.185Z"
   },
   {
    "duration": 447,
    "start_time": "2022-09-11T18:26:59.057Z"
   },
   {
    "duration": 213,
    "start_time": "2022-09-11T18:28:23.608Z"
   },
   {
    "duration": 123,
    "start_time": "2022-09-11T18:28:46.968Z"
   },
   {
    "duration": 130,
    "start_time": "2022-09-11T18:31:15.695Z"
   },
   {
    "duration": 1199,
    "start_time": "2022-09-11T18:34:11.759Z"
   },
   {
    "duration": 62,
    "start_time": "2022-09-11T18:34:12.960Z"
   },
   {
    "duration": 3,
    "start_time": "2022-09-11T18:34:13.024Z"
   },
   {
    "duration": 274,
    "start_time": "2022-09-11T18:34:13.029Z"
   },
   {
    "duration": 61,
    "start_time": "2022-09-11T18:34:13.305Z"
   },
   {
    "duration": 37,
    "start_time": "2022-09-11T18:34:13.368Z"
   },
   {
    "duration": 5,
    "start_time": "2022-09-11T18:34:13.407Z"
   },
   {
    "duration": 1125,
    "start_time": "2022-09-11T18:34:13.413Z"
   },
   {
    "duration": 2,
    "start_time": "2022-09-11T18:34:14.539Z"
   },
   {
    "duration": 36,
    "start_time": "2022-09-11T18:34:14.543Z"
   },
   {
    "duration": 29,
    "start_time": "2022-09-11T18:34:14.580Z"
   },
   {
    "duration": 21,
    "start_time": "2022-09-11T18:34:14.610Z"
   },
   {
    "duration": 37,
    "start_time": "2022-09-11T18:34:14.632Z"
   },
   {
    "duration": 39,
    "start_time": "2022-09-11T18:34:14.671Z"
   },
   {
    "duration": 20,
    "start_time": "2022-09-11T18:34:14.711Z"
   },
   {
    "duration": 56118,
    "start_time": "2022-09-11T18:34:59.639Z"
   },
   {
    "duration": 206,
    "start_time": "2022-09-11T18:37:04.139Z"
   },
   {
    "duration": 700,
    "start_time": "2022-09-11T18:37:37.846Z"
   },
   {
    "duration": 630,
    "start_time": "2022-09-11T18:37:50.710Z"
   },
   {
    "duration": 33382,
    "start_time": "2022-09-11T18:38:13.364Z"
   },
   {
    "duration": 1644,
    "start_time": "2022-09-11T18:39:53.707Z"
   },
   {
    "duration": 192,
    "start_time": "2022-09-11T18:40:03.650Z"
   },
   {
    "duration": 43107,
    "start_time": "2022-09-11T18:40:44.572Z"
   },
   {
    "duration": 12,
    "start_time": "2022-09-11T18:41:43.507Z"
   },
   {
    "duration": 150,
    "start_time": "2022-09-11T18:41:53.865Z"
   },
   {
    "duration": 7,
    "start_time": "2022-09-11T18:41:57.899Z"
   },
   {
    "duration": 1145607,
    "start_time": "2022-09-11T18:42:34.642Z"
   },
   {
    "duration": 138592,
    "start_time": "2022-09-11T19:01:52.936Z"
   },
   {
    "duration": 1128,
    "start_time": "2022-09-11T19:11:22.902Z"
   },
   {
    "duration": 6,
    "start_time": "2022-09-11T19:11:30.425Z"
   },
   {
    "duration": 13,
    "start_time": "2022-09-11T19:11:48.313Z"
   },
   {
    "duration": 1289,
    "start_time": "2022-09-11T19:18:34.820Z"
   },
   {
    "duration": 63,
    "start_time": "2022-09-11T19:18:36.111Z"
   },
   {
    "duration": 3,
    "start_time": "2022-09-11T19:18:36.176Z"
   },
   {
    "duration": 291,
    "start_time": "2022-09-11T19:18:36.181Z"
   },
   {
    "duration": 49,
    "start_time": "2022-09-11T19:18:36.473Z"
   },
   {
    "duration": 47,
    "start_time": "2022-09-11T19:18:36.524Z"
   },
   {
    "duration": 55973,
    "start_time": "2022-09-11T19:18:36.572Z"
   },
   {
    "duration": 1669,
    "start_time": "2022-09-11T19:19:32.547Z"
   },
   {
    "duration": 33428,
    "start_time": "2022-09-11T19:19:34.218Z"
   },
   {
    "duration": 494,
    "start_time": "2022-09-11T19:20:07.648Z"
   },
   {
    "duration": 125588,
    "start_time": "2022-09-11T19:20:08.144Z"
   },
   {
    "duration": 972,
    "start_time": "2022-09-11T19:22:13.734Z"
   },
   {
    "duration": 6,
    "start_time": "2022-09-11T19:22:14.708Z"
   },
   {
    "duration": 1519,
    "start_time": "2022-09-12T18:56:44.263Z"
   },
   {
    "duration": 214,
    "start_time": "2022-09-12T18:56:45.784Z"
   },
   {
    "duration": 3,
    "start_time": "2022-09-12T18:56:46.000Z"
   },
   {
    "duration": 546,
    "start_time": "2022-09-12T18:56:46.005Z"
   },
   {
    "duration": 51,
    "start_time": "2022-09-12T18:56:46.553Z"
   },
   {
    "duration": 54,
    "start_time": "2022-09-12T18:56:46.606Z"
   },
   {
    "duration": 63224,
    "start_time": "2022-09-12T18:56:46.661Z"
   },
   {
    "duration": 1929,
    "start_time": "2022-09-12T18:57:49.887Z"
   },
   {
    "duration": 52731,
    "start_time": "2022-09-12T18:57:51.818Z"
   },
   {
    "duration": 395,
    "start_time": "2022-09-12T18:58:44.553Z"
   },
   {
    "duration": 132781,
    "start_time": "2022-09-12T18:58:44.949Z"
   },
   {
    "duration": 1470,
    "start_time": "2022-09-12T19:00:57.732Z"
   },
   {
    "duration": 8,
    "start_time": "2022-09-12T19:00:59.203Z"
   },
   {
    "duration": 65,
    "start_time": "2022-09-13T03:56:53.364Z"
   },
   {
    "duration": 1560,
    "start_time": "2022-09-13T03:57:43.713Z"
   },
   {
    "duration": 129,
    "start_time": "2022-09-13T03:57:48.712Z"
   },
   {
    "duration": 4,
    "start_time": "2022-09-13T03:57:55.265Z"
   },
   {
    "duration": 155,
    "start_time": "2022-09-13T03:57:58.512Z"
   },
   {
    "duration": 134,
    "start_time": "2022-09-13T03:58:03.288Z"
   },
   {
    "duration": 144,
    "start_time": "2022-09-13T04:00:10.527Z"
   },
   {
    "duration": 354,
    "start_time": "2022-09-13T04:38:17.926Z"
   },
   {
    "duration": 262,
    "start_time": "2022-09-13T04:39:55.024Z"
   },
   {
    "duration": 249,
    "start_time": "2022-09-13T04:40:40.303Z"
   },
   {
    "duration": 307,
    "start_time": "2022-09-13T04:42:56.326Z"
   },
   {
    "duration": 253,
    "start_time": "2022-09-13T04:44:43.502Z"
   },
   {
    "duration": 18,
    "start_time": "2022-09-13T04:47:13.501Z"
   },
   {
    "duration": 156,
    "start_time": "2022-09-13T04:47:21.331Z"
   },
   {
    "duration": 17,
    "start_time": "2022-09-13T04:48:06.347Z"
   },
   {
    "duration": 13,
    "start_time": "2022-09-13T04:48:13.443Z"
   },
   {
    "duration": 18,
    "start_time": "2022-09-13T04:48:25.403Z"
   },
   {
    "duration": 12,
    "start_time": "2022-09-13T04:48:29.418Z"
   },
   {
    "duration": 12,
    "start_time": "2022-09-13T04:49:22.732Z"
   },
   {
    "duration": 145,
    "start_time": "2022-09-13T04:53:25.233Z"
   },
   {
    "duration": 156,
    "start_time": "2022-09-13T04:53:50.321Z"
   },
   {
    "duration": 481,
    "start_time": "2022-09-13T04:54:26.288Z"
   },
   {
    "duration": 382,
    "start_time": "2022-09-13T04:54:37.825Z"
   },
   {
    "duration": 203,
    "start_time": "2022-09-13T04:56:59.344Z"
   },
   {
    "duration": 12,
    "start_time": "2022-09-13T04:57:43.616Z"
   },
   {
    "duration": 208,
    "start_time": "2022-09-13T04:58:27.384Z"
   },
   {
    "duration": 191,
    "start_time": "2022-09-13T04:58:38.488Z"
   },
   {
    "duration": 284,
    "start_time": "2022-09-13T04:58:55.520Z"
   },
   {
    "duration": 202,
    "start_time": "2022-09-13T04:59:14.896Z"
   },
   {
    "duration": 194,
    "start_time": "2022-09-13T04:59:19.304Z"
   },
   {
    "duration": 197,
    "start_time": "2022-09-13T04:59:20.629Z"
   },
   {
    "duration": 53,
    "start_time": "2022-09-13T05:03:09.282Z"
   },
   {
    "duration": 1443,
    "start_time": "2022-09-13T09:21:09.797Z"
   },
   {
    "duration": 62,
    "start_time": "2022-09-13T09:21:11.242Z"
   },
   {
    "duration": 4,
    "start_time": "2022-09-13T09:21:11.305Z"
   },
   {
    "duration": 387,
    "start_time": "2022-09-13T09:21:11.312Z"
   },
   {
    "duration": 313,
    "start_time": "2022-09-13T09:21:11.702Z"
   },
   {
    "duration": 471,
    "start_time": "2022-09-13T09:21:12.017Z"
   },
   {
    "duration": 60,
    "start_time": "2022-09-13T09:21:12.490Z"
   },
   {
    "duration": 46,
    "start_time": "2022-09-13T09:21:12.553Z"
   },
   {
    "duration": 199,
    "start_time": "2022-09-13T09:21:12.601Z"
   },
   {
    "duration": 1937,
    "start_time": "2022-09-13T09:21:12.803Z"
   },
   {
    "duration": 64,
    "start_time": "2022-09-13T09:21:14.741Z"
   },
   {
    "duration": 5849,
    "start_time": "2022-09-13T09:21:14.807Z"
   },
   {
    "duration": 81,
    "start_time": "2022-09-13T09:21:20.658Z"
   },
   {
    "duration": 1498,
    "start_time": "2022-09-13T09:21:20.741Z"
   },
   {
    "duration": 7,
    "start_time": "2022-09-13T09:21:22.240Z"
   },
   {
    "duration": 1449,
    "start_time": "2022-09-13T09:22:56.284Z"
   },
   {
    "duration": 59,
    "start_time": "2022-09-13T09:22:57.735Z"
   },
   {
    "duration": 2,
    "start_time": "2022-09-13T09:22:57.796Z"
   },
   {
    "duration": 324,
    "start_time": "2022-09-13T09:22:57.800Z"
   },
   {
    "duration": 280,
    "start_time": "2022-09-13T09:22:58.125Z"
   },
   {
    "duration": 406,
    "start_time": "2022-09-13T09:22:58.407Z"
   },
   {
    "duration": 62,
    "start_time": "2022-09-13T09:22:58.815Z"
   },
   {
    "duration": 40,
    "start_time": "2022-09-13T09:22:58.879Z"
   },
   {
    "duration": 39115,
    "start_time": "2022-09-13T09:22:58.921Z"
   },
   {
    "duration": 1902,
    "start_time": "2022-09-13T09:23:38.038Z"
   },
   {
    "duration": 917906,
    "start_time": "2022-09-13T09:23:39.941Z"
   },
   {
    "duration": 4905,
    "start_time": "2022-09-13T09:38:57.849Z"
   },
   {
    "duration": 117098,
    "start_time": "2022-09-13T09:39:02.756Z"
   },
   {
    "duration": 1274,
    "start_time": "2022-09-13T09:40:59.856Z"
   },
   {
    "duration": 7,
    "start_time": "2022-09-13T09:41:01.132Z"
   },
   {
    "duration": 122,
    "start_time": "2022-09-13T13:31:41.121Z"
   },
   {
    "duration": 27,
    "start_time": "2022-09-13T13:32:30.886Z"
   },
   {
    "duration": 471,
    "start_time": "2022-09-13T13:32:43.972Z"
   },
   {
    "duration": 1496,
    "start_time": "2022-09-13T13:33:05.301Z"
   },
   {
    "duration": 60,
    "start_time": "2022-09-13T13:33:06.799Z"
   },
   {
    "duration": 3,
    "start_time": "2022-09-13T13:33:06.861Z"
   },
   {
    "duration": 314,
    "start_time": "2022-09-13T13:33:06.866Z"
   },
   {
    "duration": 300,
    "start_time": "2022-09-13T13:33:07.182Z"
   },
   {
    "duration": 397,
    "start_time": "2022-09-13T13:33:07.485Z"
   },
   {
    "duration": 52,
    "start_time": "2022-09-13T13:33:07.884Z"
   },
   {
    "duration": 43,
    "start_time": "2022-09-13T13:33:07.946Z"
   },
   {
    "duration": 37989,
    "start_time": "2022-09-13T13:33:07.990Z"
   },
   {
    "duration": 1473,
    "start_time": "2022-09-13T13:33:45.982Z"
   },
   {
    "duration": 24897,
    "start_time": "2022-09-13T13:33:47.457Z"
   },
   {
    "duration": 403,
    "start_time": "2022-09-13T13:34:12.355Z"
   },
   {
    "duration": 108025,
    "start_time": "2022-09-13T13:34:12.760Z"
   },
   {
    "duration": 1904,
    "start_time": "2022-09-13T13:36:00.787Z"
   },
   {
    "duration": 6,
    "start_time": "2022-09-13T13:36:02.693Z"
   },
   {
    "duration": 481,
    "start_time": "2022-09-13T13:36:02.700Z"
   },
   {
    "duration": 1415,
    "start_time": "2022-09-13T14:22:57.355Z"
   },
   {
    "duration": 60,
    "start_time": "2022-09-13T14:22:58.772Z"
   },
   {
    "duration": 3,
    "start_time": "2022-09-13T14:22:58.833Z"
   },
   {
    "duration": 301,
    "start_time": "2022-09-13T14:22:58.838Z"
   },
   {
    "duration": 275,
    "start_time": "2022-09-13T14:22:59.147Z"
   },
   {
    "duration": 409,
    "start_time": "2022-09-13T14:22:59.424Z"
   },
   {
    "duration": 61,
    "start_time": "2022-09-13T14:22:59.834Z"
   },
   {
    "duration": 38,
    "start_time": "2022-09-13T14:22:59.896Z"
   },
   {
    "duration": 37907,
    "start_time": "2022-09-13T14:22:59.935Z"
   },
   {
    "duration": 1420,
    "start_time": "2022-09-13T14:23:37.847Z"
   },
   {
    "duration": 27787,
    "start_time": "2022-09-13T14:23:39.268Z"
   },
   {
    "duration": 395,
    "start_time": "2022-09-13T14:24:07.057Z"
   },
   {
    "duration": 122073,
    "start_time": "2022-09-13T14:24:07.454Z"
   },
   {
    "duration": 2079,
    "start_time": "2022-09-13T14:26:09.528Z"
   },
   {
    "duration": 9,
    "start_time": "2022-09-13T14:26:11.609Z"
   },
   {
    "duration": 510,
    "start_time": "2022-09-13T14:26:11.621Z"
   },
   {
    "duration": 1659,
    "start_time": "2022-09-14T08:50:14.334Z"
   },
   {
    "duration": 133,
    "start_time": "2022-09-14T08:50:15.996Z"
   },
   {
    "duration": 4,
    "start_time": "2022-09-14T08:50:16.130Z"
   },
   {
    "duration": 292,
    "start_time": "2022-09-14T08:50:16.135Z"
   },
   {
    "duration": 277,
    "start_time": "2022-09-14T08:50:16.429Z"
   },
   {
    "duration": 447,
    "start_time": "2022-09-14T08:50:16.707Z"
   },
   {
    "duration": 59,
    "start_time": "2022-09-14T08:50:17.156Z"
   },
   {
    "duration": 38,
    "start_time": "2022-09-14T08:50:17.217Z"
   },
   {
    "duration": 36023,
    "start_time": "2022-09-14T08:50:17.257Z"
   },
   {
    "duration": 1310,
    "start_time": "2022-09-14T08:50:53.282Z"
   },
   {
    "duration": 23886,
    "start_time": "2022-09-14T08:50:54.593Z"
   },
   {
    "duration": 297,
    "start_time": "2022-09-14T08:51:18.481Z"
   },
   {
    "duration": 110003,
    "start_time": "2022-09-14T08:51:18.780Z"
   },
   {
    "duration": 1913,
    "start_time": "2022-09-14T08:53:08.785Z"
   },
   {
    "duration": 7,
    "start_time": "2022-09-14T08:53:10.699Z"
   },
   {
    "duration": 513,
    "start_time": "2022-09-14T08:53:10.707Z"
   },
   {
    "duration": 2189,
    "start_time": "2022-10-31T10:30:21.199Z"
   },
   {
    "duration": 1595,
    "start_time": "2022-10-31T19:33:34.369Z"
   },
   {
    "duration": 123,
    "start_time": "2022-10-31T19:33:35.965Z"
   },
   {
    "duration": 3,
    "start_time": "2022-10-31T19:33:36.090Z"
   },
   {
    "duration": 313,
    "start_time": "2022-10-31T19:33:36.095Z"
   },
   {
    "duration": 280,
    "start_time": "2022-10-31T19:33:36.409Z"
   },
   {
    "duration": 384,
    "start_time": "2022-10-31T19:33:36.691Z"
   },
   {
    "duration": 61,
    "start_time": "2022-10-31T19:33:37.077Z"
   },
   {
    "duration": 39,
    "start_time": "2022-10-31T19:33:37.139Z"
   },
   {
    "duration": 35728,
    "start_time": "2022-10-31T19:33:37.179Z"
   },
   {
    "duration": 1292,
    "start_time": "2022-10-31T19:34:12.909Z"
   },
   {
    "duration": 55129,
    "start_time": "2022-10-31T19:34:14.202Z"
   },
   {
    "duration": 389,
    "start_time": "2022-10-31T19:35:09.332Z"
   },
   {
    "duration": 105204,
    "start_time": "2022-10-31T19:35:09.723Z"
   },
   {
    "duration": 1671,
    "start_time": "2022-10-31T19:36:54.929Z"
   },
   {
    "duration": 6,
    "start_time": "2022-10-31T19:36:56.602Z"
   },
   {
    "duration": 487,
    "start_time": "2022-10-31T19:36:56.610Z"
   },
   {
    "duration": 1610,
    "start_time": "2022-11-03T14:24:35.387Z"
   },
   {
    "duration": 350,
    "start_time": "2022-11-03T14:24:36.998Z"
   },
   {
    "duration": 3,
    "start_time": "2022-11-03T14:24:39.511Z"
   }
  ],
  "kernelspec": {
   "display_name": "Python 3 (ipykernel)",
   "language": "python",
   "name": "python3"
  },
  "language_info": {
   "codemirror_mode": {
    "name": "ipython",
    "version": 3
   },
   "file_extension": ".py",
   "mimetype": "text/x-python",
   "name": "python",
   "nbconvert_exporter": "python",
   "pygments_lexer": "ipython3",
   "version": "3.10.2"
  },
  "toc": {
   "base_numbering": 1,
   "nav_menu": {},
   "number_sections": true,
   "sideBar": true,
   "skip_h1_title": true,
   "title_cell": "Содержание",
   "title_sidebar": "Contents",
   "toc_cell": true,
   "toc_position": {},
   "toc_section_display": true,
   "toc_window_display": true
  }
 },
 "nbformat": 4,
 "nbformat_minor": 2
}
